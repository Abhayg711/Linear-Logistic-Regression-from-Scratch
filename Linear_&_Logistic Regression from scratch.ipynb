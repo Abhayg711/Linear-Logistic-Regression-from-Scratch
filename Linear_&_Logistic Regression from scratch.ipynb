{
 "cells": [
  {
   "cell_type": "code",
   "execution_count": 670,
   "metadata": {},
   "outputs": [],
   "source": [
    "#Machine learning HW\n",
    "import matplotlib.pyplot as plt\n",
    "import pandas as pd\n",
    "import numpy as np\n",
    "import seaborn as sns"
   ]
  },
  {
   "cell_type": "code",
   "execution_count": 671,
   "metadata": {
    "scrolled": false
   },
   "outputs": [
    {
     "data": {
      "text/plain": [
       "(241600, 18)"
      ]
     },
     "execution_count": 671,
     "metadata": {},
     "output_type": "execute_result"
    }
   ],
   "source": [
    "data = pd.read_csv(\"D:/UTD/Spring 20/Applied Machine Learning/Assignments/Assignment1/Dataset/sgemm_product.csv\")\n",
    "data.shape"
   ]
  },
  {
   "cell_type": "code",
   "execution_count": 389,
   "metadata": {
    "scrolled": true
   },
   "outputs": [
    {
     "data": {
      "text/html": [
       "<div>\n",
       "<style scoped>\n",
       "    .dataframe tbody tr th:only-of-type {\n",
       "        vertical-align: middle;\n",
       "    }\n",
       "\n",
       "    .dataframe tbody tr th {\n",
       "        vertical-align: top;\n",
       "    }\n",
       "\n",
       "    .dataframe thead th {\n",
       "        text-align: right;\n",
       "    }\n",
       "</style>\n",
       "<table border=\"1\" class=\"dataframe\">\n",
       "  <thead>\n",
       "    <tr style=\"text-align: right;\">\n",
       "      <th></th>\n",
       "      <th>MWG</th>\n",
       "      <th>NWG</th>\n",
       "      <th>KWG</th>\n",
       "      <th>MDIMC</th>\n",
       "      <th>NDIMC</th>\n",
       "      <th>MDIMA</th>\n",
       "      <th>NDIMB</th>\n",
       "      <th>KWI</th>\n",
       "      <th>VWM</th>\n",
       "      <th>VWN</th>\n",
       "      <th>STRM</th>\n",
       "      <th>STRN</th>\n",
       "      <th>SA</th>\n",
       "      <th>SB</th>\n",
       "      <th>Run1 (ms)</th>\n",
       "      <th>Run2 (ms)</th>\n",
       "      <th>Run3 (ms)</th>\n",
       "      <th>Run4 (ms)</th>\n",
       "      <th>Avg_run</th>\n",
       "    </tr>\n",
       "  </thead>\n",
       "  <tbody>\n",
       "    <tr>\n",
       "      <td>0</td>\n",
       "      <td>16</td>\n",
       "      <td>16</td>\n",
       "      <td>16</td>\n",
       "      <td>8</td>\n",
       "      <td>8</td>\n",
       "      <td>8</td>\n",
       "      <td>8</td>\n",
       "      <td>2</td>\n",
       "      <td>1</td>\n",
       "      <td>1</td>\n",
       "      <td>0</td>\n",
       "      <td>0</td>\n",
       "      <td>0</td>\n",
       "      <td>0</td>\n",
       "      <td>115.26</td>\n",
       "      <td>115.87</td>\n",
       "      <td>118.55</td>\n",
       "      <td>115.80</td>\n",
       "      <td>116.3700</td>\n",
       "    </tr>\n",
       "    <tr>\n",
       "      <td>1</td>\n",
       "      <td>16</td>\n",
       "      <td>16</td>\n",
       "      <td>16</td>\n",
       "      <td>8</td>\n",
       "      <td>8</td>\n",
       "      <td>8</td>\n",
       "      <td>8</td>\n",
       "      <td>2</td>\n",
       "      <td>1</td>\n",
       "      <td>1</td>\n",
       "      <td>0</td>\n",
       "      <td>0</td>\n",
       "      <td>0</td>\n",
       "      <td>1</td>\n",
       "      <td>78.13</td>\n",
       "      <td>78.25</td>\n",
       "      <td>79.25</td>\n",
       "      <td>79.19</td>\n",
       "      <td>78.7050</td>\n",
       "    </tr>\n",
       "    <tr>\n",
       "      <td>2</td>\n",
       "      <td>16</td>\n",
       "      <td>16</td>\n",
       "      <td>16</td>\n",
       "      <td>8</td>\n",
       "      <td>8</td>\n",
       "      <td>8</td>\n",
       "      <td>8</td>\n",
       "      <td>2</td>\n",
       "      <td>1</td>\n",
       "      <td>1</td>\n",
       "      <td>0</td>\n",
       "      <td>0</td>\n",
       "      <td>1</td>\n",
       "      <td>0</td>\n",
       "      <td>79.84</td>\n",
       "      <td>80.69</td>\n",
       "      <td>80.76</td>\n",
       "      <td>80.97</td>\n",
       "      <td>80.5650</td>\n",
       "    </tr>\n",
       "    <tr>\n",
       "      <td>3</td>\n",
       "      <td>16</td>\n",
       "      <td>16</td>\n",
       "      <td>16</td>\n",
       "      <td>8</td>\n",
       "      <td>8</td>\n",
       "      <td>8</td>\n",
       "      <td>8</td>\n",
       "      <td>2</td>\n",
       "      <td>1</td>\n",
       "      <td>1</td>\n",
       "      <td>0</td>\n",
       "      <td>0</td>\n",
       "      <td>1</td>\n",
       "      <td>1</td>\n",
       "      <td>84.32</td>\n",
       "      <td>89.90</td>\n",
       "      <td>86.75</td>\n",
       "      <td>85.58</td>\n",
       "      <td>86.6375</td>\n",
       "    </tr>\n",
       "    <tr>\n",
       "      <td>4</td>\n",
       "      <td>16</td>\n",
       "      <td>16</td>\n",
       "      <td>16</td>\n",
       "      <td>8</td>\n",
       "      <td>8</td>\n",
       "      <td>8</td>\n",
       "      <td>8</td>\n",
       "      <td>2</td>\n",
       "      <td>1</td>\n",
       "      <td>1</td>\n",
       "      <td>0</td>\n",
       "      <td>1</td>\n",
       "      <td>0</td>\n",
       "      <td>0</td>\n",
       "      <td>115.13</td>\n",
       "      <td>121.98</td>\n",
       "      <td>122.73</td>\n",
       "      <td>114.81</td>\n",
       "      <td>118.6625</td>\n",
       "    </tr>\n",
       "  </tbody>\n",
       "</table>\n",
       "</div>"
      ],
      "text/plain": [
       "   MWG  NWG  KWG  MDIMC  NDIMC  MDIMA  NDIMB  KWI  VWM  VWN  STRM  STRN  SA  \\\n",
       "0   16   16   16      8      8      8      8    2    1    1     0     0   0   \n",
       "1   16   16   16      8      8      8      8    2    1    1     0     0   0   \n",
       "2   16   16   16      8      8      8      8    2    1    1     0     0   1   \n",
       "3   16   16   16      8      8      8      8    2    1    1     0     0   1   \n",
       "4   16   16   16      8      8      8      8    2    1    1     0     1   0   \n",
       "\n",
       "   SB  Run1 (ms)  Run2 (ms)  Run3 (ms)  Run4 (ms)   Avg_run  \n",
       "0   0     115.26     115.87     118.55     115.80  116.3700  \n",
       "1   1      78.13      78.25      79.25      79.19   78.7050  \n",
       "2   0      79.84      80.69      80.76      80.97   80.5650  \n",
       "3   1      84.32      89.90      86.75      85.58   86.6375  \n",
       "4   0     115.13     121.98     122.73     114.81  118.6625  "
      ]
     },
     "execution_count": 389,
     "metadata": {},
     "output_type": "execute_result"
    }
   ],
   "source": [
    "#Creating a column which is the average of all the four runtimes\n",
    "data[\"Avg_run\"] = (data[\"Run1 (ms)\"]+data[\"Run2 (ms)\"]+data[\"Run3 (ms)\"]+data[\"Run4 (ms)\"])/4\n",
    "data.head()"
   ]
  },
  {
   "cell_type": "markdown",
   "metadata": {},
   "source": [
    "## Exploratory Data Analysis"
   ]
  },
  {
   "cell_type": "code",
   "execution_count": 390,
   "metadata": {},
   "outputs": [
    {
     "data": {
      "text/plain": [
       "MWG          0\n",
       "NWG          0\n",
       "KWG          0\n",
       "MDIMC        0\n",
       "NDIMC        0\n",
       "MDIMA        0\n",
       "NDIMB        0\n",
       "KWI          0\n",
       "VWM          0\n",
       "VWN          0\n",
       "STRM         0\n",
       "STRN         0\n",
       "SA           0\n",
       "SB           0\n",
       "Run1 (ms)    0\n",
       "Run2 (ms)    0\n",
       "Run3 (ms)    0\n",
       "Run4 (ms)    0\n",
       "Avg_run      0\n",
       "dtype: int64"
      ]
     },
     "execution_count": 390,
     "metadata": {},
     "output_type": "execute_result"
    }
   ],
   "source": [
    "# Checking for Null values\n",
    "data.isnull().sum()"
   ]
  },
  {
   "cell_type": "markdown",
   "metadata": {},
   "source": [
    "#### We observe that we don't have any missing values in our dataset"
   ]
  },
  {
   "cell_type": "code",
   "execution_count": 391,
   "metadata": {},
   "outputs": [
    {
     "data": {
      "text/html": [
       "<div>\n",
       "<style scoped>\n",
       "    .dataframe tbody tr th:only-of-type {\n",
       "        vertical-align: middle;\n",
       "    }\n",
       "\n",
       "    .dataframe tbody tr th {\n",
       "        vertical-align: top;\n",
       "    }\n",
       "\n",
       "    .dataframe thead th {\n",
       "        text-align: right;\n",
       "    }\n",
       "</style>\n",
       "<table border=\"1\" class=\"dataframe\">\n",
       "  <thead>\n",
       "    <tr style=\"text-align: right;\">\n",
       "      <th></th>\n",
       "      <th>MWG</th>\n",
       "      <th>NWG</th>\n",
       "      <th>KWG</th>\n",
       "      <th>MDIMC</th>\n",
       "      <th>NDIMC</th>\n",
       "      <th>MDIMA</th>\n",
       "      <th>NDIMB</th>\n",
       "      <th>KWI</th>\n",
       "      <th>VWM</th>\n",
       "      <th>VWN</th>\n",
       "      <th>STRM</th>\n",
       "      <th>STRN</th>\n",
       "      <th>SA</th>\n",
       "      <th>SB</th>\n",
       "      <th>Run1 (ms)</th>\n",
       "      <th>Run2 (ms)</th>\n",
       "      <th>Run3 (ms)</th>\n",
       "      <th>Run4 (ms)</th>\n",
       "      <th>Avg_run</th>\n",
       "    </tr>\n",
       "  </thead>\n",
       "  <tbody>\n",
       "    <tr>\n",
       "      <td>count</td>\n",
       "      <td>241600.000000</td>\n",
       "      <td>241600.000000</td>\n",
       "      <td>241600.000000</td>\n",
       "      <td>241600.000000</td>\n",
       "      <td>241600.000000</td>\n",
       "      <td>241600.000000</td>\n",
       "      <td>241600.000000</td>\n",
       "      <td>241600.000000</td>\n",
       "      <td>241600.000000</td>\n",
       "      <td>241600.000000</td>\n",
       "      <td>241600.000000</td>\n",
       "      <td>241600.000000</td>\n",
       "      <td>241600.000000</td>\n",
       "      <td>241600.000000</td>\n",
       "      <td>241600.000000</td>\n",
       "      <td>241600.000000</td>\n",
       "      <td>241600.000000</td>\n",
       "      <td>241600.000000</td>\n",
       "      <td>241600.000000</td>\n",
       "    </tr>\n",
       "    <tr>\n",
       "      <td>mean</td>\n",
       "      <td>80.415364</td>\n",
       "      <td>80.415364</td>\n",
       "      <td>25.513113</td>\n",
       "      <td>13.935894</td>\n",
       "      <td>13.935894</td>\n",
       "      <td>17.371126</td>\n",
       "      <td>17.371126</td>\n",
       "      <td>5.000000</td>\n",
       "      <td>2.448609</td>\n",
       "      <td>2.448609</td>\n",
       "      <td>0.500000</td>\n",
       "      <td>0.500000</td>\n",
       "      <td>0.500000</td>\n",
       "      <td>0.500000</td>\n",
       "      <td>217.647852</td>\n",
       "      <td>217.579536</td>\n",
       "      <td>217.532756</td>\n",
       "      <td>217.527669</td>\n",
       "      <td>217.571953</td>\n",
       "    </tr>\n",
       "    <tr>\n",
       "      <td>std</td>\n",
       "      <td>42.469220</td>\n",
       "      <td>42.469220</td>\n",
       "      <td>7.855619</td>\n",
       "      <td>7.873662</td>\n",
       "      <td>7.873662</td>\n",
       "      <td>9.389418</td>\n",
       "      <td>9.389418</td>\n",
       "      <td>3.000006</td>\n",
       "      <td>1.953759</td>\n",
       "      <td>1.953759</td>\n",
       "      <td>0.500001</td>\n",
       "      <td>0.500001</td>\n",
       "      <td>0.500001</td>\n",
       "      <td>0.500001</td>\n",
       "      <td>369.012422</td>\n",
       "      <td>368.677309</td>\n",
       "      <td>368.655118</td>\n",
       "      <td>368.677413</td>\n",
       "      <td>368.750161</td>\n",
       "    </tr>\n",
       "    <tr>\n",
       "      <td>min</td>\n",
       "      <td>16.000000</td>\n",
       "      <td>16.000000</td>\n",
       "      <td>16.000000</td>\n",
       "      <td>8.000000</td>\n",
       "      <td>8.000000</td>\n",
       "      <td>8.000000</td>\n",
       "      <td>8.000000</td>\n",
       "      <td>2.000000</td>\n",
       "      <td>1.000000</td>\n",
       "      <td>1.000000</td>\n",
       "      <td>0.000000</td>\n",
       "      <td>0.000000</td>\n",
       "      <td>0.000000</td>\n",
       "      <td>0.000000</td>\n",
       "      <td>13.290000</td>\n",
       "      <td>13.250000</td>\n",
       "      <td>13.360000</td>\n",
       "      <td>13.370000</td>\n",
       "      <td>13.317500</td>\n",
       "    </tr>\n",
       "    <tr>\n",
       "      <td>25%</td>\n",
       "      <td>32.000000</td>\n",
       "      <td>32.000000</td>\n",
       "      <td>16.000000</td>\n",
       "      <td>8.000000</td>\n",
       "      <td>8.000000</td>\n",
       "      <td>8.000000</td>\n",
       "      <td>8.000000</td>\n",
       "      <td>2.000000</td>\n",
       "      <td>1.000000</td>\n",
       "      <td>1.000000</td>\n",
       "      <td>0.000000</td>\n",
       "      <td>0.000000</td>\n",
       "      <td>0.000000</td>\n",
       "      <td>0.000000</td>\n",
       "      <td>40.660000</td>\n",
       "      <td>40.710000</td>\n",
       "      <td>40.660000</td>\n",
       "      <td>40.640000</td>\n",
       "      <td>40.667500</td>\n",
       "    </tr>\n",
       "    <tr>\n",
       "      <td>50%</td>\n",
       "      <td>64.000000</td>\n",
       "      <td>64.000000</td>\n",
       "      <td>32.000000</td>\n",
       "      <td>8.000000</td>\n",
       "      <td>8.000000</td>\n",
       "      <td>16.000000</td>\n",
       "      <td>16.000000</td>\n",
       "      <td>5.000000</td>\n",
       "      <td>2.000000</td>\n",
       "      <td>2.000000</td>\n",
       "      <td>0.500000</td>\n",
       "      <td>0.500000</td>\n",
       "      <td>0.500000</td>\n",
       "      <td>0.500000</td>\n",
       "      <td>69.825000</td>\n",
       "      <td>69.930000</td>\n",
       "      <td>69.790000</td>\n",
       "      <td>69.820000</td>\n",
       "      <td>69.790000</td>\n",
       "    </tr>\n",
       "    <tr>\n",
       "      <td>75%</td>\n",
       "      <td>128.000000</td>\n",
       "      <td>128.000000</td>\n",
       "      <td>32.000000</td>\n",
       "      <td>16.000000</td>\n",
       "      <td>16.000000</td>\n",
       "      <td>32.000000</td>\n",
       "      <td>32.000000</td>\n",
       "      <td>8.000000</td>\n",
       "      <td>4.000000</td>\n",
       "      <td>4.000000</td>\n",
       "      <td>1.000000</td>\n",
       "      <td>1.000000</td>\n",
       "      <td>1.000000</td>\n",
       "      <td>1.000000</td>\n",
       "      <td>228.530000</td>\n",
       "      <td>228.310000</td>\n",
       "      <td>228.320000</td>\n",
       "      <td>228.320000</td>\n",
       "      <td>228.387500</td>\n",
       "    </tr>\n",
       "    <tr>\n",
       "      <td>max</td>\n",
       "      <td>128.000000</td>\n",
       "      <td>128.000000</td>\n",
       "      <td>32.000000</td>\n",
       "      <td>32.000000</td>\n",
       "      <td>32.000000</td>\n",
       "      <td>32.000000</td>\n",
       "      <td>32.000000</td>\n",
       "      <td>8.000000</td>\n",
       "      <td>8.000000</td>\n",
       "      <td>8.000000</td>\n",
       "      <td>1.000000</td>\n",
       "      <td>1.000000</td>\n",
       "      <td>1.000000</td>\n",
       "      <td>1.000000</td>\n",
       "      <td>3339.630000</td>\n",
       "      <td>3375.420000</td>\n",
       "      <td>3397.080000</td>\n",
       "      <td>3361.710000</td>\n",
       "      <td>3341.507500</td>\n",
       "    </tr>\n",
       "  </tbody>\n",
       "</table>\n",
       "</div>"
      ],
      "text/plain": [
       "                 MWG            NWG            KWG          MDIMC  \\\n",
       "count  241600.000000  241600.000000  241600.000000  241600.000000   \n",
       "mean       80.415364      80.415364      25.513113      13.935894   \n",
       "std        42.469220      42.469220       7.855619       7.873662   \n",
       "min        16.000000      16.000000      16.000000       8.000000   \n",
       "25%        32.000000      32.000000      16.000000       8.000000   \n",
       "50%        64.000000      64.000000      32.000000       8.000000   \n",
       "75%       128.000000     128.000000      32.000000      16.000000   \n",
       "max       128.000000     128.000000      32.000000      32.000000   \n",
       "\n",
       "               NDIMC          MDIMA          NDIMB            KWI  \\\n",
       "count  241600.000000  241600.000000  241600.000000  241600.000000   \n",
       "mean       13.935894      17.371126      17.371126       5.000000   \n",
       "std         7.873662       9.389418       9.389418       3.000006   \n",
       "min         8.000000       8.000000       8.000000       2.000000   \n",
       "25%         8.000000       8.000000       8.000000       2.000000   \n",
       "50%         8.000000      16.000000      16.000000       5.000000   \n",
       "75%        16.000000      32.000000      32.000000       8.000000   \n",
       "max        32.000000      32.000000      32.000000       8.000000   \n",
       "\n",
       "                 VWM            VWN           STRM           STRN  \\\n",
       "count  241600.000000  241600.000000  241600.000000  241600.000000   \n",
       "mean        2.448609       2.448609       0.500000       0.500000   \n",
       "std         1.953759       1.953759       0.500001       0.500001   \n",
       "min         1.000000       1.000000       0.000000       0.000000   \n",
       "25%         1.000000       1.000000       0.000000       0.000000   \n",
       "50%         2.000000       2.000000       0.500000       0.500000   \n",
       "75%         4.000000       4.000000       1.000000       1.000000   \n",
       "max         8.000000       8.000000       1.000000       1.000000   \n",
       "\n",
       "                  SA             SB      Run1 (ms)      Run2 (ms)  \\\n",
       "count  241600.000000  241600.000000  241600.000000  241600.000000   \n",
       "mean        0.500000       0.500000     217.647852     217.579536   \n",
       "std         0.500001       0.500001     369.012422     368.677309   \n",
       "min         0.000000       0.000000      13.290000      13.250000   \n",
       "25%         0.000000       0.000000      40.660000      40.710000   \n",
       "50%         0.500000       0.500000      69.825000      69.930000   \n",
       "75%         1.000000       1.000000     228.530000     228.310000   \n",
       "max         1.000000       1.000000    3339.630000    3375.420000   \n",
       "\n",
       "           Run3 (ms)      Run4 (ms)        Avg_run  \n",
       "count  241600.000000  241600.000000  241600.000000  \n",
       "mean      217.532756     217.527669     217.571953  \n",
       "std       368.655118     368.677413     368.750161  \n",
       "min        13.360000      13.370000      13.317500  \n",
       "25%        40.660000      40.640000      40.667500  \n",
       "50%        69.790000      69.820000      69.790000  \n",
       "75%       228.320000     228.320000     228.387500  \n",
       "max      3397.080000    3361.710000    3341.507500  "
      ]
     },
     "execution_count": 391,
     "metadata": {},
     "output_type": "execute_result"
    }
   ],
   "source": [
    "data.describe()"
   ]
  },
  {
   "cell_type": "code",
   "execution_count": 392,
   "metadata": {},
   "outputs": [
    {
     "data": {
      "text/html": [
       "<style  type=\"text/css\" >\n",
       "    #T_aa65709c_4e94_11ea_866a_acd5647de6d0row0_col0 {\n",
       "            background-color:  #b40426;\n",
       "            color:  #f1f1f1;\n",
       "        }    #T_aa65709c_4e94_11ea_866a_acd5647de6d0row0_col1 {\n",
       "            background-color:  #3d50c3;\n",
       "            color:  #f1f1f1;\n",
       "        }    #T_aa65709c_4e94_11ea_866a_acd5647de6d0row0_col2 {\n",
       "            background-color:  #465ecf;\n",
       "            color:  #f1f1f1;\n",
       "        }    #T_aa65709c_4e94_11ea_866a_acd5647de6d0row0_col3 {\n",
       "            background-color:  #93b5fe;\n",
       "            color:  #000000;\n",
       "        }    #T_aa65709c_4e94_11ea_866a_acd5647de6d0row0_col4 {\n",
       "            background-color:  #7093f3;\n",
       "            color:  #000000;\n",
       "        }    #T_aa65709c_4e94_11ea_866a_acd5647de6d0row0_col5 {\n",
       "            background-color:  #9ebeff;\n",
       "            color:  #000000;\n",
       "        }    #T_aa65709c_4e94_11ea_866a_acd5647de6d0row0_col6 {\n",
       "            background-color:  #7597f6;\n",
       "            color:  #000000;\n",
       "        }    #T_aa65709c_4e94_11ea_866a_acd5647de6d0row0_col7 {\n",
       "            background-color:  #3b4cc0;\n",
       "            color:  #f1f1f1;\n",
       "        }    #T_aa65709c_4e94_11ea_866a_acd5647de6d0row0_col8 {\n",
       "            background-color:  #d3dbe7;\n",
       "            color:  #000000;\n",
       "        }    #T_aa65709c_4e94_11ea_866a_acd5647de6d0row0_col9 {\n",
       "            background-color:  #6f92f3;\n",
       "            color:  #000000;\n",
       "        }    #T_aa65709c_4e94_11ea_866a_acd5647de6d0row0_col10 {\n",
       "            background-color:  #3e51c5;\n",
       "            color:  #f1f1f1;\n",
       "        }    #T_aa65709c_4e94_11ea_866a_acd5647de6d0row0_col11 {\n",
       "            background-color:  #3b4cc0;\n",
       "            color:  #f1f1f1;\n",
       "        }    #T_aa65709c_4e94_11ea_866a_acd5647de6d0row0_col12 {\n",
       "            background-color:  #3b4cc0;\n",
       "            color:  #f1f1f1;\n",
       "        }    #T_aa65709c_4e94_11ea_866a_acd5647de6d0row0_col13 {\n",
       "            background-color:  #3b4cc0;\n",
       "            color:  #f1f1f1;\n",
       "        }    #T_aa65709c_4e94_11ea_866a_acd5647de6d0row0_col14 {\n",
       "            background-color:  #d5dbe5;\n",
       "            color:  #000000;\n",
       "        }    #T_aa65709c_4e94_11ea_866a_acd5647de6d0row0_col15 {\n",
       "            background-color:  #d5dbe5;\n",
       "            color:  #000000;\n",
       "        }    #T_aa65709c_4e94_11ea_866a_acd5647de6d0row0_col16 {\n",
       "            background-color:  #d5dbe5;\n",
       "            color:  #000000;\n",
       "        }    #T_aa65709c_4e94_11ea_866a_acd5647de6d0row0_col17 {\n",
       "            background-color:  #d5dbe5;\n",
       "            color:  #000000;\n",
       "        }    #T_aa65709c_4e94_11ea_866a_acd5647de6d0row0_col18 {\n",
       "            background-color:  #d5dbe5;\n",
       "            color:  #000000;\n",
       "        }    #T_aa65709c_4e94_11ea_866a_acd5647de6d0row1_col0 {\n",
       "            background-color:  #3d50c3;\n",
       "            color:  #f1f1f1;\n",
       "        }    #T_aa65709c_4e94_11ea_866a_acd5647de6d0row1_col1 {\n",
       "            background-color:  #b40426;\n",
       "            color:  #f1f1f1;\n",
       "        }    #T_aa65709c_4e94_11ea_866a_acd5647de6d0row1_col2 {\n",
       "            background-color:  #465ecf;\n",
       "            color:  #f1f1f1;\n",
       "        }    #T_aa65709c_4e94_11ea_866a_acd5647de6d0row1_col3 {\n",
       "            background-color:  #7295f4;\n",
       "            color:  #000000;\n",
       "        }    #T_aa65709c_4e94_11ea_866a_acd5647de6d0row1_col4 {\n",
       "            background-color:  #92b4fe;\n",
       "            color:  #000000;\n",
       "        }    #T_aa65709c_4e94_11ea_866a_acd5647de6d0row1_col5 {\n",
       "            background-color:  #7597f6;\n",
       "            color:  #000000;\n",
       "        }    #T_aa65709c_4e94_11ea_866a_acd5647de6d0row1_col6 {\n",
       "            background-color:  #9ebeff;\n",
       "            color:  #000000;\n",
       "        }    #T_aa65709c_4e94_11ea_866a_acd5647de6d0row1_col7 {\n",
       "            background-color:  #3b4cc0;\n",
       "            color:  #f1f1f1;\n",
       "        }    #T_aa65709c_4e94_11ea_866a_acd5647de6d0row1_col8 {\n",
       "            background-color:  #6f92f3;\n",
       "            color:  #000000;\n",
       "        }    #T_aa65709c_4e94_11ea_866a_acd5647de6d0row1_col9 {\n",
       "            background-color:  #d3dbe7;\n",
       "            color:  #000000;\n",
       "        }    #T_aa65709c_4e94_11ea_866a_acd5647de6d0row1_col10 {\n",
       "            background-color:  #3e51c5;\n",
       "            color:  #f1f1f1;\n",
       "        }    #T_aa65709c_4e94_11ea_866a_acd5647de6d0row1_col11 {\n",
       "            background-color:  #3b4cc0;\n",
       "            color:  #f1f1f1;\n",
       "        }    #T_aa65709c_4e94_11ea_866a_acd5647de6d0row1_col12 {\n",
       "            background-color:  #3b4cc0;\n",
       "            color:  #f1f1f1;\n",
       "        }    #T_aa65709c_4e94_11ea_866a_acd5647de6d0row1_col13 {\n",
       "            background-color:  #3b4cc0;\n",
       "            color:  #f1f1f1;\n",
       "        }    #T_aa65709c_4e94_11ea_866a_acd5647de6d0row1_col14 {\n",
       "            background-color:  #cdd9ec;\n",
       "            color:  #000000;\n",
       "        }    #T_aa65709c_4e94_11ea_866a_acd5647de6d0row1_col15 {\n",
       "            background-color:  #cdd9ec;\n",
       "            color:  #000000;\n",
       "        }    #T_aa65709c_4e94_11ea_866a_acd5647de6d0row1_col16 {\n",
       "            background-color:  #cdd9ec;\n",
       "            color:  #000000;\n",
       "        }    #T_aa65709c_4e94_11ea_866a_acd5647de6d0row1_col17 {\n",
       "            background-color:  #cdd9ec;\n",
       "            color:  #000000;\n",
       "        }    #T_aa65709c_4e94_11ea_866a_acd5647de6d0row1_col18 {\n",
       "            background-color:  #cdd9ec;\n",
       "            color:  #000000;\n",
       "        }    #T_aa65709c_4e94_11ea_866a_acd5647de6d0row2_col0 {\n",
       "            background-color:  #3f53c6;\n",
       "            color:  #f1f1f1;\n",
       "        }    #T_aa65709c_4e94_11ea_866a_acd5647de6d0row2_col1 {\n",
       "            background-color:  #3f53c6;\n",
       "            color:  #f1f1f1;\n",
       "        }    #T_aa65709c_4e94_11ea_866a_acd5647de6d0row2_col2 {\n",
       "            background-color:  #b40426;\n",
       "            color:  #f1f1f1;\n",
       "        }    #T_aa65709c_4e94_11ea_866a_acd5647de6d0row2_col3 {\n",
       "            background-color:  #9fbfff;\n",
       "            color:  #000000;\n",
       "        }    #T_aa65709c_4e94_11ea_866a_acd5647de6d0row2_col4 {\n",
       "            background-color:  #9ebeff;\n",
       "            color:  #000000;\n",
       "        }    #T_aa65709c_4e94_11ea_866a_acd5647de6d0row2_col5 {\n",
       "            background-color:  #6687ed;\n",
       "            color:  #000000;\n",
       "        }    #T_aa65709c_4e94_11ea_866a_acd5647de6d0row2_col6 {\n",
       "            background-color:  #6687ed;\n",
       "            color:  #000000;\n",
       "        }    #T_aa65709c_4e94_11ea_866a_acd5647de6d0row2_col7 {\n",
       "            background-color:  #3b4cc0;\n",
       "            color:  #f1f1f1;\n",
       "        }    #T_aa65709c_4e94_11ea_866a_acd5647de6d0row2_col8 {\n",
       "            background-color:  #6c8ff1;\n",
       "            color:  #000000;\n",
       "        }    #T_aa65709c_4e94_11ea_866a_acd5647de6d0row2_col9 {\n",
       "            background-color:  #6c8ff1;\n",
       "            color:  #000000;\n",
       "        }    #T_aa65709c_4e94_11ea_866a_acd5647de6d0row2_col10 {\n",
       "            background-color:  #3e51c5;\n",
       "            color:  #f1f1f1;\n",
       "        }    #T_aa65709c_4e94_11ea_866a_acd5647de6d0row2_col11 {\n",
       "            background-color:  #3b4cc0;\n",
       "            color:  #f1f1f1;\n",
       "        }    #T_aa65709c_4e94_11ea_866a_acd5647de6d0row2_col12 {\n",
       "            background-color:  #3b4cc0;\n",
       "            color:  #f1f1f1;\n",
       "        }    #T_aa65709c_4e94_11ea_866a_acd5647de6d0row2_col13 {\n",
       "            background-color:  #3b4cc0;\n",
       "            color:  #f1f1f1;\n",
       "        }    #T_aa65709c_4e94_11ea_866a_acd5647de6d0row2_col14 {\n",
       "            background-color:  #779af7;\n",
       "            color:  #000000;\n",
       "        }    #T_aa65709c_4e94_11ea_866a_acd5647de6d0row2_col15 {\n",
       "            background-color:  #779af7;\n",
       "            color:  #000000;\n",
       "        }    #T_aa65709c_4e94_11ea_866a_acd5647de6d0row2_col16 {\n",
       "            background-color:  #779af7;\n",
       "            color:  #000000;\n",
       "        }    #T_aa65709c_4e94_11ea_866a_acd5647de6d0row2_col17 {\n",
       "            background-color:  #779af7;\n",
       "            color:  #000000;\n",
       "        }    #T_aa65709c_4e94_11ea_866a_acd5647de6d0row2_col18 {\n",
       "            background-color:  #779af7;\n",
       "            color:  #000000;\n",
       "        }    #T_aa65709c_4e94_11ea_866a_acd5647de6d0row3_col0 {\n",
       "            background-color:  #5e7de7;\n",
       "            color:  #000000;\n",
       "        }    #T_aa65709c_4e94_11ea_866a_acd5647de6d0row3_col1 {\n",
       "            background-color:  #3b4cc0;\n",
       "            color:  #f1f1f1;\n",
       "        }    #T_aa65709c_4e94_11ea_866a_acd5647de6d0row3_col2 {\n",
       "            background-color:  #7396f5;\n",
       "            color:  #000000;\n",
       "        }    #T_aa65709c_4e94_11ea_866a_acd5647de6d0row3_col3 {\n",
       "            background-color:  #b40426;\n",
       "            color:  #f1f1f1;\n",
       "        }    #T_aa65709c_4e94_11ea_866a_acd5647de6d0row3_col4 {\n",
       "            background-color:  #3c4ec2;\n",
       "            color:  #f1f1f1;\n",
       "        }    #T_aa65709c_4e94_11ea_866a_acd5647de6d0row3_col5 {\n",
       "            background-color:  #aac7fd;\n",
       "            color:  #000000;\n",
       "        }    #T_aa65709c_4e94_11ea_866a_acd5647de6d0row3_col6 {\n",
       "            background-color:  #89acfd;\n",
       "            color:  #000000;\n",
       "        }    #T_aa65709c_4e94_11ea_866a_acd5647de6d0row3_col7 {\n",
       "            background-color:  #3b4cc0;\n",
       "            color:  #f1f1f1;\n",
       "        }    #T_aa65709c_4e94_11ea_866a_acd5647de6d0row3_col8 {\n",
       "            background-color:  #4b64d5;\n",
       "            color:  #f1f1f1;\n",
       "        }    #T_aa65709c_4e94_11ea_866a_acd5647de6d0row3_col9 {\n",
       "            background-color:  #7396f5;\n",
       "            color:  #000000;\n",
       "        }    #T_aa65709c_4e94_11ea_866a_acd5647de6d0row3_col10 {\n",
       "            background-color:  #3e51c5;\n",
       "            color:  #f1f1f1;\n",
       "        }    #T_aa65709c_4e94_11ea_866a_acd5647de6d0row3_col11 {\n",
       "            background-color:  #3b4cc0;\n",
       "            color:  #f1f1f1;\n",
       "        }    #T_aa65709c_4e94_11ea_866a_acd5647de6d0row3_col12 {\n",
       "            background-color:  #3b4cc0;\n",
       "            color:  #f1f1f1;\n",
       "        }    #T_aa65709c_4e94_11ea_866a_acd5647de6d0row3_col13 {\n",
       "            background-color:  #3b4cc0;\n",
       "            color:  #f1f1f1;\n",
       "        }    #T_aa65709c_4e94_11ea_866a_acd5647de6d0row3_col14 {\n",
       "            background-color:  #3b4cc0;\n",
       "            color:  #f1f1f1;\n",
       "        }    #T_aa65709c_4e94_11ea_866a_acd5647de6d0row3_col15 {\n",
       "            background-color:  #3b4cc0;\n",
       "            color:  #f1f1f1;\n",
       "        }    #T_aa65709c_4e94_11ea_866a_acd5647de6d0row3_col16 {\n",
       "            background-color:  #3b4cc0;\n",
       "            color:  #f1f1f1;\n",
       "        }    #T_aa65709c_4e94_11ea_866a_acd5647de6d0row3_col17 {\n",
       "            background-color:  #3b4cc0;\n",
       "            color:  #f1f1f1;\n",
       "        }    #T_aa65709c_4e94_11ea_866a_acd5647de6d0row3_col18 {\n",
       "            background-color:  #3b4cc0;\n",
       "            color:  #f1f1f1;\n",
       "        }    #T_aa65709c_4e94_11ea_866a_acd5647de6d0row4_col0 {\n",
       "            background-color:  #3b4cc0;\n",
       "            color:  #f1f1f1;\n",
       "        }    #T_aa65709c_4e94_11ea_866a_acd5647de6d0row4_col1 {\n",
       "            background-color:  #5e7de7;\n",
       "            color:  #000000;\n",
       "        }    #T_aa65709c_4e94_11ea_866a_acd5647de6d0row4_col2 {\n",
       "            background-color:  #7396f5;\n",
       "            color:  #000000;\n",
       "        }    #T_aa65709c_4e94_11ea_866a_acd5647de6d0row4_col3 {\n",
       "            background-color:  #3d50c3;\n",
       "            color:  #f1f1f1;\n",
       "        }    #T_aa65709c_4e94_11ea_866a_acd5647de6d0row4_col4 {\n",
       "            background-color:  #b40426;\n",
       "            color:  #f1f1f1;\n",
       "        }    #T_aa65709c_4e94_11ea_866a_acd5647de6d0row4_col5 {\n",
       "            background-color:  #89acfd;\n",
       "            color:  #000000;\n",
       "        }    #T_aa65709c_4e94_11ea_866a_acd5647de6d0row4_col6 {\n",
       "            background-color:  #aac7fd;\n",
       "            color:  #000000;\n",
       "        }    #T_aa65709c_4e94_11ea_866a_acd5647de6d0row4_col7 {\n",
       "            background-color:  #3b4cc0;\n",
       "            color:  #f1f1f1;\n",
       "        }    #T_aa65709c_4e94_11ea_866a_acd5647de6d0row4_col8 {\n",
       "            background-color:  #7396f5;\n",
       "            color:  #000000;\n",
       "        }    #T_aa65709c_4e94_11ea_866a_acd5647de6d0row4_col9 {\n",
       "            background-color:  #4b64d5;\n",
       "            color:  #f1f1f1;\n",
       "        }    #T_aa65709c_4e94_11ea_866a_acd5647de6d0row4_col10 {\n",
       "            background-color:  #3e51c5;\n",
       "            color:  #f1f1f1;\n",
       "        }    #T_aa65709c_4e94_11ea_866a_acd5647de6d0row4_col11 {\n",
       "            background-color:  #3b4cc0;\n",
       "            color:  #f1f1f1;\n",
       "        }    #T_aa65709c_4e94_11ea_866a_acd5647de6d0row4_col12 {\n",
       "            background-color:  #3b4cc0;\n",
       "            color:  #f1f1f1;\n",
       "        }    #T_aa65709c_4e94_11ea_866a_acd5647de6d0row4_col13 {\n",
       "            background-color:  #3b4cc0;\n",
       "            color:  #f1f1f1;\n",
       "        }    #T_aa65709c_4e94_11ea_866a_acd5647de6d0row4_col14 {\n",
       "            background-color:  #3c4ec2;\n",
       "            color:  #f1f1f1;\n",
       "        }    #T_aa65709c_4e94_11ea_866a_acd5647de6d0row4_col15 {\n",
       "            background-color:  #3c4ec2;\n",
       "            color:  #f1f1f1;\n",
       "        }    #T_aa65709c_4e94_11ea_866a_acd5647de6d0row4_col16 {\n",
       "            background-color:  #3c4ec2;\n",
       "            color:  #f1f1f1;\n",
       "        }    #T_aa65709c_4e94_11ea_866a_acd5647de6d0row4_col17 {\n",
       "            background-color:  #3c4ec2;\n",
       "            color:  #f1f1f1;\n",
       "        }    #T_aa65709c_4e94_11ea_866a_acd5647de6d0row4_col18 {\n",
       "            background-color:  #3c4ec2;\n",
       "            color:  #f1f1f1;\n",
       "        }    #T_aa65709c_4e94_11ea_866a_acd5647de6d0row5_col0 {\n",
       "            background-color:  #6f92f3;\n",
       "            color:  #000000;\n",
       "        }    #T_aa65709c_4e94_11ea_866a_acd5647de6d0row5_col1 {\n",
       "            background-color:  #4055c8;\n",
       "            color:  #f1f1f1;\n",
       "        }    #T_aa65709c_4e94_11ea_866a_acd5647de6d0row5_col2 {\n",
       "            background-color:  #3b4cc0;\n",
       "            color:  #f1f1f1;\n",
       "        }    #T_aa65709c_4e94_11ea_866a_acd5647de6d0row5_col3 {\n",
       "            background-color:  #adc9fd;\n",
       "            color:  #000000;\n",
       "        }    #T_aa65709c_4e94_11ea_866a_acd5647de6d0row5_col4 {\n",
       "            background-color:  #8caffe;\n",
       "            color:  #000000;\n",
       "        }    #T_aa65709c_4e94_11ea_866a_acd5647de6d0row5_col5 {\n",
       "            background-color:  #b40426;\n",
       "            color:  #f1f1f1;\n",
       "        }    #T_aa65709c_4e94_11ea_866a_acd5647de6d0row5_col6 {\n",
       "            background-color:  #89acfd;\n",
       "            color:  #000000;\n",
       "        }    #T_aa65709c_4e94_11ea_866a_acd5647de6d0row5_col7 {\n",
       "            background-color:  #3b4cc0;\n",
       "            color:  #f1f1f1;\n",
       "        }    #T_aa65709c_4e94_11ea_866a_acd5647de6d0row5_col8 {\n",
       "            background-color:  #3b4cc0;\n",
       "            color:  #f1f1f1;\n",
       "        }    #T_aa65709c_4e94_11ea_866a_acd5647de6d0row5_col9 {\n",
       "            background-color:  #6b8df0;\n",
       "            color:  #000000;\n",
       "        }    #T_aa65709c_4e94_11ea_866a_acd5647de6d0row5_col10 {\n",
       "            background-color:  #3e51c5;\n",
       "            color:  #f1f1f1;\n",
       "        }    #T_aa65709c_4e94_11ea_866a_acd5647de6d0row5_col11 {\n",
       "            background-color:  #3b4cc0;\n",
       "            color:  #f1f1f1;\n",
       "        }    #T_aa65709c_4e94_11ea_866a_acd5647de6d0row5_col12 {\n",
       "            background-color:  #3b4cc0;\n",
       "            color:  #f1f1f1;\n",
       "        }    #T_aa65709c_4e94_11ea_866a_acd5647de6d0row5_col13 {\n",
       "            background-color:  #3b4cc0;\n",
       "            color:  #f1f1f1;\n",
       "        }    #T_aa65709c_4e94_11ea_866a_acd5647de6d0row5_col14 {\n",
       "            background-color:  #7295f4;\n",
       "            color:  #000000;\n",
       "        }    #T_aa65709c_4e94_11ea_866a_acd5647de6d0row5_col15 {\n",
       "            background-color:  #7295f4;\n",
       "            color:  #000000;\n",
       "        }    #T_aa65709c_4e94_11ea_866a_acd5647de6d0row5_col16 {\n",
       "            background-color:  #7295f4;\n",
       "            color:  #000000;\n",
       "        }    #T_aa65709c_4e94_11ea_866a_acd5647de6d0row5_col17 {\n",
       "            background-color:  #7295f4;\n",
       "            color:  #000000;\n",
       "        }    #T_aa65709c_4e94_11ea_866a_acd5647de6d0row5_col18 {\n",
       "            background-color:  #7295f4;\n",
       "            color:  #000000;\n",
       "        }    #T_aa65709c_4e94_11ea_866a_acd5647de6d0row6_col0 {\n",
       "            background-color:  #4055c8;\n",
       "            color:  #f1f1f1;\n",
       "        }    #T_aa65709c_4e94_11ea_866a_acd5647de6d0row6_col1 {\n",
       "            background-color:  #6f92f3;\n",
       "            color:  #000000;\n",
       "        }    #T_aa65709c_4e94_11ea_866a_acd5647de6d0row6_col2 {\n",
       "            background-color:  #3b4cc0;\n",
       "            color:  #f1f1f1;\n",
       "        }    #T_aa65709c_4e94_11ea_866a_acd5647de6d0row6_col3 {\n",
       "            background-color:  #8db0fe;\n",
       "            color:  #000000;\n",
       "        }    #T_aa65709c_4e94_11ea_866a_acd5647de6d0row6_col4 {\n",
       "            background-color:  #abc8fd;\n",
       "            color:  #000000;\n",
       "        }    #T_aa65709c_4e94_11ea_866a_acd5647de6d0row6_col5 {\n",
       "            background-color:  #89acfd;\n",
       "            color:  #000000;\n",
       "        }    #T_aa65709c_4e94_11ea_866a_acd5647de6d0row6_col6 {\n",
       "            background-color:  #b40426;\n",
       "            color:  #f1f1f1;\n",
       "        }    #T_aa65709c_4e94_11ea_866a_acd5647de6d0row6_col7 {\n",
       "            background-color:  #3b4cc0;\n",
       "            color:  #f1f1f1;\n",
       "        }    #T_aa65709c_4e94_11ea_866a_acd5647de6d0row6_col8 {\n",
       "            background-color:  #6b8df0;\n",
       "            color:  #000000;\n",
       "        }    #T_aa65709c_4e94_11ea_866a_acd5647de6d0row6_col9 {\n",
       "            background-color:  #3b4cc0;\n",
       "            color:  #f1f1f1;\n",
       "        }    #T_aa65709c_4e94_11ea_866a_acd5647de6d0row6_col10 {\n",
       "            background-color:  #3e51c5;\n",
       "            color:  #f1f1f1;\n",
       "        }    #T_aa65709c_4e94_11ea_866a_acd5647de6d0row6_col11 {\n",
       "            background-color:  #3b4cc0;\n",
       "            color:  #f1f1f1;\n",
       "        }    #T_aa65709c_4e94_11ea_866a_acd5647de6d0row6_col12 {\n",
       "            background-color:  #3b4cc0;\n",
       "            color:  #f1f1f1;\n",
       "        }    #T_aa65709c_4e94_11ea_866a_acd5647de6d0row6_col13 {\n",
       "            background-color:  #3b4cc0;\n",
       "            color:  #f1f1f1;\n",
       "        }    #T_aa65709c_4e94_11ea_866a_acd5647de6d0row6_col14 {\n",
       "            background-color:  #7295f4;\n",
       "            color:  #000000;\n",
       "        }    #T_aa65709c_4e94_11ea_866a_acd5647de6d0row6_col15 {\n",
       "            background-color:  #7295f4;\n",
       "            color:  #000000;\n",
       "        }    #T_aa65709c_4e94_11ea_866a_acd5647de6d0row6_col16 {\n",
       "            background-color:  #7295f4;\n",
       "            color:  #000000;\n",
       "        }    #T_aa65709c_4e94_11ea_866a_acd5647de6d0row6_col17 {\n",
       "            background-color:  #7295f4;\n",
       "            color:  #000000;\n",
       "        }    #T_aa65709c_4e94_11ea_866a_acd5647de6d0row6_col18 {\n",
       "            background-color:  #7295f4;\n",
       "            color:  #000000;\n",
       "        }    #T_aa65709c_4e94_11ea_866a_acd5647de6d0row7_col0 {\n",
       "            background-color:  #3d50c3;\n",
       "            color:  #f1f1f1;\n",
       "        }    #T_aa65709c_4e94_11ea_866a_acd5647de6d0row7_col1 {\n",
       "            background-color:  #3d50c3;\n",
       "            color:  #f1f1f1;\n",
       "        }    #T_aa65709c_4e94_11ea_866a_acd5647de6d0row7_col2 {\n",
       "            background-color:  #445acc;\n",
       "            color:  #f1f1f1;\n",
       "        }    #T_aa65709c_4e94_11ea_866a_acd5647de6d0row7_col3 {\n",
       "            background-color:  #7597f6;\n",
       "            color:  #000000;\n",
       "        }    #T_aa65709c_4e94_11ea_866a_acd5647de6d0row7_col4 {\n",
       "            background-color:  #7396f5;\n",
       "            color:  #000000;\n",
       "        }    #T_aa65709c_4e94_11ea_866a_acd5647de6d0row7_col5 {\n",
       "            background-color:  #7093f3;\n",
       "            color:  #000000;\n",
       "        }    #T_aa65709c_4e94_11ea_866a_acd5647de6d0row7_col6 {\n",
       "            background-color:  #7093f3;\n",
       "            color:  #000000;\n",
       "        }    #T_aa65709c_4e94_11ea_866a_acd5647de6d0row7_col7 {\n",
       "            background-color:  #b40426;\n",
       "            color:  #f1f1f1;\n",
       "        }    #T_aa65709c_4e94_11ea_866a_acd5647de6d0row7_col8 {\n",
       "            background-color:  #7093f3;\n",
       "            color:  #000000;\n",
       "        }    #T_aa65709c_4e94_11ea_866a_acd5647de6d0row7_col9 {\n",
       "            background-color:  #7093f3;\n",
       "            color:  #000000;\n",
       "        }    #T_aa65709c_4e94_11ea_866a_acd5647de6d0row7_col10 {\n",
       "            background-color:  #3e51c5;\n",
       "            color:  #f1f1f1;\n",
       "        }    #T_aa65709c_4e94_11ea_866a_acd5647de6d0row7_col11 {\n",
       "            background-color:  #3b4cc0;\n",
       "            color:  #f1f1f1;\n",
       "        }    #T_aa65709c_4e94_11ea_866a_acd5647de6d0row7_col12 {\n",
       "            background-color:  #3b4cc0;\n",
       "            color:  #f1f1f1;\n",
       "        }    #T_aa65709c_4e94_11ea_866a_acd5647de6d0row7_col13 {\n",
       "            background-color:  #3b4cc0;\n",
       "            color:  #f1f1f1;\n",
       "        }    #T_aa65709c_4e94_11ea_866a_acd5647de6d0row7_col14 {\n",
       "            background-color:  #7ea1fa;\n",
       "            color:  #000000;\n",
       "        }    #T_aa65709c_4e94_11ea_866a_acd5647de6d0row7_col15 {\n",
       "            background-color:  #7ea1fa;\n",
       "            color:  #000000;\n",
       "        }    #T_aa65709c_4e94_11ea_866a_acd5647de6d0row7_col16 {\n",
       "            background-color:  #7ea1fa;\n",
       "            color:  #000000;\n",
       "        }    #T_aa65709c_4e94_11ea_866a_acd5647de6d0row7_col17 {\n",
       "            background-color:  #7ea1fa;\n",
       "            color:  #000000;\n",
       "        }    #T_aa65709c_4e94_11ea_866a_acd5647de6d0row7_col18 {\n",
       "            background-color:  #7ea1fa;\n",
       "            color:  #000000;\n",
       "        }    #T_aa65709c_4e94_11ea_866a_acd5647de6d0row8_col0 {\n",
       "            background-color:  #b2ccfb;\n",
       "            color:  #000000;\n",
       "        }    #T_aa65709c_4e94_11ea_866a_acd5647de6d0row8_col1 {\n",
       "            background-color:  #3c4ec2;\n",
       "            color:  #f1f1f1;\n",
       "        }    #T_aa65709c_4e94_11ea_866a_acd5647de6d0row8_col2 {\n",
       "            background-color:  #4055c8;\n",
       "            color:  #f1f1f1;\n",
       "        }    #T_aa65709c_4e94_11ea_866a_acd5647de6d0row8_col3 {\n",
       "            background-color:  #506bda;\n",
       "            color:  #000000;\n",
       "        }    #T_aa65709c_4e94_11ea_866a_acd5647de6d0row8_col4 {\n",
       "            background-color:  #7699f6;\n",
       "            color:  #000000;\n",
       "        }    #T_aa65709c_4e94_11ea_866a_acd5647de6d0row8_col5 {\n",
       "            background-color:  #3b4cc0;\n",
       "            color:  #f1f1f1;\n",
       "        }    #T_aa65709c_4e94_11ea_866a_acd5647de6d0row8_col6 {\n",
       "            background-color:  #6b8df0;\n",
       "            color:  #000000;\n",
       "        }    #T_aa65709c_4e94_11ea_866a_acd5647de6d0row8_col7 {\n",
       "            background-color:  #3b4cc0;\n",
       "            color:  #f1f1f1;\n",
       "        }    #T_aa65709c_4e94_11ea_866a_acd5647de6d0row8_col8 {\n",
       "            background-color:  #b40426;\n",
       "            color:  #f1f1f1;\n",
       "        }    #T_aa65709c_4e94_11ea_866a_acd5647de6d0row8_col9 {\n",
       "            background-color:  #7093f3;\n",
       "            color:  #000000;\n",
       "        }    #T_aa65709c_4e94_11ea_866a_acd5647de6d0row8_col10 {\n",
       "            background-color:  #3e51c5;\n",
       "            color:  #f1f1f1;\n",
       "        }    #T_aa65709c_4e94_11ea_866a_acd5647de6d0row8_col11 {\n",
       "            background-color:  #3b4cc0;\n",
       "            color:  #f1f1f1;\n",
       "        }    #T_aa65709c_4e94_11ea_866a_acd5647de6d0row8_col12 {\n",
       "            background-color:  #3b4cc0;\n",
       "            color:  #f1f1f1;\n",
       "        }    #T_aa65709c_4e94_11ea_866a_acd5647de6d0row8_col13 {\n",
       "            background-color:  #3b4cc0;\n",
       "            color:  #f1f1f1;\n",
       "        }    #T_aa65709c_4e94_11ea_866a_acd5647de6d0row8_col14 {\n",
       "            background-color:  #a3c2fe;\n",
       "            color:  #000000;\n",
       "        }    #T_aa65709c_4e94_11ea_866a_acd5647de6d0row8_col15 {\n",
       "            background-color:  #a3c2fe;\n",
       "            color:  #000000;\n",
       "        }    #T_aa65709c_4e94_11ea_866a_acd5647de6d0row8_col16 {\n",
       "            background-color:  #a3c2fe;\n",
       "            color:  #000000;\n",
       "        }    #T_aa65709c_4e94_11ea_866a_acd5647de6d0row8_col17 {\n",
       "            background-color:  #a3c2fe;\n",
       "            color:  #000000;\n",
       "        }    #T_aa65709c_4e94_11ea_866a_acd5647de6d0row8_col18 {\n",
       "            background-color:  #a3c2fe;\n",
       "            color:  #000000;\n",
       "        }    #T_aa65709c_4e94_11ea_866a_acd5647de6d0row9_col0 {\n",
       "            background-color:  #3c4ec2;\n",
       "            color:  #f1f1f1;\n",
       "        }    #T_aa65709c_4e94_11ea_866a_acd5647de6d0row9_col1 {\n",
       "            background-color:  #b2ccfb;\n",
       "            color:  #000000;\n",
       "        }    #T_aa65709c_4e94_11ea_866a_acd5647de6d0row9_col2 {\n",
       "            background-color:  #4055c8;\n",
       "            color:  #f1f1f1;\n",
       "        }    #T_aa65709c_4e94_11ea_866a_acd5647de6d0row9_col3 {\n",
       "            background-color:  #779af7;\n",
       "            color:  #000000;\n",
       "        }    #T_aa65709c_4e94_11ea_866a_acd5647de6d0row9_col4 {\n",
       "            background-color:  #4f69d9;\n",
       "            color:  #000000;\n",
       "        }    #T_aa65709c_4e94_11ea_866a_acd5647de6d0row9_col5 {\n",
       "            background-color:  #6b8df0;\n",
       "            color:  #000000;\n",
       "        }    #T_aa65709c_4e94_11ea_866a_acd5647de6d0row9_col6 {\n",
       "            background-color:  #3b4cc0;\n",
       "            color:  #f1f1f1;\n",
       "        }    #T_aa65709c_4e94_11ea_866a_acd5647de6d0row9_col7 {\n",
       "            background-color:  #3b4cc0;\n",
       "            color:  #f1f1f1;\n",
       "        }    #T_aa65709c_4e94_11ea_866a_acd5647de6d0row9_col8 {\n",
       "            background-color:  #7093f3;\n",
       "            color:  #000000;\n",
       "        }    #T_aa65709c_4e94_11ea_866a_acd5647de6d0row9_col9 {\n",
       "            background-color:  #b40426;\n",
       "            color:  #f1f1f1;\n",
       "        }    #T_aa65709c_4e94_11ea_866a_acd5647de6d0row9_col10 {\n",
       "            background-color:  #3e51c5;\n",
       "            color:  #f1f1f1;\n",
       "        }    #T_aa65709c_4e94_11ea_866a_acd5647de6d0row9_col11 {\n",
       "            background-color:  #3b4cc0;\n",
       "            color:  #f1f1f1;\n",
       "        }    #T_aa65709c_4e94_11ea_866a_acd5647de6d0row9_col12 {\n",
       "            background-color:  #3b4cc0;\n",
       "            color:  #f1f1f1;\n",
       "        }    #T_aa65709c_4e94_11ea_866a_acd5647de6d0row9_col13 {\n",
       "            background-color:  #3b4cc0;\n",
       "            color:  #f1f1f1;\n",
       "        }    #T_aa65709c_4e94_11ea_866a_acd5647de6d0row9_col14 {\n",
       "            background-color:  #9ebeff;\n",
       "            color:  #000000;\n",
       "        }    #T_aa65709c_4e94_11ea_866a_acd5647de6d0row9_col15 {\n",
       "            background-color:  #9ebeff;\n",
       "            color:  #000000;\n",
       "        }    #T_aa65709c_4e94_11ea_866a_acd5647de6d0row9_col16 {\n",
       "            background-color:  #9ebeff;\n",
       "            color:  #000000;\n",
       "        }    #T_aa65709c_4e94_11ea_866a_acd5647de6d0row9_col17 {\n",
       "            background-color:  #9ebeff;\n",
       "            color:  #000000;\n",
       "        }    #T_aa65709c_4e94_11ea_866a_acd5647de6d0row9_col18 {\n",
       "            background-color:  #9ebeff;\n",
       "            color:  #000000;\n",
       "        }    #T_aa65709c_4e94_11ea_866a_acd5647de6d0row10_col0 {\n",
       "            background-color:  #3d50c3;\n",
       "            color:  #f1f1f1;\n",
       "        }    #T_aa65709c_4e94_11ea_866a_acd5647de6d0row10_col1 {\n",
       "            background-color:  #3d50c3;\n",
       "            color:  #f1f1f1;\n",
       "        }    #T_aa65709c_4e94_11ea_866a_acd5647de6d0row10_col2 {\n",
       "            background-color:  #445acc;\n",
       "            color:  #f1f1f1;\n",
       "        }    #T_aa65709c_4e94_11ea_866a_acd5647de6d0row10_col3 {\n",
       "            background-color:  #7597f6;\n",
       "            color:  #000000;\n",
       "        }    #T_aa65709c_4e94_11ea_866a_acd5647de6d0row10_col4 {\n",
       "            background-color:  #7396f5;\n",
       "            color:  #000000;\n",
       "        }    #T_aa65709c_4e94_11ea_866a_acd5647de6d0row10_col5 {\n",
       "            background-color:  #7093f3;\n",
       "            color:  #000000;\n",
       "        }    #T_aa65709c_4e94_11ea_866a_acd5647de6d0row10_col6 {\n",
       "            background-color:  #7093f3;\n",
       "            color:  #000000;\n",
       "        }    #T_aa65709c_4e94_11ea_866a_acd5647de6d0row10_col7 {\n",
       "            background-color:  #3b4cc0;\n",
       "            color:  #f1f1f1;\n",
       "        }    #T_aa65709c_4e94_11ea_866a_acd5647de6d0row10_col8 {\n",
       "            background-color:  #7093f3;\n",
       "            color:  #000000;\n",
       "        }    #T_aa65709c_4e94_11ea_866a_acd5647de6d0row10_col9 {\n",
       "            background-color:  #7093f3;\n",
       "            color:  #000000;\n",
       "        }    #T_aa65709c_4e94_11ea_866a_acd5647de6d0row10_col10 {\n",
       "            background-color:  #b40426;\n",
       "            color:  #f1f1f1;\n",
       "        }    #T_aa65709c_4e94_11ea_866a_acd5647de6d0row10_col11 {\n",
       "            background-color:  #3b4cc0;\n",
       "            color:  #f1f1f1;\n",
       "        }    #T_aa65709c_4e94_11ea_866a_acd5647de6d0row10_col12 {\n",
       "            background-color:  #3b4cc0;\n",
       "            color:  #f1f1f1;\n",
       "        }    #T_aa65709c_4e94_11ea_866a_acd5647de6d0row10_col13 {\n",
       "            background-color:  #3b4cc0;\n",
       "            color:  #f1f1f1;\n",
       "        }    #T_aa65709c_4e94_11ea_866a_acd5647de6d0row10_col14 {\n",
       "            background-color:  #7093f3;\n",
       "            color:  #000000;\n",
       "        }    #T_aa65709c_4e94_11ea_866a_acd5647de6d0row10_col15 {\n",
       "            background-color:  #7093f3;\n",
       "            color:  #000000;\n",
       "        }    #T_aa65709c_4e94_11ea_866a_acd5647de6d0row10_col16 {\n",
       "            background-color:  #7093f3;\n",
       "            color:  #000000;\n",
       "        }    #T_aa65709c_4e94_11ea_866a_acd5647de6d0row10_col17 {\n",
       "            background-color:  #7093f3;\n",
       "            color:  #000000;\n",
       "        }    #T_aa65709c_4e94_11ea_866a_acd5647de6d0row10_col18 {\n",
       "            background-color:  #7093f3;\n",
       "            color:  #000000;\n",
       "        }    #T_aa65709c_4e94_11ea_866a_acd5647de6d0row11_col0 {\n",
       "            background-color:  #3d50c3;\n",
       "            color:  #f1f1f1;\n",
       "        }    #T_aa65709c_4e94_11ea_866a_acd5647de6d0row11_col1 {\n",
       "            background-color:  #3d50c3;\n",
       "            color:  #f1f1f1;\n",
       "        }    #T_aa65709c_4e94_11ea_866a_acd5647de6d0row11_col2 {\n",
       "            background-color:  #445acc;\n",
       "            color:  #f1f1f1;\n",
       "        }    #T_aa65709c_4e94_11ea_866a_acd5647de6d0row11_col3 {\n",
       "            background-color:  #7597f6;\n",
       "            color:  #000000;\n",
       "        }    #T_aa65709c_4e94_11ea_866a_acd5647de6d0row11_col4 {\n",
       "            background-color:  #7396f5;\n",
       "            color:  #000000;\n",
       "        }    #T_aa65709c_4e94_11ea_866a_acd5647de6d0row11_col5 {\n",
       "            background-color:  #7093f3;\n",
       "            color:  #000000;\n",
       "        }    #T_aa65709c_4e94_11ea_866a_acd5647de6d0row11_col6 {\n",
       "            background-color:  #7093f3;\n",
       "            color:  #000000;\n",
       "        }    #T_aa65709c_4e94_11ea_866a_acd5647de6d0row11_col7 {\n",
       "            background-color:  #3b4cc0;\n",
       "            color:  #f1f1f1;\n",
       "        }    #T_aa65709c_4e94_11ea_866a_acd5647de6d0row11_col8 {\n",
       "            background-color:  #7093f3;\n",
       "            color:  #000000;\n",
       "        }    #T_aa65709c_4e94_11ea_866a_acd5647de6d0row11_col9 {\n",
       "            background-color:  #7093f3;\n",
       "            color:  #000000;\n",
       "        }    #T_aa65709c_4e94_11ea_866a_acd5647de6d0row11_col10 {\n",
       "            background-color:  #3e51c5;\n",
       "            color:  #f1f1f1;\n",
       "        }    #T_aa65709c_4e94_11ea_866a_acd5647de6d0row11_col11 {\n",
       "            background-color:  #b40426;\n",
       "            color:  #f1f1f1;\n",
       "        }    #T_aa65709c_4e94_11ea_866a_acd5647de6d0row11_col12 {\n",
       "            background-color:  #3b4cc0;\n",
       "            color:  #f1f1f1;\n",
       "        }    #T_aa65709c_4e94_11ea_866a_acd5647de6d0row11_col13 {\n",
       "            background-color:  #3b4cc0;\n",
       "            color:  #f1f1f1;\n",
       "        }    #T_aa65709c_4e94_11ea_866a_acd5647de6d0row11_col14 {\n",
       "            background-color:  #7597f6;\n",
       "            color:  #000000;\n",
       "        }    #T_aa65709c_4e94_11ea_866a_acd5647de6d0row11_col15 {\n",
       "            background-color:  #7597f6;\n",
       "            color:  #000000;\n",
       "        }    #T_aa65709c_4e94_11ea_866a_acd5647de6d0row11_col16 {\n",
       "            background-color:  #7597f6;\n",
       "            color:  #000000;\n",
       "        }    #T_aa65709c_4e94_11ea_866a_acd5647de6d0row11_col17 {\n",
       "            background-color:  #7597f6;\n",
       "            color:  #000000;\n",
       "        }    #T_aa65709c_4e94_11ea_866a_acd5647de6d0row11_col18 {\n",
       "            background-color:  #7597f6;\n",
       "            color:  #000000;\n",
       "        }    #T_aa65709c_4e94_11ea_866a_acd5647de6d0row12_col0 {\n",
       "            background-color:  #3d50c3;\n",
       "            color:  #f1f1f1;\n",
       "        }    #T_aa65709c_4e94_11ea_866a_acd5647de6d0row12_col1 {\n",
       "            background-color:  #3d50c3;\n",
       "            color:  #f1f1f1;\n",
       "        }    #T_aa65709c_4e94_11ea_866a_acd5647de6d0row12_col2 {\n",
       "            background-color:  #445acc;\n",
       "            color:  #f1f1f1;\n",
       "        }    #T_aa65709c_4e94_11ea_866a_acd5647de6d0row12_col3 {\n",
       "            background-color:  #7597f6;\n",
       "            color:  #000000;\n",
       "        }    #T_aa65709c_4e94_11ea_866a_acd5647de6d0row12_col4 {\n",
       "            background-color:  #7396f5;\n",
       "            color:  #000000;\n",
       "        }    #T_aa65709c_4e94_11ea_866a_acd5647de6d0row12_col5 {\n",
       "            background-color:  #7093f3;\n",
       "            color:  #000000;\n",
       "        }    #T_aa65709c_4e94_11ea_866a_acd5647de6d0row12_col6 {\n",
       "            background-color:  #7093f3;\n",
       "            color:  #000000;\n",
       "        }    #T_aa65709c_4e94_11ea_866a_acd5647de6d0row12_col7 {\n",
       "            background-color:  #3b4cc0;\n",
       "            color:  #f1f1f1;\n",
       "        }    #T_aa65709c_4e94_11ea_866a_acd5647de6d0row12_col8 {\n",
       "            background-color:  #7093f3;\n",
       "            color:  #000000;\n",
       "        }    #T_aa65709c_4e94_11ea_866a_acd5647de6d0row12_col9 {\n",
       "            background-color:  #7093f3;\n",
       "            color:  #000000;\n",
       "        }    #T_aa65709c_4e94_11ea_866a_acd5647de6d0row12_col10 {\n",
       "            background-color:  #3e51c5;\n",
       "            color:  #f1f1f1;\n",
       "        }    #T_aa65709c_4e94_11ea_866a_acd5647de6d0row12_col11 {\n",
       "            background-color:  #3b4cc0;\n",
       "            color:  #f1f1f1;\n",
       "        }    #T_aa65709c_4e94_11ea_866a_acd5647de6d0row12_col12 {\n",
       "            background-color:  #b40426;\n",
       "            color:  #f1f1f1;\n",
       "        }    #T_aa65709c_4e94_11ea_866a_acd5647de6d0row12_col13 {\n",
       "            background-color:  #3b4cc0;\n",
       "            color:  #f1f1f1;\n",
       "        }    #T_aa65709c_4e94_11ea_866a_acd5647de6d0row12_col14 {\n",
       "            background-color:  #84a7fc;\n",
       "            color:  #000000;\n",
       "        }    #T_aa65709c_4e94_11ea_866a_acd5647de6d0row12_col15 {\n",
       "            background-color:  #84a7fc;\n",
       "            color:  #000000;\n",
       "        }    #T_aa65709c_4e94_11ea_866a_acd5647de6d0row12_col16 {\n",
       "            background-color:  #84a7fc;\n",
       "            color:  #000000;\n",
       "        }    #T_aa65709c_4e94_11ea_866a_acd5647de6d0row12_col17 {\n",
       "            background-color:  #84a7fc;\n",
       "            color:  #000000;\n",
       "        }    #T_aa65709c_4e94_11ea_866a_acd5647de6d0row12_col18 {\n",
       "            background-color:  #84a7fc;\n",
       "            color:  #000000;\n",
       "        }    #T_aa65709c_4e94_11ea_866a_acd5647de6d0row13_col0 {\n",
       "            background-color:  #3d50c3;\n",
       "            color:  #f1f1f1;\n",
       "        }    #T_aa65709c_4e94_11ea_866a_acd5647de6d0row13_col1 {\n",
       "            background-color:  #3d50c3;\n",
       "            color:  #f1f1f1;\n",
       "        }    #T_aa65709c_4e94_11ea_866a_acd5647de6d0row13_col2 {\n",
       "            background-color:  #445acc;\n",
       "            color:  #f1f1f1;\n",
       "        }    #T_aa65709c_4e94_11ea_866a_acd5647de6d0row13_col3 {\n",
       "            background-color:  #7597f6;\n",
       "            color:  #000000;\n",
       "        }    #T_aa65709c_4e94_11ea_866a_acd5647de6d0row13_col4 {\n",
       "            background-color:  #7396f5;\n",
       "            color:  #000000;\n",
       "        }    #T_aa65709c_4e94_11ea_866a_acd5647de6d0row13_col5 {\n",
       "            background-color:  #7093f3;\n",
       "            color:  #000000;\n",
       "        }    #T_aa65709c_4e94_11ea_866a_acd5647de6d0row13_col6 {\n",
       "            background-color:  #7093f3;\n",
       "            color:  #000000;\n",
       "        }    #T_aa65709c_4e94_11ea_866a_acd5647de6d0row13_col7 {\n",
       "            background-color:  #3b4cc0;\n",
       "            color:  #f1f1f1;\n",
       "        }    #T_aa65709c_4e94_11ea_866a_acd5647de6d0row13_col8 {\n",
       "            background-color:  #7093f3;\n",
       "            color:  #000000;\n",
       "        }    #T_aa65709c_4e94_11ea_866a_acd5647de6d0row13_col9 {\n",
       "            background-color:  #7093f3;\n",
       "            color:  #000000;\n",
       "        }    #T_aa65709c_4e94_11ea_866a_acd5647de6d0row13_col10 {\n",
       "            background-color:  #3e51c5;\n",
       "            color:  #f1f1f1;\n",
       "        }    #T_aa65709c_4e94_11ea_866a_acd5647de6d0row13_col11 {\n",
       "            background-color:  #3b4cc0;\n",
       "            color:  #f1f1f1;\n",
       "        }    #T_aa65709c_4e94_11ea_866a_acd5647de6d0row13_col12 {\n",
       "            background-color:  #3b4cc0;\n",
       "            color:  #f1f1f1;\n",
       "        }    #T_aa65709c_4e94_11ea_866a_acd5647de6d0row13_col13 {\n",
       "            background-color:  #b40426;\n",
       "            color:  #f1f1f1;\n",
       "        }    #T_aa65709c_4e94_11ea_866a_acd5647de6d0row13_col14 {\n",
       "            background-color:  #86a9fc;\n",
       "            color:  #000000;\n",
       "        }    #T_aa65709c_4e94_11ea_866a_acd5647de6d0row13_col15 {\n",
       "            background-color:  #86a9fc;\n",
       "            color:  #000000;\n",
       "        }    #T_aa65709c_4e94_11ea_866a_acd5647de6d0row13_col16 {\n",
       "            background-color:  #86a9fc;\n",
       "            color:  #000000;\n",
       "        }    #T_aa65709c_4e94_11ea_866a_acd5647de6d0row13_col17 {\n",
       "            background-color:  #86a9fc;\n",
       "            color:  #000000;\n",
       "        }    #T_aa65709c_4e94_11ea_866a_acd5647de6d0row13_col18 {\n",
       "            background-color:  #86a9fc;\n",
       "            color:  #000000;\n",
       "        }    #T_aa65709c_4e94_11ea_866a_acd5647de6d0row14_col0 {\n",
       "            background-color:  #b2ccfb;\n",
       "            color:  #000000;\n",
       "        }    #T_aa65709c_4e94_11ea_866a_acd5647de6d0row14_col1 {\n",
       "            background-color:  #a7c5fe;\n",
       "            color:  #000000;\n",
       "        }    #T_aa65709c_4e94_11ea_866a_acd5647de6d0row14_col2 {\n",
       "            background-color:  #485fd1;\n",
       "            color:  #f1f1f1;\n",
       "        }    #T_aa65709c_4e94_11ea_866a_acd5647de6d0row14_col3 {\n",
       "            background-color:  #3b4cc0;\n",
       "            color:  #f1f1f1;\n",
       "        }    #T_aa65709c_4e94_11ea_866a_acd5647de6d0row14_col4 {\n",
       "            background-color:  #3b4cc0;\n",
       "            color:  #f1f1f1;\n",
       "        }    #T_aa65709c_4e94_11ea_866a_acd5647de6d0row14_col5 {\n",
       "            background-color:  #6e90f2;\n",
       "            color:  #000000;\n",
       "        }    #T_aa65709c_4e94_11ea_866a_acd5647de6d0row14_col6 {\n",
       "            background-color:  #6e90f2;\n",
       "            color:  #000000;\n",
       "        }    #T_aa65709c_4e94_11ea_866a_acd5647de6d0row14_col7 {\n",
       "            background-color:  #445acc;\n",
       "            color:  #f1f1f1;\n",
       "        }    #T_aa65709c_4e94_11ea_866a_acd5647de6d0row14_col8 {\n",
       "            background-color:  #a1c0ff;\n",
       "            color:  #000000;\n",
       "        }    #T_aa65709c_4e94_11ea_866a_acd5647de6d0row14_col9 {\n",
       "            background-color:  #9abbff;\n",
       "            color:  #000000;\n",
       "        }    #T_aa65709c_4e94_11ea_866a_acd5647de6d0row14_col10 {\n",
       "            background-color:  #3b4cc0;\n",
       "            color:  #f1f1f1;\n",
       "        }    #T_aa65709c_4e94_11ea_866a_acd5647de6d0row14_col11 {\n",
       "            background-color:  #3b4cc0;\n",
       "            color:  #f1f1f1;\n",
       "        }    #T_aa65709c_4e94_11ea_866a_acd5647de6d0row14_col12 {\n",
       "            background-color:  #4a63d3;\n",
       "            color:  #f1f1f1;\n",
       "        }    #T_aa65709c_4e94_11ea_866a_acd5647de6d0row14_col13 {\n",
       "            background-color:  #4e68d8;\n",
       "            color:  #000000;\n",
       "        }    #T_aa65709c_4e94_11ea_866a_acd5647de6d0row14_col14 {\n",
       "            background-color:  #b40426;\n",
       "            color:  #f1f1f1;\n",
       "        }    #T_aa65709c_4e94_11ea_866a_acd5647de6d0row14_col15 {\n",
       "            background-color:  #b40426;\n",
       "            color:  #f1f1f1;\n",
       "        }    #T_aa65709c_4e94_11ea_866a_acd5647de6d0row14_col16 {\n",
       "            background-color:  #b40426;\n",
       "            color:  #f1f1f1;\n",
       "        }    #T_aa65709c_4e94_11ea_866a_acd5647de6d0row14_col17 {\n",
       "            background-color:  #b40426;\n",
       "            color:  #f1f1f1;\n",
       "        }    #T_aa65709c_4e94_11ea_866a_acd5647de6d0row14_col18 {\n",
       "            background-color:  #b40426;\n",
       "            color:  #f1f1f1;\n",
       "        }    #T_aa65709c_4e94_11ea_866a_acd5647de6d0row15_col0 {\n",
       "            background-color:  #b2ccfb;\n",
       "            color:  #000000;\n",
       "        }    #T_aa65709c_4e94_11ea_866a_acd5647de6d0row15_col1 {\n",
       "            background-color:  #a7c5fe;\n",
       "            color:  #000000;\n",
       "        }    #T_aa65709c_4e94_11ea_866a_acd5647de6d0row15_col2 {\n",
       "            background-color:  #485fd1;\n",
       "            color:  #f1f1f1;\n",
       "        }    #T_aa65709c_4e94_11ea_866a_acd5647de6d0row15_col3 {\n",
       "            background-color:  #3b4cc0;\n",
       "            color:  #f1f1f1;\n",
       "        }    #T_aa65709c_4e94_11ea_866a_acd5647de6d0row15_col4 {\n",
       "            background-color:  #3b4cc0;\n",
       "            color:  #f1f1f1;\n",
       "        }    #T_aa65709c_4e94_11ea_866a_acd5647de6d0row15_col5 {\n",
       "            background-color:  #6e90f2;\n",
       "            color:  #000000;\n",
       "        }    #T_aa65709c_4e94_11ea_866a_acd5647de6d0row15_col6 {\n",
       "            background-color:  #6e90f2;\n",
       "            color:  #000000;\n",
       "        }    #T_aa65709c_4e94_11ea_866a_acd5647de6d0row15_col7 {\n",
       "            background-color:  #445acc;\n",
       "            color:  #f1f1f1;\n",
       "        }    #T_aa65709c_4e94_11ea_866a_acd5647de6d0row15_col8 {\n",
       "            background-color:  #a1c0ff;\n",
       "            color:  #000000;\n",
       "        }    #T_aa65709c_4e94_11ea_866a_acd5647de6d0row15_col9 {\n",
       "            background-color:  #9abbff;\n",
       "            color:  #000000;\n",
       "        }    #T_aa65709c_4e94_11ea_866a_acd5647de6d0row15_col10 {\n",
       "            background-color:  #3b4cc0;\n",
       "            color:  #f1f1f1;\n",
       "        }    #T_aa65709c_4e94_11ea_866a_acd5647de6d0row15_col11 {\n",
       "            background-color:  #3b4cc0;\n",
       "            color:  #f1f1f1;\n",
       "        }    #T_aa65709c_4e94_11ea_866a_acd5647de6d0row15_col12 {\n",
       "            background-color:  #4a63d3;\n",
       "            color:  #f1f1f1;\n",
       "        }    #T_aa65709c_4e94_11ea_866a_acd5647de6d0row15_col13 {\n",
       "            background-color:  #4e68d8;\n",
       "            color:  #000000;\n",
       "        }    #T_aa65709c_4e94_11ea_866a_acd5647de6d0row15_col14 {\n",
       "            background-color:  #b40426;\n",
       "            color:  #f1f1f1;\n",
       "        }    #T_aa65709c_4e94_11ea_866a_acd5647de6d0row15_col15 {\n",
       "            background-color:  #b40426;\n",
       "            color:  #f1f1f1;\n",
       "        }    #T_aa65709c_4e94_11ea_866a_acd5647de6d0row15_col16 {\n",
       "            background-color:  #b40426;\n",
       "            color:  #f1f1f1;\n",
       "        }    #T_aa65709c_4e94_11ea_866a_acd5647de6d0row15_col17 {\n",
       "            background-color:  #b40426;\n",
       "            color:  #f1f1f1;\n",
       "        }    #T_aa65709c_4e94_11ea_866a_acd5647de6d0row15_col18 {\n",
       "            background-color:  #b40426;\n",
       "            color:  #f1f1f1;\n",
       "        }    #T_aa65709c_4e94_11ea_866a_acd5647de6d0row16_col0 {\n",
       "            background-color:  #b2ccfb;\n",
       "            color:  #000000;\n",
       "        }    #T_aa65709c_4e94_11ea_866a_acd5647de6d0row16_col1 {\n",
       "            background-color:  #a7c5fe;\n",
       "            color:  #000000;\n",
       "        }    #T_aa65709c_4e94_11ea_866a_acd5647de6d0row16_col2 {\n",
       "            background-color:  #485fd1;\n",
       "            color:  #f1f1f1;\n",
       "        }    #T_aa65709c_4e94_11ea_866a_acd5647de6d0row16_col3 {\n",
       "            background-color:  #3b4cc0;\n",
       "            color:  #f1f1f1;\n",
       "        }    #T_aa65709c_4e94_11ea_866a_acd5647de6d0row16_col4 {\n",
       "            background-color:  #3b4cc0;\n",
       "            color:  #f1f1f1;\n",
       "        }    #T_aa65709c_4e94_11ea_866a_acd5647de6d0row16_col5 {\n",
       "            background-color:  #6e90f2;\n",
       "            color:  #000000;\n",
       "        }    #T_aa65709c_4e94_11ea_866a_acd5647de6d0row16_col6 {\n",
       "            background-color:  #6e90f2;\n",
       "            color:  #000000;\n",
       "        }    #T_aa65709c_4e94_11ea_866a_acd5647de6d0row16_col7 {\n",
       "            background-color:  #445acc;\n",
       "            color:  #f1f1f1;\n",
       "        }    #T_aa65709c_4e94_11ea_866a_acd5647de6d0row16_col8 {\n",
       "            background-color:  #a1c0ff;\n",
       "            color:  #000000;\n",
       "        }    #T_aa65709c_4e94_11ea_866a_acd5647de6d0row16_col9 {\n",
       "            background-color:  #9abbff;\n",
       "            color:  #000000;\n",
       "        }    #T_aa65709c_4e94_11ea_866a_acd5647de6d0row16_col10 {\n",
       "            background-color:  #3b4cc0;\n",
       "            color:  #f1f1f1;\n",
       "        }    #T_aa65709c_4e94_11ea_866a_acd5647de6d0row16_col11 {\n",
       "            background-color:  #3b4cc0;\n",
       "            color:  #f1f1f1;\n",
       "        }    #T_aa65709c_4e94_11ea_866a_acd5647de6d0row16_col12 {\n",
       "            background-color:  #4a63d3;\n",
       "            color:  #f1f1f1;\n",
       "        }    #T_aa65709c_4e94_11ea_866a_acd5647de6d0row16_col13 {\n",
       "            background-color:  #4e68d8;\n",
       "            color:  #000000;\n",
       "        }    #T_aa65709c_4e94_11ea_866a_acd5647de6d0row16_col14 {\n",
       "            background-color:  #b40426;\n",
       "            color:  #f1f1f1;\n",
       "        }    #T_aa65709c_4e94_11ea_866a_acd5647de6d0row16_col15 {\n",
       "            background-color:  #b40426;\n",
       "            color:  #f1f1f1;\n",
       "        }    #T_aa65709c_4e94_11ea_866a_acd5647de6d0row16_col16 {\n",
       "            background-color:  #b40426;\n",
       "            color:  #f1f1f1;\n",
       "        }    #T_aa65709c_4e94_11ea_866a_acd5647de6d0row16_col17 {\n",
       "            background-color:  #b40426;\n",
       "            color:  #f1f1f1;\n",
       "        }    #T_aa65709c_4e94_11ea_866a_acd5647de6d0row16_col18 {\n",
       "            background-color:  #b40426;\n",
       "            color:  #f1f1f1;\n",
       "        }    #T_aa65709c_4e94_11ea_866a_acd5647de6d0row17_col0 {\n",
       "            background-color:  #b2ccfb;\n",
       "            color:  #000000;\n",
       "        }    #T_aa65709c_4e94_11ea_866a_acd5647de6d0row17_col1 {\n",
       "            background-color:  #a7c5fe;\n",
       "            color:  #000000;\n",
       "        }    #T_aa65709c_4e94_11ea_866a_acd5647de6d0row17_col2 {\n",
       "            background-color:  #485fd1;\n",
       "            color:  #f1f1f1;\n",
       "        }    #T_aa65709c_4e94_11ea_866a_acd5647de6d0row17_col3 {\n",
       "            background-color:  #3b4cc0;\n",
       "            color:  #f1f1f1;\n",
       "        }    #T_aa65709c_4e94_11ea_866a_acd5647de6d0row17_col4 {\n",
       "            background-color:  #3b4cc0;\n",
       "            color:  #f1f1f1;\n",
       "        }    #T_aa65709c_4e94_11ea_866a_acd5647de6d0row17_col5 {\n",
       "            background-color:  #6e90f2;\n",
       "            color:  #000000;\n",
       "        }    #T_aa65709c_4e94_11ea_866a_acd5647de6d0row17_col6 {\n",
       "            background-color:  #6e90f2;\n",
       "            color:  #000000;\n",
       "        }    #T_aa65709c_4e94_11ea_866a_acd5647de6d0row17_col7 {\n",
       "            background-color:  #445acc;\n",
       "            color:  #f1f1f1;\n",
       "        }    #T_aa65709c_4e94_11ea_866a_acd5647de6d0row17_col8 {\n",
       "            background-color:  #a1c0ff;\n",
       "            color:  #000000;\n",
       "        }    #T_aa65709c_4e94_11ea_866a_acd5647de6d0row17_col9 {\n",
       "            background-color:  #9abbff;\n",
       "            color:  #000000;\n",
       "        }    #T_aa65709c_4e94_11ea_866a_acd5647de6d0row17_col10 {\n",
       "            background-color:  #3b4cc0;\n",
       "            color:  #f1f1f1;\n",
       "        }    #T_aa65709c_4e94_11ea_866a_acd5647de6d0row17_col11 {\n",
       "            background-color:  #3b4cc0;\n",
       "            color:  #f1f1f1;\n",
       "        }    #T_aa65709c_4e94_11ea_866a_acd5647de6d0row17_col12 {\n",
       "            background-color:  #4a63d3;\n",
       "            color:  #f1f1f1;\n",
       "        }    #T_aa65709c_4e94_11ea_866a_acd5647de6d0row17_col13 {\n",
       "            background-color:  #4e68d8;\n",
       "            color:  #000000;\n",
       "        }    #T_aa65709c_4e94_11ea_866a_acd5647de6d0row17_col14 {\n",
       "            background-color:  #b40426;\n",
       "            color:  #f1f1f1;\n",
       "        }    #T_aa65709c_4e94_11ea_866a_acd5647de6d0row17_col15 {\n",
       "            background-color:  #b40426;\n",
       "            color:  #f1f1f1;\n",
       "        }    #T_aa65709c_4e94_11ea_866a_acd5647de6d0row17_col16 {\n",
       "            background-color:  #b40426;\n",
       "            color:  #f1f1f1;\n",
       "        }    #T_aa65709c_4e94_11ea_866a_acd5647de6d0row17_col17 {\n",
       "            background-color:  #b40426;\n",
       "            color:  #f1f1f1;\n",
       "        }    #T_aa65709c_4e94_11ea_866a_acd5647de6d0row17_col18 {\n",
       "            background-color:  #b40426;\n",
       "            color:  #f1f1f1;\n",
       "        }    #T_aa65709c_4e94_11ea_866a_acd5647de6d0row18_col0 {\n",
       "            background-color:  #b2ccfb;\n",
       "            color:  #000000;\n",
       "        }    #T_aa65709c_4e94_11ea_866a_acd5647de6d0row18_col1 {\n",
       "            background-color:  #a7c5fe;\n",
       "            color:  #000000;\n",
       "        }    #T_aa65709c_4e94_11ea_866a_acd5647de6d0row18_col2 {\n",
       "            background-color:  #485fd1;\n",
       "            color:  #f1f1f1;\n",
       "        }    #T_aa65709c_4e94_11ea_866a_acd5647de6d0row18_col3 {\n",
       "            background-color:  #3b4cc0;\n",
       "            color:  #f1f1f1;\n",
       "        }    #T_aa65709c_4e94_11ea_866a_acd5647de6d0row18_col4 {\n",
       "            background-color:  #3b4cc0;\n",
       "            color:  #f1f1f1;\n",
       "        }    #T_aa65709c_4e94_11ea_866a_acd5647de6d0row18_col5 {\n",
       "            background-color:  #6e90f2;\n",
       "            color:  #000000;\n",
       "        }    #T_aa65709c_4e94_11ea_866a_acd5647de6d0row18_col6 {\n",
       "            background-color:  #6e90f2;\n",
       "            color:  #000000;\n",
       "        }    #T_aa65709c_4e94_11ea_866a_acd5647de6d0row18_col7 {\n",
       "            background-color:  #445acc;\n",
       "            color:  #f1f1f1;\n",
       "        }    #T_aa65709c_4e94_11ea_866a_acd5647de6d0row18_col8 {\n",
       "            background-color:  #a1c0ff;\n",
       "            color:  #000000;\n",
       "        }    #T_aa65709c_4e94_11ea_866a_acd5647de6d0row18_col9 {\n",
       "            background-color:  #9abbff;\n",
       "            color:  #000000;\n",
       "        }    #T_aa65709c_4e94_11ea_866a_acd5647de6d0row18_col10 {\n",
       "            background-color:  #3b4cc0;\n",
       "            color:  #f1f1f1;\n",
       "        }    #T_aa65709c_4e94_11ea_866a_acd5647de6d0row18_col11 {\n",
       "            background-color:  #3b4cc0;\n",
       "            color:  #f1f1f1;\n",
       "        }    #T_aa65709c_4e94_11ea_866a_acd5647de6d0row18_col12 {\n",
       "            background-color:  #4a63d3;\n",
       "            color:  #f1f1f1;\n",
       "        }    #T_aa65709c_4e94_11ea_866a_acd5647de6d0row18_col13 {\n",
       "            background-color:  #4e68d8;\n",
       "            color:  #000000;\n",
       "        }    #T_aa65709c_4e94_11ea_866a_acd5647de6d0row18_col14 {\n",
       "            background-color:  #b40426;\n",
       "            color:  #f1f1f1;\n",
       "        }    #T_aa65709c_4e94_11ea_866a_acd5647de6d0row18_col15 {\n",
       "            background-color:  #b40426;\n",
       "            color:  #f1f1f1;\n",
       "        }    #T_aa65709c_4e94_11ea_866a_acd5647de6d0row18_col16 {\n",
       "            background-color:  #b40426;\n",
       "            color:  #f1f1f1;\n",
       "        }    #T_aa65709c_4e94_11ea_866a_acd5647de6d0row18_col17 {\n",
       "            background-color:  #b40426;\n",
       "            color:  #f1f1f1;\n",
       "        }    #T_aa65709c_4e94_11ea_866a_acd5647de6d0row18_col18 {\n",
       "            background-color:  #b40426;\n",
       "            color:  #f1f1f1;\n",
       "        }</style><table id=\"T_aa65709c_4e94_11ea_866a_acd5647de6d0\" ><thead>    <tr>        <th class=\"blank level0\" ></th>        <th class=\"col_heading level0 col0\" >MWG</th>        <th class=\"col_heading level0 col1\" >NWG</th>        <th class=\"col_heading level0 col2\" >KWG</th>        <th class=\"col_heading level0 col3\" >MDIMC</th>        <th class=\"col_heading level0 col4\" >NDIMC</th>        <th class=\"col_heading level0 col5\" >MDIMA</th>        <th class=\"col_heading level0 col6\" >NDIMB</th>        <th class=\"col_heading level0 col7\" >KWI</th>        <th class=\"col_heading level0 col8\" >VWM</th>        <th class=\"col_heading level0 col9\" >VWN</th>        <th class=\"col_heading level0 col10\" >STRM</th>        <th class=\"col_heading level0 col11\" >STRN</th>        <th class=\"col_heading level0 col12\" >SA</th>        <th class=\"col_heading level0 col13\" >SB</th>        <th class=\"col_heading level0 col14\" >Run1 (ms)</th>        <th class=\"col_heading level0 col15\" >Run2 (ms)</th>        <th class=\"col_heading level0 col16\" >Run3 (ms)</th>        <th class=\"col_heading level0 col17\" >Run4 (ms)</th>        <th class=\"col_heading level0 col18\" >Avg_run</th>    </tr></thead><tbody>\n",
       "                <tr>\n",
       "                        <th id=\"T_aa65709c_4e94_11ea_866a_acd5647de6d0level0_row0\" class=\"row_heading level0 row0\" >MWG</th>\n",
       "                        <td id=\"T_aa65709c_4e94_11ea_866a_acd5647de6d0row0_col0\" class=\"data row0 col0\" >1</td>\n",
       "                        <td id=\"T_aa65709c_4e94_11ea_866a_acd5647de6d0row0_col1\" class=\"data row0 col1\" >0.0006</td>\n",
       "                        <td id=\"T_aa65709c_4e94_11ea_866a_acd5647de6d0row0_col2\" class=\"data row0 col2\" >0.0093</td>\n",
       "                        <td id=\"T_aa65709c_4e94_11ea_866a_acd5647de6d0row0_col3\" class=\"data row0 col3\" >0.106</td>\n",
       "                        <td id=\"T_aa65709c_4e94_11ea_866a_acd5647de6d0row0_col4\" class=\"data row0 col4\" >-0.00859</td>\n",
       "                        <td id=\"T_aa65709c_4e94_11ea_866a_acd5647de6d0row0_col5\" class=\"data row0 col5\" >0.159</td>\n",
       "                        <td id=\"T_aa65709c_4e94_11ea_866a_acd5647de6d0row0_col6\" class=\"data row0 col6\" >0.0149</td>\n",
       "                        <td id=\"T_aa65709c_4e94_11ea_866a_acd5647de6d0row0_col7\" class=\"data row0 col7\" >1.48e-19</td>\n",
       "                        <td id=\"T_aa65709c_4e94_11ea_866a_acd5647de6d0row0_col8\" class=\"data row0 col8\" >0.354</td>\n",
       "                        <td id=\"T_aa65709c_4e94_11ea_866a_acd5647de6d0row0_col9\" class=\"data row0 col9\" >-0.000841</td>\n",
       "                        <td id=\"T_aa65709c_4e94_11ea_866a_acd5647de6d0row0_col10\" class=\"data row0 col10\" >6.93e-21</td>\n",
       "                        <td id=\"T_aa65709c_4e94_11ea_866a_acd5647de6d0row0_col11\" class=\"data row0 col11\" >1.39e-21</td>\n",
       "                        <td id=\"T_aa65709c_4e94_11ea_866a_acd5647de6d0row0_col12\" class=\"data row0 col12\" >0</td>\n",
       "                        <td id=\"T_aa65709c_4e94_11ea_866a_acd5647de6d0row0_col13\" class=\"data row0 col13\" >0</td>\n",
       "                        <td id=\"T_aa65709c_4e94_11ea_866a_acd5647de6d0row0_col14\" class=\"data row0 col14\" >0.352</td>\n",
       "                        <td id=\"T_aa65709c_4e94_11ea_866a_acd5647de6d0row0_col15\" class=\"data row0 col15\" >0.352</td>\n",
       "                        <td id=\"T_aa65709c_4e94_11ea_866a_acd5647de6d0row0_col16\" class=\"data row0 col16\" >0.352</td>\n",
       "                        <td id=\"T_aa65709c_4e94_11ea_866a_acd5647de6d0row0_col17\" class=\"data row0 col17\" >0.352</td>\n",
       "                        <td id=\"T_aa65709c_4e94_11ea_866a_acd5647de6d0row0_col18\" class=\"data row0 col18\" >0.352</td>\n",
       "            </tr>\n",
       "            <tr>\n",
       "                        <th id=\"T_aa65709c_4e94_11ea_866a_acd5647de6d0level0_row1\" class=\"row_heading level0 row1\" >NWG</th>\n",
       "                        <td id=\"T_aa65709c_4e94_11ea_866a_acd5647de6d0row1_col0\" class=\"data row1 col0\" >0.0006</td>\n",
       "                        <td id=\"T_aa65709c_4e94_11ea_866a_acd5647de6d0row1_col1\" class=\"data row1 col1\" >1</td>\n",
       "                        <td id=\"T_aa65709c_4e94_11ea_866a_acd5647de6d0row1_col2\" class=\"data row1 col2\" >0.0093</td>\n",
       "                        <td id=\"T_aa65709c_4e94_11ea_866a_acd5647de6d0row1_col3\" class=\"data row1 col3\" >-0.00859</td>\n",
       "                        <td id=\"T_aa65709c_4e94_11ea_866a_acd5647de6d0row1_col4\" class=\"data row1 col4\" >0.106</td>\n",
       "                        <td id=\"T_aa65709c_4e94_11ea_866a_acd5647de6d0row1_col5\" class=\"data row1 col5\" >0.0149</td>\n",
       "                        <td id=\"T_aa65709c_4e94_11ea_866a_acd5647de6d0row1_col6\" class=\"data row1 col6\" >0.159</td>\n",
       "                        <td id=\"T_aa65709c_4e94_11ea_866a_acd5647de6d0row1_col7\" class=\"data row1 col7\" >8.57e-19</td>\n",
       "                        <td id=\"T_aa65709c_4e94_11ea_866a_acd5647de6d0row1_col8\" class=\"data row1 col8\" >-0.000841</td>\n",
       "                        <td id=\"T_aa65709c_4e94_11ea_866a_acd5647de6d0row1_col9\" class=\"data row1 col9\" >0.354</td>\n",
       "                        <td id=\"T_aa65709c_4e94_11ea_866a_acd5647de6d0row1_col10\" class=\"data row1 col10\" >6.93e-21</td>\n",
       "                        <td id=\"T_aa65709c_4e94_11ea_866a_acd5647de6d0row1_col11\" class=\"data row1 col11\" >1.39e-21</td>\n",
       "                        <td id=\"T_aa65709c_4e94_11ea_866a_acd5647de6d0row1_col12\" class=\"data row1 col12\" >0</td>\n",
       "                        <td id=\"T_aa65709c_4e94_11ea_866a_acd5647de6d0row1_col13\" class=\"data row1 col13\" >0</td>\n",
       "                        <td id=\"T_aa65709c_4e94_11ea_866a_acd5647de6d0row1_col14\" class=\"data row1 col14\" >0.32</td>\n",
       "                        <td id=\"T_aa65709c_4e94_11ea_866a_acd5647de6d0row1_col15\" class=\"data row1 col15\" >0.32</td>\n",
       "                        <td id=\"T_aa65709c_4e94_11ea_866a_acd5647de6d0row1_col16\" class=\"data row1 col16\" >0.321</td>\n",
       "                        <td id=\"T_aa65709c_4e94_11ea_866a_acd5647de6d0row1_col17\" class=\"data row1 col17\" >0.32</td>\n",
       "                        <td id=\"T_aa65709c_4e94_11ea_866a_acd5647de6d0row1_col18\" class=\"data row1 col18\" >0.32</td>\n",
       "            </tr>\n",
       "            <tr>\n",
       "                        <th id=\"T_aa65709c_4e94_11ea_866a_acd5647de6d0level0_row2\" class=\"row_heading level0 row2\" >KWG</th>\n",
       "                        <td id=\"T_aa65709c_4e94_11ea_866a_acd5647de6d0row2_col0\" class=\"data row2 col0\" >0.0093</td>\n",
       "                        <td id=\"T_aa65709c_4e94_11ea_866a_acd5647de6d0row2_col1\" class=\"data row2 col1\" >0.0093</td>\n",
       "                        <td id=\"T_aa65709c_4e94_11ea_866a_acd5647de6d0row2_col2\" class=\"data row2 col2\" >1</td>\n",
       "                        <td id=\"T_aa65709c_4e94_11ea_866a_acd5647de6d0row2_col3\" class=\"data row2 col3\" >0.148</td>\n",
       "                        <td id=\"T_aa65709c_4e94_11ea_866a_acd5647de6d0row2_col4\" class=\"data row2 col4\" >0.148</td>\n",
       "                        <td id=\"T_aa65709c_4e94_11ea_866a_acd5647de6d0row2_col5\" class=\"data row2 col5\" >-0.0346</td>\n",
       "                        <td id=\"T_aa65709c_4e94_11ea_866a_acd5647de6d0row2_col6\" class=\"data row2 col6\" >-0.0346</td>\n",
       "                        <td id=\"T_aa65709c_4e94_11ea_866a_acd5647de6d0row2_col7\" class=\"data row2 col7\" >-1.81e-19</td>\n",
       "                        <td id=\"T_aa65709c_4e94_11ea_866a_acd5647de6d0row2_col8\" class=\"data row2 col8\" >-0.012</td>\n",
       "                        <td id=\"T_aa65709c_4e94_11ea_866a_acd5647de6d0row2_col9\" class=\"data row2 col9\" >-0.012</td>\n",
       "                        <td id=\"T_aa65709c_4e94_11ea_866a_acd5647de6d0row2_col10\" class=\"data row2 col10\" >1.87e-21</td>\n",
       "                        <td id=\"T_aa65709c_4e94_11ea_866a_acd5647de6d0row2_col11\" class=\"data row2 col11\" >0</td>\n",
       "                        <td id=\"T_aa65709c_4e94_11ea_866a_acd5647de6d0row2_col12\" class=\"data row2 col12\" >0</td>\n",
       "                        <td id=\"T_aa65709c_4e94_11ea_866a_acd5647de6d0row2_col13\" class=\"data row2 col13\" >0</td>\n",
       "                        <td id=\"T_aa65709c_4e94_11ea_866a_acd5647de6d0row2_col14\" class=\"data row2 col14\" >0.0115</td>\n",
       "                        <td id=\"T_aa65709c_4e94_11ea_866a_acd5647de6d0row2_col15\" class=\"data row2 col15\" >0.0111</td>\n",
       "                        <td id=\"T_aa65709c_4e94_11ea_866a_acd5647de6d0row2_col16\" class=\"data row2 col16\" >0.0112</td>\n",
       "                        <td id=\"T_aa65709c_4e94_11ea_866a_acd5647de6d0row2_col17\" class=\"data row2 col17\" >0.0111</td>\n",
       "                        <td id=\"T_aa65709c_4e94_11ea_866a_acd5647de6d0row2_col18\" class=\"data row2 col18\" >0.0112</td>\n",
       "            </tr>\n",
       "            <tr>\n",
       "                        <th id=\"T_aa65709c_4e94_11ea_866a_acd5647de6d0level0_row3\" class=\"row_heading level0 row3\" >MDIMC</th>\n",
       "                        <td id=\"T_aa65709c_4e94_11ea_866a_acd5647de6d0row3_col0\" class=\"data row3 col0\" >0.106</td>\n",
       "                        <td id=\"T_aa65709c_4e94_11ea_866a_acd5647de6d0row3_col1\" class=\"data row3 col1\" >-0.00859</td>\n",
       "                        <td id=\"T_aa65709c_4e94_11ea_866a_acd5647de6d0row3_col2\" class=\"data row3 col2\" >0.148</td>\n",
       "                        <td id=\"T_aa65709c_4e94_11ea_866a_acd5647de6d0row3_col3\" class=\"data row3 col3\" >1</td>\n",
       "                        <td id=\"T_aa65709c_4e94_11ea_866a_acd5647de6d0row3_col4\" class=\"data row3 col4\" >-0.21</td>\n",
       "                        <td id=\"T_aa65709c_4e94_11ea_866a_acd5647de6d0row3_col5\" class=\"data row3 col5\" >0.197</td>\n",
       "                        <td id=\"T_aa65709c_4e94_11ea_866a_acd5647de6d0row3_col6\" class=\"data row3 col6\" >0.0846</td>\n",
       "                        <td id=\"T_aa65709c_4e94_11ea_866a_acd5647de6d0row3_col7\" class=\"data row3 col7\" >-3.18e-18</td>\n",
       "                        <td id=\"T_aa65709c_4e94_11ea_866a_acd5647de6d0row3_col8\" class=\"data row3 col8\" >-0.134</td>\n",
       "                        <td id=\"T_aa65709c_4e94_11ea_866a_acd5647de6d0row3_col9\" class=\"data row3 col9\" >0.0105</td>\n",
       "                        <td id=\"T_aa65709c_4e94_11ea_866a_acd5647de6d0row3_col10\" class=\"data row3 col10\" >-1.12e-20</td>\n",
       "                        <td id=\"T_aa65709c_4e94_11ea_866a_acd5647de6d0row3_col11\" class=\"data row3 col11\" >-3.74e-21</td>\n",
       "                        <td id=\"T_aa65709c_4e94_11ea_866a_acd5647de6d0row3_col12\" class=\"data row3 col12\" >0</td>\n",
       "                        <td id=\"T_aa65709c_4e94_11ea_866a_acd5647de6d0row3_col13\" class=\"data row3 col13\" >0</td>\n",
       "                        <td id=\"T_aa65709c_4e94_11ea_866a_acd5647de6d0row3_col14\" class=\"data row3 col14\" >-0.221</td>\n",
       "                        <td id=\"T_aa65709c_4e94_11ea_866a_acd5647de6d0row3_col15\" class=\"data row3 col15\" >-0.221</td>\n",
       "                        <td id=\"T_aa65709c_4e94_11ea_866a_acd5647de6d0row3_col16\" class=\"data row3 col16\" >-0.221</td>\n",
       "                        <td id=\"T_aa65709c_4e94_11ea_866a_acd5647de6d0row3_col17\" class=\"data row3 col17\" >-0.221</td>\n",
       "                        <td id=\"T_aa65709c_4e94_11ea_866a_acd5647de6d0row3_col18\" class=\"data row3 col18\" >-0.221</td>\n",
       "            </tr>\n",
       "            <tr>\n",
       "                        <th id=\"T_aa65709c_4e94_11ea_866a_acd5647de6d0level0_row4\" class=\"row_heading level0 row4\" >NDIMC</th>\n",
       "                        <td id=\"T_aa65709c_4e94_11ea_866a_acd5647de6d0row4_col0\" class=\"data row4 col0\" >-0.00859</td>\n",
       "                        <td id=\"T_aa65709c_4e94_11ea_866a_acd5647de6d0row4_col1\" class=\"data row4 col1\" >0.106</td>\n",
       "                        <td id=\"T_aa65709c_4e94_11ea_866a_acd5647de6d0row4_col2\" class=\"data row4 col2\" >0.148</td>\n",
       "                        <td id=\"T_aa65709c_4e94_11ea_866a_acd5647de6d0row4_col3\" class=\"data row4 col3\" >-0.21</td>\n",
       "                        <td id=\"T_aa65709c_4e94_11ea_866a_acd5647de6d0row4_col4\" class=\"data row4 col4\" >1</td>\n",
       "                        <td id=\"T_aa65709c_4e94_11ea_866a_acd5647de6d0row4_col5\" class=\"data row4 col5\" >0.0846</td>\n",
       "                        <td id=\"T_aa65709c_4e94_11ea_866a_acd5647de6d0row4_col6\" class=\"data row4 col6\" >0.197</td>\n",
       "                        <td id=\"T_aa65709c_4e94_11ea_866a_acd5647de6d0row4_col7\" class=\"data row4 col7\" >-5.25e-18</td>\n",
       "                        <td id=\"T_aa65709c_4e94_11ea_866a_acd5647de6d0row4_col8\" class=\"data row4 col8\" >0.0105</td>\n",
       "                        <td id=\"T_aa65709c_4e94_11ea_866a_acd5647de6d0row4_col9\" class=\"data row4 col9\" >-0.134</td>\n",
       "                        <td id=\"T_aa65709c_4e94_11ea_866a_acd5647de6d0row4_col10\" class=\"data row4 col10\" >-1.12e-20</td>\n",
       "                        <td id=\"T_aa65709c_4e94_11ea_866a_acd5647de6d0row4_col11\" class=\"data row4 col11\" >-3.74e-21</td>\n",
       "                        <td id=\"T_aa65709c_4e94_11ea_866a_acd5647de6d0row4_col12\" class=\"data row4 col12\" >0</td>\n",
       "                        <td id=\"T_aa65709c_4e94_11ea_866a_acd5647de6d0row4_col13\" class=\"data row4 col13\" >0</td>\n",
       "                        <td id=\"T_aa65709c_4e94_11ea_866a_acd5647de6d0row4_col14\" class=\"data row4 col14\" >-0.215</td>\n",
       "                        <td id=\"T_aa65709c_4e94_11ea_866a_acd5647de6d0row4_col15\" class=\"data row4 col15\" >-0.215</td>\n",
       "                        <td id=\"T_aa65709c_4e94_11ea_866a_acd5647de6d0row4_col16\" class=\"data row4 col16\" >-0.214</td>\n",
       "                        <td id=\"T_aa65709c_4e94_11ea_866a_acd5647de6d0row4_col17\" class=\"data row4 col17\" >-0.215</td>\n",
       "                        <td id=\"T_aa65709c_4e94_11ea_866a_acd5647de6d0row4_col18\" class=\"data row4 col18\" >-0.215</td>\n",
       "            </tr>\n",
       "            <tr>\n",
       "                        <th id=\"T_aa65709c_4e94_11ea_866a_acd5647de6d0level0_row5\" class=\"row_heading level0 row5\" >MDIMA</th>\n",
       "                        <td id=\"T_aa65709c_4e94_11ea_866a_acd5647de6d0row5_col0\" class=\"data row5 col0\" >0.159</td>\n",
       "                        <td id=\"T_aa65709c_4e94_11ea_866a_acd5647de6d0row5_col1\" class=\"data row5 col1\" >0.0149</td>\n",
       "                        <td id=\"T_aa65709c_4e94_11ea_866a_acd5647de6d0row5_col2\" class=\"data row5 col2\" >-0.0346</td>\n",
       "                        <td id=\"T_aa65709c_4e94_11ea_866a_acd5647de6d0row5_col3\" class=\"data row5 col3\" >0.197</td>\n",
       "                        <td id=\"T_aa65709c_4e94_11ea_866a_acd5647de6d0row5_col4\" class=\"data row5 col4\" >0.0846</td>\n",
       "                        <td id=\"T_aa65709c_4e94_11ea_866a_acd5647de6d0row5_col5\" class=\"data row5 col5\" >1</td>\n",
       "                        <td id=\"T_aa65709c_4e94_11ea_866a_acd5647de6d0row5_col6\" class=\"data row5 col6\" >0.0881</td>\n",
       "                        <td id=\"T_aa65709c_4e94_11ea_866a_acd5647de6d0row5_col7\" class=\"data row5 col7\" >-4.55e-18</td>\n",
       "                        <td id=\"T_aa65709c_4e94_11ea_866a_acd5647de6d0row5_col8\" class=\"data row5 col8\" >-0.203</td>\n",
       "                        <td id=\"T_aa65709c_4e94_11ea_866a_acd5647de6d0row5_col9\" class=\"data row5 col9\" >-0.019</td>\n",
       "                        <td id=\"T_aa65709c_4e94_11ea_866a_acd5647de6d0row5_col10\" class=\"data row5 col10\" >1.57e-21</td>\n",
       "                        <td id=\"T_aa65709c_4e94_11ea_866a_acd5647de6d0row5_col11\" class=\"data row5 col11\" >1.57e-21</td>\n",
       "                        <td id=\"T_aa65709c_4e94_11ea_866a_acd5647de6d0row5_col12\" class=\"data row5 col12\" >0</td>\n",
       "                        <td id=\"T_aa65709c_4e94_11ea_866a_acd5647de6d0row5_col13\" class=\"data row5 col13\" >0</td>\n",
       "                        <td id=\"T_aa65709c_4e94_11ea_866a_acd5647de6d0row5_col14\" class=\"data row5 col14\" >-0.00708</td>\n",
       "                        <td id=\"T_aa65709c_4e94_11ea_866a_acd5647de6d0row5_col15\" class=\"data row5 col15\" >-0.00705</td>\n",
       "                        <td id=\"T_aa65709c_4e94_11ea_866a_acd5647de6d0row5_col16\" class=\"data row5 col16\" >-0.007</td>\n",
       "                        <td id=\"T_aa65709c_4e94_11ea_866a_acd5647de6d0row5_col17\" class=\"data row5 col17\" >-0.00701</td>\n",
       "                        <td id=\"T_aa65709c_4e94_11ea_866a_acd5647de6d0row5_col18\" class=\"data row5 col18\" >-0.00704</td>\n",
       "            </tr>\n",
       "            <tr>\n",
       "                        <th id=\"T_aa65709c_4e94_11ea_866a_acd5647de6d0level0_row6\" class=\"row_heading level0 row6\" >NDIMB</th>\n",
       "                        <td id=\"T_aa65709c_4e94_11ea_866a_acd5647de6d0row6_col0\" class=\"data row6 col0\" >0.0149</td>\n",
       "                        <td id=\"T_aa65709c_4e94_11ea_866a_acd5647de6d0row6_col1\" class=\"data row6 col1\" >0.159</td>\n",
       "                        <td id=\"T_aa65709c_4e94_11ea_866a_acd5647de6d0row6_col2\" class=\"data row6 col2\" >-0.0346</td>\n",
       "                        <td id=\"T_aa65709c_4e94_11ea_866a_acd5647de6d0row6_col3\" class=\"data row6 col3\" >0.0846</td>\n",
       "                        <td id=\"T_aa65709c_4e94_11ea_866a_acd5647de6d0row6_col4\" class=\"data row6 col4\" >0.197</td>\n",
       "                        <td id=\"T_aa65709c_4e94_11ea_866a_acd5647de6d0row6_col5\" class=\"data row6 col5\" >0.0881</td>\n",
       "                        <td id=\"T_aa65709c_4e94_11ea_866a_acd5647de6d0row6_col6\" class=\"data row6 col6\" >1</td>\n",
       "                        <td id=\"T_aa65709c_4e94_11ea_866a_acd5647de6d0row6_col7\" class=\"data row6 col7\" >-1.08e-17</td>\n",
       "                        <td id=\"T_aa65709c_4e94_11ea_866a_acd5647de6d0row6_col8\" class=\"data row6 col8\" >-0.019</td>\n",
       "                        <td id=\"T_aa65709c_4e94_11ea_866a_acd5647de6d0row6_col9\" class=\"data row6 col9\" >-0.203</td>\n",
       "                        <td id=\"T_aa65709c_4e94_11ea_866a_acd5647de6d0row6_col10\" class=\"data row6 col10\" >1.57e-21</td>\n",
       "                        <td id=\"T_aa65709c_4e94_11ea_866a_acd5647de6d0row6_col11\" class=\"data row6 col11\" >1.57e-21</td>\n",
       "                        <td id=\"T_aa65709c_4e94_11ea_866a_acd5647de6d0row6_col12\" class=\"data row6 col12\" >0</td>\n",
       "                        <td id=\"T_aa65709c_4e94_11ea_866a_acd5647de6d0row6_col13\" class=\"data row6 col13\" >0</td>\n",
       "                        <td id=\"T_aa65709c_4e94_11ea_866a_acd5647de6d0row6_col14\" class=\"data row6 col14\" >-0.00875</td>\n",
       "                        <td id=\"T_aa65709c_4e94_11ea_866a_acd5647de6d0row6_col15\" class=\"data row6 col15\" >-0.00872</td>\n",
       "                        <td id=\"T_aa65709c_4e94_11ea_866a_acd5647de6d0row6_col16\" class=\"data row6 col16\" >-0.00866</td>\n",
       "                        <td id=\"T_aa65709c_4e94_11ea_866a_acd5647de6d0row6_col17\" class=\"data row6 col17\" >-0.0087</td>\n",
       "                        <td id=\"T_aa65709c_4e94_11ea_866a_acd5647de6d0row6_col18\" class=\"data row6 col18\" >-0.00871</td>\n",
       "            </tr>\n",
       "            <tr>\n",
       "                        <th id=\"T_aa65709c_4e94_11ea_866a_acd5647de6d0level0_row7\" class=\"row_heading level0 row7\" >KWI</th>\n",
       "                        <td id=\"T_aa65709c_4e94_11ea_866a_acd5647de6d0row7_col0\" class=\"data row7 col0\" >1.48e-19</td>\n",
       "                        <td id=\"T_aa65709c_4e94_11ea_866a_acd5647de6d0row7_col1\" class=\"data row7 col1\" >8.57e-19</td>\n",
       "                        <td id=\"T_aa65709c_4e94_11ea_866a_acd5647de6d0row7_col2\" class=\"data row7 col2\" >-1.81e-19</td>\n",
       "                        <td id=\"T_aa65709c_4e94_11ea_866a_acd5647de6d0row7_col3\" class=\"data row7 col3\" >-3.18e-18</td>\n",
       "                        <td id=\"T_aa65709c_4e94_11ea_866a_acd5647de6d0row7_col4\" class=\"data row7 col4\" >-5.25e-18</td>\n",
       "                        <td id=\"T_aa65709c_4e94_11ea_866a_acd5647de6d0row7_col5\" class=\"data row7 col5\" >-4.55e-18</td>\n",
       "                        <td id=\"T_aa65709c_4e94_11ea_866a_acd5647de6d0row7_col6\" class=\"data row7 col6\" >-1.08e-17</td>\n",
       "                        <td id=\"T_aa65709c_4e94_11ea_866a_acd5647de6d0row7_col7\" class=\"data row7 col7\" >1</td>\n",
       "                        <td id=\"T_aa65709c_4e94_11ea_866a_acd5647de6d0row7_col8\" class=\"data row7 col8\" >-3.61e-16</td>\n",
       "                        <td id=\"T_aa65709c_4e94_11ea_866a_acd5647de6d0row7_col9\" class=\"data row7 col9\" >-4.81e-16</td>\n",
       "                        <td id=\"T_aa65709c_4e94_11ea_866a_acd5647de6d0row7_col10\" class=\"data row7 col10\" >0</td>\n",
       "                        <td id=\"T_aa65709c_4e94_11ea_866a_acd5647de6d0row7_col11\" class=\"data row7 col11\" >0</td>\n",
       "                        <td id=\"T_aa65709c_4e94_11ea_866a_acd5647de6d0row7_col12\" class=\"data row7 col12\" >0</td>\n",
       "                        <td id=\"T_aa65709c_4e94_11ea_866a_acd5647de6d0row7_col13\" class=\"data row7 col13\" >0</td>\n",
       "                        <td id=\"T_aa65709c_4e94_11ea_866a_acd5647de6d0row7_col14\" class=\"data row7 col14\" >0.0322</td>\n",
       "                        <td id=\"T_aa65709c_4e94_11ea_866a_acd5647de6d0row7_col15\" class=\"data row7 col15\" >0.0327</td>\n",
       "                        <td id=\"T_aa65709c_4e94_11ea_866a_acd5647de6d0row7_col16\" class=\"data row7 col16\" >0.0327</td>\n",
       "                        <td id=\"T_aa65709c_4e94_11ea_866a_acd5647de6d0row7_col17\" class=\"data row7 col17\" >0.0327</td>\n",
       "                        <td id=\"T_aa65709c_4e94_11ea_866a_acd5647de6d0row7_col18\" class=\"data row7 col18\" >0.0326</td>\n",
       "            </tr>\n",
       "            <tr>\n",
       "                        <th id=\"T_aa65709c_4e94_11ea_866a_acd5647de6d0level0_row8\" class=\"row_heading level0 row8\" >VWM</th>\n",
       "                        <td id=\"T_aa65709c_4e94_11ea_866a_acd5647de6d0row8_col0\" class=\"data row8 col0\" >0.354</td>\n",
       "                        <td id=\"T_aa65709c_4e94_11ea_866a_acd5647de6d0row8_col1\" class=\"data row8 col1\" >-0.000841</td>\n",
       "                        <td id=\"T_aa65709c_4e94_11ea_866a_acd5647de6d0row8_col2\" class=\"data row8 col2\" >-0.012</td>\n",
       "                        <td id=\"T_aa65709c_4e94_11ea_866a_acd5647de6d0row8_col3\" class=\"data row8 col3\" >-0.134</td>\n",
       "                        <td id=\"T_aa65709c_4e94_11ea_866a_acd5647de6d0row8_col4\" class=\"data row8 col4\" >0.0105</td>\n",
       "                        <td id=\"T_aa65709c_4e94_11ea_866a_acd5647de6d0row8_col5\" class=\"data row8 col5\" >-0.203</td>\n",
       "                        <td id=\"T_aa65709c_4e94_11ea_866a_acd5647de6d0row8_col6\" class=\"data row8 col6\" >-0.019</td>\n",
       "                        <td id=\"T_aa65709c_4e94_11ea_866a_acd5647de6d0row8_col7\" class=\"data row8 col7\" >-3.61e-16</td>\n",
       "                        <td id=\"T_aa65709c_4e94_11ea_866a_acd5647de6d0row8_col8\" class=\"data row8 col8\" >1</td>\n",
       "                        <td id=\"T_aa65709c_4e94_11ea_866a_acd5647de6d0row8_col9\" class=\"data row8 col9\" >0.00116</td>\n",
       "                        <td id=\"T_aa65709c_4e94_11ea_866a_acd5647de6d0row8_col10\" class=\"data row8 col10\" >-1.41e-20</td>\n",
       "                        <td id=\"T_aa65709c_4e94_11ea_866a_acd5647de6d0row8_col11\" class=\"data row8 col11\" >9.41e-22</td>\n",
       "                        <td id=\"T_aa65709c_4e94_11ea_866a_acd5647de6d0row8_col12\" class=\"data row8 col12\" >0</td>\n",
       "                        <td id=\"T_aa65709c_4e94_11ea_866a_acd5647de6d0row8_col13\" class=\"data row8 col13\" >0</td>\n",
       "                        <td id=\"T_aa65709c_4e94_11ea_866a_acd5647de6d0row8_col14\" class=\"data row8 col14\" >0.164</td>\n",
       "                        <td id=\"T_aa65709c_4e94_11ea_866a_acd5647de6d0row8_col15\" class=\"data row8 col15\" >0.164</td>\n",
       "                        <td id=\"T_aa65709c_4e94_11ea_866a_acd5647de6d0row8_col16\" class=\"data row8 col16\" >0.164</td>\n",
       "                        <td id=\"T_aa65709c_4e94_11ea_866a_acd5647de6d0row8_col17\" class=\"data row8 col17\" >0.164</td>\n",
       "                        <td id=\"T_aa65709c_4e94_11ea_866a_acd5647de6d0row8_col18\" class=\"data row8 col18\" >0.164</td>\n",
       "            </tr>\n",
       "            <tr>\n",
       "                        <th id=\"T_aa65709c_4e94_11ea_866a_acd5647de6d0level0_row9\" class=\"row_heading level0 row9\" >VWN</th>\n",
       "                        <td id=\"T_aa65709c_4e94_11ea_866a_acd5647de6d0row9_col0\" class=\"data row9 col0\" >-0.000841</td>\n",
       "                        <td id=\"T_aa65709c_4e94_11ea_866a_acd5647de6d0row9_col1\" class=\"data row9 col1\" >0.354</td>\n",
       "                        <td id=\"T_aa65709c_4e94_11ea_866a_acd5647de6d0row9_col2\" class=\"data row9 col2\" >-0.012</td>\n",
       "                        <td id=\"T_aa65709c_4e94_11ea_866a_acd5647de6d0row9_col3\" class=\"data row9 col3\" >0.0105</td>\n",
       "                        <td id=\"T_aa65709c_4e94_11ea_866a_acd5647de6d0row9_col4\" class=\"data row9 col4\" >-0.134</td>\n",
       "                        <td id=\"T_aa65709c_4e94_11ea_866a_acd5647de6d0row9_col5\" class=\"data row9 col5\" >-0.019</td>\n",
       "                        <td id=\"T_aa65709c_4e94_11ea_866a_acd5647de6d0row9_col6\" class=\"data row9 col6\" >-0.203</td>\n",
       "                        <td id=\"T_aa65709c_4e94_11ea_866a_acd5647de6d0row9_col7\" class=\"data row9 col7\" >-4.81e-16</td>\n",
       "                        <td id=\"T_aa65709c_4e94_11ea_866a_acd5647de6d0row9_col8\" class=\"data row9 col8\" >0.00116</td>\n",
       "                        <td id=\"T_aa65709c_4e94_11ea_866a_acd5647de6d0row9_col9\" class=\"data row9 col9\" >1</td>\n",
       "                        <td id=\"T_aa65709c_4e94_11ea_866a_acd5647de6d0row9_col10\" class=\"data row9 col10\" >-1.41e-20</td>\n",
       "                        <td id=\"T_aa65709c_4e94_11ea_866a_acd5647de6d0row9_col11\" class=\"data row9 col11\" >9.41e-22</td>\n",
       "                        <td id=\"T_aa65709c_4e94_11ea_866a_acd5647de6d0row9_col12\" class=\"data row9 col12\" >0</td>\n",
       "                        <td id=\"T_aa65709c_4e94_11ea_866a_acd5647de6d0row9_col13\" class=\"data row9 col13\" >0</td>\n",
       "                        <td id=\"T_aa65709c_4e94_11ea_866a_acd5647de6d0row9_col14\" class=\"data row9 col14\" >0.145</td>\n",
       "                        <td id=\"T_aa65709c_4e94_11ea_866a_acd5647de6d0row9_col15\" class=\"data row9 col15\" >0.145</td>\n",
       "                        <td id=\"T_aa65709c_4e94_11ea_866a_acd5647de6d0row9_col16\" class=\"data row9 col16\" >0.145</td>\n",
       "                        <td id=\"T_aa65709c_4e94_11ea_866a_acd5647de6d0row9_col17\" class=\"data row9 col17\" >0.145</td>\n",
       "                        <td id=\"T_aa65709c_4e94_11ea_866a_acd5647de6d0row9_col18\" class=\"data row9 col18\" >0.145</td>\n",
       "            </tr>\n",
       "            <tr>\n",
       "                        <th id=\"T_aa65709c_4e94_11ea_866a_acd5647de6d0level0_row10\" class=\"row_heading level0 row10\" >STRM</th>\n",
       "                        <td id=\"T_aa65709c_4e94_11ea_866a_acd5647de6d0row10_col0\" class=\"data row10 col0\" >6.93e-21</td>\n",
       "                        <td id=\"T_aa65709c_4e94_11ea_866a_acd5647de6d0row10_col1\" class=\"data row10 col1\" >6.93e-21</td>\n",
       "                        <td id=\"T_aa65709c_4e94_11ea_866a_acd5647de6d0row10_col2\" class=\"data row10 col2\" >1.87e-21</td>\n",
       "                        <td id=\"T_aa65709c_4e94_11ea_866a_acd5647de6d0row10_col3\" class=\"data row10 col3\" >-1.12e-20</td>\n",
       "                        <td id=\"T_aa65709c_4e94_11ea_866a_acd5647de6d0row10_col4\" class=\"data row10 col4\" >-1.12e-20</td>\n",
       "                        <td id=\"T_aa65709c_4e94_11ea_866a_acd5647de6d0row10_col5\" class=\"data row10 col5\" >1.57e-21</td>\n",
       "                        <td id=\"T_aa65709c_4e94_11ea_866a_acd5647de6d0row10_col6\" class=\"data row10 col6\" >1.57e-21</td>\n",
       "                        <td id=\"T_aa65709c_4e94_11ea_866a_acd5647de6d0row10_col7\" class=\"data row10 col7\" >0</td>\n",
       "                        <td id=\"T_aa65709c_4e94_11ea_866a_acd5647de6d0row10_col8\" class=\"data row10 col8\" >-1.41e-20</td>\n",
       "                        <td id=\"T_aa65709c_4e94_11ea_866a_acd5647de6d0row10_col9\" class=\"data row10 col9\" >-1.41e-20</td>\n",
       "                        <td id=\"T_aa65709c_4e94_11ea_866a_acd5647de6d0row10_col10\" class=\"data row10 col10\" >1</td>\n",
       "                        <td id=\"T_aa65709c_4e94_11ea_866a_acd5647de6d0row10_col11\" class=\"data row10 col11\" >0</td>\n",
       "                        <td id=\"T_aa65709c_4e94_11ea_866a_acd5647de6d0row10_col12\" class=\"data row10 col12\" >0</td>\n",
       "                        <td id=\"T_aa65709c_4e94_11ea_866a_acd5647de6d0row10_col13\" class=\"data row10 col13\" >0</td>\n",
       "                        <td id=\"T_aa65709c_4e94_11ea_866a_acd5647de6d0row10_col14\" class=\"data row10 col14\" >-0.0126</td>\n",
       "                        <td id=\"T_aa65709c_4e94_11ea_866a_acd5647de6d0row10_col15\" class=\"data row10 col15\" >-0.0126</td>\n",
       "                        <td id=\"T_aa65709c_4e94_11ea_866a_acd5647de6d0row10_col16\" class=\"data row10 col16\" >-0.0126</td>\n",
       "                        <td id=\"T_aa65709c_4e94_11ea_866a_acd5647de6d0row10_col17\" class=\"data row10 col17\" >-0.0126</td>\n",
       "                        <td id=\"T_aa65709c_4e94_11ea_866a_acd5647de6d0row10_col18\" class=\"data row10 col18\" >-0.0126</td>\n",
       "            </tr>\n",
       "            <tr>\n",
       "                        <th id=\"T_aa65709c_4e94_11ea_866a_acd5647de6d0level0_row11\" class=\"row_heading level0 row11\" >STRN</th>\n",
       "                        <td id=\"T_aa65709c_4e94_11ea_866a_acd5647de6d0row11_col0\" class=\"data row11 col0\" >1.39e-21</td>\n",
       "                        <td id=\"T_aa65709c_4e94_11ea_866a_acd5647de6d0row11_col1\" class=\"data row11 col1\" >1.39e-21</td>\n",
       "                        <td id=\"T_aa65709c_4e94_11ea_866a_acd5647de6d0row11_col2\" class=\"data row11 col2\" >0</td>\n",
       "                        <td id=\"T_aa65709c_4e94_11ea_866a_acd5647de6d0row11_col3\" class=\"data row11 col3\" >-3.74e-21</td>\n",
       "                        <td id=\"T_aa65709c_4e94_11ea_866a_acd5647de6d0row11_col4\" class=\"data row11 col4\" >-3.74e-21</td>\n",
       "                        <td id=\"T_aa65709c_4e94_11ea_866a_acd5647de6d0row11_col5\" class=\"data row11 col5\" >1.57e-21</td>\n",
       "                        <td id=\"T_aa65709c_4e94_11ea_866a_acd5647de6d0row11_col6\" class=\"data row11 col6\" >1.57e-21</td>\n",
       "                        <td id=\"T_aa65709c_4e94_11ea_866a_acd5647de6d0row11_col7\" class=\"data row11 col7\" >0</td>\n",
       "                        <td id=\"T_aa65709c_4e94_11ea_866a_acd5647de6d0row11_col8\" class=\"data row11 col8\" >9.41e-22</td>\n",
       "                        <td id=\"T_aa65709c_4e94_11ea_866a_acd5647de6d0row11_col9\" class=\"data row11 col9\" >9.41e-22</td>\n",
       "                        <td id=\"T_aa65709c_4e94_11ea_866a_acd5647de6d0row11_col10\" class=\"data row11 col10\" >0</td>\n",
       "                        <td id=\"T_aa65709c_4e94_11ea_866a_acd5647de6d0row11_col11\" class=\"data row11 col11\" >1</td>\n",
       "                        <td id=\"T_aa65709c_4e94_11ea_866a_acd5647de6d0row11_col12\" class=\"data row11 col12\" >0</td>\n",
       "                        <td id=\"T_aa65709c_4e94_11ea_866a_acd5647de6d0row11_col13\" class=\"data row11 col13\" >0</td>\n",
       "                        <td id=\"T_aa65709c_4e94_11ea_866a_acd5647de6d0row11_col14\" class=\"data row11 col14\" >-0.000122</td>\n",
       "                        <td id=\"T_aa65709c_4e94_11ea_866a_acd5647de6d0row11_col15\" class=\"data row11 col15\" >-0.0001</td>\n",
       "                        <td id=\"T_aa65709c_4e94_11ea_866a_acd5647de6d0row11_col16\" class=\"data row11 col16\" >-0.000109</td>\n",
       "                        <td id=\"T_aa65709c_4e94_11ea_866a_acd5647de6d0row11_col17\" class=\"data row11 col17\" >-0.0001</td>\n",
       "                        <td id=\"T_aa65709c_4e94_11ea_866a_acd5647de6d0row11_col18\" class=\"data row11 col18\" >-0.000108</td>\n",
       "            </tr>\n",
       "            <tr>\n",
       "                        <th id=\"T_aa65709c_4e94_11ea_866a_acd5647de6d0level0_row12\" class=\"row_heading level0 row12\" >SA</th>\n",
       "                        <td id=\"T_aa65709c_4e94_11ea_866a_acd5647de6d0row12_col0\" class=\"data row12 col0\" >0</td>\n",
       "                        <td id=\"T_aa65709c_4e94_11ea_866a_acd5647de6d0row12_col1\" class=\"data row12 col1\" >0</td>\n",
       "                        <td id=\"T_aa65709c_4e94_11ea_866a_acd5647de6d0row12_col2\" class=\"data row12 col2\" >0</td>\n",
       "                        <td id=\"T_aa65709c_4e94_11ea_866a_acd5647de6d0row12_col3\" class=\"data row12 col3\" >0</td>\n",
       "                        <td id=\"T_aa65709c_4e94_11ea_866a_acd5647de6d0row12_col4\" class=\"data row12 col4\" >0</td>\n",
       "                        <td id=\"T_aa65709c_4e94_11ea_866a_acd5647de6d0row12_col5\" class=\"data row12 col5\" >0</td>\n",
       "                        <td id=\"T_aa65709c_4e94_11ea_866a_acd5647de6d0row12_col6\" class=\"data row12 col6\" >0</td>\n",
       "                        <td id=\"T_aa65709c_4e94_11ea_866a_acd5647de6d0row12_col7\" class=\"data row12 col7\" >0</td>\n",
       "                        <td id=\"T_aa65709c_4e94_11ea_866a_acd5647de6d0row12_col8\" class=\"data row12 col8\" >0</td>\n",
       "                        <td id=\"T_aa65709c_4e94_11ea_866a_acd5647de6d0row12_col9\" class=\"data row12 col9\" >0</td>\n",
       "                        <td id=\"T_aa65709c_4e94_11ea_866a_acd5647de6d0row12_col10\" class=\"data row12 col10\" >0</td>\n",
       "                        <td id=\"T_aa65709c_4e94_11ea_866a_acd5647de6d0row12_col11\" class=\"data row12 col11\" >0</td>\n",
       "                        <td id=\"T_aa65709c_4e94_11ea_866a_acd5647de6d0row12_col12\" class=\"data row12 col12\" >1</td>\n",
       "                        <td id=\"T_aa65709c_4e94_11ea_866a_acd5647de6d0row12_col13\" class=\"data row12 col13\" >0</td>\n",
       "                        <td id=\"T_aa65709c_4e94_11ea_866a_acd5647de6d0row12_col14\" class=\"data row12 col14\" >0.0525</td>\n",
       "                        <td id=\"T_aa65709c_4e94_11ea_866a_acd5647de6d0row12_col15\" class=\"data row12 col15\" >0.0518</td>\n",
       "                        <td id=\"T_aa65709c_4e94_11ea_866a_acd5647de6d0row12_col16\" class=\"data row12 col16\" >0.0518</td>\n",
       "                        <td id=\"T_aa65709c_4e94_11ea_866a_acd5647de6d0row12_col17\" class=\"data row12 col17\" >0.0518</td>\n",
       "                        <td id=\"T_aa65709c_4e94_11ea_866a_acd5647de6d0row12_col18\" class=\"data row12 col18\" >0.052</td>\n",
       "            </tr>\n",
       "            <tr>\n",
       "                        <th id=\"T_aa65709c_4e94_11ea_866a_acd5647de6d0level0_row13\" class=\"row_heading level0 row13\" >SB</th>\n",
       "                        <td id=\"T_aa65709c_4e94_11ea_866a_acd5647de6d0row13_col0\" class=\"data row13 col0\" >0</td>\n",
       "                        <td id=\"T_aa65709c_4e94_11ea_866a_acd5647de6d0row13_col1\" class=\"data row13 col1\" >0</td>\n",
       "                        <td id=\"T_aa65709c_4e94_11ea_866a_acd5647de6d0row13_col2\" class=\"data row13 col2\" >0</td>\n",
       "                        <td id=\"T_aa65709c_4e94_11ea_866a_acd5647de6d0row13_col3\" class=\"data row13 col3\" >0</td>\n",
       "                        <td id=\"T_aa65709c_4e94_11ea_866a_acd5647de6d0row13_col4\" class=\"data row13 col4\" >0</td>\n",
       "                        <td id=\"T_aa65709c_4e94_11ea_866a_acd5647de6d0row13_col5\" class=\"data row13 col5\" >0</td>\n",
       "                        <td id=\"T_aa65709c_4e94_11ea_866a_acd5647de6d0row13_col6\" class=\"data row13 col6\" >0</td>\n",
       "                        <td id=\"T_aa65709c_4e94_11ea_866a_acd5647de6d0row13_col7\" class=\"data row13 col7\" >0</td>\n",
       "                        <td id=\"T_aa65709c_4e94_11ea_866a_acd5647de6d0row13_col8\" class=\"data row13 col8\" >0</td>\n",
       "                        <td id=\"T_aa65709c_4e94_11ea_866a_acd5647de6d0row13_col9\" class=\"data row13 col9\" >0</td>\n",
       "                        <td id=\"T_aa65709c_4e94_11ea_866a_acd5647de6d0row13_col10\" class=\"data row13 col10\" >0</td>\n",
       "                        <td id=\"T_aa65709c_4e94_11ea_866a_acd5647de6d0row13_col11\" class=\"data row13 col11\" >0</td>\n",
       "                        <td id=\"T_aa65709c_4e94_11ea_866a_acd5647de6d0row13_col12\" class=\"data row13 col12\" >0</td>\n",
       "                        <td id=\"T_aa65709c_4e94_11ea_866a_acd5647de6d0row13_col13\" class=\"data row13 col13\" >1</td>\n",
       "                        <td id=\"T_aa65709c_4e94_11ea_866a_acd5647de6d0row13_col14\" class=\"data row13 col14\" >0.0642</td>\n",
       "                        <td id=\"T_aa65709c_4e94_11ea_866a_acd5647de6d0row13_col15\" class=\"data row13 col15\" >0.0639</td>\n",
       "                        <td id=\"T_aa65709c_4e94_11ea_866a_acd5647de6d0row13_col16\" class=\"data row13 col16\" >0.0639</td>\n",
       "                        <td id=\"T_aa65709c_4e94_11ea_866a_acd5647de6d0row13_col17\" class=\"data row13 col17\" >0.0639</td>\n",
       "                        <td id=\"T_aa65709c_4e94_11ea_866a_acd5647de6d0row13_col18\" class=\"data row13 col18\" >0.064</td>\n",
       "            </tr>\n",
       "            <tr>\n",
       "                        <th id=\"T_aa65709c_4e94_11ea_866a_acd5647de6d0level0_row14\" class=\"row_heading level0 row14\" >Run1 (ms)</th>\n",
       "                        <td id=\"T_aa65709c_4e94_11ea_866a_acd5647de6d0row14_col0\" class=\"data row14 col0\" >0.352</td>\n",
       "                        <td id=\"T_aa65709c_4e94_11ea_866a_acd5647de6d0row14_col1\" class=\"data row14 col1\" >0.32</td>\n",
       "                        <td id=\"T_aa65709c_4e94_11ea_866a_acd5647de6d0row14_col2\" class=\"data row14 col2\" >0.0115</td>\n",
       "                        <td id=\"T_aa65709c_4e94_11ea_866a_acd5647de6d0row14_col3\" class=\"data row14 col3\" >-0.221</td>\n",
       "                        <td id=\"T_aa65709c_4e94_11ea_866a_acd5647de6d0row14_col4\" class=\"data row14 col4\" >-0.215</td>\n",
       "                        <td id=\"T_aa65709c_4e94_11ea_866a_acd5647de6d0row14_col5\" class=\"data row14 col5\" >-0.00708</td>\n",
       "                        <td id=\"T_aa65709c_4e94_11ea_866a_acd5647de6d0row14_col6\" class=\"data row14 col6\" >-0.00875</td>\n",
       "                        <td id=\"T_aa65709c_4e94_11ea_866a_acd5647de6d0row14_col7\" class=\"data row14 col7\" >0.0322</td>\n",
       "                        <td id=\"T_aa65709c_4e94_11ea_866a_acd5647de6d0row14_col8\" class=\"data row14 col8\" >0.164</td>\n",
       "                        <td id=\"T_aa65709c_4e94_11ea_866a_acd5647de6d0row14_col9\" class=\"data row14 col9\" >0.145</td>\n",
       "                        <td id=\"T_aa65709c_4e94_11ea_866a_acd5647de6d0row14_col10\" class=\"data row14 col10\" >-0.0126</td>\n",
       "                        <td id=\"T_aa65709c_4e94_11ea_866a_acd5647de6d0row14_col11\" class=\"data row14 col11\" >-0.000122</td>\n",
       "                        <td id=\"T_aa65709c_4e94_11ea_866a_acd5647de6d0row14_col12\" class=\"data row14 col12\" >0.0525</td>\n",
       "                        <td id=\"T_aa65709c_4e94_11ea_866a_acd5647de6d0row14_col13\" class=\"data row14 col13\" >0.0642</td>\n",
       "                        <td id=\"T_aa65709c_4e94_11ea_866a_acd5647de6d0row14_col14\" class=\"data row14 col14\" >1</td>\n",
       "                        <td id=\"T_aa65709c_4e94_11ea_866a_acd5647de6d0row14_col15\" class=\"data row14 col15\" >1</td>\n",
       "                        <td id=\"T_aa65709c_4e94_11ea_866a_acd5647de6d0row14_col16\" class=\"data row14 col16\" >1</td>\n",
       "                        <td id=\"T_aa65709c_4e94_11ea_866a_acd5647de6d0row14_col17\" class=\"data row14 col17\" >1</td>\n",
       "                        <td id=\"T_aa65709c_4e94_11ea_866a_acd5647de6d0row14_col18\" class=\"data row14 col18\" >1</td>\n",
       "            </tr>\n",
       "            <tr>\n",
       "                        <th id=\"T_aa65709c_4e94_11ea_866a_acd5647de6d0level0_row15\" class=\"row_heading level0 row15\" >Run2 (ms)</th>\n",
       "                        <td id=\"T_aa65709c_4e94_11ea_866a_acd5647de6d0row15_col0\" class=\"data row15 col0\" >0.352</td>\n",
       "                        <td id=\"T_aa65709c_4e94_11ea_866a_acd5647de6d0row15_col1\" class=\"data row15 col1\" >0.32</td>\n",
       "                        <td id=\"T_aa65709c_4e94_11ea_866a_acd5647de6d0row15_col2\" class=\"data row15 col2\" >0.0111</td>\n",
       "                        <td id=\"T_aa65709c_4e94_11ea_866a_acd5647de6d0row15_col3\" class=\"data row15 col3\" >-0.221</td>\n",
       "                        <td id=\"T_aa65709c_4e94_11ea_866a_acd5647de6d0row15_col4\" class=\"data row15 col4\" >-0.215</td>\n",
       "                        <td id=\"T_aa65709c_4e94_11ea_866a_acd5647de6d0row15_col5\" class=\"data row15 col5\" >-0.00705</td>\n",
       "                        <td id=\"T_aa65709c_4e94_11ea_866a_acd5647de6d0row15_col6\" class=\"data row15 col6\" >-0.00872</td>\n",
       "                        <td id=\"T_aa65709c_4e94_11ea_866a_acd5647de6d0row15_col7\" class=\"data row15 col7\" >0.0327</td>\n",
       "                        <td id=\"T_aa65709c_4e94_11ea_866a_acd5647de6d0row15_col8\" class=\"data row15 col8\" >0.164</td>\n",
       "                        <td id=\"T_aa65709c_4e94_11ea_866a_acd5647de6d0row15_col9\" class=\"data row15 col9\" >0.145</td>\n",
       "                        <td id=\"T_aa65709c_4e94_11ea_866a_acd5647de6d0row15_col10\" class=\"data row15 col10\" >-0.0126</td>\n",
       "                        <td id=\"T_aa65709c_4e94_11ea_866a_acd5647de6d0row15_col11\" class=\"data row15 col11\" >-0.0001</td>\n",
       "                        <td id=\"T_aa65709c_4e94_11ea_866a_acd5647de6d0row15_col12\" class=\"data row15 col12\" >0.0518</td>\n",
       "                        <td id=\"T_aa65709c_4e94_11ea_866a_acd5647de6d0row15_col13\" class=\"data row15 col13\" >0.0639</td>\n",
       "                        <td id=\"T_aa65709c_4e94_11ea_866a_acd5647de6d0row15_col14\" class=\"data row15 col14\" >1</td>\n",
       "                        <td id=\"T_aa65709c_4e94_11ea_866a_acd5647de6d0row15_col15\" class=\"data row15 col15\" >1</td>\n",
       "                        <td id=\"T_aa65709c_4e94_11ea_866a_acd5647de6d0row15_col16\" class=\"data row15 col16\" >1</td>\n",
       "                        <td id=\"T_aa65709c_4e94_11ea_866a_acd5647de6d0row15_col17\" class=\"data row15 col17\" >1</td>\n",
       "                        <td id=\"T_aa65709c_4e94_11ea_866a_acd5647de6d0row15_col18\" class=\"data row15 col18\" >1</td>\n",
       "            </tr>\n",
       "            <tr>\n",
       "                        <th id=\"T_aa65709c_4e94_11ea_866a_acd5647de6d0level0_row16\" class=\"row_heading level0 row16\" >Run3 (ms)</th>\n",
       "                        <td id=\"T_aa65709c_4e94_11ea_866a_acd5647de6d0row16_col0\" class=\"data row16 col0\" >0.352</td>\n",
       "                        <td id=\"T_aa65709c_4e94_11ea_866a_acd5647de6d0row16_col1\" class=\"data row16 col1\" >0.321</td>\n",
       "                        <td id=\"T_aa65709c_4e94_11ea_866a_acd5647de6d0row16_col2\" class=\"data row16 col2\" >0.0112</td>\n",
       "                        <td id=\"T_aa65709c_4e94_11ea_866a_acd5647de6d0row16_col3\" class=\"data row16 col3\" >-0.221</td>\n",
       "                        <td id=\"T_aa65709c_4e94_11ea_866a_acd5647de6d0row16_col4\" class=\"data row16 col4\" >-0.214</td>\n",
       "                        <td id=\"T_aa65709c_4e94_11ea_866a_acd5647de6d0row16_col5\" class=\"data row16 col5\" >-0.007</td>\n",
       "                        <td id=\"T_aa65709c_4e94_11ea_866a_acd5647de6d0row16_col6\" class=\"data row16 col6\" >-0.00866</td>\n",
       "                        <td id=\"T_aa65709c_4e94_11ea_866a_acd5647de6d0row16_col7\" class=\"data row16 col7\" >0.0327</td>\n",
       "                        <td id=\"T_aa65709c_4e94_11ea_866a_acd5647de6d0row16_col8\" class=\"data row16 col8\" >0.164</td>\n",
       "                        <td id=\"T_aa65709c_4e94_11ea_866a_acd5647de6d0row16_col9\" class=\"data row16 col9\" >0.145</td>\n",
       "                        <td id=\"T_aa65709c_4e94_11ea_866a_acd5647de6d0row16_col10\" class=\"data row16 col10\" >-0.0126</td>\n",
       "                        <td id=\"T_aa65709c_4e94_11ea_866a_acd5647de6d0row16_col11\" class=\"data row16 col11\" >-0.000109</td>\n",
       "                        <td id=\"T_aa65709c_4e94_11ea_866a_acd5647de6d0row16_col12\" class=\"data row16 col12\" >0.0518</td>\n",
       "                        <td id=\"T_aa65709c_4e94_11ea_866a_acd5647de6d0row16_col13\" class=\"data row16 col13\" >0.0639</td>\n",
       "                        <td id=\"T_aa65709c_4e94_11ea_866a_acd5647de6d0row16_col14\" class=\"data row16 col14\" >1</td>\n",
       "                        <td id=\"T_aa65709c_4e94_11ea_866a_acd5647de6d0row16_col15\" class=\"data row16 col15\" >1</td>\n",
       "                        <td id=\"T_aa65709c_4e94_11ea_866a_acd5647de6d0row16_col16\" class=\"data row16 col16\" >1</td>\n",
       "                        <td id=\"T_aa65709c_4e94_11ea_866a_acd5647de6d0row16_col17\" class=\"data row16 col17\" >1</td>\n",
       "                        <td id=\"T_aa65709c_4e94_11ea_866a_acd5647de6d0row16_col18\" class=\"data row16 col18\" >1</td>\n",
       "            </tr>\n",
       "            <tr>\n",
       "                        <th id=\"T_aa65709c_4e94_11ea_866a_acd5647de6d0level0_row17\" class=\"row_heading level0 row17\" >Run4 (ms)</th>\n",
       "                        <td id=\"T_aa65709c_4e94_11ea_866a_acd5647de6d0row17_col0\" class=\"data row17 col0\" >0.352</td>\n",
       "                        <td id=\"T_aa65709c_4e94_11ea_866a_acd5647de6d0row17_col1\" class=\"data row17 col1\" >0.32</td>\n",
       "                        <td id=\"T_aa65709c_4e94_11ea_866a_acd5647de6d0row17_col2\" class=\"data row17 col2\" >0.0111</td>\n",
       "                        <td id=\"T_aa65709c_4e94_11ea_866a_acd5647de6d0row17_col3\" class=\"data row17 col3\" >-0.221</td>\n",
       "                        <td id=\"T_aa65709c_4e94_11ea_866a_acd5647de6d0row17_col4\" class=\"data row17 col4\" >-0.215</td>\n",
       "                        <td id=\"T_aa65709c_4e94_11ea_866a_acd5647de6d0row17_col5\" class=\"data row17 col5\" >-0.00701</td>\n",
       "                        <td id=\"T_aa65709c_4e94_11ea_866a_acd5647de6d0row17_col6\" class=\"data row17 col6\" >-0.0087</td>\n",
       "                        <td id=\"T_aa65709c_4e94_11ea_866a_acd5647de6d0row17_col7\" class=\"data row17 col7\" >0.0327</td>\n",
       "                        <td id=\"T_aa65709c_4e94_11ea_866a_acd5647de6d0row17_col8\" class=\"data row17 col8\" >0.164</td>\n",
       "                        <td id=\"T_aa65709c_4e94_11ea_866a_acd5647de6d0row17_col9\" class=\"data row17 col9\" >0.145</td>\n",
       "                        <td id=\"T_aa65709c_4e94_11ea_866a_acd5647de6d0row17_col10\" class=\"data row17 col10\" >-0.0126</td>\n",
       "                        <td id=\"T_aa65709c_4e94_11ea_866a_acd5647de6d0row17_col11\" class=\"data row17 col11\" >-0.0001</td>\n",
       "                        <td id=\"T_aa65709c_4e94_11ea_866a_acd5647de6d0row17_col12\" class=\"data row17 col12\" >0.0518</td>\n",
       "                        <td id=\"T_aa65709c_4e94_11ea_866a_acd5647de6d0row17_col13\" class=\"data row17 col13\" >0.0639</td>\n",
       "                        <td id=\"T_aa65709c_4e94_11ea_866a_acd5647de6d0row17_col14\" class=\"data row17 col14\" >1</td>\n",
       "                        <td id=\"T_aa65709c_4e94_11ea_866a_acd5647de6d0row17_col15\" class=\"data row17 col15\" >1</td>\n",
       "                        <td id=\"T_aa65709c_4e94_11ea_866a_acd5647de6d0row17_col16\" class=\"data row17 col16\" >1</td>\n",
       "                        <td id=\"T_aa65709c_4e94_11ea_866a_acd5647de6d0row17_col17\" class=\"data row17 col17\" >1</td>\n",
       "                        <td id=\"T_aa65709c_4e94_11ea_866a_acd5647de6d0row17_col18\" class=\"data row17 col18\" >1</td>\n",
       "            </tr>\n",
       "            <tr>\n",
       "                        <th id=\"T_aa65709c_4e94_11ea_866a_acd5647de6d0level0_row18\" class=\"row_heading level0 row18\" >Avg_run</th>\n",
       "                        <td id=\"T_aa65709c_4e94_11ea_866a_acd5647de6d0row18_col0\" class=\"data row18 col0\" >0.352</td>\n",
       "                        <td id=\"T_aa65709c_4e94_11ea_866a_acd5647de6d0row18_col1\" class=\"data row18 col1\" >0.32</td>\n",
       "                        <td id=\"T_aa65709c_4e94_11ea_866a_acd5647de6d0row18_col2\" class=\"data row18 col2\" >0.0112</td>\n",
       "                        <td id=\"T_aa65709c_4e94_11ea_866a_acd5647de6d0row18_col3\" class=\"data row18 col3\" >-0.221</td>\n",
       "                        <td id=\"T_aa65709c_4e94_11ea_866a_acd5647de6d0row18_col4\" class=\"data row18 col4\" >-0.215</td>\n",
       "                        <td id=\"T_aa65709c_4e94_11ea_866a_acd5647de6d0row18_col5\" class=\"data row18 col5\" >-0.00704</td>\n",
       "                        <td id=\"T_aa65709c_4e94_11ea_866a_acd5647de6d0row18_col6\" class=\"data row18 col6\" >-0.00871</td>\n",
       "                        <td id=\"T_aa65709c_4e94_11ea_866a_acd5647de6d0row18_col7\" class=\"data row18 col7\" >0.0326</td>\n",
       "                        <td id=\"T_aa65709c_4e94_11ea_866a_acd5647de6d0row18_col8\" class=\"data row18 col8\" >0.164</td>\n",
       "                        <td id=\"T_aa65709c_4e94_11ea_866a_acd5647de6d0row18_col9\" class=\"data row18 col9\" >0.145</td>\n",
       "                        <td id=\"T_aa65709c_4e94_11ea_866a_acd5647de6d0row18_col10\" class=\"data row18 col10\" >-0.0126</td>\n",
       "                        <td id=\"T_aa65709c_4e94_11ea_866a_acd5647de6d0row18_col11\" class=\"data row18 col11\" >-0.000108</td>\n",
       "                        <td id=\"T_aa65709c_4e94_11ea_866a_acd5647de6d0row18_col12\" class=\"data row18 col12\" >0.052</td>\n",
       "                        <td id=\"T_aa65709c_4e94_11ea_866a_acd5647de6d0row18_col13\" class=\"data row18 col13\" >0.064</td>\n",
       "                        <td id=\"T_aa65709c_4e94_11ea_866a_acd5647de6d0row18_col14\" class=\"data row18 col14\" >1</td>\n",
       "                        <td id=\"T_aa65709c_4e94_11ea_866a_acd5647de6d0row18_col15\" class=\"data row18 col15\" >1</td>\n",
       "                        <td id=\"T_aa65709c_4e94_11ea_866a_acd5647de6d0row18_col16\" class=\"data row18 col16\" >1</td>\n",
       "                        <td id=\"T_aa65709c_4e94_11ea_866a_acd5647de6d0row18_col17\" class=\"data row18 col17\" >1</td>\n",
       "                        <td id=\"T_aa65709c_4e94_11ea_866a_acd5647de6d0row18_col18\" class=\"data row18 col18\" >1</td>\n",
       "            </tr>\n",
       "    </tbody></table>"
      ],
      "text/plain": [
       "<pandas.io.formats.style.Styler at 0x29d071ed588>"
      ]
     },
     "execution_count": 392,
     "metadata": {},
     "output_type": "execute_result"
    }
   ],
   "source": [
    "# Plotting a correlation matrix to understand the relation between various variables\n",
    "corr = data.corr()\n",
    "corr.style.background_gradient(cmap = \"coolwarm\").set_precision(3)"
   ]
  },
  {
   "cell_type": "markdown",
   "metadata": {},
   "source": [
    "#### We observe that none of the variables are highly correlated to each other"
   ]
  },
  {
   "cell_type": "code",
   "execution_count": 393,
   "metadata": {},
   "outputs": [
    {
     "data": {
      "text/html": [
       "<div>\n",
       "<style scoped>\n",
       "    .dataframe tbody tr th:only-of-type {\n",
       "        vertical-align: middle;\n",
       "    }\n",
       "\n",
       "    .dataframe tbody tr th {\n",
       "        vertical-align: top;\n",
       "    }\n",
       "\n",
       "    .dataframe thead th {\n",
       "        text-align: right;\n",
       "    }\n",
       "</style>\n",
       "<table border=\"1\" class=\"dataframe\">\n",
       "  <thead>\n",
       "    <tr style=\"text-align: right;\">\n",
       "      <th></th>\n",
       "      <th>MWG</th>\n",
       "      <th>NWG</th>\n",
       "      <th>KWG</th>\n",
       "      <th>MDIMC</th>\n",
       "      <th>NDIMC</th>\n",
       "      <th>MDIMA</th>\n",
       "      <th>NDIMB</th>\n",
       "      <th>KWI</th>\n",
       "      <th>VWM</th>\n",
       "      <th>VWN</th>\n",
       "      <th>STRM</th>\n",
       "      <th>STRN</th>\n",
       "      <th>SA</th>\n",
       "      <th>SB</th>\n",
       "      <th>Run1 (ms)</th>\n",
       "      <th>Run2 (ms)</th>\n",
       "      <th>Run3 (ms)</th>\n",
       "      <th>Run4 (ms)</th>\n",
       "      <th>Avg_run</th>\n",
       "    </tr>\n",
       "  </thead>\n",
       "  <tbody>\n",
       "    <tr>\n",
       "      <td>0</td>\n",
       "      <td>16</td>\n",
       "      <td>16</td>\n",
       "      <td>16</td>\n",
       "      <td>8</td>\n",
       "      <td>8</td>\n",
       "      <td>8</td>\n",
       "      <td>8</td>\n",
       "      <td>2</td>\n",
       "      <td>1</td>\n",
       "      <td>1</td>\n",
       "      <td>0</td>\n",
       "      <td>0</td>\n",
       "      <td>0</td>\n",
       "      <td>0</td>\n",
       "      <td>115.26</td>\n",
       "      <td>115.87</td>\n",
       "      <td>118.55</td>\n",
       "      <td>115.80</td>\n",
       "      <td>0.116370</td>\n",
       "    </tr>\n",
       "    <tr>\n",
       "      <td>1</td>\n",
       "      <td>16</td>\n",
       "      <td>16</td>\n",
       "      <td>16</td>\n",
       "      <td>8</td>\n",
       "      <td>8</td>\n",
       "      <td>8</td>\n",
       "      <td>8</td>\n",
       "      <td>2</td>\n",
       "      <td>1</td>\n",
       "      <td>1</td>\n",
       "      <td>0</td>\n",
       "      <td>0</td>\n",
       "      <td>0</td>\n",
       "      <td>1</td>\n",
       "      <td>78.13</td>\n",
       "      <td>78.25</td>\n",
       "      <td>79.25</td>\n",
       "      <td>79.19</td>\n",
       "      <td>0.078705</td>\n",
       "    </tr>\n",
       "    <tr>\n",
       "      <td>2</td>\n",
       "      <td>16</td>\n",
       "      <td>16</td>\n",
       "      <td>16</td>\n",
       "      <td>8</td>\n",
       "      <td>8</td>\n",
       "      <td>8</td>\n",
       "      <td>8</td>\n",
       "      <td>2</td>\n",
       "      <td>1</td>\n",
       "      <td>1</td>\n",
       "      <td>0</td>\n",
       "      <td>0</td>\n",
       "      <td>1</td>\n",
       "      <td>0</td>\n",
       "      <td>79.84</td>\n",
       "      <td>80.69</td>\n",
       "      <td>80.76</td>\n",
       "      <td>80.97</td>\n",
       "      <td>0.080565</td>\n",
       "    </tr>\n",
       "    <tr>\n",
       "      <td>3</td>\n",
       "      <td>16</td>\n",
       "      <td>16</td>\n",
       "      <td>16</td>\n",
       "      <td>8</td>\n",
       "      <td>8</td>\n",
       "      <td>8</td>\n",
       "      <td>8</td>\n",
       "      <td>2</td>\n",
       "      <td>1</td>\n",
       "      <td>1</td>\n",
       "      <td>0</td>\n",
       "      <td>0</td>\n",
       "      <td>1</td>\n",
       "      <td>1</td>\n",
       "      <td>84.32</td>\n",
       "      <td>89.90</td>\n",
       "      <td>86.75</td>\n",
       "      <td>85.58</td>\n",
       "      <td>0.086638</td>\n",
       "    </tr>\n",
       "    <tr>\n",
       "      <td>4</td>\n",
       "      <td>16</td>\n",
       "      <td>16</td>\n",
       "      <td>16</td>\n",
       "      <td>8</td>\n",
       "      <td>8</td>\n",
       "      <td>8</td>\n",
       "      <td>8</td>\n",
       "      <td>2</td>\n",
       "      <td>1</td>\n",
       "      <td>1</td>\n",
       "      <td>0</td>\n",
       "      <td>1</td>\n",
       "      <td>0</td>\n",
       "      <td>0</td>\n",
       "      <td>115.13</td>\n",
       "      <td>121.98</td>\n",
       "      <td>122.73</td>\n",
       "      <td>114.81</td>\n",
       "      <td>0.118663</td>\n",
       "    </tr>\n",
       "  </tbody>\n",
       "</table>\n",
       "</div>"
      ],
      "text/plain": [
       "   MWG  NWG  KWG  MDIMC  NDIMC  MDIMA  NDIMB  KWI  VWM  VWN  STRM  STRN  SA  \\\n",
       "0   16   16   16      8      8      8      8    2    1    1     0     0   0   \n",
       "1   16   16   16      8      8      8      8    2    1    1     0     0   0   \n",
       "2   16   16   16      8      8      8      8    2    1    1     0     0   1   \n",
       "3   16   16   16      8      8      8      8    2    1    1     0     0   1   \n",
       "4   16   16   16      8      8      8      8    2    1    1     0     1   0   \n",
       "\n",
       "   SB  Run1 (ms)  Run2 (ms)  Run3 (ms)  Run4 (ms)   Avg_run  \n",
       "0   0     115.26     115.87     118.55     115.80  0.116370  \n",
       "1   1      78.13      78.25      79.25      79.19  0.078705  \n",
       "2   0      79.84      80.69      80.76      80.97  0.080565  \n",
       "3   1      84.32      89.90      86.75      85.58  0.086638  \n",
       "4   0     115.13     121.98     122.73     114.81  0.118663  "
      ]
     },
     "execution_count": 393,
     "metadata": {},
     "output_type": "execute_result"
    }
   ],
   "source": [
    "data[\"Avg_run\"] = data[\"Avg_run\"]/1000\n",
    "data.head()"
   ]
  },
  {
   "cell_type": "code",
   "execution_count": 394,
   "metadata": {},
   "outputs": [
    {
     "data": {
      "text/plain": [
       "(241600, 15)"
      ]
     },
     "execution_count": 394,
     "metadata": {},
     "output_type": "execute_result"
    }
   ],
   "source": [
    "# Dropping unneccessary columns\n",
    "data = data.drop(columns = ['Run1 (ms)', 'Run2 (ms)', 'Run3 (ms)', 'Run4 (ms)'])\n",
    "data.shape"
   ]
  },
  {
   "cell_type": "markdown",
   "metadata": {},
   "source": [
    "### Boxplot"
   ]
  },
  {
   "cell_type": "code",
   "execution_count": 398,
   "metadata": {
    "scrolled": false
   },
   "outputs": [
    {
     "data": {
      "text/plain": [
       "<matplotlib.axes._subplots.AxesSubplot at 0x29d0771c848>"
      ]
     },
     "execution_count": 398,
     "metadata": {},
     "output_type": "execute_result"
    },
    {
     "data": {
      "image/png": "[encoded data removed]",
      "text/plain": [
       "<Figure size 1224x432 with 1 Axes>"
      ]
     },
     "metadata": {},
     "output_type": "display_data"
    }
   ],
   "source": [
    "#data.plot(kind = 'box', figsize = (17,4), grid = 'True')\n",
    "data.plot.box(grid = 'True', figsize = (17,6))"
   ]
  },
  {
   "cell_type": "markdown",
   "metadata": {},
   "source": [
    "### Creating a data backup"
   ]
  },
  {
   "cell_type": "code",
   "execution_count": 399,
   "metadata": {
    "scrolled": false
   },
   "outputs": [
    {
     "data": {
      "text/plain": [
       "(   MWG  NWG  KWG  MDIMC  NDIMC  MDIMA  NDIMB  KWI  VWM  VWN  STRM  STRN  SA  \\\n",
       " 0   16   16   16      8      8      8      8    2    1    1     0     0   0   \n",
       " 1   16   16   16      8      8      8      8    2    1    1     0     0   0   \n",
       " 2   16   16   16      8      8      8      8    2    1    1     0     0   1   \n",
       " 3   16   16   16      8      8      8      8    2    1    1     0     0   1   \n",
       " 4   16   16   16      8      8      8      8    2    1    1     0     1   0   \n",
       " \n",
       "    SB   Avg_run  intercept  \n",
       " 0   0  0.116370          1  \n",
       " 1   1  0.078705          1  \n",
       " 2   0  0.080565          1  \n",
       " 3   1  0.086638          1  \n",
       " 4   0  0.118663          1  , (241600, 16))"
      ]
     },
     "execution_count": 399,
     "metadata": {},
     "output_type": "execute_result"
    }
   ],
   "source": [
    "# Creating a column for intercept in case of Linear Regression\n",
    "data['intercept'] = 1\n",
    "data.head(), data.shape"
   ]
  },
  {
   "cell_type": "code",
   "execution_count": 400,
   "metadata": {
    "scrolled": true
   },
   "outputs": [
    {
     "data": {
      "text/html": [
       "<div>\n",
       "<style scoped>\n",
       "    .dataframe tbody tr th:only-of-type {\n",
       "        vertical-align: middle;\n",
       "    }\n",
       "\n",
       "    .dataframe tbody tr th {\n",
       "        vertical-align: top;\n",
       "    }\n",
       "\n",
       "    .dataframe thead th {\n",
       "        text-align: right;\n",
       "    }\n",
       "</style>\n",
       "<table border=\"1\" class=\"dataframe\">\n",
       "  <thead>\n",
       "    <tr style=\"text-align: right;\">\n",
       "      <th></th>\n",
       "      <th>MWG</th>\n",
       "      <th>NWG</th>\n",
       "      <th>KWG</th>\n",
       "      <th>MDIMC</th>\n",
       "      <th>NDIMC</th>\n",
       "      <th>MDIMA</th>\n",
       "      <th>NDIMB</th>\n",
       "      <th>KWI</th>\n",
       "      <th>VWM</th>\n",
       "      <th>VWN</th>\n",
       "      <th>STRM</th>\n",
       "      <th>STRN</th>\n",
       "      <th>SA</th>\n",
       "      <th>SB</th>\n",
       "      <th>intercept</th>\n",
       "      <th>Avg_run</th>\n",
       "    </tr>\n",
       "  </thead>\n",
       "  <tbody>\n",
       "    <tr>\n",
       "      <td>0</td>\n",
       "      <td>16</td>\n",
       "      <td>16</td>\n",
       "      <td>16</td>\n",
       "      <td>8</td>\n",
       "      <td>8</td>\n",
       "      <td>8</td>\n",
       "      <td>8</td>\n",
       "      <td>2</td>\n",
       "      <td>1</td>\n",
       "      <td>1</td>\n",
       "      <td>0</td>\n",
       "      <td>0</td>\n",
       "      <td>0</td>\n",
       "      <td>0</td>\n",
       "      <td>1</td>\n",
       "      <td>0.116370</td>\n",
       "    </tr>\n",
       "    <tr>\n",
       "      <td>1</td>\n",
       "      <td>16</td>\n",
       "      <td>16</td>\n",
       "      <td>16</td>\n",
       "      <td>8</td>\n",
       "      <td>8</td>\n",
       "      <td>8</td>\n",
       "      <td>8</td>\n",
       "      <td>2</td>\n",
       "      <td>1</td>\n",
       "      <td>1</td>\n",
       "      <td>0</td>\n",
       "      <td>0</td>\n",
       "      <td>0</td>\n",
       "      <td>1</td>\n",
       "      <td>1</td>\n",
       "      <td>0.078705</td>\n",
       "    </tr>\n",
       "    <tr>\n",
       "      <td>2</td>\n",
       "      <td>16</td>\n",
       "      <td>16</td>\n",
       "      <td>16</td>\n",
       "      <td>8</td>\n",
       "      <td>8</td>\n",
       "      <td>8</td>\n",
       "      <td>8</td>\n",
       "      <td>2</td>\n",
       "      <td>1</td>\n",
       "      <td>1</td>\n",
       "      <td>0</td>\n",
       "      <td>0</td>\n",
       "      <td>1</td>\n",
       "      <td>0</td>\n",
       "      <td>1</td>\n",
       "      <td>0.080565</td>\n",
       "    </tr>\n",
       "    <tr>\n",
       "      <td>3</td>\n",
       "      <td>16</td>\n",
       "      <td>16</td>\n",
       "      <td>16</td>\n",
       "      <td>8</td>\n",
       "      <td>8</td>\n",
       "      <td>8</td>\n",
       "      <td>8</td>\n",
       "      <td>2</td>\n",
       "      <td>1</td>\n",
       "      <td>1</td>\n",
       "      <td>0</td>\n",
       "      <td>0</td>\n",
       "      <td>1</td>\n",
       "      <td>1</td>\n",
       "      <td>1</td>\n",
       "      <td>0.086638</td>\n",
       "    </tr>\n",
       "    <tr>\n",
       "      <td>4</td>\n",
       "      <td>16</td>\n",
       "      <td>16</td>\n",
       "      <td>16</td>\n",
       "      <td>8</td>\n",
       "      <td>8</td>\n",
       "      <td>8</td>\n",
       "      <td>8</td>\n",
       "      <td>2</td>\n",
       "      <td>1</td>\n",
       "      <td>1</td>\n",
       "      <td>0</td>\n",
       "      <td>1</td>\n",
       "      <td>0</td>\n",
       "      <td>0</td>\n",
       "      <td>1</td>\n",
       "      <td>0.118663</td>\n",
       "    </tr>\n",
       "  </tbody>\n",
       "</table>\n",
       "</div>"
      ],
      "text/plain": [
       "   MWG  NWG  KWG  MDIMC  NDIMC  MDIMA  NDIMB  KWI  VWM  VWN  STRM  STRN  SA  \\\n",
       "0   16   16   16      8      8      8      8    2    1    1     0     0   0   \n",
       "1   16   16   16      8      8      8      8    2    1    1     0     0   0   \n",
       "2   16   16   16      8      8      8      8    2    1    1     0     0   1   \n",
       "3   16   16   16      8      8      8      8    2    1    1     0     0   1   \n",
       "4   16   16   16      8      8      8      8    2    1    1     0     1   0   \n",
       "\n",
       "   SB  intercept   Avg_run  \n",
       "0   0          1  0.116370  \n",
       "1   1          1  0.078705  \n",
       "2   0          1  0.080565  \n",
       "3   1          1  0.086638  \n",
       "4   0          1  0.118663  "
      ]
     },
     "execution_count": 400,
     "metadata": {},
     "output_type": "execute_result"
    }
   ],
   "source": [
    "# Reordering columns in runtime dataframe\n",
    "data = data.reindex(columns= ['MWG', 'NWG', 'KWG', 'MDIMC', 'NDIMC', 'MDIMA', 'NDIMB', 'KWI', 'VWM', 'VWN', 'STRM', 'STRN',\n",
    "                                  'SA', 'SB', 'intercept', 'Avg_run'])\n",
    "data.head()"
   ]
  },
  {
   "cell_type": "code",
   "execution_count": 401,
   "metadata": {
    "scrolled": true
   },
   "outputs": [
    {
     "data": {
      "text/plain": [
       "(   MWG  NWG  KWG  MDIMC  NDIMC  MDIMA  NDIMB  KWI  VWM  VWN  STRM  STRN  SA  \\\n",
       " 0   16   16   16      8      8      8      8    2    1    1     0     0   0   \n",
       " 1   16   16   16      8      8      8      8    2    1    1     0     0   0   \n",
       " 2   16   16   16      8      8      8      8    2    1    1     0     0   1   \n",
       " 3   16   16   16      8      8      8      8    2    1    1     0     0   1   \n",
       " 4   16   16   16      8      8      8      8    2    1    1     0     1   0   \n",
       " \n",
       "    SB  intercept   Avg_run  \n",
       " 0   0          1  0.116370  \n",
       " 1   1          1  0.078705  \n",
       " 2   0          1  0.080565  \n",
       " 3   1          1  0.086638  \n",
       " 4   0          1  0.118663  , (241600, 16))"
      ]
     },
     "execution_count": 401,
     "metadata": {},
     "output_type": "execute_result"
    }
   ],
   "source": [
    "# Creating a copy of dataframe\n",
    "df = data.copy()\n",
    "df.head(), df.shape"
   ]
  },
  {
   "cell_type": "code",
   "execution_count": 403,
   "metadata": {},
   "outputs": [
    {
     "data": {
      "text/plain": [
       "(241600, 15)"
      ]
     },
     "execution_count": 403,
     "metadata": {},
     "output_type": "execute_result"
    }
   ],
   "source": [
    "# Creating a matrix of independent variables\n",
    "ind_data = np.array(data)\n",
    "ind_data = ind_data[:, 0:15]\n",
    "ind_data.shape"
   ]
  },
  {
   "cell_type": "markdown",
   "metadata": {},
   "source": [
    "# Linear Regression"
   ]
  },
  {
   "cell_type": "code",
   "execution_count": 404,
   "metadata": {},
   "outputs": [
    {
     "data": {
      "text/plain": [
       "((169120, 15), (169120,), (72480, 15), (72480,))"
      ]
     },
     "execution_count": 404,
     "metadata": {},
     "output_type": "execute_result"
    }
   ],
   "source": [
    "# Splitting the data into train and test dataset\n",
    "from sklearn.model_selection import train_test_split\n",
    "x_train, x_test, y_train, y_test = train_test_split(ind_data, data['Avg_run'], test_size = 0.3)\n",
    "x_train.shape, y_train.shape, x_test.shape, y_test.shape"
   ]
  },
  {
   "cell_type": "code",
   "execution_count": 405,
   "metadata": {},
   "outputs": [
    {
     "data": {
      "text/plain": [
       "((169120, 1), (72480, 1))"
      ]
     },
     "execution_count": 405,
     "metadata": {},
     "output_type": "execute_result"
    }
   ],
   "source": [
    "y_train = np.array(y_train).reshape([-1,1])\n",
    "y_test = np.array(y_test).reshape([-1,1])\n",
    "y_train.shape, y_test.shape"
   ]
  },
  {
   "cell_type": "code",
   "execution_count": 406,
   "metadata": {
    "scrolled": true
   },
   "outputs": [
    {
     "data": {
      "text/plain": [
       "(15, 1)"
      ]
     },
     "execution_count": 406,
     "metadata": {},
     "output_type": "execute_result"
    }
   ],
   "source": [
    "#Generating a random matrix\n",
    "np.random.seed(123)\n",
    "theta = np.random.rand(ind_data.shape[1],1)\n",
    "theta[0:,]\n",
    "theta.shape"
   ]
  },
  {
   "cell_type": "code",
   "execution_count": 407,
   "metadata": {},
   "outputs": [],
   "source": [
    "# Function for Normalization\n",
    "from sklearn.preprocessing import StandardScaler\n",
    "def standardization(x):\n",
    "    stdscaler = StandardScaler()\n",
    "    new_df = stdscaler.fit_transform(x)\n",
    "    return new_df"
   ]
  },
  {
   "cell_type": "code",
   "execution_count": 21,
   "metadata": {},
   "outputs": [],
   "source": [
    "'''import pandas as pd\n",
    "from sklearn import preprocessing\n",
    "\n",
    "cols = data.columns\n",
    "data_normal = data.values #returns a numpy array\n",
    "min_max_scaler = preprocessing.MinMaxScaler()\n",
    "data_normal = min_max_scaler.fit_transform(data_normal)\n",
    "data_normal = pd.DataFrame(data_normal, columns = cols)'''"
   ]
  },
  {
   "cell_type": "code",
   "execution_count": 408,
   "metadata": {},
   "outputs": [],
   "source": [
    "x_train = standardization(x_train)\n",
    "y_train = standardization(y_train)\n",
    "x_test = standardization(x_test)\n",
    "y_test = standardization(y_test)"
   ]
  },
  {
   "cell_type": "code",
   "execution_count": 409,
   "metadata": {},
   "outputs": [],
   "source": [
    "def cost(x, y, theta):\n",
    "    m = len(data.axes[0])\n",
    "    theta1 = np.matmul(x, theta)\n",
    "    cost = (1/(2*m))*sum(np.subtract(theta1, y)**2)\n",
    "    return cost    "
   ]
  },
  {
   "cell_type": "code",
   "execution_count": 410,
   "metadata": {},
   "outputs": [],
   "source": [
    "def gradient_descent_linear(x, y, theta, lr, iterations):\n",
    "    m = len(data.axes[0])\n",
    "    cost_hist = [0]*iterations\n",
    "    for i in range(iterations):\n",
    "        theta = theta - (lr/m)*np.matmul(x.T, ((np.matmul(x,theta))-y))\n",
    "        cost_hist[i] = cost(x, y, theta)\n",
    "        \n",
    "    return (cost_hist, theta)    "
   ]
  },
  {
   "cell_type": "code",
   "execution_count": 411,
   "metadata": {
    "scrolled": true
   },
   "outputs": [
    {
     "name": "stdout",
     "output_type": "stream",
     "text": [
      "Initial cost is:  [1.93459165] \n",
      "\n",
      "Optimal parameters are: \n",
      " [[ 0.38331313]\n",
      " [ 0.35476355]\n",
      " [ 0.11067004]\n",
      " [-0.35748212]\n",
      " [-0.35064644]\n",
      " [ 0.02664959]\n",
      " [ 0.0267679 ]\n",
      " [ 0.03307982]\n",
      " [-0.00766684]\n",
      " [-0.01831859]\n",
      " [-0.01262313]\n",
      " [ 0.00151355]\n",
      " [ 0.05132519]\n",
      " [ 0.06555645]\n",
      " [ 0.39804426]] \n",
      "\n",
      "Final cost is:  [0.20712793]\n"
     ]
    },
    {
     "data": {
      "image/png": "[encoded data removed]",
      "text/plain": [
       "<Figure size 432x288 with 1 Axes>"
      ]
     },
     "metadata": {},
     "output_type": "display_data"
    }
   ],
   "source": [
    "np.random.seed(123)\n",
    "iterations = 5000\n",
    "lr = 0.01\n",
    "\n",
    "initial_cost = cost(x_train, y_train, theta)\n",
    "print(\"Initial cost is: \", initial_cost, \"\\n\")\n",
    "(cost_hist, cost_theta) = gradient_descent_linear(x_train, y_train, theta, lr, iterations)\n",
    "print(\"Optimal parameters are: \\n\", cost_theta, \"\\n\")\n",
    "print(\"Final cost is: \", cost_hist[-1])\n",
    "\n",
    "plt.plot(range(len(cost_hist)), cost_hist, 'r')\n",
    "plt.title(\"Convergence Graph of Cost Function\")\n",
    "plt.xlabel(\"Number of Iterations\")\n",
    "plt.ylabel(\"Cost\")\n",
    "plt.xlim([0,5000])\n",
    "plt.show()"
   ]
  },
  {
   "cell_type": "code",
   "execution_count": 412,
   "metadata": {},
   "outputs": [
    {
     "data": {
      "text/plain": [
       "array([0.20712793])"
      ]
     },
     "execution_count": 412,
     "metadata": {},
     "output_type": "execute_result"
    }
   ],
   "source": [
    "cost_hist[4999]"
   ]
  },
  {
   "cell_type": "code",
   "execution_count": 413,
   "metadata": {},
   "outputs": [],
   "source": [
    "def pred(x, y):\n",
    "    val = x.dot(y)\n",
    "    return val\n",
    "\n",
    "final_pred_test = pred(x_test, cost_theta)"
   ]
  },
  {
   "cell_type": "code",
   "execution_count": 414,
   "metadata": {},
   "outputs": [],
   "source": [
    "from sklearn.linear_model import LinearRegression\n",
    "from sklearn.metrics import confusion_matrix\n",
    "from sklearn.linear_model import LogisticRegression\n",
    "import math\n",
    "import sklearn.metrics as metrics"
   ]
  },
  {
   "cell_type": "code",
   "execution_count": 415,
   "metadata": {},
   "outputs": [
    {
     "data": {
      "text/plain": [
       "0.7708892598250859"
      ]
     },
     "execution_count": 415,
     "metadata": {},
     "output_type": "execute_result"
    }
   ],
   "source": [
    "regressor = LinearRegression()  \n",
    "regressor.fit(x_train, y_train)\n",
    "final_pred = regressor.predict(x_test)\n",
    "error = final_pred-y_test\n",
    "math.sqrt(sum(error*error)/len(error))"
   ]
  },
  {
   "cell_type": "code",
   "execution_count": 416,
   "metadata": {},
   "outputs": [],
   "source": [
    "def result(x, y):\n",
    "    mean_ae=metrics.mean_absolute_error(x,y) \n",
    "    mse=metrics.mean_squared_error(x,y) \n",
    "    median_ae=metrics.median_absolute_error(x,y)\n",
    "    r2=metrics.r2_score(x,y)\n",
    "    print('R2 of the model: ', r2)\n",
    "    print('Mean absolute error: ', mean_ae)\n",
    "    print('Mean squared error: ', mse)\n",
    "    print('Root mean squared error: ', np.sqrt(mse))"
   ]
  },
  {
   "cell_type": "code",
   "execution_count": 417,
   "metadata": {},
   "outputs": [],
   "source": [
    "final_pred_train = pred(x_train, cost_theta)"
   ]
  },
  {
   "cell_type": "code",
   "execution_count": 418,
   "metadata": {},
   "outputs": [
    {
     "name": "stdout",
     "output_type": "stream",
     "text": [
      "R2 of the model:  0.4057297492133347\n",
      "Mean absolute error:  0.4796264760696641\n",
      "Mean squared error:  0.5942702507866653\n",
      "Root mean squared error:  0.7708892597427113\n"
     ]
    }
   ],
   "source": [
    "result(y_test, final_pred_test)"
   ]
  },
  {
   "cell_type": "code",
   "execution_count": 419,
   "metadata": {},
   "outputs": [
    {
     "name": "stdout",
     "output_type": "stream",
     "text": [
      "R2 of the model:  0.4082059241746796\n",
      "Mean absolute error:  0.4781242503821921\n",
      "Mean squared error:  0.5917940758253204\n",
      "Root mean squared error:  0.7692815322268697\n"
     ]
    }
   ],
   "source": [
    "result(y_train, final_pred_train)"
   ]
  },
  {
   "cell_type": "markdown",
   "metadata": {},
   "source": [
    "## Logistic Regression"
   ]
  },
  {
   "cell_type": "code",
   "execution_count": 420,
   "metadata": {},
   "outputs": [],
   "source": [
    "import statistics"
   ]
  },
  {
   "cell_type": "code",
   "execution_count": 421,
   "metadata": {},
   "outputs": [
    {
     "data": {
      "text/plain": [
       "0.06979"
      ]
     },
     "execution_count": 421,
     "metadata": {},
     "output_type": "execute_result"
    }
   ],
   "source": [
    "# Calculating the median for Avg_run column\n",
    "median_run = statistics.median(data[\"Avg_run\"])\n",
    "median_run"
   ]
  },
  {
   "cell_type": "code",
   "execution_count": 422,
   "metadata": {},
   "outputs": [
    {
     "data": {
      "text/plain": [
       "(   MWG  NWG  KWG  MDIMC  NDIMC  MDIMA  NDIMB  KWI  VWM  VWN  STRM  STRN  SA  \\\n",
       " 0   16   16   16      8      8      8      8    2    1    1     0     0   0   \n",
       " 1   16   16   16      8      8      8      8    2    1    1     0     0   0   \n",
       " \n",
       "    SB  intercept  Avg_run  \n",
       " 0   0          1        1  \n",
       " 1   1          1        1  , (241600, 16))"
      ]
     },
     "execution_count": 422,
     "metadata": {},
     "output_type": "execute_result"
    }
   ],
   "source": [
    "# Replacing the Avg_run column in the dataset with a new column such that we have only 1,0 values for Logistic regression\n",
    "df['Logistic_run'] = median_run\n",
    "df['Avg_run'] = np.where(df['Avg_run'] >= df['Logistic_run'], 1, 0)\n",
    "df = df.drop(['Logistic_run'], axis = 1)\n",
    "df.head(2), df.shape"
   ]
  },
  {
   "cell_type": "code",
   "execution_count": 423,
   "metadata": {},
   "outputs": [
    {
     "data": {
      "text/plain": [
       "(241600, 15)"
      ]
     },
     "execution_count": 423,
     "metadata": {},
     "output_type": "execute_result"
    }
   ],
   "source": [
    "df1 = np.array(df)\n",
    "df1 = df1[:,0:15]\n",
    "df1.shape"
   ]
  },
  {
   "cell_type": "code",
   "execution_count": 424,
   "metadata": {},
   "outputs": [],
   "source": [
    "Avg_run = df.iloc[:, 15]\n",
    "Avg_run = np.array(Avg_run)\n",
    "Avg_run = Avg_run.reshape([-1,1])"
   ]
  },
  {
   "cell_type": "code",
   "execution_count": 425,
   "metadata": {
    "scrolled": false
   },
   "outputs": [
    {
     "data": {
      "text/plain": [
       "((169120, 15), (72480, 15), (169120, 1), (72480, 1))"
      ]
     },
     "execution_count": 425,
     "metadata": {},
     "output_type": "execute_result"
    }
   ],
   "source": [
    "x_train_log, x_test_log, y_train_log, y_test_log = train_test_split(df1, Avg_run ,test_size = 0.3)\n",
    "x_train_log.shape, x_test_log.shape, y_train_log.shape, y_test_log.shape"
   ]
  },
  {
   "cell_type": "code",
   "execution_count": 426,
   "metadata": {},
   "outputs": [
    {
     "data": {
      "text/plain": [
       "(numpy.ndarray, numpy.ndarray, numpy.ndarray, numpy.ndarray)"
      ]
     },
     "execution_count": 426,
     "metadata": {},
     "output_type": "execute_result"
    }
   ],
   "source": [
    "type(x_train_log), type(x_test_log), type(y_train_log), type(y_test_log)"
   ]
  },
  {
   "cell_type": "code",
   "execution_count": 427,
   "metadata": {},
   "outputs": [],
   "source": [
    "x_train_log = standardization(x_train_log)\n",
    "x_test_log = standardization(x_test_log)"
   ]
  },
  {
   "cell_type": "code",
   "execution_count": 428,
   "metadata": {
    "scrolled": true
   },
   "outputs": [
    {
     "data": {
      "text/plain": [
       "numpy.ndarray"
      ]
     },
     "execution_count": 428,
     "metadata": {},
     "output_type": "execute_result"
    }
   ],
   "source": [
    "np.random.seed(123)\n",
    "n = np.size(x_train_log,1)\n",
    "theta_log = np.random.rand(n,1)\n",
    "\n",
    "type(theta_log)"
   ]
  },
  {
   "cell_type": "code",
   "execution_count": 429,
   "metadata": {},
   "outputs": [],
   "source": [
    "def sigmoid(var):\n",
    "    return 1/(1 + np.exp(-var))"
   ]
  },
  {
   "cell_type": "code",
   "execution_count": 430,
   "metadata": {},
   "outputs": [],
   "source": [
    "def cost_log(x, y, theta):\n",
    "    m = len(y)\n",
    "    h = sigmoid(x @ theta)\n",
    "    epsilon = 1e-5\n",
    "    cost = (-1/m)*(((y).T @ np.log(h + epsilon))+((1-y).T @ np.log(1-h + epsilon)))\n",
    "    return cost"
   ]
  },
  {
   "cell_type": "code",
   "execution_count": 431,
   "metadata": {},
   "outputs": [],
   "source": [
    "def gradient_descent(x, y, theta, learning_rate, iterations):\n",
    "    m = len(y)\n",
    "    cost_history = np.zeros((iterations,1))\n",
    "\n",
    "    for i in range(iterations):\n",
    "        theta = theta - (learning_rate/m) * (x.T @ (sigmoid(x @ theta) - y)) \n",
    "        cost_history[i] = cost_log(x, y, theta)\n",
    "\n",
    "    return (cost_history, theta)"
   ]
  },
  {
   "cell_type": "code",
   "execution_count": 432,
   "metadata": {},
   "outputs": [],
   "source": [
    "def predict(x, theta):\n",
    "    return np.round(sigmoid(x @ theta))"
   ]
  },
  {
   "cell_type": "code",
   "execution_count": 433,
   "metadata": {
    "scrolled": false
   },
   "outputs": [
    {
     "name": "stdout",
     "output_type": "stream",
     "text": [
      "Initial Cost is: [[1.08857872]] \n",
      "\n",
      "Optimal Parameters are: \n",
      " [[ 1.32155502]\n",
      " [ 0.84822735]\n",
      " [ 0.15041972]\n",
      " [-0.89910726]\n",
      " [-0.76073096]\n",
      " [-0.04662451]\n",
      " [-0.07730028]\n",
      " [-0.0184566 ]\n",
      " [-0.07314267]\n",
      " [-0.14244896]\n",
      " [-0.32622719]\n",
      " [-0.02910469]\n",
      " [-0.40205567]\n",
      " [-0.08262816]\n",
      " [ 0.39804426]] \n",
      "\n"
     ]
    },
    {
     "data": {
      "image/png": "[encoded data removed]",
      "text/plain": [
       "<Figure size 432x288 with 1 Axes>"
      ]
     },
     "metadata": {},
     "output_type": "display_data"
    }
   ],
   "source": [
    "iterations = 1000\n",
    "learning_rate = 0.08\n",
    "\n",
    "initial_cost = cost_log(x_train_log, y_train_log, theta_log)\n",
    "print(\"Initial Cost is: {} \\n\".format(initial_cost))\n",
    "(cost_history, theta_optimal) = gradient_descent(x_train_log, y_train_log, theta_log, learning_rate, iterations)\n",
    "print(\"Optimal Parameters are: \\n\", theta_optimal, \"\\n\")\n",
    "\n",
    "plt.figure()\n",
    "sns.set_style('white')\n",
    "plt.plot(range(len(cost_history)), cost_history, 'r')\n",
    "plt.title(\"Convergence Graph of Cost Function\")\n",
    "plt.xlabel(\"Number of Iterations\")\n",
    "plt.ylabel(\"Cost\")\n",
    "plt.xlim([0,1000])\n",
    "plt.show()"
   ]
  },
  {
   "cell_type": "code",
   "execution_count": 434,
   "metadata": {},
   "outputs": [
    {
     "data": {
      "text/plain": [
       "array([0.47503852])"
      ]
     },
     "execution_count": 434,
     "metadata": {},
     "output_type": "execute_result"
    }
   ],
   "source": [
    "cost_history[999]"
   ]
  },
  {
   "cell_type": "code",
   "execution_count": 435,
   "metadata": {},
   "outputs": [],
   "source": [
    "from sklearn.metrics import confusion_matrix"
   ]
  },
  {
   "cell_type": "code",
   "execution_count": 436,
   "metadata": {},
   "outputs": [],
   "source": [
    "final_pred_log_test = predict(x_test_log, theta_optimal)"
   ]
  },
  {
   "cell_type": "code",
   "execution_count": 437,
   "metadata": {},
   "outputs": [],
   "source": [
    "final_pred_log_train = predict(x_train_log, theta_optimal)"
   ]
  },
  {
   "cell_type": "code",
   "execution_count": 438,
   "metadata": {},
   "outputs": [
    {
     "name": "stdout",
     "output_type": "stream",
     "text": [
      "[[29275  6896]\n",
      " [ 7169 29140]]\n"
     ]
    }
   ],
   "source": [
    "confusionmatrix_log_test = confusion_matrix(y_test_log, final_pred_log_test)\n",
    "print(confusionmatrix_log_test)"
   ]
  },
  {
   "cell_type": "code",
   "execution_count": 439,
   "metadata": {},
   "outputs": [
    {
     "name": "stdout",
     "output_type": "stream",
     "text": [
      "[[69164 15464]\n",
      " [16376 68116]]\n"
     ]
    }
   ],
   "source": [
    "confusionmatrix_log_train = confusion_matrix(y_train_log, final_pred_log_train)\n",
    "print(confusionmatrix_log_train)"
   ]
  },
  {
   "cell_type": "code",
   "execution_count": 440,
   "metadata": {},
   "outputs": [],
   "source": [
    "def accuracy(x,y):\n",
    "    count=0\n",
    "    for i in range(len(x)):\n",
    "        if (x[i]+y[i]==2) or (x[i]+y[i]==0):\n",
    "            count=count+1\n",
    "    return(count/len(x))"
   ]
  },
  {
   "cell_type": "code",
   "execution_count": 441,
   "metadata": {},
   "outputs": [
    {
     "data": {
      "text/plain": [
       "0.8117313150425733"
      ]
     },
     "execution_count": 441,
     "metadata": {},
     "output_type": "execute_result"
    }
   ],
   "source": [
    "accuracy(y_train_log, final_pred_log_train)"
   ]
  },
  {
   "cell_type": "code",
   "execution_count": 442,
   "metadata": {},
   "outputs": [
    {
     "data": {
      "text/plain": [
       "0.80594646799117"
      ]
     },
     "execution_count": 442,
     "metadata": {},
     "output_type": "execute_result"
    }
   ],
   "source": [
    "accuracy(y_test_log, final_pred_log_test)"
   ]
  },
  {
   "cell_type": "markdown",
   "metadata": {},
   "source": [
    "# Experiment 1"
   ]
  },
  {
   "cell_type": "markdown",
   "metadata": {},
   "source": [
    "## Linear Regression"
   ]
  },
  {
   "cell_type": "markdown",
   "metadata": {},
   "source": [
    "### Case 2: Changing the value of alpha and iteration to 0.05 and 2000 respectively"
   ]
  },
  {
   "cell_type": "code",
   "execution_count": 443,
   "metadata": {},
   "outputs": [
    {
     "data": {
      "text/plain": [
       "(15, 1)"
      ]
     },
     "execution_count": 443,
     "metadata": {},
     "output_type": "execute_result"
    }
   ],
   "source": [
    "#Generating a random matrix\n",
    "np.random.seed(123)\n",
    "theta = np.random.rand(ind_data.shape[1],1)\n",
    "theta[0:,]\n",
    "theta.shape"
   ]
  },
  {
   "cell_type": "code",
   "execution_count": 444,
   "metadata": {},
   "outputs": [
    {
     "name": "stdout",
     "output_type": "stream",
     "text": [
      "Initial cost is:  [1.93459165] \n",
      "\n",
      "Optimal parameters are: \n",
      " [[ 0.38331313]\n",
      " [ 0.35476356]\n",
      " [ 0.11067004]\n",
      " [-0.35748213]\n",
      " [-0.35064644]\n",
      " [ 0.02664959]\n",
      " [ 0.02676789]\n",
      " [ 0.03307982]\n",
      " [-0.00766684]\n",
      " [-0.0183186 ]\n",
      " [-0.01262313]\n",
      " [ 0.00151355]\n",
      " [ 0.05132519]\n",
      " [ 0.06555645]\n",
      " [ 0.39804426]] \n",
      "\n",
      "Final cost is:  [0.20712793]\n"
     ]
    },
    {
     "data": {
      "image/png": "[encoded data removed]",
      "text/plain": [
       "<Figure size 432x288 with 1 Axes>"
      ]
     },
     "metadata": {},
     "output_type": "display_data"
    }
   ],
   "source": [
    "np.random.seed(123)\n",
    "iterations = 2000\n",
    "lr = 0.05\n",
    "\n",
    "initial_cost = cost(x_train, y_train, theta)\n",
    "print(\"Initial cost is: \", initial_cost, \"\\n\")\n",
    "(cost_hist, cost_theta) = gradient_descent_linear(x_train, y_train, theta, lr, iterations)\n",
    "print(\"Optimal parameters are: \\n\", cost_theta, \"\\n\")\n",
    "print(\"Final cost is: \", cost_hist[-1])\n",
    "\n",
    "plt.plot(range(len(cost_hist)), cost_hist, 'r')\n",
    "plt.title(\"Convergence Graph of Cost Function\")\n",
    "plt.xlabel(\"Number of Iterations\")\n",
    "plt.ylabel(\"Cost\")\n",
    "plt.xlim([0,2000])\n",
    "plt.show()"
   ]
  },
  {
   "cell_type": "code",
   "execution_count": 445,
   "metadata": {},
   "outputs": [
    {
     "data": {
      "text/plain": [
       "array([0.20712793])"
      ]
     },
     "execution_count": 445,
     "metadata": {},
     "output_type": "execute_result"
    }
   ],
   "source": [
    "cost_hist[1999]"
   ]
  },
  {
   "cell_type": "code",
   "execution_count": 446,
   "metadata": {},
   "outputs": [],
   "source": [
    "final_pred_linear_test1 = pred(x_test, cost_theta)"
   ]
  },
  {
   "cell_type": "code",
   "execution_count": 447,
   "metadata": {},
   "outputs": [
    {
     "name": "stdout",
     "output_type": "stream",
     "text": [
      "R2 of the model:  0.4057297490863244\n",
      "Mean absolute error:  0.4796264779008009\n",
      "Mean squared error:  0.5942702509136756\n",
      "Root mean squared error:  0.7708892598250903\n"
     ]
    }
   ],
   "source": [
    "result(y_test, final_pred_linear_test1)"
   ]
  },
  {
   "cell_type": "code",
   "execution_count": 448,
   "metadata": {},
   "outputs": [],
   "source": [
    "final_pred_linear_train1 = pred(x_train, cost_theta)"
   ]
  },
  {
   "cell_type": "code",
   "execution_count": 449,
   "metadata": {},
   "outputs": [
    {
     "name": "stdout",
     "output_type": "stream",
     "text": [
      "R2 of the model:  0.4082059241746797\n",
      "Mean absolute error:  0.4781242521606852\n",
      "Mean squared error:  0.5917940758253203\n",
      "Root mean squared error:  0.7692815322268697\n"
     ]
    }
   ],
   "source": [
    "result(y_train, final_pred_linear_train1)"
   ]
  },
  {
   "cell_type": "markdown",
   "metadata": {},
   "source": [
    "### Case 3: Trying out multiple values of alpha i.e. 0.03, 0.07, 0.09 and iterations = 1500"
   ]
  },
  {
   "cell_type": "code",
   "execution_count": 450,
   "metadata": {},
   "outputs": [
    {
     "data": {
      "text/plain": [
       "(15, 1)"
      ]
     },
     "execution_count": 450,
     "metadata": {},
     "output_type": "execute_result"
    }
   ],
   "source": [
    "#Generating a random matrix\n",
    "np.random.seed(123)\n",
    "theta = np.random.rand(ind_data.shape[1],1)\n",
    "theta[0:,]\n",
    "theta.shape"
   ]
  },
  {
   "cell_type": "code",
   "execution_count": 451,
   "metadata": {},
   "outputs": [
    {
     "name": "stdout",
     "output_type": "stream",
     "text": [
      "Initial cost is:  [1.93459165] \n",
      "\n",
      "Optimal parameters are: \n",
      " [[ 0.38331312]\n",
      " [ 0.3547635 ]\n",
      " [ 0.11067003]\n",
      " [-0.35748211]\n",
      " [-0.35064641]\n",
      " [ 0.02664959]\n",
      " [ 0.02676792]\n",
      " [ 0.03307982]\n",
      " [-0.00766683]\n",
      " [-0.01831854]\n",
      " [-0.01262313]\n",
      " [ 0.00151355]\n",
      " [ 0.05132519]\n",
      " [ 0.06555645]\n",
      " [ 0.39804426]] \n",
      "\n",
      "Final cost is:  [0.20712793]\n"
     ]
    },
    {
     "data": {
      "image/png": "[encoded data removed]",
      "text/plain": [
       "<Figure size 432x288 with 1 Axes>"
      ]
     },
     "metadata": {},
     "output_type": "display_data"
    }
   ],
   "source": [
    "np.random.seed(123)\n",
    "iterations = 1500\n",
    "lr = 0.03\n",
    "\n",
    "initial_cost = cost(x_train, y_train, theta)\n",
    "print(\"Initial cost is: \", initial_cost, \"\\n\")\n",
    "(cost_hist, cost_theta) = gradient_descent_linear(x_train, y_train, theta, lr, iterations)\n",
    "print(\"Optimal parameters are: \\n\", cost_theta, \"\\n\")\n",
    "print(\"Final cost is: \", cost_hist[-1])\n",
    "\n",
    "plt.plot(range(len(cost_hist)), cost_hist, 'r')\n",
    "plt.title(\"Convergence Graph of Cost Function\")\n",
    "plt.xlabel(\"Number of Iterations\")\n",
    "plt.ylabel(\"Cost\")\n",
    "plt.xlim([0,1500])\n",
    "plt.show()"
   ]
  },
  {
   "cell_type": "code",
   "execution_count": 452,
   "metadata": {},
   "outputs": [
    {
     "data": {
      "text/plain": [
       "array([0.20712793])"
      ]
     },
     "execution_count": 452,
     "metadata": {},
     "output_type": "execute_result"
    }
   ],
   "source": [
    "cost_hist[1499]"
   ]
  },
  {
   "cell_type": "code",
   "execution_count": 453,
   "metadata": {},
   "outputs": [],
   "source": [
    "final_pred_linear_test2 = pred(x_test, cost_theta)"
   ]
  },
  {
   "cell_type": "code",
   "execution_count": 454,
   "metadata": {},
   "outputs": [
    {
     "name": "stdout",
     "output_type": "stream",
     "text": [
      "R2 of the model:  0.4057297498045438\n",
      "Mean absolute error:  0.47962646712841966\n",
      "Mean squared error:  0.5942702501954562\n",
      "Root mean squared error:  0.7708892593592521\n"
     ]
    }
   ],
   "source": [
    "result(y_test, final_pred_linear_test2)"
   ]
  },
  {
   "cell_type": "code",
   "execution_count": 455,
   "metadata": {},
   "outputs": [],
   "source": [
    "final_pred_linear_train2 = pred(x_train, cost_theta)"
   ]
  },
  {
   "cell_type": "code",
   "execution_count": 456,
   "metadata": {},
   "outputs": [
    {
     "name": "stdout",
     "output_type": "stream",
     "text": [
      "R2 of the model:  0.40820592417467494\n",
      "Mean absolute error:  0.4781242416845978\n",
      "Mean squared error:  0.5917940758253251\n",
      "Root mean squared error:  0.7692815322268728\n"
     ]
    }
   ],
   "source": [
    "result(y_train, final_pred_linear_train2)"
   ]
  },
  {
   "cell_type": "code",
   "execution_count": 457,
   "metadata": {},
   "outputs": [
    {
     "data": {
      "text/plain": [
       "(15, 1)"
      ]
     },
     "execution_count": 457,
     "metadata": {},
     "output_type": "execute_result"
    }
   ],
   "source": [
    "#Generating a random matrix\n",
    "np.random.seed(123)\n",
    "theta = np.random.rand(ind_data.shape[1],1)\n",
    "theta[0:,]\n",
    "theta.shape"
   ]
  },
  {
   "cell_type": "code",
   "execution_count": 458,
   "metadata": {},
   "outputs": [
    {
     "name": "stdout",
     "output_type": "stream",
     "text": [
      "Initial cost is:  [1.93459165] \n",
      "\n",
      "Optimal parameters are: \n",
      " [[ 0.38331313]\n",
      " [ 0.35476356]\n",
      " [ 0.11067004]\n",
      " [-0.35748213]\n",
      " [-0.35064644]\n",
      " [ 0.02664959]\n",
      " [ 0.02676789]\n",
      " [ 0.03307982]\n",
      " [-0.00766684]\n",
      " [-0.0183186 ]\n",
      " [-0.01262313]\n",
      " [ 0.00151355]\n",
      " [ 0.05132519]\n",
      " [ 0.06555645]\n",
      " [ 0.39804426]] \n",
      "\n",
      "Final cost is:  [0.20712793]\n"
     ]
    },
    {
     "data": {
      "image/png": "[encoded data removed]",
      "text/plain": [
       "<Figure size 432x288 with 1 Axes>"
      ]
     },
     "metadata": {},
     "output_type": "display_data"
    }
   ],
   "source": [
    "np.random.seed(123)\n",
    "iterations = 1500\n",
    "lr = 0.07\n",
    "\n",
    "initial_cost = cost(x_train, y_train, theta)\n",
    "print(\"Initial cost is: \", initial_cost, \"\\n\")\n",
    "(cost_hist, cost_theta) = gradient_descent_linear(x_train, y_train, theta, lr, iterations)\n",
    "print(\"Optimal parameters are: \\n\", cost_theta, \"\\n\")\n",
    "print(\"Final cost is: \", cost_hist[-1])\n",
    "\n",
    "plt.plot(range(len(cost_hist)), cost_hist, 'r')\n",
    "plt.title(\"Convergence Graph of Cost Function\")\n",
    "plt.xlabel(\"Number of Iterations\")\n",
    "plt.ylabel(\"Cost\")\n",
    "plt.xlim([0,1400])\n",
    "plt.show()"
   ]
  },
  {
   "cell_type": "code",
   "execution_count": 459,
   "metadata": {},
   "outputs": [
    {
     "data": {
      "text/plain": [
       "array([0.20712793])"
      ]
     },
     "execution_count": 459,
     "metadata": {},
     "output_type": "execute_result"
    }
   ],
   "source": [
    "cost_hist[1499]"
   ]
  },
  {
   "cell_type": "code",
   "execution_count": 460,
   "metadata": {},
   "outputs": [],
   "source": [
    "final_pred_linear_test3 = pred(x_test, cost_theta)"
   ]
  },
  {
   "cell_type": "code",
   "execution_count": 461,
   "metadata": {},
   "outputs": [
    {
     "name": "stdout",
     "output_type": "stream",
     "text": [
      "R2 of the model:  0.4057297490863244\n",
      "Mean absolute error:  0.47962647790080104\n",
      "Mean squared error:  0.5942702509136756\n",
      "Root mean squared error:  0.7708892598250903\n"
     ]
    }
   ],
   "source": [
    "result(y_test, final_pred_linear_test3)"
   ]
  },
  {
   "cell_type": "code",
   "execution_count": 462,
   "metadata": {},
   "outputs": [],
   "source": [
    "final_pred_linear_train3 = pred(x_train, cost_theta)"
   ]
  },
  {
   "cell_type": "code",
   "execution_count": 463,
   "metadata": {},
   "outputs": [
    {
     "name": "stdout",
     "output_type": "stream",
     "text": [
      "R2 of the model:  0.4082059241746796\n",
      "Mean absolute error:  0.4781242521606854\n",
      "Mean squared error:  0.5917940758253204\n",
      "Root mean squared error:  0.7692815322268697\n"
     ]
    }
   ],
   "source": [
    "result(y_train, final_pred_linear_train3)"
   ]
  },
  {
   "cell_type": "code",
   "execution_count": 464,
   "metadata": {},
   "outputs": [
    {
     "data": {
      "text/plain": [
       "(15, 1)"
      ]
     },
     "execution_count": 464,
     "metadata": {},
     "output_type": "execute_result"
    }
   ],
   "source": [
    "#Generating a random matrix\n",
    "np.random.seed(123)\n",
    "theta = np.random.rand(ind_data.shape[1],1)\n",
    "theta[0:,]\n",
    "theta.shape"
   ]
  },
  {
   "cell_type": "code",
   "execution_count": 465,
   "metadata": {},
   "outputs": [
    {
     "name": "stdout",
     "output_type": "stream",
     "text": [
      "Initial cost is:  [1.93459165] \n",
      "\n",
      "Optimal parameters are: \n",
      " [[ 0.38331313]\n",
      " [ 0.35476356]\n",
      " [ 0.11067004]\n",
      " [-0.35748213]\n",
      " [-0.35064644]\n",
      " [ 0.02664959]\n",
      " [ 0.02676789]\n",
      " [ 0.03307982]\n",
      " [-0.00766684]\n",
      " [-0.0183186 ]\n",
      " [-0.01262313]\n",
      " [ 0.00151355]\n",
      " [ 0.05132519]\n",
      " [ 0.06555645]\n",
      " [ 0.39804426]] \n",
      "\n",
      "Final cost is:  [0.20712793]\n"
     ]
    },
    {
     "data": {
      "image/png": "[encoded data removed]",
      "text/plain": [
       "<Figure size 432x288 with 1 Axes>"
      ]
     },
     "metadata": {},
     "output_type": "display_data"
    }
   ],
   "source": [
    "np.random.seed(123)\n",
    "iterations = 1500\n",
    "lr = 0.09\n",
    "\n",
    "initial_cost = cost(x_train, y_train, theta)\n",
    "print(\"Initial cost is: \", initial_cost, \"\\n\")\n",
    "(cost_hist, cost_theta) = gradient_descent_linear(x_train, y_train, theta, lr, iterations)\n",
    "print(\"Optimal parameters are: \\n\", cost_theta, \"\\n\")\n",
    "print(\"Final cost is: \", cost_hist[-1])\n",
    "\n",
    "plt.plot(range(len(cost_hist)), cost_hist, 'r')\n",
    "plt.title(\"Convergence Graph of Cost Function\")\n",
    "plt.xlabel(\"Number of Iterations\")\n",
    "plt.ylabel(\"Cost\")\n",
    "plt.xlim([0,1500])\n",
    "plt.show()"
   ]
  },
  {
   "cell_type": "code",
   "execution_count": 467,
   "metadata": {},
   "outputs": [
    {
     "data": {
      "text/plain": [
       "array([0.20712793])"
      ]
     },
     "execution_count": 467,
     "metadata": {},
     "output_type": "execute_result"
    }
   ],
   "source": [
    "cost_hist[1499]"
   ]
  },
  {
   "cell_type": "code",
   "execution_count": 468,
   "metadata": {},
   "outputs": [],
   "source": [
    "final_pred_linear_test4 = pred(x_test, cost_theta)"
   ]
  },
  {
   "cell_type": "code",
   "execution_count": 469,
   "metadata": {},
   "outputs": [
    {
     "name": "stdout",
     "output_type": "stream",
     "text": [
      "R2 of the model:  0.4057297490863244\n",
      "Mean absolute error:  0.47962647790080104\n",
      "Mean squared error:  0.5942702509136756\n",
      "Root mean squared error:  0.7708892598250903\n"
     ]
    }
   ],
   "source": [
    "result(y_test, final_pred_linear_test4)"
   ]
  },
  {
   "cell_type": "code",
   "execution_count": 470,
   "metadata": {},
   "outputs": [],
   "source": [
    "final_pred_linear_train4 = pred(x_train, cost_theta)"
   ]
  },
  {
   "cell_type": "code",
   "execution_count": 471,
   "metadata": {},
   "outputs": [
    {
     "name": "stdout",
     "output_type": "stream",
     "text": [
      "R2 of the model:  0.4082059241746797\n",
      "Mean absolute error:  0.4781242521606854\n",
      "Mean squared error:  0.5917940758253203\n",
      "Root mean squared error:  0.7692815322268697\n"
     ]
    }
   ],
   "source": [
    "result(y_train, final_pred_linear_train4)"
   ]
  },
  {
   "cell_type": "markdown",
   "metadata": {},
   "source": [
    "### Case 4: Varying the alpha in the range of (0.1 to 0.3) for 1500 iterations"
   ]
  },
  {
   "cell_type": "code",
   "execution_count": 472,
   "metadata": {},
   "outputs": [
    {
     "data": {
      "text/plain": [
       "(15, 1)"
      ]
     },
     "execution_count": 472,
     "metadata": {},
     "output_type": "execute_result"
    }
   ],
   "source": [
    "#Generating a random matrix\n",
    "np.random.seed(123)\n",
    "theta = np.random.rand(ind_data.shape[1],1)\n",
    "theta[0:,]\n",
    "theta.shape"
   ]
  },
  {
   "cell_type": "code",
   "execution_count": 473,
   "metadata": {},
   "outputs": [
    {
     "name": "stdout",
     "output_type": "stream",
     "text": [
      "Initial cost is:  [1.93459165] \n",
      "\n",
      "Optimal parameters are: \n",
      " [[ 0.38331313]\n",
      " [ 0.35476356]\n",
      " [ 0.11067004]\n",
      " [-0.35748213]\n",
      " [-0.35064644]\n",
      " [ 0.02664959]\n",
      " [ 0.02676789]\n",
      " [ 0.03307982]\n",
      " [-0.00766684]\n",
      " [-0.0183186 ]\n",
      " [-0.01262313]\n",
      " [ 0.00151355]\n",
      " [ 0.05132519]\n",
      " [ 0.06555645]\n",
      " [ 0.39804426]] \n",
      "\n",
      "Final cost is:  [0.20712793]\n"
     ]
    },
    {
     "data": {
      "image/png": "[encoded data removed]",
      "text/plain": [
       "<Figure size 432x288 with 1 Axes>"
      ]
     },
     "metadata": {},
     "output_type": "display_data"
    }
   ],
   "source": [
    "np.random.seed(123)\n",
    "iterations = 1500\n",
    "lr = 0.1\n",
    "\n",
    "initial_cost = cost(x_train, y_train, theta)\n",
    "print(\"Initial cost is: \", initial_cost, \"\\n\")\n",
    "(cost_hist, cost_theta) = gradient_descent_linear(x_train, y_train, theta, lr, iterations)\n",
    "print(\"Optimal parameters are: \\n\", cost_theta, \"\\n\")\n",
    "print(\"Final cost is: \", cost_hist[-1])\n",
    "\n",
    "plt.plot(range(len(cost_hist)), cost_hist, 'r')\n",
    "plt.title(\"Convergence Graph of Cost Function\")\n",
    "plt.xlabel(\"Number of Iterations\")\n",
    "plt.ylabel(\"Cost\")\n",
    "plt.xlim([0,1500])\n",
    "plt.show()"
   ]
  },
  {
   "cell_type": "code",
   "execution_count": 474,
   "metadata": {},
   "outputs": [
    {
     "data": {
      "text/plain": [
       "array([0.20712793])"
      ]
     },
     "execution_count": 474,
     "metadata": {},
     "output_type": "execute_result"
    }
   ],
   "source": [
    "cost_hist[1499]"
   ]
  },
  {
   "cell_type": "code",
   "execution_count": 475,
   "metadata": {},
   "outputs": [],
   "source": [
    "final_pred_linear_test5 = pred(x_test, cost_theta)"
   ]
  },
  {
   "cell_type": "code",
   "execution_count": 476,
   "metadata": {},
   "outputs": [
    {
     "name": "stdout",
     "output_type": "stream",
     "text": [
      "R2 of the model:  0.4057297490863244\n",
      "Mean absolute error:  0.47962647790080104\n",
      "Mean squared error:  0.5942702509136756\n",
      "Root mean squared error:  0.7708892598250903\n"
     ]
    }
   ],
   "source": [
    "result(y_test, final_pred_linear_test5)"
   ]
  },
  {
   "cell_type": "code",
   "execution_count": 477,
   "metadata": {},
   "outputs": [],
   "source": [
    "final_pred_linear_train5 = pred(x_train, cost_theta)"
   ]
  },
  {
   "cell_type": "code",
   "execution_count": 478,
   "metadata": {},
   "outputs": [
    {
     "name": "stdout",
     "output_type": "stream",
     "text": [
      "R2 of the model:  0.4082059241746796\n",
      "Mean absolute error:  0.47812425216068544\n",
      "Mean squared error:  0.5917940758253204\n",
      "Root mean squared error:  0.7692815322268697\n"
     ]
    }
   ],
   "source": [
    "result(y_train, final_pred_linear_train5)"
   ]
  },
  {
   "cell_type": "code",
   "execution_count": 464,
   "metadata": {},
   "outputs": [
    {
     "data": {
      "text/plain": [
       "(15, 1)"
      ]
     },
     "execution_count": 464,
     "metadata": {},
     "output_type": "execute_result"
    }
   ],
   "source": [
    "#Generating a random matrix\n",
    "np.random.seed(123)\n",
    "theta = np.random.rand(ind_data.shape[1],1)\n",
    "theta[0:,]\n",
    "theta.shape"
   ]
  },
  {
   "cell_type": "code",
   "execution_count": 479,
   "metadata": {},
   "outputs": [
    {
     "name": "stdout",
     "output_type": "stream",
     "text": [
      "Initial cost is:  [1.93459165] \n",
      "\n",
      "Optimal parameters are: \n",
      " [[ 0.38331313]\n",
      " [ 0.35476356]\n",
      " [ 0.11067004]\n",
      " [-0.35748213]\n",
      " [-0.35064644]\n",
      " [ 0.02664959]\n",
      " [ 0.02676789]\n",
      " [ 0.03307982]\n",
      " [-0.00766684]\n",
      " [-0.0183186 ]\n",
      " [-0.01262313]\n",
      " [ 0.00151355]\n",
      " [ 0.05132519]\n",
      " [ 0.06555645]\n",
      " [ 0.39804426]] \n",
      "\n",
      "Final cost is:  [0.20712793]\n"
     ]
    },
    {
     "data": {
      "image/png": "[encoded data removed]",
      "text/plain": [
       "<Figure size 432x288 with 1 Axes>"
      ]
     },
     "metadata": {},
     "output_type": "display_data"
    }
   ],
   "source": [
    "np.random.seed(123)\n",
    "iterations = 500\n",
    "lr = 0.2\n",
    "\n",
    "initial_cost = cost(x_train, y_train, theta)\n",
    "print(\"Initial cost is: \", initial_cost, \"\\n\")\n",
    "(cost_hist, cost_theta) = gradient_descent_linear(x_train, y_train, theta, lr, iterations)\n",
    "print(\"Optimal parameters are: \\n\", cost_theta, \"\\n\")\n",
    "print(\"Final cost is: \", cost_hist[-1])\n",
    "\n",
    "plt.plot(range(len(cost_hist)), cost_hist, 'r')\n",
    "plt.title(\"Convergence Graph of Cost Function\")\n",
    "plt.xlabel(\"Number of Iterations\")\n",
    "plt.ylabel(\"Cost\")\n",
    "plt.xlim([0,500])\n",
    "plt.show()"
   ]
  },
  {
   "cell_type": "code",
   "execution_count": 481,
   "metadata": {},
   "outputs": [
    {
     "data": {
      "text/plain": [
       "array([0.20712793])"
      ]
     },
     "execution_count": 481,
     "metadata": {},
     "output_type": "execute_result"
    }
   ],
   "source": [
    "cost_hist[499]"
   ]
  },
  {
   "cell_type": "code",
   "execution_count": 480,
   "metadata": {},
   "outputs": [],
   "source": [
    "final_pred_linear_test6 = pred(x_test, cost_theta)"
   ]
  },
  {
   "cell_type": "code",
   "execution_count": 482,
   "metadata": {},
   "outputs": [
    {
     "name": "stdout",
     "output_type": "stream",
     "text": [
      "R2 of the model:  0.4057297490863244\n",
      "Mean absolute error:  0.47962647790080126\n",
      "Mean squared error:  0.5942702509136756\n",
      "Root mean squared error:  0.7708892598250903\n"
     ]
    }
   ],
   "source": [
    "result(y_test, final_pred_linear_test6)"
   ]
  },
  {
   "cell_type": "code",
   "execution_count": 483,
   "metadata": {},
   "outputs": [],
   "source": [
    "final_pred_linear_train6 = pred(x_train, cost_theta)"
   ]
  },
  {
   "cell_type": "code",
   "execution_count": 484,
   "metadata": {},
   "outputs": [
    {
     "name": "stdout",
     "output_type": "stream",
     "text": [
      "R2 of the model:  0.4082059241746796\n",
      "Mean absolute error:  0.4781242521606857\n",
      "Mean squared error:  0.5917940758253204\n",
      "Root mean squared error:  0.7692815322268697\n"
     ]
    }
   ],
   "source": [
    "result(y_train, final_pred_linear_train6)"
   ]
  },
  {
   "cell_type": "code",
   "execution_count": 485,
   "metadata": {},
   "outputs": [
    {
     "data": {
      "text/plain": [
       "(15, 1)"
      ]
     },
     "execution_count": 485,
     "metadata": {},
     "output_type": "execute_result"
    }
   ],
   "source": [
    "#Generating a random matrix\n",
    "np.random.seed(123)\n",
    "theta = np.random.rand(ind_data.shape[1],1)\n",
    "theta[0:,]\n",
    "theta.shape"
   ]
  },
  {
   "cell_type": "code",
   "execution_count": 486,
   "metadata": {},
   "outputs": [
    {
     "name": "stdout",
     "output_type": "stream",
     "text": [
      "Initial cost is:  [1.93459165] \n",
      "\n",
      "Optimal parameters are: \n",
      " [[ 0.38331313]\n",
      " [ 0.35476356]\n",
      " [ 0.11067004]\n",
      " [-0.35748213]\n",
      " [-0.35064644]\n",
      " [ 0.02664959]\n",
      " [ 0.02676789]\n",
      " [ 0.03307982]\n",
      " [-0.00766684]\n",
      " [-0.0183186 ]\n",
      " [-0.01262313]\n",
      " [ 0.00151355]\n",
      " [ 0.05132519]\n",
      " [ 0.06555645]\n",
      " [ 0.39804426]] \n",
      "\n",
      "Final cost is:  [0.20712793]\n"
     ]
    },
    {
     "data": {
      "image/png": "[encoded data removed]",
      "text/plain": [
       "<Figure size 432x288 with 1 Axes>"
      ]
     },
     "metadata": {},
     "output_type": "display_data"
    }
   ],
   "source": [
    "np.random.seed(123)\n",
    "iterations = 200\n",
    "lr = 0.3\n",
    "\n",
    "initial_cost = cost(x_train, y_train, theta)\n",
    "print(\"Initial cost is: \", initial_cost, \"\\n\")\n",
    "(cost_hist, cost_theta) = gradient_descent_linear(x_train, y_train, theta, lr, iterations)\n",
    "print(\"Optimal parameters are: \\n\", cost_theta, \"\\n\")\n",
    "print(\"Final cost is: \", cost_hist[-1])\n",
    "\n",
    "plt.plot(range(len(cost_hist)), cost_hist, 'r')\n",
    "plt.title(\"Convergence Graph of Cost Function\")\n",
    "plt.xlabel(\"Number of Iterations\")\n",
    "plt.ylabel(\"Cost\")\n",
    "plt.xlim([0,200])\n",
    "plt.show()"
   ]
  },
  {
   "cell_type": "code",
   "execution_count": 487,
   "metadata": {},
   "outputs": [
    {
     "data": {
      "text/plain": [
       "array([0.20712793])"
      ]
     },
     "execution_count": 487,
     "metadata": {},
     "output_type": "execute_result"
    }
   ],
   "source": [
    "cost_hist[199]"
   ]
  },
  {
   "cell_type": "code",
   "execution_count": 488,
   "metadata": {},
   "outputs": [],
   "source": [
    "final_pred_linear_test7 = pred(x_test, cost_theta)"
   ]
  },
  {
   "cell_type": "code",
   "execution_count": 489,
   "metadata": {},
   "outputs": [
    {
     "name": "stdout",
     "output_type": "stream",
     "text": [
      "R2 of the model:  0.4057297490874098\n",
      "Mean absolute error:  0.4796264778873493\n",
      "Mean squared error:  0.5942702509125902\n",
      "Root mean squared error:  0.7708892598243864\n"
     ]
    }
   ],
   "source": [
    "result(y_test, final_pred_linear_test7)"
   ]
  },
  {
   "cell_type": "code",
   "execution_count": 490,
   "metadata": {},
   "outputs": [],
   "source": [
    "final_pred_linear_train7 = pred(x_train, cost_theta)"
   ]
  },
  {
   "cell_type": "code",
   "execution_count": 491,
   "metadata": {},
   "outputs": [
    {
     "name": "stdout",
     "output_type": "stream",
     "text": [
      "R2 of the model:  0.40820592417467993\n",
      "Mean absolute error:  0.4781242521477005\n",
      "Mean squared error:  0.5917940758253201\n",
      "Root mean squared error:  0.7692815322268695\n"
     ]
    }
   ],
   "source": [
    "result(y_train, final_pred_linear_train7)"
   ]
  },
  {
   "cell_type": "markdown",
   "metadata": {},
   "source": [
    "# Logistic Regression"
   ]
  },
  {
   "cell_type": "markdown",
   "metadata": {},
   "source": [
    "### Case 2: Changing the values of alpha and iteration to 0.2 and 300 respectively"
   ]
  },
  {
   "cell_type": "code",
   "execution_count": 492,
   "metadata": {},
   "outputs": [],
   "source": [
    "np.random.seed(123)\n",
    "n = np.size(x_train_log,1)\n",
    "theta_log = np.random.rand(n,1)"
   ]
  },
  {
   "cell_type": "code",
   "execution_count": 493,
   "metadata": {},
   "outputs": [
    {
     "name": "stdout",
     "output_type": "stream",
     "text": [
      "Initial Cost is: [[1.08857872]] \n",
      "\n",
      "Optimal Parameters are: \n",
      " [[ 1.2993171 ]\n",
      " [ 0.83110043]\n",
      " [ 0.14473601]\n",
      " [-0.88021036]\n",
      " [-0.74389502]\n",
      " [-0.04456497]\n",
      " [-0.07518351]\n",
      " [-0.01823618]\n",
      " [-0.06380521]\n",
      " [-0.13331168]\n",
      " [-0.32165159]\n",
      " [-0.02865806]\n",
      " [-0.3965314 ]\n",
      " [-0.0815301 ]\n",
      " [ 0.39804426]] \n",
      "\n"
     ]
    },
    {
     "data": {
      "image/png": "[encoded data removed]",
      "text/plain": [
       "<Figure size 432x288 with 1 Axes>"
      ]
     },
     "metadata": {},
     "output_type": "display_data"
    }
   ],
   "source": [
    "np.random.seed(123)\n",
    "iterations = 300\n",
    "learning_rate = 0.2\n",
    "\n",
    "initial_cost = cost_log(x_train_log, y_train_log, theta_log)\n",
    "\n",
    "print(\"Initial Cost is: {} \\n\".format(initial_cost))\n",
    "\n",
    "(cost_history, theta_optimal) = gradient_descent(x_train_log, y_train_log, theta_log, learning_rate, iterations)\n",
    "\n",
    "print(\"Optimal Parameters are: \\n\", theta_optimal, \"\\n\")\n",
    "\n",
    "plt.figure()\n",
    "sns.set_style('white')\n",
    "plt.plot(range(len(cost_history)), cost_history, 'r')\n",
    "plt.title(\"Convergence Graph of Cost Function\")\n",
    "plt.xlabel(\"Number of Iterations\")\n",
    "plt.ylabel(\"Cost\")\n",
    "plt.xlim([0,150])\n",
    "plt.show()"
   ]
  },
  {
   "cell_type": "code",
   "execution_count": 305,
   "metadata": {},
   "outputs": [
    {
     "data": {
      "text/plain": [
       "array([0.47513171])"
      ]
     },
     "execution_count": 305,
     "metadata": {},
     "output_type": "execute_result"
    }
   ],
   "source": [
    "cost_history[299]"
   ]
  },
  {
   "cell_type": "code",
   "execution_count": 494,
   "metadata": {},
   "outputs": [],
   "source": [
    "final_pred_log_test1 = predict(x_test_log, theta_optimal)"
   ]
  },
  {
   "cell_type": "code",
   "execution_count": 495,
   "metadata": {},
   "outputs": [],
   "source": [
    "final_pred_log_train1 = predict(x_train_log, theta_optimal)"
   ]
  },
  {
   "cell_type": "code",
   "execution_count": 496,
   "metadata": {},
   "outputs": [
    {
     "name": "stdout",
     "output_type": "stream",
     "text": [
      "[[29280  6891]\n",
      " [ 7165 29144]]\n"
     ]
    }
   ],
   "source": [
    "confusionmatrix_log_test1 = confusion_matrix(y_test_log, final_pred_log_test1)\n",
    "print(confusionmatrix_log_test1)"
   ]
  },
  {
   "cell_type": "code",
   "execution_count": 497,
   "metadata": {},
   "outputs": [
    {
     "name": "stdout",
     "output_type": "stream",
     "text": [
      "[[69160 15468]\n",
      " [16392 68100]]\n"
     ]
    }
   ],
   "source": [
    "confusionmatrix_log_train1 = confusion_matrix(y_train_log, final_pred_log_train1)\n",
    "print(confusionmatrix_log_train1)"
   ]
  },
  {
   "cell_type": "code",
   "execution_count": 498,
   "metadata": {},
   "outputs": [
    {
     "data": {
      "text/plain": [
       "0.8116130558183539"
      ]
     },
     "execution_count": 498,
     "metadata": {},
     "output_type": "execute_result"
    }
   ],
   "source": [
    "accuracy(y_train_log, final_pred_log_train1)"
   ]
  },
  {
   "cell_type": "code",
   "execution_count": 499,
   "metadata": {},
   "outputs": [
    {
     "data": {
      "text/plain": [
       "0.8060706401766005"
      ]
     },
     "execution_count": 499,
     "metadata": {},
     "output_type": "execute_result"
    }
   ],
   "source": [
    "accuracy(y_test_log, final_pred_log_test1)"
   ]
  },
  {
   "cell_type": "markdown",
   "metadata": {},
   "source": [
    "### Case 3: Trying out model at alpha equal to 0.3 and iteration equal to 250"
   ]
  },
  {
   "cell_type": "code",
   "execution_count": 500,
   "metadata": {},
   "outputs": [],
   "source": [
    "np.random.seed(123)\n",
    "n = np.size(x_train_log,1)\n",
    "theta_log = np.random.rand(n,1)"
   ]
  },
  {
   "cell_type": "code",
   "execution_count": 501,
   "metadata": {},
   "outputs": [
    {
     "name": "stdout",
     "output_type": "stream",
     "text": [
      "Initial Cost is: [[1.08857872]] \n",
      "\n",
      "Optimal Parameters are: \n",
      " [[ 1.31823235]\n",
      " [ 0.84571974]\n",
      " [ 0.1495761 ]\n",
      " [-0.89628953]\n",
      " [-0.75823598]\n",
      " [-0.04630592]\n",
      " [-0.07701656]\n",
      " [-0.0184259 ]\n",
      " [-0.07174598]\n",
      " [-0.14114018]\n",
      " [-0.32554329]\n",
      " [-0.02904031]\n",
      " [-0.40122996]\n",
      " [-0.08246381]\n",
      " [ 0.39804426]] \n",
      "\n"
     ]
    },
    {
     "data": {
      "image/png": "[encoded data removed]",
      "text/plain": [
       "<Figure size 432x288 with 1 Axes>"
      ]
     },
     "metadata": {},
     "output_type": "display_data"
    }
   ],
   "source": [
    "np.random.seed(123)\n",
    "iterations = 250\n",
    "learning_rate = 0.3\n",
    "\n",
    "initial_cost = cost_log(x_train_log, y_train_log, theta_log)\n",
    "\n",
    "print(\"Initial Cost is: {} \\n\".format(initial_cost))\n",
    "\n",
    "(cost_history, theta_optimal) = gradient_descent(x_train_log, y_train_log, theta_log, learning_rate, iterations)\n",
    "\n",
    "print(\"Optimal Parameters are: \\n\", theta_optimal, \"\\n\")\n",
    "\n",
    "plt.figure()\n",
    "sns.set_style('white')\n",
    "plt.plot(range(len(cost_history)), cost_history, 'r')\n",
    "plt.title(\"Convergence Graph of Cost Function\")\n",
    "plt.xlabel(\"Number of Iterations\")\n",
    "plt.ylabel(\"Cost\")\n",
    "plt.xlim([0,150])\n",
    "plt.show()"
   ]
  },
  {
   "cell_type": "code",
   "execution_count": 502,
   "metadata": {},
   "outputs": [
    {
     "data": {
      "text/plain": [
       "array([0.475047])"
      ]
     },
     "execution_count": 502,
     "metadata": {},
     "output_type": "execute_result"
    }
   ],
   "source": [
    "cost_history[249]"
   ]
  },
  {
   "cell_type": "code",
   "execution_count": 503,
   "metadata": {},
   "outputs": [],
   "source": [
    "final_pred_log_test2 = predict(x_test_log, theta_optimal)"
   ]
  },
  {
   "cell_type": "code",
   "execution_count": 504,
   "metadata": {},
   "outputs": [],
   "source": [
    "final_pred_log_train2 = predict(x_train_log, theta_optimal)"
   ]
  },
  {
   "cell_type": "code",
   "execution_count": 505,
   "metadata": {},
   "outputs": [
    {
     "name": "stdout",
     "output_type": "stream",
     "text": [
      "[[29275  6896]\n",
      " [ 7167 29142]]\n"
     ]
    }
   ],
   "source": [
    "confusionmatrix_log_test2 = confusion_matrix(y_test_log, final_pred_log_test2)\n",
    "print(confusionmatrix_log_test2)"
   ]
  },
  {
   "cell_type": "code",
   "execution_count": 506,
   "metadata": {},
   "outputs": [
    {
     "name": "stdout",
     "output_type": "stream",
     "text": [
      "[[69170 15458]\n",
      " [16376 68116]]\n"
     ]
    }
   ],
   "source": [
    "confusionmatrix_log_train2 = confusion_matrix(y_train_log, final_pred_log_train2)\n",
    "print(confusionmatrix_log_train2)"
   ]
  },
  {
   "cell_type": "code",
   "execution_count": 507,
   "metadata": {},
   "outputs": [
    {
     "data": {
      "text/plain": [
       "0.8117667928098392"
      ]
     },
     "execution_count": 507,
     "metadata": {},
     "output_type": "execute_result"
    }
   ],
   "source": [
    "accuracy(y_train_log, final_pred_log_train2)"
   ]
  },
  {
   "cell_type": "code",
   "execution_count": 508,
   "metadata": {},
   "outputs": [
    {
     "data": {
      "text/plain": [
       "0.8059740618101545"
      ]
     },
     "execution_count": 508,
     "metadata": {},
     "output_type": "execute_result"
    }
   ],
   "source": [
    "accuracy(y_test_log, final_pred_log_test2)"
   ]
  },
  {
   "cell_type": "markdown",
   "metadata": {},
   "source": [
    "### Case 4:  When alpha = 0.05, 0.7, 0.06 and iterations = 1200, 2000, 2000"
   ]
  },
  {
   "cell_type": "code",
   "execution_count": 509,
   "metadata": {},
   "outputs": [],
   "source": [
    "np.random.seed(123)\n",
    "n = np.size(x_train_log,1)\n",
    "theta_log = np.random.rand(n,1)"
   ]
  },
  {
   "cell_type": "code",
   "execution_count": 510,
   "metadata": {},
   "outputs": [
    {
     "name": "stdout",
     "output_type": "stream",
     "text": [
      "Initial Cost is: [[1.08857872]] \n",
      "\n",
      "Optimal Parameters are: \n",
      " [[ 1.2987724 ]\n",
      " [ 0.83066421]\n",
      " [ 0.14459449]\n",
      " [-0.87974439]\n",
      " [-0.74347514]\n",
      " [-0.04451955]\n",
      " [-0.07512087]\n",
      " [-0.01822833]\n",
      " [-0.0635781 ]\n",
      " [-0.13306985]\n",
      " [-0.32153866]\n",
      " [-0.02864449]\n",
      " [-0.39639505]\n",
      " [-0.08150307]\n",
      " [ 0.39804426]] \n",
      "\n"
     ]
    },
    {
     "data": {
      "image/png": "[encoded data removed]",
      "text/plain": [
       "<Figure size 432x288 with 1 Axes>"
      ]
     },
     "metadata": {},
     "output_type": "display_data"
    }
   ],
   "source": [
    "np.random.seed(123)\n",
    "iterations = 1200\n",
    "learning_rate = 0.05\n",
    "\n",
    "initial_cost = cost_log(x_train_log, y_train_log, theta_log)\n",
    "\n",
    "print(\"Initial Cost is: {} \\n\".format(initial_cost))\n",
    "\n",
    "(cost_history, theta_optimal) = gradient_descent(x_train_log, y_train_log, theta_log, learning_rate, iterations)\n",
    "\n",
    "print(\"Optimal Parameters are: \\n\", theta_optimal, \"\\n\")\n",
    "\n",
    "plt.figure()\n",
    "sns.set_style('white')\n",
    "plt.plot(range(len(cost_history)), cost_history, 'r')\n",
    "plt.title(\"Convergence Graph of Cost Function\")\n",
    "plt.xlabel(\"Number of Iterations\")\n",
    "plt.ylabel(\"Cost\")\n",
    "plt.xlim([0,150])\n",
    "plt.show()"
   ]
  },
  {
   "cell_type": "code",
   "execution_count": 511,
   "metadata": {},
   "outputs": [
    {
     "data": {
      "text/plain": [
       "array([0.47513511])"
      ]
     },
     "execution_count": 511,
     "metadata": {},
     "output_type": "execute_result"
    }
   ],
   "source": [
    "cost_history[1199]"
   ]
  },
  {
   "cell_type": "code",
   "execution_count": 512,
   "metadata": {},
   "outputs": [],
   "source": [
    "final_pred_log_test3 = predict(x_test_log, theta_optimal)"
   ]
  },
  {
   "cell_type": "code",
   "execution_count": 513,
   "metadata": {},
   "outputs": [],
   "source": [
    "final_pred_log_train3 = predict(x_train_log, theta_optimal)"
   ]
  },
  {
   "cell_type": "code",
   "execution_count": 514,
   "metadata": {},
   "outputs": [
    {
     "name": "stdout",
     "output_type": "stream",
     "text": [
      "[[29280  6891]\n",
      " [ 7166 29143]]\n"
     ]
    }
   ],
   "source": [
    "confusionmatrix_log_test3 = confusion_matrix(y_test_log, final_pred_log_test3)\n",
    "print(confusionmatrix_log_test3)"
   ]
  },
  {
   "cell_type": "code",
   "execution_count": 515,
   "metadata": {},
   "outputs": [
    {
     "name": "stdout",
     "output_type": "stream",
     "text": [
      "[[69157 15471]\n",
      " [16391 68101]]\n"
     ]
    }
   ],
   "source": [
    "confusionmatrix_log_train3 = confusion_matrix(y_train_log, final_pred_log_train3)\n",
    "print(confusionmatrix_log_train3)"
   ]
  },
  {
   "cell_type": "code",
   "execution_count": 516,
   "metadata": {},
   "outputs": [
    {
     "data": {
      "text/plain": [
       "0.8116012298959319"
      ]
     },
     "execution_count": 516,
     "metadata": {},
     "output_type": "execute_result"
    }
   ],
   "source": [
    "accuracy(y_train_log, final_pred_log_train3)"
   ]
  },
  {
   "cell_type": "code",
   "execution_count": 517,
   "metadata": {},
   "outputs": [
    {
     "data": {
      "text/plain": [
       "0.8060568432671081"
      ]
     },
     "execution_count": 517,
     "metadata": {},
     "output_type": "execute_result"
    }
   ],
   "source": [
    "accuracy(y_test_log, final_pred_log_test3)"
   ]
  },
  {
   "cell_type": "code",
   "execution_count": 518,
   "metadata": {},
   "outputs": [],
   "source": [
    "np.random.seed(123)\n",
    "n = np.size(x_train_log,1)\n",
    "theta_log = np.random.rand(n,1)"
   ]
  },
  {
   "cell_type": "code",
   "execution_count": 519,
   "metadata": {},
   "outputs": [
    {
     "name": "stdout",
     "output_type": "stream",
     "text": [
      "Initial Cost is: [[1.08857872]] \n",
      "\n",
      "Optimal Parameters are: \n",
      " [[ 1.33519302]\n",
      " [ 0.85830114]\n",
      " [ 0.15386926]\n",
      " [-0.91065927]\n",
      " [-0.77089332]\n",
      " [-0.04797434]\n",
      " [-0.0783236 ]\n",
      " [-0.01858096]\n",
      " [-0.0788946 ]\n",
      " [-0.14758884]\n",
      " [-0.329033  ]\n",
      " [-0.02936715]\n",
      " [-0.40544314]\n",
      " [-0.08330316]\n",
      " [ 0.39804426]] \n",
      "\n"
     ]
    },
    {
     "data": {
      "image/png": "[encoded data removed]",
      "text/plain": [
       "<Figure size 432x288 with 1 Axes>"
      ]
     },
     "metadata": {},
     "output_type": "display_data"
    }
   ],
   "source": [
    "np.random.seed(123)\n",
    "iterations = 2000\n",
    "learning_rate = 0.7\n",
    "\n",
    "initial_cost = cost_log(x_train_log, y_train_log, theta_log)\n",
    "\n",
    "print(\"Initial Cost is: {} \\n\".format(initial_cost))\n",
    "\n",
    "(cost_history, theta_optimal) = gradient_descent(x_train_log, y_train_log, theta_log, learning_rate, iterations)\n",
    "\n",
    "print(\"Optimal Parameters are: \\n\", theta_optimal, \"\\n\")\n",
    "\n",
    "plt.figure()\n",
    "sns.set_style('white')\n",
    "plt.plot(range(len(cost_history)), cost_history, 'r')\n",
    "plt.title(\"Convergence Graph of Cost Function\")\n",
    "plt.xlabel(\"Number of Iterations\")\n",
    "plt.ylabel(\"Cost\")\n",
    "plt.xlim([0,150])\n",
    "plt.show()"
   ]
  },
  {
   "cell_type": "code",
   "execution_count": 520,
   "metadata": {},
   "outputs": [
    {
     "data": {
      "text/plain": [
       "array([0.47502291])"
      ]
     },
     "execution_count": 520,
     "metadata": {},
     "output_type": "execute_result"
    }
   ],
   "source": [
    "cost_history[1999]"
   ]
  },
  {
   "cell_type": "code",
   "execution_count": 521,
   "metadata": {},
   "outputs": [],
   "source": [
    "final_pred_log_test4 = predict(x_test_log, theta_optimal)"
   ]
  },
  {
   "cell_type": "code",
   "execution_count": 522,
   "metadata": {},
   "outputs": [],
   "source": [
    "final_pred_log_train4 = predict(x_train_log, theta_optimal)"
   ]
  },
  {
   "cell_type": "code",
   "execution_count": 523,
   "metadata": {},
   "outputs": [
    {
     "name": "stdout",
     "output_type": "stream",
     "text": [
      "[[29289  6882]\n",
      " [ 7170 29139]]\n"
     ]
    }
   ],
   "source": [
    "confusionmatrix_log_test4 = confusion_matrix(y_test_log, final_pred_log_test4)\n",
    "print(confusionmatrix_log_test4)"
   ]
  },
  {
   "cell_type": "code",
   "execution_count": 524,
   "metadata": {},
   "outputs": [
    {
     "name": "stdout",
     "output_type": "stream",
     "text": [
      "[[69183 15445]\n",
      " [16380 68112]]\n"
     ]
    }
   ],
   "source": [
    "confusionmatrix_log_train4 = confusion_matrix(y_train_log, final_pred_log_train4)\n",
    "print(confusionmatrix_log_train4)"
   ]
  },
  {
   "cell_type": "code",
   "execution_count": 526,
   "metadata": {},
   "outputs": [
    {
     "data": {
      "text/plain": [
       "0.811820009460738"
      ]
     },
     "execution_count": 526,
     "metadata": {},
     "output_type": "execute_result"
    }
   ],
   "source": [
    "accuracy(y_train_log, final_pred_log_train4)"
   ]
  },
  {
   "cell_type": "code",
   "execution_count": 527,
   "metadata": {},
   "outputs": [
    {
     "data": {
      "text/plain": [
       "0.8061258278145695"
      ]
     },
     "execution_count": 527,
     "metadata": {},
     "output_type": "execute_result"
    }
   ],
   "source": [
    "accuracy(y_test_log, final_pred_log_test4)"
   ]
  },
  {
   "cell_type": "code",
   "execution_count": 528,
   "metadata": {},
   "outputs": [],
   "source": [
    "np.random.seed(123)\n",
    "n = np.size(x_train_log,1)\n",
    "theta_log = np.random.rand(n,1)"
   ]
  },
  {
   "cell_type": "code",
   "execution_count": 529,
   "metadata": {},
   "outputs": [
    {
     "name": "stdout",
     "output_type": "stream",
     "text": [
      "Initial Cost is: [[1.08857872]] \n",
      "\n",
      "Optimal Parameters are: \n",
      " [[ 1.33324442]\n",
      " [ 0.85689426]\n",
      " [ 0.1533775 ]\n",
      " [-0.90901029]\n",
      " [-0.76945257]\n",
      " [-0.0477747 ]\n",
      " [-0.07819856]\n",
      " [-0.01856329]\n",
      " [-0.07806738]\n",
      " [-0.14688752]\n",
      " [-0.32863303]\n",
      " [-0.02932978]\n",
      " [-0.40496032]\n",
      " [-0.08320686]\n",
      " [ 0.39804426]] \n",
      "\n"
     ]
    },
    {
     "data": {
      "image/png": "[encoded data removed]",
      "text/plain": [
       "<Figure size 432x288 with 1 Axes>"
      ]
     },
     "metadata": {},
     "output_type": "display_data"
    }
   ],
   "source": [
    "np.random.seed(123)\n",
    "iterations = 2000\n",
    "learning_rate = 0.06\n",
    "\n",
    "initial_cost = cost_log(x_train_log, y_train_log, theta_log)\n",
    "\n",
    "print(\"Initial Cost is: {} \\n\".format(initial_cost))\n",
    "\n",
    "(cost_history, theta_optimal) = gradient_descent(x_train_log, y_train_log, theta_log, learning_rate, iterations)\n",
    "\n",
    "print(\"Optimal Parameters are: \\n\", theta_optimal, \"\\n\")\n",
    "\n",
    "plt.figure()\n",
    "sns.set_style('white')\n",
    "plt.plot(range(len(cost_history)), cost_history, 'r')\n",
    "plt.title(\"Convergence Graph of Cost Function\")\n",
    "plt.xlabel(\"Number of Iterations\")\n",
    "plt.ylabel(\"Cost\")\n",
    "plt.xlim([0,150])\n",
    "plt.show()"
   ]
  },
  {
   "cell_type": "code",
   "execution_count": 530,
   "metadata": {},
   "outputs": [
    {
     "data": {
      "text/plain": [
       "array([0.47502328])"
      ]
     },
     "execution_count": 530,
     "metadata": {},
     "output_type": "execute_result"
    }
   ],
   "source": [
    "cost_history[1999]"
   ]
  },
  {
   "cell_type": "code",
   "execution_count": 531,
   "metadata": {},
   "outputs": [],
   "source": [
    "final_pred_log_test5 = predict(x_test_log, theta_optimal)"
   ]
  },
  {
   "cell_type": "code",
   "execution_count": 532,
   "metadata": {},
   "outputs": [],
   "source": [
    "final_pred_log_train5 = predict(x_train_log, theta_optimal)"
   ]
  },
  {
   "cell_type": "code",
   "execution_count": 533,
   "metadata": {},
   "outputs": [
    {
     "name": "stdout",
     "output_type": "stream",
     "text": [
      "[[29282  6889]\n",
      " [ 7172 29137]]\n"
     ]
    }
   ],
   "source": [
    "confusionmatrix_log_test5 = confusion_matrix(y_test_log, final_pred_log_test5)\n",
    "print(confusionmatrix_log_test5)"
   ]
  },
  {
   "cell_type": "code",
   "execution_count": 534,
   "metadata": {},
   "outputs": [
    {
     "name": "stdout",
     "output_type": "stream",
     "text": [
      "[[69184 15444]\n",
      " [16382 68110]]\n"
     ]
    }
   ],
   "source": [
    "confusionmatrix_log_train5 = confusion_matrix(y_train_log, final_pred_log_train5)\n",
    "print(confusionmatrix_log_train5)"
   ]
  },
  {
   "cell_type": "code",
   "execution_count": 535,
   "metadata": {},
   "outputs": [
    {
     "data": {
      "text/plain": [
       "0.811814096499527"
      ]
     },
     "execution_count": 535,
     "metadata": {},
     "output_type": "execute_result"
    }
   ],
   "source": [
    "accuracy(y_train_log, final_pred_log_train5)"
   ]
  },
  {
   "cell_type": "code",
   "execution_count": 536,
   "metadata": {},
   "outputs": [
    {
     "data": {
      "text/plain": [
       "0.8060016556291391"
      ]
     },
     "execution_count": 536,
     "metadata": {},
     "output_type": "execute_result"
    }
   ],
   "source": [
    "accuracy(y_test_log, final_pred_log_test5)"
   ]
  },
  {
   "cell_type": "code",
   "execution_count": 566,
   "metadata": {},
   "outputs": [],
   "source": [
    "np.random.seed(123)\n",
    "n = np.size(x_train_log,1)\n",
    "theta_log = np.random.rand(n,1)"
   ]
  },
  {
   "cell_type": "code",
   "execution_count": 567,
   "metadata": {},
   "outputs": [
    {
     "name": "stdout",
     "output_type": "stream",
     "text": [
      "Initial Cost is: [[1.08857872]] \n",
      "\n",
      "Optimal Parameters are: \n",
      " [[ 1.33454535]\n",
      " [ 0.857836  ]\n",
      " [ 0.15370583]\n",
      " [-0.91011128]\n",
      " [-0.77041528]\n",
      " [-0.04790742]\n",
      " [-0.07828367]\n",
      " [-0.01857509]\n",
      " [-0.07861903]\n",
      " [-0.14735815]\n",
      " [-0.32890019]\n",
      " [-0.02935473]\n",
      " [-0.40528284]\n",
      " [-0.08327118]\n",
      " [ 0.39804426]] \n",
      "\n"
     ]
    },
    {
     "data": {
      "image/png": "[encoded data removed]",
      "text/plain": [
       "<Figure size 432x288 with 1 Axes>"
      ]
     },
     "metadata": {},
     "output_type": "display_data"
    }
   ],
   "source": [
    "np.random.seed(123)\n",
    "iterations = 200\n",
    "learning_rate = 0.7\n",
    "\n",
    "initial_cost = cost_log(x_train_log, y_train_log, theta_log)\n",
    "\n",
    "print(\"Initial Cost is: {} \\n\".format(initial_cost))\n",
    "\n",
    "(cost_history, theta_optimal) = gradient_descent(x_train_log, y_train_log, theta_log, learning_rate, iterations)\n",
    "\n",
    "print(\"Optimal Parameters are: \\n\", theta_optimal, \"\\n\")\n",
    "\n",
    "plt.figure()\n",
    "sns.set_style('white')\n",
    "plt.plot(range(len(cost_history)), cost_history, 'r')\n",
    "plt.title(\"Convergence Graph of Cost Function\")\n",
    "plt.xlabel(\"Number of Iterations\")\n",
    "plt.ylabel(\"Cost\")\n",
    "plt.xlim([0,150])\n",
    "plt.show()"
   ]
  },
  {
   "cell_type": "code",
   "execution_count": 568,
   "metadata": {},
   "outputs": [
    {
     "data": {
      "text/plain": [
       "array([0.47502297])"
      ]
     },
     "execution_count": 568,
     "metadata": {},
     "output_type": "execute_result"
    }
   ],
   "source": [
    "cost_history[199]"
   ]
  },
  {
   "cell_type": "code",
   "execution_count": 569,
   "metadata": {},
   "outputs": [],
   "source": [
    "final_pred_log_test5 = predict(x_test_log, theta_optimal)"
   ]
  },
  {
   "cell_type": "code",
   "execution_count": 570,
   "metadata": {},
   "outputs": [],
   "source": [
    "final_pred_log_train5 = predict(x_train_log, theta_optimal)"
   ]
  },
  {
   "cell_type": "code",
   "execution_count": 571,
   "metadata": {},
   "outputs": [
    {
     "name": "stdout",
     "output_type": "stream",
     "text": [
      "[[29287  6884]\n",
      " [ 7171 29138]]\n"
     ]
    }
   ],
   "source": [
    "confusionmatrix_log_test5 = confusion_matrix(y_test_log, final_pred_log_test5)\n",
    "print(confusionmatrix_log_test5)"
   ]
  },
  {
   "cell_type": "code",
   "execution_count": 572,
   "metadata": {},
   "outputs": [
    {
     "name": "stdout",
     "output_type": "stream",
     "text": [
      "[[69184 15444]\n",
      " [16380 68112]]\n"
     ]
    }
   ],
   "source": [
    "confusionmatrix_log_train5 = confusion_matrix(y_train_log, final_pred_log_train5)\n",
    "print(confusionmatrix_log_train5)"
   ]
  },
  {
   "cell_type": "code",
   "execution_count": 573,
   "metadata": {},
   "outputs": [
    {
     "data": {
      "text/plain": [
       "0.811825922421949"
      ]
     },
     "execution_count": 573,
     "metadata": {},
     "output_type": "execute_result"
    }
   ],
   "source": [
    "accuracy(y_train_log, final_pred_log_train5)"
   ]
  },
  {
   "cell_type": "code",
   "execution_count": 574,
   "metadata": {},
   "outputs": [
    {
     "data": {
      "text/plain": [
       "0.8060844370860927"
      ]
     },
     "execution_count": 574,
     "metadata": {},
     "output_type": "execute_result"
    }
   ],
   "source": [
    "accuracy(y_test_log, final_pred_log_test5)"
   ]
  },
  {
   "cell_type": "markdown",
   "metadata": {},
   "source": [
    "# Experiment 2"
   ]
  },
  {
   "cell_type": "markdown",
   "metadata": {},
   "source": [
    "## Linear Regression"
   ]
  },
  {
   "cell_type": "code",
   "execution_count": 641,
   "metadata": {},
   "outputs": [],
   "source": [
    "def gradient_descent_linear_exp2(x, y, theta, lr, iterations, threshold):\n",
    "    m = len(data.axes[0])\n",
    "    cost_hist = []\n",
    "    for i in range(iterations):\n",
    "        theta = theta - (lr/m)*np.matmul(x.T, ((np.matmul(x,theta))-y))\n",
    "        cost_hist.append(cost(x, y, theta))\n",
    "#         print(cost_hist[i][0])\n",
    "        if i > 1 and (cost_hist[i-1][0] - cost_hist[i][0]) < threshold:\n",
    "            break\n",
    "    return [cost_hist, theta, lr, threshold, i]"
   ]
  },
  {
   "cell_type": "code",
   "execution_count": 642,
   "metadata": {},
   "outputs": [
    {
     "name": "stdout",
     "output_type": "stream",
     "text": [
      "threshold = 0.001 , alpha = 0.03  and iterations = 102\n",
      "threshold = 0.001 , alpha = 0.04  and iterations = 79\n",
      "threshold = 0.001 , alpha = 0.05  and iterations = 65\n",
      "threshold = 0.0001 , alpha = 0.03  and iterations = 195\n",
      "threshold = 0.0001 , alpha = 0.04  and iterations = 160\n",
      "threshold = 0.0001 , alpha = 0.05  and iterations = 95\n",
      "threshold = 1e-05 , alpha = 0.03  and iterations = 250\n",
      "threshold = 1e-05 , alpha = 0.04  and iterations = 245\n",
      "threshold = 1e-05 , alpha = 0.05  and iterations = 180\n",
      "threshold = 1e-06 , alpha = 0.03  and iterations = 413\n",
      "threshold = 1e-06 , alpha = 0.04  and iterations = 311\n",
      "threshold = 1e-06 , alpha = 0.05  and iterations = 225\n",
      "threshold = 1e-07 , alpha = 0.03  and iterations = 520\n",
      "threshold = 1e-07 , alpha = 0.04  and iterations = 377\n",
      "threshold = 1e-07 , alpha = 0.05  and iterations = 312\n"
     ]
    }
   ],
   "source": [
    "thresh = [10**-i for i in range(3,8)]\n",
    "alphas = [0.03, 0.04, 0.05 ]\n",
    "results_lin = []\n",
    "thetas_lin = []\n",
    "\n",
    "\n",
    "x = np.array(x_train)\n",
    "y = np.array(y_train)\n",
    "iters = 10000\n",
    "i = 123\n",
    "\n",
    "for threshold in thresh:\n",
    "    for alpha in alphas:\n",
    "        np.random.seed(i)\n",
    "        theta_expt2_lin = np.random.rand(x.shape[1],1)\n",
    "\n",
    "        results_lin.append(gradient_descent_linear_exp2(x_train,y_train,theta_expt2_lin,alpha, iters, threshold))\n",
    "        i = i + 1\n",
    "        print(\"threshold = {} , alpha = {}  and iterations = {}\".format(threshold, alpha, results_lin[len(results_lin) - 1][4]))\n",
    "        \n",
    "        \n",
    "#theta_expt2_lin = np.random.rand(x_train.shape[1],1)"
   ]
  },
  {
   "cell_type": "code",
   "execution_count": 643,
   "metadata": {},
   "outputs": [],
   "source": [
    "results_lin_backup = results_lin"
   ]
  },
  {
   "cell_type": "code",
   "execution_count": 651,
   "metadata": {},
   "outputs": [
    {
     "data": {
      "text/plain": [
       "[[array([1.85198777]),\n",
       "  array([1.77360835]),\n",
       "  array([1.69922878]),\n",
       "  array([1.62863668]),\n",
       "  array([1.5616312]),\n",
       "  array([1.49802242]),\n",
       "  array([1.43763071]),\n",
       "  array([1.3802862]),\n",
       "  array([1.32582822]),\n",
       "  array([1.27410479]),\n",
       "  array([1.22497216]),\n",
       "  array([1.17829432]),\n",
       "  array([1.13394263]),\n",
       "  array([1.09179537]),\n",
       "  array([1.05173738]),\n",
       "  array([1.01365969]),\n",
       "  array([0.97745921]),\n",
       "  array([0.94303835]),\n",
       "  array([0.91030477]),\n",
       "  array([0.87917109]),\n",
       "  array([0.84955459]),\n",
       "  array([0.82137696]),\n",
       "  array([0.7945641]),\n",
       "  array([0.76904584]),\n",
       "  array([0.74475575]),\n",
       "  array([0.72163094]),\n",
       "  array([0.69961185]),\n",
       "  array([0.67864209]),\n",
       "  array([0.65866826]),\n",
       "  array([0.63963976]),\n",
       "  array([0.6215087]),\n",
       "  array([0.6042297]),\n",
       "  array([0.58775976]),\n",
       "  array([0.57205816]),\n",
       "  array([0.55708632]),\n",
       "  array([0.54280767]),\n",
       "  array([0.52918757]),\n",
       "  array([0.51619318]),\n",
       "  array([0.50379338]),\n",
       "  array([0.49195868]),\n",
       "  array([0.48066112]),\n",
       "  array([0.46987418]),\n",
       "  array([0.45957275]),\n",
       "  array([0.44973297]),\n",
       "  array([0.44033227]),\n",
       "  array([0.4313492]),\n",
       "  array([0.42276345]),\n",
       "  array([0.41455572]),\n",
       "  array([0.40670774]),\n",
       "  array([0.39920213]),\n",
       "  array([0.39202245]),\n",
       "  array([0.38515305]),\n",
       "  array([0.37857912]),\n",
       "  array([0.37228657]),\n",
       "  array([0.36626205]),\n",
       "  array([0.36049288]),\n",
       "  array([0.35496699]),\n",
       "  array([0.34967297]),\n",
       "  array([0.34459995]),\n",
       "  array([0.33973761]),\n",
       "  array([0.33507616]),\n",
       "  array([0.33060628]),\n",
       "  array([0.32631913]),\n",
       "  array([0.32220631]),\n",
       "  array([0.31825982]),\n",
       "  array([0.31447207]),\n",
       "  array([0.31083585]),\n",
       "  array([0.30734429]),\n",
       "  array([0.30399086]),\n",
       "  array([0.30076937]),\n",
       "  array([0.2976739]),\n",
       "  array([0.29469885]),\n",
       "  array([0.29183887]),\n",
       "  array([0.28908887]),\n",
       "  array([0.28644402]),\n",
       "  array([0.28389972]),\n",
       "  array([0.28145158]),\n",
       "  array([0.27909543]),\n",
       "  array([0.27682729]),\n",
       "  array([0.27464338]),\n",
       "  array([0.27254009]),\n",
       "  array([0.27051399]),\n",
       "  array([0.2685618]),\n",
       "  array([0.26668041]),\n",
       "  array([0.26486684]),\n",
       "  array([0.26311826]),\n",
       "  array([0.26143197]),\n",
       "  array([0.25980539]),\n",
       "  array([0.25823606]),\n",
       "  array([0.25672163]),\n",
       "  array([0.25525987]),\n",
       "  array([0.25384865]),\n",
       "  array([0.25248592]),\n",
       "  array([0.25116975]),\n",
       "  array([0.24989827]),\n",
       "  array([0.2486697]),\n",
       "  array([0.24748237]),\n",
       "  array([0.24633464]),\n",
       "  array([0.24522496]),\n",
       "  array([0.24415187]),\n",
       "  array([0.24311395]),\n",
       "  array([0.24210985]),\n",
       "  array([0.24113827])],\n",
       " array([[ 0.32608945],\n",
       "        [ 0.20261434],\n",
       "        [ 0.05127672],\n",
       "        [-0.18608959],\n",
       "        [-0.16240849],\n",
       "        [ 0.01364506],\n",
       "        [ 0.11783198],\n",
       "        [ 0.1061187 ],\n",
       "        [ 0.09756514],\n",
       "        [ 0.16359173],\n",
       "        [ 0.0275008 ],\n",
       "        [ 0.08480133],\n",
       "        [ 0.09502944],\n",
       "        [ 0.06437538],\n",
       "        [ 0.39804426]]),\n",
       " 0.03,\n",
       " 0.001,\n",
       " 102]"
      ]
     },
     "execution_count": 651,
     "metadata": {},
     "output_type": "execute_result"
    }
   ],
   "source": [
    "# results_lin[0]\n",
    "## cost beta alpha,threshold,iter"
   ]
  },
  {
   "cell_type": "code",
   "execution_count": 652,
   "metadata": {},
   "outputs": [
    {
     "name": "stdout",
     "output_type": "stream",
     "text": [
      "Empty DataFrame\n",
      "Columns: [threshold, alpha, final cost, iterations, const, MWG, NWG, KWG, MDIMC, NDIMC, MDIMA, NDIMB, KWI, VWM, VWN, STRM, STRN, SA, SB]\n",
      "Index: []\n"
     ]
    },
    {
     "data": {
      "text/html": [
       "<div>\n",
       "<style scoped>\n",
       "    .dataframe tbody tr th:only-of-type {\n",
       "        vertical-align: middle;\n",
       "    }\n",
       "\n",
       "    .dataframe tbody tr th {\n",
       "        vertical-align: top;\n",
       "    }\n",
       "\n",
       "    .dataframe thead th {\n",
       "        text-align: right;\n",
       "    }\n",
       "</style>\n",
       "<table border=\"1\" class=\"dataframe\">\n",
       "  <thead>\n",
       "    <tr style=\"text-align: right;\">\n",
       "      <th></th>\n",
       "      <th>threshold</th>\n",
       "      <th>alpha</th>\n",
       "      <th>final cost</th>\n",
       "      <th>iterations</th>\n",
       "      <th>const</th>\n",
       "      <th>MWG</th>\n",
       "      <th>NWG</th>\n",
       "      <th>KWG</th>\n",
       "      <th>MDIMC</th>\n",
       "      <th>NDIMC</th>\n",
       "      <th>MDIMA</th>\n",
       "      <th>NDIMB</th>\n",
       "      <th>KWI</th>\n",
       "      <th>VWM</th>\n",
       "      <th>VWN</th>\n",
       "      <th>STRM</th>\n",
       "      <th>STRN</th>\n",
       "      <th>SA</th>\n",
       "      <th>SB</th>\n",
       "    </tr>\n",
       "  </thead>\n",
       "  <tbody>\n",
       "    <tr>\n",
       "      <td>0</td>\n",
       "      <td>0.0010</td>\n",
       "      <td>0.03</td>\n",
       "      <td>[0.24113827481162065]</td>\n",
       "      <td>102</td>\n",
       "      <td>0.326089</td>\n",
       "      <td>0.202614</td>\n",
       "      <td>0.051277</td>\n",
       "      <td>-0.186090</td>\n",
       "      <td>-0.162408</td>\n",
       "      <td>0.013645</td>\n",
       "      <td>0.117832</td>\n",
       "      <td>0.106119</td>\n",
       "      <td>0.097565</td>\n",
       "      <td>0.163592</td>\n",
       "      <td>0.027501</td>\n",
       "      <td>0.084801</td>\n",
       "      <td>0.095029</td>\n",
       "      <td>0.064375</td>\n",
       "      <td>0.398044</td>\n",
       "    </tr>\n",
       "    <tr>\n",
       "      <td>1</td>\n",
       "      <td>0.0010</td>\n",
       "      <td>0.04</td>\n",
       "      <td>[0.23183104609078398]</td>\n",
       "      <td>79</td>\n",
       "      <td>0.266934</td>\n",
       "      <td>0.263765</td>\n",
       "      <td>0.106236</td>\n",
       "      <td>-0.222269</td>\n",
       "      <td>-0.229932</td>\n",
       "      <td>0.039591</td>\n",
       "      <td>0.092997</td>\n",
       "      <td>0.070123</td>\n",
       "      <td>0.115775</td>\n",
       "      <td>0.135525</td>\n",
       "      <td>0.050373</td>\n",
       "      <td>0.015469</td>\n",
       "      <td>0.086019</td>\n",
       "      <td>0.159240</td>\n",
       "      <td>0.467599</td>\n",
       "    </tr>\n",
       "    <tr>\n",
       "      <td>2</td>\n",
       "      <td>0.0010</td>\n",
       "      <td>0.05</td>\n",
       "      <td>[0.22895397788086957]</td>\n",
       "      <td>65</td>\n",
       "      <td>0.277435</td>\n",
       "      <td>0.211679</td>\n",
       "      <td>0.147731</td>\n",
       "      <td>-0.314845</td>\n",
       "      <td>-0.294987</td>\n",
       "      <td>0.127495</td>\n",
       "      <td>0.107154</td>\n",
       "      <td>0.068921</td>\n",
       "      <td>0.136046</td>\n",
       "      <td>0.140479</td>\n",
       "      <td>0.020969</td>\n",
       "      <td>0.015988</td>\n",
       "      <td>0.131422</td>\n",
       "      <td>0.067175</td>\n",
       "      <td>0.847512</td>\n",
       "    </tr>\n",
       "    <tr>\n",
       "      <td>3</td>\n",
       "      <td>0.0001</td>\n",
       "      <td>0.03</td>\n",
       "      <td>[0.21138024286509235]</td>\n",
       "      <td>195</td>\n",
       "      <td>0.332360</td>\n",
       "      <td>0.287980</td>\n",
       "      <td>0.084689</td>\n",
       "      <td>-0.305397</td>\n",
       "      <td>-0.290811</td>\n",
       "      <td>0.035208</td>\n",
       "      <td>0.044705</td>\n",
       "      <td>0.033174</td>\n",
       "      <td>0.046116</td>\n",
       "      <td>0.052793</td>\n",
       "      <td>0.000189</td>\n",
       "      <td>0.014706</td>\n",
       "      <td>0.055920</td>\n",
       "      <td>0.079354</td>\n",
       "      <td>0.055832</td>\n",
       "    </tr>\n",
       "    <tr>\n",
       "      <td>4</td>\n",
       "      <td>0.0001</td>\n",
       "      <td>0.04</td>\n",
       "      <td>[0.21033124159131072]</td>\n",
       "      <td>160</td>\n",
       "      <td>0.348899</td>\n",
       "      <td>0.302668</td>\n",
       "      <td>0.078454</td>\n",
       "      <td>-0.296351</td>\n",
       "      <td>-0.287634</td>\n",
       "      <td>0.016277</td>\n",
       "      <td>0.032644</td>\n",
       "      <td>0.040014</td>\n",
       "      <td>0.029726</td>\n",
       "      <td>0.036300</td>\n",
       "      <td>-0.003074</td>\n",
       "      <td>0.003041</td>\n",
       "      <td>0.052877</td>\n",
       "      <td>0.065612</td>\n",
       "      <td>0.649656</td>\n",
       "    </tr>\n",
       "  </tbody>\n",
       "</table>\n",
       "</div>"
      ],
      "text/plain": [
       "   threshold  alpha             final cost iterations     const       MWG  \\\n",
       "0     0.0010   0.03  [0.24113827481162065]        102  0.326089  0.202614   \n",
       "1     0.0010   0.04  [0.23183104609078398]         79  0.266934  0.263765   \n",
       "2     0.0010   0.05  [0.22895397788086957]         65  0.277435  0.211679   \n",
       "3     0.0001   0.03  [0.21138024286509235]        195  0.332360  0.287980   \n",
       "4     0.0001   0.04  [0.21033124159131072]        160  0.348899  0.302668   \n",
       "\n",
       "        NWG       KWG     MDIMC     NDIMC     MDIMA     NDIMB       KWI  \\\n",
       "0  0.051277 -0.186090 -0.162408  0.013645  0.117832  0.106119  0.097565   \n",
       "1  0.106236 -0.222269 -0.229932  0.039591  0.092997  0.070123  0.115775   \n",
       "2  0.147731 -0.314845 -0.294987  0.127495  0.107154  0.068921  0.136046   \n",
       "3  0.084689 -0.305397 -0.290811  0.035208  0.044705  0.033174  0.046116   \n",
       "4  0.078454 -0.296351 -0.287634  0.016277  0.032644  0.040014  0.029726   \n",
       "\n",
       "        VWM       VWN      STRM      STRN        SA        SB  \n",
       "0  0.163592  0.027501  0.084801  0.095029  0.064375  0.398044  \n",
       "1  0.135525  0.050373  0.015469  0.086019  0.159240  0.467599  \n",
       "2  0.140479  0.020969  0.015988  0.131422  0.067175  0.847512  \n",
       "3  0.052793  0.000189  0.014706  0.055920  0.079354  0.055832  \n",
       "4  0.036300 -0.003074  0.003041  0.052877  0.065612  0.649656  "
      ]
     },
     "execution_count": 652,
     "metadata": {},
     "output_type": "execute_result"
    }
   ],
   "source": [
    "result_df = pd.DataFrame(columns = ([\"threshold\", \"alpha\", \"final cost\", \"iterations\",'const', 'MWG', 'NWG', 'KWG', 'MDIMC', 'NDIMC', 'MDIMA', 'NDIMB', 'KWI',\n",
    "       'VWM', 'VWN', 'STRM', 'STRN', 'SA', 'SB']))\n",
    "print(result_df)\n",
    "for i in range(0,len(results_lin)):\n",
    "    result_df.loc[i] = [results_lin[i][3], results_lin[i][2], results_lin[i][0][-1], results_lin[i][4]] + [results_lin[i][1][j][0] for j in range(0,15)] #2nd last\n",
    "result_df.head()"
   ]
  },
  {
   "cell_type": "code",
   "execution_count": 653,
   "metadata": {},
   "outputs": [],
   "source": [
    "def possibilities(x, y, results_df):\n",
    "    x = np.asarray(x)\n",
    "    y = np.asarray(y).T\n",
    "    m_matrix = np.asarray(results_df.iloc[:,4:])\n",
    "    prop = result_df.iloc[:,0:4]\n",
    "    y_hat_all = m_matrix@x.T\n",
    "    err = y-y_hat_all\n",
    "    err_all = (np.sum(err**2, axis = 1)/len(x)).reshape([-1,1])\n",
    "    print(err_all.shape)\n",
    "    final_err_prop = pd.concat([prop, pd.DataFrame(err_all)], axis = 1, ignore_index=True)\n",
    "    final_err_prop.columns = [\"threshold\", \"alpha\", \"final cost\", \"iterations\",\"RMSE\"]\n",
    "    return final_err_prop"
   ]
  },
  {
   "cell_type": "code",
   "execution_count": 654,
   "metadata": {},
   "outputs": [
    {
     "name": "stdout",
     "output_type": "stream",
     "text": [
      "(15, 1)\n",
      "(15, 1)\n"
     ]
    }
   ],
   "source": [
    "final_errors_properties = possibilities(x_train, y_train, result_df)\n",
    "final_errors_properties_test = possibilities(x_test, y_test, result_df)"
   ]
  },
  {
   "cell_type": "code",
   "execution_count": 655,
   "metadata": {},
   "outputs": [],
   "source": [
    "final_errors_properties_filtered = final_errors_properties[final_errors_properties[\"threshold\"] < 0.1]\n",
    "final_errors_properties_filtered_test = final_errors_properties_test[final_errors_properties_test[\"threshold\"] < 0.1]"
   ]
  },
  {
   "cell_type": "code",
   "execution_count": 669,
   "metadata": {},
   "outputs": [
    {
     "data": {
      "image/png": "[encoded data removed]",
      "text/plain": [
       "<Figure size 1008x1296 with 3 Axes>"
      ]
     },
     "metadata": {},
     "output_type": "display_data"
    }
   ],
   "source": [
    "fig = plt.figure(figsize = [14,18])\n",
    "j = 1\n",
    "for alpha in alphas:\n",
    "    final_errors_properties_curr = final_errors_properties_filtered[final_errors_properties_filtered[\"alpha\"] == alpha]\n",
    "    final_errors_properties_curr_test = final_errors_properties_filtered_test[final_errors_properties_filtered_test[\"alpha\"] == alpha]\n",
    "    ax = fig.add_subplot(5,2, j)\n",
    "    line, = ax.plot(final_errors_properties_curr['threshold'], final_errors_properties_curr['RMSE'], color='blue')\n",
    "    line2, = ax.plot(final_errors_properties_curr_test['threshold'], final_errors_properties_curr_test['RMSE'], color='red')\n",
    "    j = j + 1\n",
    "    ax.set_xscale('log')\n",
    "    ax.set_xlabel('Threshold')\n",
    "    ax.set_ylabel('RMSE')\n",
    "    ax.set_title('Alpha = {}'.format(alpha))"
   ]
  },
  {
   "cell_type": "code",
   "execution_count": 660,
   "metadata": {},
   "outputs": [],
   "source": [
    "def gradient_descent_linear_exp2_v2(x, y, theta, lr, iterations, threshold):\n",
    "    m = len(data.axes[0])\n",
    "    cost_hist = []\n",
    "    thetas = []\n",
    "    thetas.append(theta)\n",
    "    for i in range(iterations):\n",
    "        theta = theta - (lr/m)*np.matmul(x.T, ((np.matmul(x,theta))-y))\n",
    "        thetas.append(theta)\n",
    "        cost_hist.append(cost(x, y, theta))\n",
    "#         print(cost_hist[i][0])\n",
    "        if i > 1 and (cost_hist[i-1][0] - cost_hist[i][0]) < threshold:\n",
    "            break\n",
    "    return [cost_hist, thetas, lr, threshold, i]"
   ]
  },
  {
   "cell_type": "code",
   "execution_count": 661,
   "metadata": {},
   "outputs": [],
   "source": [
    "np.random.seed(420)\n",
    "x = np.array(x_train)\n",
    "y = np.array(y_train)\n",
    "theta = np.random.rand(x.shape[1],1)\n",
    "lr = 0.05\n",
    "iterations = 5000"
   ]
  },
  {
   "cell_type": "code",
   "execution_count": 662,
   "metadata": {},
   "outputs": [],
   "source": [
    "all_info = gradient_descent_linear_exp2_v2(x, y, theta, lr, iterations, 10**-6)"
   ]
  },
  {
   "cell_type": "code",
   "execution_count": 667,
   "metadata": {},
   "outputs": [
    {
     "data": {
      "text/plain": [
       "[<matplotlib.lines.Line2D at 0x29d17b7af88>]"
      ]
     },
     "execution_count": 667,
     "metadata": {},
     "output_type": "execute_result"
    },
    {
     "data": {
      "image/png": "[encoded data removed]",
      "text/plain": [
       "<Figure size 648x504 with 1 Axes>"
      ]
     },
     "metadata": {},
     "output_type": "display_data"
    }
   ],
   "source": [
    "plt.figure(figsize=(9, 7))#, facecolor = \"#e8f4f8\")\n",
    "\n",
    "all_coefficients = [row.ravel() for row in all_info[1]]\n",
    "all_coefficients = np.asarray(all_coefficients).T\n",
    "y_all_possibles = x_train@all_coefficients\n",
    "err = y_all_possibles - np.asarray(y_train)\n",
    "train_rmse = np.sqrt(np.sum(err**2, axis = 0)/len(x_train))\n",
    "plt.plot(train_rmse, color = 'red', linestyle='solid')\n",
    "\n",
    "y_all_possibles_test = x_test@all_coefficients\n",
    "err = y_all_possibles_test - np.asarray(y_test)\n",
    "test_rmse = np.sqrt(np.sum(err**2, axis = 0)/len(x_test))\n",
    "plt.plot(test_rmse, color = 'black', linestyle='dashed')"
   ]
  },
  {
   "cell_type": "code",
   "execution_count": 668,
   "metadata": {},
   "outputs": [
    {
     "data": {
      "text/plain": [
       "Text(0.5, 1.0, 'No of iterations vs threshold\\nAlpha = 0.05')"
      ]
     },
     "execution_count": 668,
     "metadata": {},
     "output_type": "execute_result"
    },
    {
     "data": {
      "image/png": "[encoded data removed]",
      "text/plain": [
       "<Figure size 432x360 with 1 Axes>"
      ]
     },
     "metadata": {},
     "output_type": "display_data"
    }
   ],
   "source": [
    "final_errors_properties_filtered_2 = final_errors_properties[final_errors_properties['alpha']==0.05]\n",
    "final_errors_properties_filtered_2.shape\n",
    "fig = plt.figure(figsize = [6,5])\n",
    "ax = fig.add_subplot(1, 1, 1)\n",
    "line, = ax.plot(final_errors_properties_filtered_2['threshold'], final_errors_properties_filtered_2['iterations'], color='blue')\n",
    "ax.set_xscale('log')\n",
    "ax.set_xlabel('Threshold')\n",
    "ax.set_ylabel(' Iterations')\n",
    "ax.set_title('No of iterations vs threshold\\nAlpha = 0.05')"
   ]
  },
  {
   "cell_type": "markdown",
   "metadata": {},
   "source": [
    "## Logistic Regression"
   ]
  },
  {
   "cell_type": "code",
   "execution_count": 649,
   "metadata": {},
   "outputs": [],
   "source": [
    "def gradient_descent_log_exp2(x, y, theta, learning_rate, iterations, threshold):\n",
    "    m = len(y)\n",
    "    cost_history = []#np.zeros((iterations,1))\n",
    "\n",
    "    for i in range(iterations):\n",
    "        theta = theta - (learning_rate/m) * (x.T @ (sigmoid(x @ theta) - y)) \n",
    "        cost_history.append(cost_log(x, y, theta)[0])\n",
    "        print(cost_log(x, y, theta)[0][0])\n",
    "        if i > 1 and (cost_history[i-1][0] - cost_history[i][0]) < threshold:\n",
    "            break\n",
    "\n",
    "    return [cost_history, theta, lr, threshold, i]"
   ]
  },
  {
   "cell_type": "code",
   "execution_count": 640,
   "metadata": {},
   "outputs": [
    {
     "name": "stdout",
     "output_type": "stream",
     "text": [
      "threshold = 0.001 , alpha = 0.03  and iterations = 594\n",
      "threshold = 0.001 , alpha = 0.04  and iterations = 479\n",
      "threshold = 0.001 , alpha = 0.05  and iterations = 403\n",
      "threshold = 0.0001 , alpha = 0.03  and iterations = 880\n"
     ]
    },
    {
     "ename": "KeyboardInterrupt",
     "evalue": "",
     "output_type": "error",
     "traceback": [
      "\u001b[1;31m---------------------------------------------------------------------------\u001b[0m",
      "\u001b[1;31mKeyboardInterrupt\u001b[0m                         Traceback (most recent call last)",
      "\u001b[1;32m<ipython-input-640-a84e237faf72>\u001b[0m in \u001b[0;36m<module>\u001b[1;34m\u001b[0m\n\u001b[0;32m     15\u001b[0m         \u001b[0mtheta_expt2_lin\u001b[0m \u001b[1;33m=\u001b[0m \u001b[0mnp\u001b[0m\u001b[1;33m.\u001b[0m\u001b[0mrandom\u001b[0m\u001b[1;33m.\u001b[0m\u001b[0mrand\u001b[0m\u001b[1;33m(\u001b[0m\u001b[0mx\u001b[0m\u001b[1;33m.\u001b[0m\u001b[0mshape\u001b[0m\u001b[1;33m[\u001b[0m\u001b[1;36m1\u001b[0m\u001b[1;33m]\u001b[0m\u001b[1;33m,\u001b[0m\u001b[1;36m1\u001b[0m\u001b[1;33m)\u001b[0m\u001b[1;33m\u001b[0m\u001b[1;33m\u001b[0m\u001b[0m\n\u001b[0;32m     16\u001b[0m \u001b[1;33m\u001b[0m\u001b[0m\n\u001b[1;32m---> 17\u001b[1;33m         \u001b[0mresults_lin\u001b[0m\u001b[1;33m.\u001b[0m\u001b[0mappend\u001b[0m\u001b[1;33m(\u001b[0m\u001b[0mgradient_descent_log_exp2\u001b[0m\u001b[1;33m(\u001b[0m\u001b[0mx_train\u001b[0m\u001b[1;33m,\u001b[0m\u001b[0my_train\u001b[0m\u001b[1;33m,\u001b[0m\u001b[0mtheta_expt2_lin\u001b[0m\u001b[1;33m,\u001b[0m\u001b[0malpha\u001b[0m\u001b[1;33m,\u001b[0m \u001b[0miters\u001b[0m\u001b[1;33m,\u001b[0m \u001b[0mthreshold\u001b[0m\u001b[1;33m)\u001b[0m\u001b[1;33m)\u001b[0m\u001b[1;33m\u001b[0m\u001b[1;33m\u001b[0m\u001b[0m\n\u001b[0m\u001b[0;32m     18\u001b[0m         \u001b[0mi\u001b[0m \u001b[1;33m=\u001b[0m \u001b[0mi\u001b[0m \u001b[1;33m+\u001b[0m \u001b[1;36m1\u001b[0m\u001b[1;33m\u001b[0m\u001b[1;33m\u001b[0m\u001b[0m\n\u001b[0;32m     19\u001b[0m         \u001b[0mprint\u001b[0m\u001b[1;33m(\u001b[0m\u001b[1;34m\"threshold = {} , alpha = {}  and iterations = {}\"\u001b[0m\u001b[1;33m.\u001b[0m\u001b[0mformat\u001b[0m\u001b[1;33m(\u001b[0m\u001b[0mthreshold\u001b[0m\u001b[1;33m,\u001b[0m \u001b[0malpha\u001b[0m\u001b[1;33m,\u001b[0m \u001b[0mresults_lin\u001b[0m\u001b[1;33m[\u001b[0m\u001b[0mlen\u001b[0m\u001b[1;33m(\u001b[0m\u001b[0mresults_lin\u001b[0m\u001b[1;33m)\u001b[0m \u001b[1;33m-\u001b[0m \u001b[1;36m1\u001b[0m\u001b[1;33m]\u001b[0m\u001b[1;33m[\u001b[0m\u001b[1;36m4\u001b[0m\u001b[1;33m]\u001b[0m\u001b[1;33m)\u001b[0m\u001b[1;33m)\u001b[0m\u001b[1;33m\u001b[0m\u001b[1;33m\u001b[0m\u001b[0m\n",
      "\u001b[1;32m<ipython-input-639-5d0b5e4e4967>\u001b[0m in \u001b[0;36mgradient_descent_log_exp2\u001b[1;34m(x, y, theta, learning_rate, iterations, threshold)\u001b[0m\n\u001b[0;32m      5\u001b[0m     \u001b[1;32mfor\u001b[0m \u001b[0mi\u001b[0m \u001b[1;32min\u001b[0m \u001b[0mrange\u001b[0m\u001b[1;33m(\u001b[0m\u001b[0miterations\u001b[0m\u001b[1;33m)\u001b[0m\u001b[1;33m:\u001b[0m\u001b[1;33m\u001b[0m\u001b[1;33m\u001b[0m\u001b[0m\n\u001b[0;32m      6\u001b[0m         \u001b[0mtheta\u001b[0m \u001b[1;33m=\u001b[0m \u001b[0mtheta\u001b[0m \u001b[1;33m-\u001b[0m \u001b[1;33m(\u001b[0m\u001b[0mlearning_rate\u001b[0m\u001b[1;33m/\u001b[0m\u001b[0mm\u001b[0m\u001b[1;33m)\u001b[0m \u001b[1;33m*\u001b[0m \u001b[1;33m(\u001b[0m\u001b[0mx\u001b[0m\u001b[1;33m.\u001b[0m\u001b[0mT\u001b[0m \u001b[1;33m@\u001b[0m \u001b[1;33m(\u001b[0m\u001b[0msigmoid\u001b[0m\u001b[1;33m(\u001b[0m\u001b[0mx\u001b[0m \u001b[1;33m@\u001b[0m \u001b[0mtheta\u001b[0m\u001b[1;33m)\u001b[0m \u001b[1;33m-\u001b[0m \u001b[0my\u001b[0m\u001b[1;33m)\u001b[0m\u001b[1;33m)\u001b[0m\u001b[1;33m\u001b[0m\u001b[1;33m\u001b[0m\u001b[0m\n\u001b[1;32m----> 7\u001b[1;33m         \u001b[0mcost_history\u001b[0m\u001b[1;33m.\u001b[0m\u001b[0mappend\u001b[0m\u001b[1;33m(\u001b[0m\u001b[0mcost_log\u001b[0m\u001b[1;33m(\u001b[0m\u001b[0mx\u001b[0m\u001b[1;33m,\u001b[0m \u001b[0my\u001b[0m\u001b[1;33m,\u001b[0m \u001b[0mtheta\u001b[0m\u001b[1;33m)\u001b[0m\u001b[1;33m)\u001b[0m\u001b[1;33m\u001b[0m\u001b[1;33m\u001b[0m\u001b[0m\n\u001b[0m\u001b[0;32m      8\u001b[0m \u001b[1;33m\u001b[0m\u001b[0m\n\u001b[0;32m      9\u001b[0m         \u001b[1;32mif\u001b[0m \u001b[0mi\u001b[0m \u001b[1;33m>\u001b[0m \u001b[1;36m1\u001b[0m \u001b[1;32mand\u001b[0m \u001b[1;33m(\u001b[0m\u001b[0mcost_history\u001b[0m\u001b[1;33m[\u001b[0m\u001b[0mi\u001b[0m\u001b[1;33m-\u001b[0m\u001b[1;36m1\u001b[0m\u001b[1;33m]\u001b[0m\u001b[1;33m[\u001b[0m\u001b[1;36m0\u001b[0m\u001b[1;33m]\u001b[0m \u001b[1;33m-\u001b[0m \u001b[0mcost_history\u001b[0m\u001b[1;33m[\u001b[0m\u001b[0mi\u001b[0m\u001b[1;33m]\u001b[0m\u001b[1;33m[\u001b[0m\u001b[1;36m0\u001b[0m\u001b[1;33m]\u001b[0m\u001b[1;33m)\u001b[0m \u001b[1;33m<\u001b[0m \u001b[0mthreshold\u001b[0m\u001b[1;33m:\u001b[0m\u001b[1;33m\u001b[0m\u001b[1;33m\u001b[0m\u001b[0m\n",
      "\u001b[1;32m<ipython-input-430-cba98a784bf4>\u001b[0m in \u001b[0;36mcost_log\u001b[1;34m(x, y, theta)\u001b[0m\n\u001b[0;32m      3\u001b[0m     \u001b[0mh\u001b[0m \u001b[1;33m=\u001b[0m \u001b[0msigmoid\u001b[0m\u001b[1;33m(\u001b[0m\u001b[0mx\u001b[0m \u001b[1;33m@\u001b[0m \u001b[0mtheta\u001b[0m\u001b[1;33m)\u001b[0m\u001b[1;33m\u001b[0m\u001b[1;33m\u001b[0m\u001b[0m\n\u001b[0;32m      4\u001b[0m     \u001b[0mepsilon\u001b[0m \u001b[1;33m=\u001b[0m \u001b[1;36m1e-5\u001b[0m\u001b[1;33m\u001b[0m\u001b[1;33m\u001b[0m\u001b[0m\n\u001b[1;32m----> 5\u001b[1;33m     \u001b[0mcost\u001b[0m \u001b[1;33m=\u001b[0m \u001b[1;33m(\u001b[0m\u001b[1;33m-\u001b[0m\u001b[1;36m1\u001b[0m\u001b[1;33m/\u001b[0m\u001b[0mm\u001b[0m\u001b[1;33m)\u001b[0m\u001b[1;33m*\u001b[0m\u001b[1;33m(\u001b[0m\u001b[1;33m(\u001b[0m\u001b[1;33m(\u001b[0m\u001b[0my\u001b[0m\u001b[1;33m)\u001b[0m\u001b[1;33m.\u001b[0m\u001b[0mT\u001b[0m \u001b[1;33m@\u001b[0m \u001b[0mnp\u001b[0m\u001b[1;33m.\u001b[0m\u001b[0mlog\u001b[0m\u001b[1;33m(\u001b[0m\u001b[0mh\u001b[0m \u001b[1;33m+\u001b[0m \u001b[0mepsilon\u001b[0m\u001b[1;33m)\u001b[0m\u001b[1;33m)\u001b[0m\u001b[1;33m+\u001b[0m\u001b[1;33m(\u001b[0m\u001b[1;33m(\u001b[0m\u001b[1;36m1\u001b[0m\u001b[1;33m-\u001b[0m\u001b[0my\u001b[0m\u001b[1;33m)\u001b[0m\u001b[1;33m.\u001b[0m\u001b[0mT\u001b[0m \u001b[1;33m@\u001b[0m \u001b[0mnp\u001b[0m\u001b[1;33m.\u001b[0m\u001b[0mlog\u001b[0m\u001b[1;33m(\u001b[0m\u001b[1;36m1\u001b[0m\u001b[1;33m-\u001b[0m\u001b[0mh\u001b[0m \u001b[1;33m+\u001b[0m \u001b[0mepsilon\u001b[0m\u001b[1;33m)\u001b[0m\u001b[1;33m)\u001b[0m\u001b[1;33m)\u001b[0m\u001b[1;33m\u001b[0m\u001b[1;33m\u001b[0m\u001b[0m\n\u001b[0m\u001b[0;32m      6\u001b[0m     \u001b[1;32mreturn\u001b[0m \u001b[0mcost\u001b[0m\u001b[1;33m\u001b[0m\u001b[1;33m\u001b[0m\u001b[0m\n",
      "\u001b[1;31mKeyboardInterrupt\u001b[0m: "
     ]
    }
   ],
   "source": [
    "thresh = [10**-i for i in range(3,8)]\n",
    "alphas = [0.03, 0.04, 0.05 ]\n",
    "results_log = []\n",
    "thetas_log = []\n",
    "\n",
    "\n",
    "x = np.array(x_train_log)\n",
    "y = np.array(y_train_log)\n",
    "iters = 10000\n",
    "i = 123\n",
    "\n",
    "for threshold in thresh:\n",
    "    for alpha in alphas:\n",
    "        np.random.seed(i)\n",
    "        theta_expt2_log = np.random.rand(x.shape[1],1)\n",
    "\n",
    "        results_log.append(gradient_descent_log_exp2(x_train,y_train,theta_expt2_log,alpha, iters, threshold))\n",
    "        i = i + 1\n",
    "        print(\"threshold = {} , alpha = {}  and iterations = {}\".format(threshold, alpha, results_log[len(results_log) - 1][4]))\n",
    "        \n",
    "        \n",
    "#theta_expt2_lin = np.random.rand(x_train.shape[1],1)"
   ]
  },
  {
   "cell_type": "code",
   "execution_count": 650,
   "metadata": {},
   "outputs": [
    {
     "name": "stdout",
     "output_type": "stream",
     "text": [
      "0.7231895941093216\n",
      "0.6579911274081669\n",
      "0.5967324350739948\n",
      "0.539198881760538\n",
      "0.48516997781597043\n",
      "0.43442245776096755\n",
      "0.38673323238267243\n",
      "0.34188220171310973\n",
      "0.2996548646791022\n",
      "0.2598446321332826\n",
      "0.22225474944444729\n",
      "0.1866997587070169\n",
      "0.15300647102815398\n",
      "0.121014464631796\n",
      "0.09057616266761001\n",
      "0.06155656846989554\n",
      "0.033832744560218266\n",
      "0.00729311800271251\n",
      "-0.018163316587911274\n",
      "-0.042627839678542966\n",
      "-0.06618285308940867\n",
      "-0.08890270089363513\n",
      "-0.11085444645052156\n",
      "-0.13209859505674768\n",
      "-0.15268975742492166\n",
      "-0.17267725309473397\n",
      "-0.1921056553867233\n",
      "-0.2110152810108457\n",
      "-0.2294426282538991\n",
      "-0.2474207680241648\n",
      "-0.26497969209302197\n",
      "-0.2821466227536701\n",
      "-0.2989462878911298\n",
      "-0.3154011651744742\n",
      "-0.331531698773769\n",
      "-0.34735649169121446\n",
      "-0.36289247649145645\n",
      "-0.3781550669278977\n",
      "-0.3931582926945418\n",
      "-0.40791491928842083\n",
      "-0.42243655474653174\n",
      "-0.436733744822746\n",
      "-0.450816057993125\n",
      "-0.46469216152069576\n",
      "-0.47836988967125643\n",
      "-0.49185630504832234\n",
      "-0.5051577539061753\n",
      "-0.5182799162036252\n",
      "-0.5312278510760114\n",
      "-0.5440060383281653\n",
      "-0.556618416484639\n",
      "-0.5690684178748733\n",
      "-0.5813590011781649\n",
      "-0.59349268180559\n",
      "-0.6054715604521996\n",
      "-0.6172973501119634\n",
      "-0.6289714018098324\n",
      "-0.6404947292693418\n",
      "-0.6518680327003862\n",
      "-0.6630917218602667\n",
      "-0.674165938511814\n",
      "-0.6850905783754572\n",
      "-0.6958653126480188\n",
      "-0.706489609139053\n",
      "-0.7169627530561166\n",
      "-0.7272838674533957\n",
      "-0.7374519333429586\n",
      "-0.7474658094547033\n",
      "-0.7573242516206926\n"
     ]
    },
    {
     "data": {
      "text/plain": [
       "[[array([0.72318959]),\n",
       "  array([0.65799113]),\n",
       "  array([0.59673244]),\n",
       "  array([0.53919888]),\n",
       "  array([0.48516998]),\n",
       "  array([0.43442246]),\n",
       "  array([0.38673323]),\n",
       "  array([0.3418822]),\n",
       "  array([0.29965486]),\n",
       "  array([0.25984463]),\n",
       "  array([0.22225475]),\n",
       "  array([0.18669976]),\n",
       "  array([0.15300647]),\n",
       "  array([0.12101446]),\n",
       "  array([0.09057616]),\n",
       "  array([0.06155657]),\n",
       "  array([0.03383274]),\n",
       "  array([0.00729312]),\n",
       "  array([-0.01816332]),\n",
       "  array([-0.04262784]),\n",
       "  array([-0.06618285]),\n",
       "  array([-0.0889027]),\n",
       "  array([-0.11085445]),\n",
       "  array([-0.1320986]),\n",
       "  array([-0.15268976]),\n",
       "  array([-0.17267725]),\n",
       "  array([-0.19210566]),\n",
       "  array([-0.21101528]),\n",
       "  array([-0.22944263]),\n",
       "  array([-0.24742077]),\n",
       "  array([-0.26497969]),\n",
       "  array([-0.28214662]),\n",
       "  array([-0.29894629]),\n",
       "  array([-0.31540117]),\n",
       "  array([-0.3315317]),\n",
       "  array([-0.34735649]),\n",
       "  array([-0.36289248]),\n",
       "  array([-0.37815507]),\n",
       "  array([-0.39315829]),\n",
       "  array([-0.40791492]),\n",
       "  array([-0.42243655]),\n",
       "  array([-0.43673374]),\n",
       "  array([-0.45081606]),\n",
       "  array([-0.46469216]),\n",
       "  array([-0.47836989]),\n",
       "  array([-0.49185631]),\n",
       "  array([-0.50515775]),\n",
       "  array([-0.51827992]),\n",
       "  array([-0.53122785]),\n",
       "  array([-0.54400604]),\n",
       "  array([-0.55661842]),\n",
       "  array([-0.56906842]),\n",
       "  array([-0.581359]),\n",
       "  array([-0.59349268]),\n",
       "  array([-0.60547156]),\n",
       "  array([-0.61729735]),\n",
       "  array([-0.6289714]),\n",
       "  array([-0.64049473]),\n",
       "  array([-0.65186803]),\n",
       "  array([-0.66309172]),\n",
       "  array([-0.67416594]),\n",
       "  array([-0.68509058]),\n",
       "  array([-0.69586531]),\n",
       "  array([-0.70648961]),\n",
       "  array([-0.71696275]),\n",
       "  array([-0.72728387]),\n",
       "  array([-0.73745193]),\n",
       "  array([-0.74746581]),\n",
       "  array([-0.75732425])],\n",
       " array([[ 2.43074107],\n",
       "        [ 2.22949641],\n",
       "        [ 0.46246772],\n",
       "        [-1.88523798],\n",
       "        [-1.90810887],\n",
       "        [ 0.15638023],\n",
       "        [ 0.22136198],\n",
       "        [ 0.38022077],\n",
       "        [ 0.84982898],\n",
       "        [ 0.67539569],\n",
       "        [-0.06207596],\n",
       "        [ 0.12278069],\n",
       "        [ 0.44000918],\n",
       "        [ 0.60808611],\n",
       "        [ 0.31138445]]),\n",
       " 0.2,\n",
       " 0.01,\n",
       " 68]"
      ]
     },
     "execution_count": 650,
     "metadata": {},
     "output_type": "execute_result"
    }
   ],
   "source": [
    "#Test case\n",
    "#gradient_descent_log_exp2(x_train, y_train, np.random.rand(x.shape[1],1), 0.2, 100, .01)"
   ]
  },
  {
   "cell_type": "markdown",
   "metadata": {},
   "source": [
    "# Experiment 3"
   ]
  },
  {
   "cell_type": "markdown",
   "metadata": {},
   "source": [
    "## Linear Regression"
   ]
  },
  {
   "cell_type": "code",
   "execution_count": 537,
   "metadata": {},
   "outputs": [
    {
     "data": {
      "text/plain": [
       "(241600, 10)"
      ]
     },
     "execution_count": 537,
     "metadata": {},
     "output_type": "execute_result"
    }
   ],
   "source": [
    "data_exp3 = data.drop(columns = ['MWG', 'KWG', 'NDIMC', 'NDIMB', 'VWM', 'STRM'])\n",
    "#data_exp3 = np.array(data_exp3)\n",
    "data_exp3.shape"
   ]
  },
  {
   "cell_type": "code",
   "execution_count": 538,
   "metadata": {},
   "outputs": [
    {
     "data": {
      "text/plain": [
       "(241600, 9)"
      ]
     },
     "execution_count": 538,
     "metadata": {},
     "output_type": "execute_result"
    }
   ],
   "source": [
    "data_exp3 = data_exp3.iloc[:, 0:9]\n",
    "data_exp3.shape"
   ]
  },
  {
   "cell_type": "code",
   "execution_count": 539,
   "metadata": {},
   "outputs": [
    {
     "data": {
      "text/plain": [
       "((169120, 9), (72480, 9), (169120,), (72480,))"
      ]
     },
     "execution_count": 539,
     "metadata": {},
     "output_type": "execute_result"
    }
   ],
   "source": [
    "x_train_exp3, x_test_exp3, y_train_exp3, y_test_exp3 = train_test_split(data_exp3, data['Avg_run'], test_size = 0.3)\n",
    "x_train_exp3.shape, x_test_exp3.shape, y_train_exp3.shape, y_test_exp3.shape"
   ]
  },
  {
   "cell_type": "code",
   "execution_count": 540,
   "metadata": {},
   "outputs": [
    {
     "data": {
      "text/plain": [
       "((169120, 1), (72480, 1))"
      ]
     },
     "execution_count": 540,
     "metadata": {},
     "output_type": "execute_result"
    }
   ],
   "source": [
    "y_train_exp3 = np.array(y_train_exp3).reshape(-1,1)\n",
    "y_test_exp3 = np.array(y_test_exp3).reshape(-1,1)\n",
    "y_train_exp3.shape, y_test_exp3.shape"
   ]
  },
  {
   "cell_type": "code",
   "execution_count": 541,
   "metadata": {},
   "outputs": [],
   "source": [
    "x_train_exp3 = standardization(x_train_exp3)\n",
    "x_test_exp3 = standardization(x_test_exp3)\n",
    "y_train_exp3 = standardization(y_train_exp3)\n",
    "y_test_exp3 = standardization(y_test_exp3)"
   ]
  },
  {
   "cell_type": "code",
   "execution_count": 542,
   "metadata": {},
   "outputs": [
    {
     "data": {
      "text/plain": [
       "(9, 1)"
      ]
     },
     "execution_count": 542,
     "metadata": {},
     "output_type": "execute_result"
    }
   ],
   "source": [
    "#Generating a random matrix\n",
    "np.random.seed(123)\n",
    "theta = np.random.rand(data_exp3.shape[1],1)\n",
    "theta[0:,]\n",
    "theta.shape"
   ]
  },
  {
   "cell_type": "code",
   "execution_count": 544,
   "metadata": {},
   "outputs": [
    {
     "name": "stdout",
     "output_type": "stream",
     "text": [
      "Initial cost is:  [1.2881842] \n",
      "\n",
      "Optimal parameters are: \n",
      " [[ 0.30321824]\n",
      " [-0.22531222]\n",
      " [ 0.03284038]\n",
      " [ 0.03336728]\n",
      " [ 0.04084867]\n",
      " [ 0.00107604]\n",
      " [ 0.05026061]\n",
      " [ 0.06320153]\n",
      " [ 0.4809319 ]] \n",
      "\n",
      "Final cost is:  [0.29390667]\n"
     ]
    },
    {
     "data": {
      "image/png": "[encoded data removed]",
      "text/plain": [
       "<Figure size 432x288 with 1 Axes>"
      ]
     },
     "metadata": {},
     "output_type": "display_data"
    }
   ],
   "source": [
    "np.random.seed(123)\n",
    "iterations = 500\n",
    "lr = 0.2\n",
    "\n",
    "initial_cost = cost(x_train_exp3, y_train_exp3, theta)\n",
    "print(\"Initial cost is: \", initial_cost, \"\\n\")\n",
    "(cost_hist, cost_theta) = gradient_descent_linear(x_train_exp3, y_train_exp3, theta, lr, iterations)\n",
    "print(\"Optimal parameters are: \\n\", cost_theta, \"\\n\")\n",
    "print(\"Final cost is: \", cost_hist[-1])\n",
    "\n",
    "plt.plot(range(len(cost_hist)), cost_hist, 'r')\n",
    "plt.title(\"Convergence Graph of Cost Function\")\n",
    "plt.xlabel(\"Number of Iterations\")\n",
    "plt.ylabel(\"Cost\")\n",
    "plt.xlim([0,500])\n",
    "plt.show()"
   ]
  },
  {
   "cell_type": "code",
   "execution_count": 545,
   "metadata": {},
   "outputs": [
    {
     "data": {
      "text/plain": [
       "array([0.29390667])"
      ]
     },
     "execution_count": 545,
     "metadata": {},
     "output_type": "execute_result"
    }
   ],
   "source": [
    "cost_hist[499]"
   ]
  },
  {
   "cell_type": "code",
   "execution_count": 547,
   "metadata": {},
   "outputs": [],
   "source": [
    "final_pred_linear_test1 = pred(x_test_exp3, cost_theta)"
   ]
  },
  {
   "cell_type": "code",
   "execution_count": 548,
   "metadata": {},
   "outputs": [
    {
     "name": "stdout",
     "output_type": "stream",
     "text": [
      "R2 of the model:  0.16157820960517433\n",
      "Mean absolute error:  0.5479735951273799\n",
      "Mean squared error:  0.8384217903948257\n",
      "Root mean squared error:  0.915653750276176\n"
     ]
    }
   ],
   "source": [
    "result(y_test_exp3, final_pred_linear_test1)"
   ]
  },
  {
   "cell_type": "code",
   "execution_count": 549,
   "metadata": {},
   "outputs": [],
   "source": [
    "final_pred_linear_train1 = pred(x_train_exp3, cost_theta)"
   ]
  },
  {
   "cell_type": "code",
   "execution_count": 550,
   "metadata": {},
   "outputs": [
    {
     "name": "stdout",
     "output_type": "stream",
     "text": [
      "R2 of the model:  0.1602666687584654\n",
      "Mean absolute error:  0.5490952697263158\n",
      "Mean squared error:  0.8397333312415347\n",
      "Root mean squared error:  0.9163696477085733\n"
     ]
    }
   ],
   "source": [
    "result(y_train_exp3, final_pred_linear_train1)"
   ]
  },
  {
   "cell_type": "markdown",
   "metadata": {},
   "source": [
    "## Logistic Regression"
   ]
  },
  {
   "cell_type": "code",
   "execution_count": 551,
   "metadata": {},
   "outputs": [
    {
     "data": {
      "text/plain": [
       "(241600, 10)"
      ]
     },
     "execution_count": 551,
     "metadata": {},
     "output_type": "execute_result"
    }
   ],
   "source": [
    "df_exp3 = df.drop(columns = ['MWG', 'KWG', 'NDIMC', 'NDIMB', 'VWM', 'STRM']) \n",
    "df_exp3.shape"
   ]
  },
  {
   "cell_type": "code",
   "execution_count": 552,
   "metadata": {},
   "outputs": [
    {
     "data": {
      "text/plain": [
       "(241600, 9)"
      ]
     },
     "execution_count": 552,
     "metadata": {},
     "output_type": "execute_result"
    }
   ],
   "source": [
    "df_exp3 = df_exp3.iloc[:,0:9]\n",
    "df_exp3.shape"
   ]
  },
  {
   "cell_type": "code",
   "execution_count": 553,
   "metadata": {},
   "outputs": [
    {
     "data": {
      "text/plain": [
       "((169120, 9), (72480, 9), (169120,), (72480,))"
      ]
     },
     "execution_count": 553,
     "metadata": {},
     "output_type": "execute_result"
    }
   ],
   "source": [
    "x_train_log_exp3, x_test_log_exp3, y_train_log_exp3, y_test_log_exp3 = train_test_split(df_exp3, df['Avg_run'], test_size = 0.3)\n",
    "x_train_log_exp3.shape, x_test_log_exp3.shape, y_train_log_exp3.shape, y_test_log_exp3.shape"
   ]
  },
  {
   "cell_type": "code",
   "execution_count": 554,
   "metadata": {},
   "outputs": [
    {
     "data": {
      "text/plain": [
       "((169120, 1), (72480, 1))"
      ]
     },
     "execution_count": 554,
     "metadata": {},
     "output_type": "execute_result"
    }
   ],
   "source": [
    "y_train_log_exp3 = np.array(y_train_log_exp3).reshape(-1,1)\n",
    "y_test_log_exp3 = np.array(y_test_log_exp3).reshape(-1,1)\n",
    "y_train_log_exp3.shape, y_test_log_exp3.shape"
   ]
  },
  {
   "cell_type": "code",
   "execution_count": 555,
   "metadata": {},
   "outputs": [],
   "source": [
    "x_train_log_exp3 = standardization(x_train_log_exp3)\n",
    "x_test_log_exp3 = standardization(x_test_log_exp3)"
   ]
  },
  {
   "cell_type": "code",
   "execution_count": 582,
   "metadata": {},
   "outputs": [],
   "source": [
    "np.random.seed(123)\n",
    "n = np.size(x_train_log_exp3,1)\n",
    "theta_log = np.random.rand(n,1)"
   ]
  },
  {
   "cell_type": "code",
   "execution_count": 583,
   "metadata": {},
   "outputs": [
    {
     "name": "stdout",
     "output_type": "stream",
     "text": [
      "Initial Cost is: [[1.0192187]] \n",
      "\n",
      "Optimal Parameters are: \n",
      " [[ 0.49121294]\n",
      " [-0.42287975]\n",
      " [ 0.04955329]\n",
      " [-0.01478695]\n",
      " [ 0.01726704]\n",
      " [-0.01911846]\n",
      " [-0.28362216]\n",
      " [-0.05987294]\n",
      " [ 0.4809319 ]] \n",
      "\n"
     ]
    },
    {
     "data": {
      "image/png": "[encoded data removed]",
      "text/plain": [
       "<Figure size 432x288 with 1 Axes>"
      ]
     },
     "metadata": {},
     "output_type": "display_data"
    }
   ],
   "source": [
    "np.random.seed(123)\n",
    "iterations = 200\n",
    "learning_rate = 0.7\n",
    "\n",
    "initial_cost = cost_log(x_train_log_exp3, y_train_log_exp3, theta_log)\n",
    "\n",
    "print(\"Initial Cost is: {} \\n\".format(initial_cost))\n",
    "\n",
    "(cost_history, theta_optimal) = gradient_descent(x_train_log_exp3, y_train_log_exp3, theta_log, learning_rate, iterations)\n",
    "\n",
    "print(\"Optimal Parameters are: \\n\", theta_optimal, \"\\n\")\n",
    "\n",
    "plt.figure()\n",
    "sns.set_style('white')\n",
    "plt.plot(range(len(cost_history)), cost_history, 'r')\n",
    "plt.title(\"Convergence Graph of Cost Function\")\n",
    "plt.xlabel(\"Number of Iterations\")\n",
    "plt.ylabel(\"Cost\")\n",
    "plt.xlim([0,200])\n",
    "plt.show()"
   ]
  },
  {
   "cell_type": "code",
   "execution_count": 564,
   "metadata": {
    "scrolled": true
   },
   "outputs": [
    {
     "data": {
      "text/plain": [
       "array([0.63817702])"
      ]
     },
     "execution_count": 564,
     "metadata": {},
     "output_type": "execute_result"
    }
   ],
   "source": [
    "cost_history[199]"
   ]
  },
  {
   "cell_type": "code",
   "execution_count": 584,
   "metadata": {},
   "outputs": [],
   "source": [
    "final_pred_log_test_exp3 = predict(x_test_log_exp3, theta_optimal)"
   ]
  },
  {
   "cell_type": "code",
   "execution_count": 586,
   "metadata": {},
   "outputs": [],
   "source": [
    "final_pred_log_train_exp3 = predict(x_train_log_exp3, theta_optimal)"
   ]
  },
  {
   "cell_type": "code",
   "execution_count": 587,
   "metadata": {},
   "outputs": [
    {
     "name": "stdout",
     "output_type": "stream",
     "text": [
      "[[29287  6884]\n",
      " [ 7171 29138]]\n"
     ]
    }
   ],
   "source": [
    "confusionmatrix_log_test_exp3 = confusion_matrix(y_test_log_exp3, final_pred_log_test5)\n",
    "print(confusionmatrix_log_test_exp3)"
   ]
  },
  {
   "cell_type": "code",
   "execution_count": 588,
   "metadata": {},
   "outputs": [
    {
     "name": "stdout",
     "output_type": "stream",
     "text": [
      "[[69184 15444]\n",
      " [16380 68112]]\n"
     ]
    }
   ],
   "source": [
    "confusionmatrix_log_train_exp3 = confusion_matrix(y_train_log_exp3, final_pred_log_train5)\n",
    "print(confusionmatrix_log_train_exp3)"
   ]
  },
  {
   "cell_type": "code",
   "execution_count": 591,
   "metadata": {},
   "outputs": [
    {
     "data": {
      "text/plain": [
       "0.6420529801324504"
      ]
     },
     "execution_count": 591,
     "metadata": {},
     "output_type": "execute_result"
    }
   ],
   "source": [
    "accuracy(y_train_log_exp3, final_pred_log_train_exp3)"
   ]
  },
  {
   "cell_type": "code",
   "execution_count": 592,
   "metadata": {},
   "outputs": [
    {
     "data": {
      "text/plain": [
       "0.6419012141280354"
      ]
     },
     "execution_count": 592,
     "metadata": {},
     "output_type": "execute_result"
    }
   ],
   "source": [
    "accuracy(y_test_log_exp3, final_pred_log_test_exp3)"
   ]
  },
  {
   "cell_type": "markdown",
   "metadata": {},
   "source": [
    "# Experiment 4"
   ]
  },
  {
   "cell_type": "markdown",
   "metadata": {},
   "source": [
    "## Linear Regression"
   ]
  },
  {
   "cell_type": "code",
   "execution_count": 593,
   "metadata": {},
   "outputs": [
    {
     "name": "stderr",
     "output_type": "stream",
     "text": [
      "C:\\Users\\ikapo\\Anaconda3\\lib\\site-packages\\matplotlib\\colors.py:527: RuntimeWarning: invalid value encountered in less\n",
      "  xa[xa < 0] = -1\n"
     ]
    },
    {
     "data": {
      "text/html": [
       "<style  type=\"text/css\" >\n",
       "    #T_e06c0f74_4ea3_11ea_964d_acd5647de6d0row0_col0 {\n",
       "            background-color:  #3b4cc0;\n",
       "            color:  #f1f1f1;\n",
       "        }    #T_e06c0f74_4ea3_11ea_964d_acd5647de6d0row0_col1 {\n",
       "            background-color:  #3b4cc0;\n",
       "            color:  #f1f1f1;\n",
       "        }    #T_e06c0f74_4ea3_11ea_964d_acd5647de6d0row0_col2 {\n",
       "            background-color:  #3b4cc0;\n",
       "            color:  #f1f1f1;\n",
       "        }    #T_e06c0f74_4ea3_11ea_964d_acd5647de6d0row0_col3 {\n",
       "            background-color:  #3b4cc0;\n",
       "            color:  #f1f1f1;\n",
       "        }    #T_e06c0f74_4ea3_11ea_964d_acd5647de6d0row0_col4 {\n",
       "            background-color:  #3b4cc0;\n",
       "            color:  #f1f1f1;\n",
       "        }    #T_e06c0f74_4ea3_11ea_964d_acd5647de6d0row0_col5 {\n",
       "            background-color:  #3b4cc0;\n",
       "            color:  #f1f1f1;\n",
       "        }    #T_e06c0f74_4ea3_11ea_964d_acd5647de6d0row0_col6 {\n",
       "            background-color:  #3b4cc0;\n",
       "            color:  #f1f1f1;\n",
       "        }    #T_e06c0f74_4ea3_11ea_964d_acd5647de6d0row0_col7 {\n",
       "            background-color:  #3b4cc0;\n",
       "            color:  #f1f1f1;\n",
       "        }    #T_e06c0f74_4ea3_11ea_964d_acd5647de6d0row0_col8 {\n",
       "            background-color:  #3b4cc0;\n",
       "            color:  #f1f1f1;\n",
       "        }    #T_e06c0f74_4ea3_11ea_964d_acd5647de6d0row0_col9 {\n",
       "            background-color:  #3b4cc0;\n",
       "            color:  #f1f1f1;\n",
       "        }    #T_e06c0f74_4ea3_11ea_964d_acd5647de6d0row0_col10 {\n",
       "            background-color:  #3b4cc0;\n",
       "            color:  #f1f1f1;\n",
       "        }    #T_e06c0f74_4ea3_11ea_964d_acd5647de6d0row0_col11 {\n",
       "            background-color:  #3b4cc0;\n",
       "            color:  #f1f1f1;\n",
       "        }    #T_e06c0f74_4ea3_11ea_964d_acd5647de6d0row0_col12 {\n",
       "            background-color:  #3b4cc0;\n",
       "            color:  #f1f1f1;\n",
       "        }    #T_e06c0f74_4ea3_11ea_964d_acd5647de6d0row0_col13 {\n",
       "            background-color:  #3b4cc0;\n",
       "            color:  #f1f1f1;\n",
       "        }    #T_e06c0f74_4ea3_11ea_964d_acd5647de6d0row0_col14 {\n",
       "            background-color:  #3b4cc0;\n",
       "            color:  #f1f1f1;\n",
       "        }    #T_e06c0f74_4ea3_11ea_964d_acd5647de6d0row0_col15 {\n",
       "            background-color:  #3b4cc0;\n",
       "            color:  #f1f1f1;\n",
       "        }    #T_e06c0f74_4ea3_11ea_964d_acd5647de6d0row1_col0 {\n",
       "            background-color:  #3b4cc0;\n",
       "            color:  #f1f1f1;\n",
       "        }    #T_e06c0f74_4ea3_11ea_964d_acd5647de6d0row1_col1 {\n",
       "            background-color:  #3b4cc0;\n",
       "            color:  #f1f1f1;\n",
       "        }    #T_e06c0f74_4ea3_11ea_964d_acd5647de6d0row1_col2 {\n",
       "            background-color:  #3b4cc0;\n",
       "            color:  #f1f1f1;\n",
       "        }    #T_e06c0f74_4ea3_11ea_964d_acd5647de6d0row1_col3 {\n",
       "            background-color:  #3b4cc0;\n",
       "            color:  #f1f1f1;\n",
       "        }    #T_e06c0f74_4ea3_11ea_964d_acd5647de6d0row1_col4 {\n",
       "            background-color:  #3b4cc0;\n",
       "            color:  #f1f1f1;\n",
       "        }    #T_e06c0f74_4ea3_11ea_964d_acd5647de6d0row1_col5 {\n",
       "            background-color:  #3b4cc0;\n",
       "            color:  #f1f1f1;\n",
       "        }    #T_e06c0f74_4ea3_11ea_964d_acd5647de6d0row1_col6 {\n",
       "            background-color:  #3b4cc0;\n",
       "            color:  #f1f1f1;\n",
       "        }    #T_e06c0f74_4ea3_11ea_964d_acd5647de6d0row1_col7 {\n",
       "            background-color:  #3b4cc0;\n",
       "            color:  #f1f1f1;\n",
       "        }    #T_e06c0f74_4ea3_11ea_964d_acd5647de6d0row1_col8 {\n",
       "            background-color:  #3b4cc0;\n",
       "            color:  #f1f1f1;\n",
       "        }    #T_e06c0f74_4ea3_11ea_964d_acd5647de6d0row1_col9 {\n",
       "            background-color:  #3b4cc0;\n",
       "            color:  #f1f1f1;\n",
       "        }    #T_e06c0f74_4ea3_11ea_964d_acd5647de6d0row1_col10 {\n",
       "            background-color:  #3b4cc0;\n",
       "            color:  #f1f1f1;\n",
       "        }    #T_e06c0f74_4ea3_11ea_964d_acd5647de6d0row1_col11 {\n",
       "            background-color:  #3b4cc0;\n",
       "            color:  #f1f1f1;\n",
       "        }    #T_e06c0f74_4ea3_11ea_964d_acd5647de6d0row1_col12 {\n",
       "            background-color:  #3b4cc0;\n",
       "            color:  #f1f1f1;\n",
       "        }    #T_e06c0f74_4ea3_11ea_964d_acd5647de6d0row1_col13 {\n",
       "            background-color:  #3b4cc0;\n",
       "            color:  #f1f1f1;\n",
       "        }    #T_e06c0f74_4ea3_11ea_964d_acd5647de6d0row1_col14 {\n",
       "            background-color:  #3b4cc0;\n",
       "            color:  #f1f1f1;\n",
       "        }    #T_e06c0f74_4ea3_11ea_964d_acd5647de6d0row1_col15 {\n",
       "            background-color:  #3b4cc0;\n",
       "            color:  #f1f1f1;\n",
       "        }    #T_e06c0f74_4ea3_11ea_964d_acd5647de6d0row2_col0 {\n",
       "            background-color:  #3b4cc0;\n",
       "            color:  #f1f1f1;\n",
       "        }    #T_e06c0f74_4ea3_11ea_964d_acd5647de6d0row2_col1 {\n",
       "            background-color:  #3b4cc0;\n",
       "            color:  #f1f1f1;\n",
       "        }    #T_e06c0f74_4ea3_11ea_964d_acd5647de6d0row2_col2 {\n",
       "            background-color:  #3b4cc0;\n",
       "            color:  #f1f1f1;\n",
       "        }    #T_e06c0f74_4ea3_11ea_964d_acd5647de6d0row2_col3 {\n",
       "            background-color:  #3b4cc0;\n",
       "            color:  #f1f1f1;\n",
       "        }    #T_e06c0f74_4ea3_11ea_964d_acd5647de6d0row2_col4 {\n",
       "            background-color:  #3b4cc0;\n",
       "            color:  #f1f1f1;\n",
       "        }    #T_e06c0f74_4ea3_11ea_964d_acd5647de6d0row2_col5 {\n",
       "            background-color:  #3b4cc0;\n",
       "            color:  #f1f1f1;\n",
       "        }    #T_e06c0f74_4ea3_11ea_964d_acd5647de6d0row2_col6 {\n",
       "            background-color:  #3b4cc0;\n",
       "            color:  #f1f1f1;\n",
       "        }    #T_e06c0f74_4ea3_11ea_964d_acd5647de6d0row2_col7 {\n",
       "            background-color:  #3b4cc0;\n",
       "            color:  #f1f1f1;\n",
       "        }    #T_e06c0f74_4ea3_11ea_964d_acd5647de6d0row2_col8 {\n",
       "            background-color:  #3b4cc0;\n",
       "            color:  #f1f1f1;\n",
       "        }    #T_e06c0f74_4ea3_11ea_964d_acd5647de6d0row2_col9 {\n",
       "            background-color:  #3b4cc0;\n",
       "            color:  #f1f1f1;\n",
       "        }    #T_e06c0f74_4ea3_11ea_964d_acd5647de6d0row2_col10 {\n",
       "            background-color:  #3b4cc0;\n",
       "            color:  #f1f1f1;\n",
       "        }    #T_e06c0f74_4ea3_11ea_964d_acd5647de6d0row2_col11 {\n",
       "            background-color:  #3b4cc0;\n",
       "            color:  #f1f1f1;\n",
       "        }    #T_e06c0f74_4ea3_11ea_964d_acd5647de6d0row2_col12 {\n",
       "            background-color:  #3b4cc0;\n",
       "            color:  #f1f1f1;\n",
       "        }    #T_e06c0f74_4ea3_11ea_964d_acd5647de6d0row2_col13 {\n",
       "            background-color:  #3b4cc0;\n",
       "            color:  #f1f1f1;\n",
       "        }    #T_e06c0f74_4ea3_11ea_964d_acd5647de6d0row2_col14 {\n",
       "            background-color:  #3b4cc0;\n",
       "            color:  #f1f1f1;\n",
       "        }    #T_e06c0f74_4ea3_11ea_964d_acd5647de6d0row2_col15 {\n",
       "            background-color:  #3b4cc0;\n",
       "            color:  #f1f1f1;\n",
       "        }    #T_e06c0f74_4ea3_11ea_964d_acd5647de6d0row3_col0 {\n",
       "            background-color:  #3b4cc0;\n",
       "            color:  #f1f1f1;\n",
       "        }    #T_e06c0f74_4ea3_11ea_964d_acd5647de6d0row3_col1 {\n",
       "            background-color:  #3b4cc0;\n",
       "            color:  #f1f1f1;\n",
       "        }    #T_e06c0f74_4ea3_11ea_964d_acd5647de6d0row3_col2 {\n",
       "            background-color:  #3b4cc0;\n",
       "            color:  #f1f1f1;\n",
       "        }    #T_e06c0f74_4ea3_11ea_964d_acd5647de6d0row3_col3 {\n",
       "            background-color:  #3b4cc0;\n",
       "            color:  #f1f1f1;\n",
       "        }    #T_e06c0f74_4ea3_11ea_964d_acd5647de6d0row3_col4 {\n",
       "            background-color:  #3b4cc0;\n",
       "            color:  #f1f1f1;\n",
       "        }    #T_e06c0f74_4ea3_11ea_964d_acd5647de6d0row3_col5 {\n",
       "            background-color:  #3b4cc0;\n",
       "            color:  #f1f1f1;\n",
       "        }    #T_e06c0f74_4ea3_11ea_964d_acd5647de6d0row3_col6 {\n",
       "            background-color:  #3b4cc0;\n",
       "            color:  #f1f1f1;\n",
       "        }    #T_e06c0f74_4ea3_11ea_964d_acd5647de6d0row3_col7 {\n",
       "            background-color:  #3b4cc0;\n",
       "            color:  #f1f1f1;\n",
       "        }    #T_e06c0f74_4ea3_11ea_964d_acd5647de6d0row3_col8 {\n",
       "            background-color:  #3b4cc0;\n",
       "            color:  #f1f1f1;\n",
       "        }    #T_e06c0f74_4ea3_11ea_964d_acd5647de6d0row3_col9 {\n",
       "            background-color:  #3b4cc0;\n",
       "            color:  #f1f1f1;\n",
       "        }    #T_e06c0f74_4ea3_11ea_964d_acd5647de6d0row3_col10 {\n",
       "            background-color:  #3b4cc0;\n",
       "            color:  #f1f1f1;\n",
       "        }    #T_e06c0f74_4ea3_11ea_964d_acd5647de6d0row3_col11 {\n",
       "            background-color:  #3b4cc0;\n",
       "            color:  #f1f1f1;\n",
       "        }    #T_e06c0f74_4ea3_11ea_964d_acd5647de6d0row3_col12 {\n",
       "            background-color:  #3b4cc0;\n",
       "            color:  #f1f1f1;\n",
       "        }    #T_e06c0f74_4ea3_11ea_964d_acd5647de6d0row3_col13 {\n",
       "            background-color:  #3b4cc0;\n",
       "            color:  #f1f1f1;\n",
       "        }    #T_e06c0f74_4ea3_11ea_964d_acd5647de6d0row3_col14 {\n",
       "            background-color:  #3b4cc0;\n",
       "            color:  #f1f1f1;\n",
       "        }    #T_e06c0f74_4ea3_11ea_964d_acd5647de6d0row3_col15 {\n",
       "            background-color:  #3b4cc0;\n",
       "            color:  #f1f1f1;\n",
       "        }    #T_e06c0f74_4ea3_11ea_964d_acd5647de6d0row4_col0 {\n",
       "            background-color:  #3b4cc0;\n",
       "            color:  #f1f1f1;\n",
       "        }    #T_e06c0f74_4ea3_11ea_964d_acd5647de6d0row4_col1 {\n",
       "            background-color:  #3b4cc0;\n",
       "            color:  #f1f1f1;\n",
       "        }    #T_e06c0f74_4ea3_11ea_964d_acd5647de6d0row4_col2 {\n",
       "            background-color:  #3b4cc0;\n",
       "            color:  #f1f1f1;\n",
       "        }    #T_e06c0f74_4ea3_11ea_964d_acd5647de6d0row4_col3 {\n",
       "            background-color:  #3b4cc0;\n",
       "            color:  #f1f1f1;\n",
       "        }    #T_e06c0f74_4ea3_11ea_964d_acd5647de6d0row4_col4 {\n",
       "            background-color:  #3b4cc0;\n",
       "            color:  #f1f1f1;\n",
       "        }    #T_e06c0f74_4ea3_11ea_964d_acd5647de6d0row4_col5 {\n",
       "            background-color:  #3b4cc0;\n",
       "            color:  #f1f1f1;\n",
       "        }    #T_e06c0f74_4ea3_11ea_964d_acd5647de6d0row4_col6 {\n",
       "            background-color:  #3b4cc0;\n",
       "            color:  #f1f1f1;\n",
       "        }    #T_e06c0f74_4ea3_11ea_964d_acd5647de6d0row4_col7 {\n",
       "            background-color:  #3b4cc0;\n",
       "            color:  #f1f1f1;\n",
       "        }    #T_e06c0f74_4ea3_11ea_964d_acd5647de6d0row4_col8 {\n",
       "            background-color:  #3b4cc0;\n",
       "            color:  #f1f1f1;\n",
       "        }    #T_e06c0f74_4ea3_11ea_964d_acd5647de6d0row4_col9 {\n",
       "            background-color:  #3b4cc0;\n",
       "            color:  #f1f1f1;\n",
       "        }    #T_e06c0f74_4ea3_11ea_964d_acd5647de6d0row4_col10 {\n",
       "            background-color:  #3b4cc0;\n",
       "            color:  #f1f1f1;\n",
       "        }    #T_e06c0f74_4ea3_11ea_964d_acd5647de6d0row4_col11 {\n",
       "            background-color:  #3b4cc0;\n",
       "            color:  #f1f1f1;\n",
       "        }    #T_e06c0f74_4ea3_11ea_964d_acd5647de6d0row4_col12 {\n",
       "            background-color:  #3b4cc0;\n",
       "            color:  #f1f1f1;\n",
       "        }    #T_e06c0f74_4ea3_11ea_964d_acd5647de6d0row4_col13 {\n",
       "            background-color:  #3b4cc0;\n",
       "            color:  #f1f1f1;\n",
       "        }    #T_e06c0f74_4ea3_11ea_964d_acd5647de6d0row4_col14 {\n",
       "            background-color:  #3b4cc0;\n",
       "            color:  #f1f1f1;\n",
       "        }    #T_e06c0f74_4ea3_11ea_964d_acd5647de6d0row4_col15 {\n",
       "            background-color:  #3b4cc0;\n",
       "            color:  #f1f1f1;\n",
       "        }    #T_e06c0f74_4ea3_11ea_964d_acd5647de6d0row5_col0 {\n",
       "            background-color:  #3b4cc0;\n",
       "            color:  #f1f1f1;\n",
       "        }    #T_e06c0f74_4ea3_11ea_964d_acd5647de6d0row5_col1 {\n",
       "            background-color:  #3b4cc0;\n",
       "            color:  #f1f1f1;\n",
       "        }    #T_e06c0f74_4ea3_11ea_964d_acd5647de6d0row5_col2 {\n",
       "            background-color:  #3b4cc0;\n",
       "            color:  #f1f1f1;\n",
       "        }    #T_e06c0f74_4ea3_11ea_964d_acd5647de6d0row5_col3 {\n",
       "            background-color:  #3b4cc0;\n",
       "            color:  #f1f1f1;\n",
       "        }    #T_e06c0f74_4ea3_11ea_964d_acd5647de6d0row5_col4 {\n",
       "            background-color:  #3b4cc0;\n",
       "            color:  #f1f1f1;\n",
       "        }    #T_e06c0f74_4ea3_11ea_964d_acd5647de6d0row5_col5 {\n",
       "            background-color:  #3b4cc0;\n",
       "            color:  #f1f1f1;\n",
       "        }    #T_e06c0f74_4ea3_11ea_964d_acd5647de6d0row5_col6 {\n",
       "            background-color:  #3b4cc0;\n",
       "            color:  #f1f1f1;\n",
       "        }    #T_e06c0f74_4ea3_11ea_964d_acd5647de6d0row5_col7 {\n",
       "            background-color:  #3b4cc0;\n",
       "            color:  #f1f1f1;\n",
       "        }    #T_e06c0f74_4ea3_11ea_964d_acd5647de6d0row5_col8 {\n",
       "            background-color:  #3b4cc0;\n",
       "            color:  #f1f1f1;\n",
       "        }    #T_e06c0f74_4ea3_11ea_964d_acd5647de6d0row5_col9 {\n",
       "            background-color:  #3b4cc0;\n",
       "            color:  #f1f1f1;\n",
       "        }    #T_e06c0f74_4ea3_11ea_964d_acd5647de6d0row5_col10 {\n",
       "            background-color:  #3b4cc0;\n",
       "            color:  #f1f1f1;\n",
       "        }    #T_e06c0f74_4ea3_11ea_964d_acd5647de6d0row5_col11 {\n",
       "            background-color:  #3b4cc0;\n",
       "            color:  #f1f1f1;\n",
       "        }    #T_e06c0f74_4ea3_11ea_964d_acd5647de6d0row5_col12 {\n",
       "            background-color:  #3b4cc0;\n",
       "            color:  #f1f1f1;\n",
       "        }    #T_e06c0f74_4ea3_11ea_964d_acd5647de6d0row5_col13 {\n",
       "            background-color:  #3b4cc0;\n",
       "            color:  #f1f1f1;\n",
       "        }    #T_e06c0f74_4ea3_11ea_964d_acd5647de6d0row5_col14 {\n",
       "            background-color:  #3b4cc0;\n",
       "            color:  #f1f1f1;\n",
       "        }    #T_e06c0f74_4ea3_11ea_964d_acd5647de6d0row5_col15 {\n",
       "            background-color:  #3b4cc0;\n",
       "            color:  #f1f1f1;\n",
       "        }    #T_e06c0f74_4ea3_11ea_964d_acd5647de6d0row6_col0 {\n",
       "            background-color:  #3b4cc0;\n",
       "            color:  #f1f1f1;\n",
       "        }    #T_e06c0f74_4ea3_11ea_964d_acd5647de6d0row6_col1 {\n",
       "            background-color:  #3b4cc0;\n",
       "            color:  #f1f1f1;\n",
       "        }    #T_e06c0f74_4ea3_11ea_964d_acd5647de6d0row6_col2 {\n",
       "            background-color:  #3b4cc0;\n",
       "            color:  #f1f1f1;\n",
       "        }    #T_e06c0f74_4ea3_11ea_964d_acd5647de6d0row6_col3 {\n",
       "            background-color:  #3b4cc0;\n",
       "            color:  #f1f1f1;\n",
       "        }    #T_e06c0f74_4ea3_11ea_964d_acd5647de6d0row6_col4 {\n",
       "            background-color:  #3b4cc0;\n",
       "            color:  #f1f1f1;\n",
       "        }    #T_e06c0f74_4ea3_11ea_964d_acd5647de6d0row6_col5 {\n",
       "            background-color:  #3b4cc0;\n",
       "            color:  #f1f1f1;\n",
       "        }    #T_e06c0f74_4ea3_11ea_964d_acd5647de6d0row6_col6 {\n",
       "            background-color:  #3b4cc0;\n",
       "            color:  #f1f1f1;\n",
       "        }    #T_e06c0f74_4ea3_11ea_964d_acd5647de6d0row6_col7 {\n",
       "            background-color:  #3b4cc0;\n",
       "            color:  #f1f1f1;\n",
       "        }    #T_e06c0f74_4ea3_11ea_964d_acd5647de6d0row6_col8 {\n",
       "            background-color:  #3b4cc0;\n",
       "            color:  #f1f1f1;\n",
       "        }    #T_e06c0f74_4ea3_11ea_964d_acd5647de6d0row6_col9 {\n",
       "            background-color:  #3b4cc0;\n",
       "            color:  #f1f1f1;\n",
       "        }    #T_e06c0f74_4ea3_11ea_964d_acd5647de6d0row6_col10 {\n",
       "            background-color:  #3b4cc0;\n",
       "            color:  #f1f1f1;\n",
       "        }    #T_e06c0f74_4ea3_11ea_964d_acd5647de6d0row6_col11 {\n",
       "            background-color:  #3b4cc0;\n",
       "            color:  #f1f1f1;\n",
       "        }    #T_e06c0f74_4ea3_11ea_964d_acd5647de6d0row6_col12 {\n",
       "            background-color:  #3b4cc0;\n",
       "            color:  #f1f1f1;\n",
       "        }    #T_e06c0f74_4ea3_11ea_964d_acd5647de6d0row6_col13 {\n",
       "            background-color:  #3b4cc0;\n",
       "            color:  #f1f1f1;\n",
       "        }    #T_e06c0f74_4ea3_11ea_964d_acd5647de6d0row6_col14 {\n",
       "            background-color:  #3b4cc0;\n",
       "            color:  #f1f1f1;\n",
       "        }    #T_e06c0f74_4ea3_11ea_964d_acd5647de6d0row6_col15 {\n",
       "            background-color:  #3b4cc0;\n",
       "            color:  #f1f1f1;\n",
       "        }    #T_e06c0f74_4ea3_11ea_964d_acd5647de6d0row7_col0 {\n",
       "            background-color:  #3b4cc0;\n",
       "            color:  #f1f1f1;\n",
       "        }    #T_e06c0f74_4ea3_11ea_964d_acd5647de6d0row7_col1 {\n",
       "            background-color:  #3b4cc0;\n",
       "            color:  #f1f1f1;\n",
       "        }    #T_e06c0f74_4ea3_11ea_964d_acd5647de6d0row7_col2 {\n",
       "            background-color:  #3b4cc0;\n",
       "            color:  #f1f1f1;\n",
       "        }    #T_e06c0f74_4ea3_11ea_964d_acd5647de6d0row7_col3 {\n",
       "            background-color:  #3b4cc0;\n",
       "            color:  #f1f1f1;\n",
       "        }    #T_e06c0f74_4ea3_11ea_964d_acd5647de6d0row7_col4 {\n",
       "            background-color:  #3b4cc0;\n",
       "            color:  #f1f1f1;\n",
       "        }    #T_e06c0f74_4ea3_11ea_964d_acd5647de6d0row7_col5 {\n",
       "            background-color:  #3b4cc0;\n",
       "            color:  #f1f1f1;\n",
       "        }    #T_e06c0f74_4ea3_11ea_964d_acd5647de6d0row7_col6 {\n",
       "            background-color:  #3b4cc0;\n",
       "            color:  #f1f1f1;\n",
       "        }    #T_e06c0f74_4ea3_11ea_964d_acd5647de6d0row7_col7 {\n",
       "            background-color:  #3b4cc0;\n",
       "            color:  #f1f1f1;\n",
       "        }    #T_e06c0f74_4ea3_11ea_964d_acd5647de6d0row7_col8 {\n",
       "            background-color:  #3b4cc0;\n",
       "            color:  #f1f1f1;\n",
       "        }    #T_e06c0f74_4ea3_11ea_964d_acd5647de6d0row7_col9 {\n",
       "            background-color:  #3b4cc0;\n",
       "            color:  #f1f1f1;\n",
       "        }    #T_e06c0f74_4ea3_11ea_964d_acd5647de6d0row7_col10 {\n",
       "            background-color:  #3b4cc0;\n",
       "            color:  #f1f1f1;\n",
       "        }    #T_e06c0f74_4ea3_11ea_964d_acd5647de6d0row7_col11 {\n",
       "            background-color:  #3b4cc0;\n",
       "            color:  #f1f1f1;\n",
       "        }    #T_e06c0f74_4ea3_11ea_964d_acd5647de6d0row7_col12 {\n",
       "            background-color:  #3b4cc0;\n",
       "            color:  #f1f1f1;\n",
       "        }    #T_e06c0f74_4ea3_11ea_964d_acd5647de6d0row7_col13 {\n",
       "            background-color:  #3b4cc0;\n",
       "            color:  #f1f1f1;\n",
       "        }    #T_e06c0f74_4ea3_11ea_964d_acd5647de6d0row7_col14 {\n",
       "            background-color:  #3b4cc0;\n",
       "            color:  #f1f1f1;\n",
       "        }    #T_e06c0f74_4ea3_11ea_964d_acd5647de6d0row7_col15 {\n",
       "            background-color:  #3b4cc0;\n",
       "            color:  #f1f1f1;\n",
       "        }    #T_e06c0f74_4ea3_11ea_964d_acd5647de6d0row8_col0 {\n",
       "            background-color:  #3b4cc0;\n",
       "            color:  #f1f1f1;\n",
       "        }    #T_e06c0f74_4ea3_11ea_964d_acd5647de6d0row8_col1 {\n",
       "            background-color:  #3b4cc0;\n",
       "            color:  #f1f1f1;\n",
       "        }    #T_e06c0f74_4ea3_11ea_964d_acd5647de6d0row8_col2 {\n",
       "            background-color:  #3b4cc0;\n",
       "            color:  #f1f1f1;\n",
       "        }    #T_e06c0f74_4ea3_11ea_964d_acd5647de6d0row8_col3 {\n",
       "            background-color:  #3b4cc0;\n",
       "            color:  #f1f1f1;\n",
       "        }    #T_e06c0f74_4ea3_11ea_964d_acd5647de6d0row8_col4 {\n",
       "            background-color:  #3b4cc0;\n",
       "            color:  #f1f1f1;\n",
       "        }    #T_e06c0f74_4ea3_11ea_964d_acd5647de6d0row8_col5 {\n",
       "            background-color:  #3b4cc0;\n",
       "            color:  #f1f1f1;\n",
       "        }    #T_e06c0f74_4ea3_11ea_964d_acd5647de6d0row8_col6 {\n",
       "            background-color:  #3b4cc0;\n",
       "            color:  #f1f1f1;\n",
       "        }    #T_e06c0f74_4ea3_11ea_964d_acd5647de6d0row8_col7 {\n",
       "            background-color:  #3b4cc0;\n",
       "            color:  #f1f1f1;\n",
       "        }    #T_e06c0f74_4ea3_11ea_964d_acd5647de6d0row8_col8 {\n",
       "            background-color:  #3b4cc0;\n",
       "            color:  #f1f1f1;\n",
       "        }    #T_e06c0f74_4ea3_11ea_964d_acd5647de6d0row8_col9 {\n",
       "            background-color:  #3b4cc0;\n",
       "            color:  #f1f1f1;\n",
       "        }    #T_e06c0f74_4ea3_11ea_964d_acd5647de6d0row8_col10 {\n",
       "            background-color:  #3b4cc0;\n",
       "            color:  #f1f1f1;\n",
       "        }    #T_e06c0f74_4ea3_11ea_964d_acd5647de6d0row8_col11 {\n",
       "            background-color:  #3b4cc0;\n",
       "            color:  #f1f1f1;\n",
       "        }    #T_e06c0f74_4ea3_11ea_964d_acd5647de6d0row8_col12 {\n",
       "            background-color:  #3b4cc0;\n",
       "            color:  #f1f1f1;\n",
       "        }    #T_e06c0f74_4ea3_11ea_964d_acd5647de6d0row8_col13 {\n",
       "            background-color:  #3b4cc0;\n",
       "            color:  #f1f1f1;\n",
       "        }    #T_e06c0f74_4ea3_11ea_964d_acd5647de6d0row8_col14 {\n",
       "            background-color:  #3b4cc0;\n",
       "            color:  #f1f1f1;\n",
       "        }    #T_e06c0f74_4ea3_11ea_964d_acd5647de6d0row8_col15 {\n",
       "            background-color:  #3b4cc0;\n",
       "            color:  #f1f1f1;\n",
       "        }    #T_e06c0f74_4ea3_11ea_964d_acd5647de6d0row9_col0 {\n",
       "            background-color:  #3b4cc0;\n",
       "            color:  #f1f1f1;\n",
       "        }    #T_e06c0f74_4ea3_11ea_964d_acd5647de6d0row9_col1 {\n",
       "            background-color:  #3b4cc0;\n",
       "            color:  #f1f1f1;\n",
       "        }    #T_e06c0f74_4ea3_11ea_964d_acd5647de6d0row9_col2 {\n",
       "            background-color:  #3b4cc0;\n",
       "            color:  #f1f1f1;\n",
       "        }    #T_e06c0f74_4ea3_11ea_964d_acd5647de6d0row9_col3 {\n",
       "            background-color:  #3b4cc0;\n",
       "            color:  #f1f1f1;\n",
       "        }    #T_e06c0f74_4ea3_11ea_964d_acd5647de6d0row9_col4 {\n",
       "            background-color:  #3b4cc0;\n",
       "            color:  #f1f1f1;\n",
       "        }    #T_e06c0f74_4ea3_11ea_964d_acd5647de6d0row9_col5 {\n",
       "            background-color:  #3b4cc0;\n",
       "            color:  #f1f1f1;\n",
       "        }    #T_e06c0f74_4ea3_11ea_964d_acd5647de6d0row9_col6 {\n",
       "            background-color:  #3b4cc0;\n",
       "            color:  #f1f1f1;\n",
       "        }    #T_e06c0f74_4ea3_11ea_964d_acd5647de6d0row9_col7 {\n",
       "            background-color:  #3b4cc0;\n",
       "            color:  #f1f1f1;\n",
       "        }    #T_e06c0f74_4ea3_11ea_964d_acd5647de6d0row9_col8 {\n",
       "            background-color:  #3b4cc0;\n",
       "            color:  #f1f1f1;\n",
       "        }    #T_e06c0f74_4ea3_11ea_964d_acd5647de6d0row9_col9 {\n",
       "            background-color:  #3b4cc0;\n",
       "            color:  #f1f1f1;\n",
       "        }    #T_e06c0f74_4ea3_11ea_964d_acd5647de6d0row9_col10 {\n",
       "            background-color:  #3b4cc0;\n",
       "            color:  #f1f1f1;\n",
       "        }    #T_e06c0f74_4ea3_11ea_964d_acd5647de6d0row9_col11 {\n",
       "            background-color:  #3b4cc0;\n",
       "            color:  #f1f1f1;\n",
       "        }    #T_e06c0f74_4ea3_11ea_964d_acd5647de6d0row9_col12 {\n",
       "            background-color:  #3b4cc0;\n",
       "            color:  #f1f1f1;\n",
       "        }    #T_e06c0f74_4ea3_11ea_964d_acd5647de6d0row9_col13 {\n",
       "            background-color:  #3b4cc0;\n",
       "            color:  #f1f1f1;\n",
       "        }    #T_e06c0f74_4ea3_11ea_964d_acd5647de6d0row9_col14 {\n",
       "            background-color:  #3b4cc0;\n",
       "            color:  #f1f1f1;\n",
       "        }    #T_e06c0f74_4ea3_11ea_964d_acd5647de6d0row9_col15 {\n",
       "            background-color:  #3b4cc0;\n",
       "            color:  #f1f1f1;\n",
       "        }    #T_e06c0f74_4ea3_11ea_964d_acd5647de6d0row10_col0 {\n",
       "            background-color:  #3b4cc0;\n",
       "            color:  #f1f1f1;\n",
       "        }    #T_e06c0f74_4ea3_11ea_964d_acd5647de6d0row10_col1 {\n",
       "            background-color:  #3b4cc0;\n",
       "            color:  #f1f1f1;\n",
       "        }    #T_e06c0f74_4ea3_11ea_964d_acd5647de6d0row10_col2 {\n",
       "            background-color:  #3b4cc0;\n",
       "            color:  #f1f1f1;\n",
       "        }    #T_e06c0f74_4ea3_11ea_964d_acd5647de6d0row10_col3 {\n",
       "            background-color:  #3b4cc0;\n",
       "            color:  #f1f1f1;\n",
       "        }    #T_e06c0f74_4ea3_11ea_964d_acd5647de6d0row10_col4 {\n",
       "            background-color:  #3b4cc0;\n",
       "            color:  #f1f1f1;\n",
       "        }    #T_e06c0f74_4ea3_11ea_964d_acd5647de6d0row10_col5 {\n",
       "            background-color:  #3b4cc0;\n",
       "            color:  #f1f1f1;\n",
       "        }    #T_e06c0f74_4ea3_11ea_964d_acd5647de6d0row10_col6 {\n",
       "            background-color:  #3b4cc0;\n",
       "            color:  #f1f1f1;\n",
       "        }    #T_e06c0f74_4ea3_11ea_964d_acd5647de6d0row10_col7 {\n",
       "            background-color:  #3b4cc0;\n",
       "            color:  #f1f1f1;\n",
       "        }    #T_e06c0f74_4ea3_11ea_964d_acd5647de6d0row10_col8 {\n",
       "            background-color:  #3b4cc0;\n",
       "            color:  #f1f1f1;\n",
       "        }    #T_e06c0f74_4ea3_11ea_964d_acd5647de6d0row10_col9 {\n",
       "            background-color:  #3b4cc0;\n",
       "            color:  #f1f1f1;\n",
       "        }    #T_e06c0f74_4ea3_11ea_964d_acd5647de6d0row10_col10 {\n",
       "            background-color:  #3b4cc0;\n",
       "            color:  #f1f1f1;\n",
       "        }    #T_e06c0f74_4ea3_11ea_964d_acd5647de6d0row10_col11 {\n",
       "            background-color:  #3b4cc0;\n",
       "            color:  #f1f1f1;\n",
       "        }    #T_e06c0f74_4ea3_11ea_964d_acd5647de6d0row10_col12 {\n",
       "            background-color:  #3b4cc0;\n",
       "            color:  #f1f1f1;\n",
       "        }    #T_e06c0f74_4ea3_11ea_964d_acd5647de6d0row10_col13 {\n",
       "            background-color:  #3b4cc0;\n",
       "            color:  #f1f1f1;\n",
       "        }    #T_e06c0f74_4ea3_11ea_964d_acd5647de6d0row10_col14 {\n",
       "            background-color:  #3b4cc0;\n",
       "            color:  #f1f1f1;\n",
       "        }    #T_e06c0f74_4ea3_11ea_964d_acd5647de6d0row10_col15 {\n",
       "            background-color:  #3b4cc0;\n",
       "            color:  #f1f1f1;\n",
       "        }    #T_e06c0f74_4ea3_11ea_964d_acd5647de6d0row11_col0 {\n",
       "            background-color:  #3b4cc0;\n",
       "            color:  #f1f1f1;\n",
       "        }    #T_e06c0f74_4ea3_11ea_964d_acd5647de6d0row11_col1 {\n",
       "            background-color:  #3b4cc0;\n",
       "            color:  #f1f1f1;\n",
       "        }    #T_e06c0f74_4ea3_11ea_964d_acd5647de6d0row11_col2 {\n",
       "            background-color:  #3b4cc0;\n",
       "            color:  #f1f1f1;\n",
       "        }    #T_e06c0f74_4ea3_11ea_964d_acd5647de6d0row11_col3 {\n",
       "            background-color:  #3b4cc0;\n",
       "            color:  #f1f1f1;\n",
       "        }    #T_e06c0f74_4ea3_11ea_964d_acd5647de6d0row11_col4 {\n",
       "            background-color:  #3b4cc0;\n",
       "            color:  #f1f1f1;\n",
       "        }    #T_e06c0f74_4ea3_11ea_964d_acd5647de6d0row11_col5 {\n",
       "            background-color:  #3b4cc0;\n",
       "            color:  #f1f1f1;\n",
       "        }    #T_e06c0f74_4ea3_11ea_964d_acd5647de6d0row11_col6 {\n",
       "            background-color:  #3b4cc0;\n",
       "            color:  #f1f1f1;\n",
       "        }    #T_e06c0f74_4ea3_11ea_964d_acd5647de6d0row11_col7 {\n",
       "            background-color:  #3b4cc0;\n",
       "            color:  #f1f1f1;\n",
       "        }    #T_e06c0f74_4ea3_11ea_964d_acd5647de6d0row11_col8 {\n",
       "            background-color:  #3b4cc0;\n",
       "            color:  #f1f1f1;\n",
       "        }    #T_e06c0f74_4ea3_11ea_964d_acd5647de6d0row11_col9 {\n",
       "            background-color:  #3b4cc0;\n",
       "            color:  #f1f1f1;\n",
       "        }    #T_e06c0f74_4ea3_11ea_964d_acd5647de6d0row11_col10 {\n",
       "            background-color:  #3b4cc0;\n",
       "            color:  #f1f1f1;\n",
       "        }    #T_e06c0f74_4ea3_11ea_964d_acd5647de6d0row11_col11 {\n",
       "            background-color:  #3b4cc0;\n",
       "            color:  #f1f1f1;\n",
       "        }    #T_e06c0f74_4ea3_11ea_964d_acd5647de6d0row11_col12 {\n",
       "            background-color:  #3b4cc0;\n",
       "            color:  #f1f1f1;\n",
       "        }    #T_e06c0f74_4ea3_11ea_964d_acd5647de6d0row11_col13 {\n",
       "            background-color:  #3b4cc0;\n",
       "            color:  #f1f1f1;\n",
       "        }    #T_e06c0f74_4ea3_11ea_964d_acd5647de6d0row11_col14 {\n",
       "            background-color:  #3b4cc0;\n",
       "            color:  #f1f1f1;\n",
       "        }    #T_e06c0f74_4ea3_11ea_964d_acd5647de6d0row11_col15 {\n",
       "            background-color:  #3b4cc0;\n",
       "            color:  #f1f1f1;\n",
       "        }    #T_e06c0f74_4ea3_11ea_964d_acd5647de6d0row12_col0 {\n",
       "            background-color:  #3b4cc0;\n",
       "            color:  #f1f1f1;\n",
       "        }    #T_e06c0f74_4ea3_11ea_964d_acd5647de6d0row12_col1 {\n",
       "            background-color:  #3b4cc0;\n",
       "            color:  #f1f1f1;\n",
       "        }    #T_e06c0f74_4ea3_11ea_964d_acd5647de6d0row12_col2 {\n",
       "            background-color:  #3b4cc0;\n",
       "            color:  #f1f1f1;\n",
       "        }    #T_e06c0f74_4ea3_11ea_964d_acd5647de6d0row12_col3 {\n",
       "            background-color:  #3b4cc0;\n",
       "            color:  #f1f1f1;\n",
       "        }    #T_e06c0f74_4ea3_11ea_964d_acd5647de6d0row12_col4 {\n",
       "            background-color:  #3b4cc0;\n",
       "            color:  #f1f1f1;\n",
       "        }    #T_e06c0f74_4ea3_11ea_964d_acd5647de6d0row12_col5 {\n",
       "            background-color:  #3b4cc0;\n",
       "            color:  #f1f1f1;\n",
       "        }    #T_e06c0f74_4ea3_11ea_964d_acd5647de6d0row12_col6 {\n",
       "            background-color:  #3b4cc0;\n",
       "            color:  #f1f1f1;\n",
       "        }    #T_e06c0f74_4ea3_11ea_964d_acd5647de6d0row12_col7 {\n",
       "            background-color:  #3b4cc0;\n",
       "            color:  #f1f1f1;\n",
       "        }    #T_e06c0f74_4ea3_11ea_964d_acd5647de6d0row12_col8 {\n",
       "            background-color:  #3b4cc0;\n",
       "            color:  #f1f1f1;\n",
       "        }    #T_e06c0f74_4ea3_11ea_964d_acd5647de6d0row12_col9 {\n",
       "            background-color:  #3b4cc0;\n",
       "            color:  #f1f1f1;\n",
       "        }    #T_e06c0f74_4ea3_11ea_964d_acd5647de6d0row12_col10 {\n",
       "            background-color:  #3b4cc0;\n",
       "            color:  #f1f1f1;\n",
       "        }    #T_e06c0f74_4ea3_11ea_964d_acd5647de6d0row12_col11 {\n",
       "            background-color:  #3b4cc0;\n",
       "            color:  #f1f1f1;\n",
       "        }    #T_e06c0f74_4ea3_11ea_964d_acd5647de6d0row12_col12 {\n",
       "            background-color:  #3b4cc0;\n",
       "            color:  #f1f1f1;\n",
       "        }    #T_e06c0f74_4ea3_11ea_964d_acd5647de6d0row12_col13 {\n",
       "            background-color:  #3b4cc0;\n",
       "            color:  #f1f1f1;\n",
       "        }    #T_e06c0f74_4ea3_11ea_964d_acd5647de6d0row12_col14 {\n",
       "            background-color:  #3b4cc0;\n",
       "            color:  #f1f1f1;\n",
       "        }    #T_e06c0f74_4ea3_11ea_964d_acd5647de6d0row12_col15 {\n",
       "            background-color:  #3b4cc0;\n",
       "            color:  #f1f1f1;\n",
       "        }    #T_e06c0f74_4ea3_11ea_964d_acd5647de6d0row13_col0 {\n",
       "            background-color:  #3b4cc0;\n",
       "            color:  #f1f1f1;\n",
       "        }    #T_e06c0f74_4ea3_11ea_964d_acd5647de6d0row13_col1 {\n",
       "            background-color:  #3b4cc0;\n",
       "            color:  #f1f1f1;\n",
       "        }    #T_e06c0f74_4ea3_11ea_964d_acd5647de6d0row13_col2 {\n",
       "            background-color:  #3b4cc0;\n",
       "            color:  #f1f1f1;\n",
       "        }    #T_e06c0f74_4ea3_11ea_964d_acd5647de6d0row13_col3 {\n",
       "            background-color:  #3b4cc0;\n",
       "            color:  #f1f1f1;\n",
       "        }    #T_e06c0f74_4ea3_11ea_964d_acd5647de6d0row13_col4 {\n",
       "            background-color:  #3b4cc0;\n",
       "            color:  #f1f1f1;\n",
       "        }    #T_e06c0f74_4ea3_11ea_964d_acd5647de6d0row13_col5 {\n",
       "            background-color:  #3b4cc0;\n",
       "            color:  #f1f1f1;\n",
       "        }    #T_e06c0f74_4ea3_11ea_964d_acd5647de6d0row13_col6 {\n",
       "            background-color:  #3b4cc0;\n",
       "            color:  #f1f1f1;\n",
       "        }    #T_e06c0f74_4ea3_11ea_964d_acd5647de6d0row13_col7 {\n",
       "            background-color:  #3b4cc0;\n",
       "            color:  #f1f1f1;\n",
       "        }    #T_e06c0f74_4ea3_11ea_964d_acd5647de6d0row13_col8 {\n",
       "            background-color:  #3b4cc0;\n",
       "            color:  #f1f1f1;\n",
       "        }    #T_e06c0f74_4ea3_11ea_964d_acd5647de6d0row13_col9 {\n",
       "            background-color:  #3b4cc0;\n",
       "            color:  #f1f1f1;\n",
       "        }    #T_e06c0f74_4ea3_11ea_964d_acd5647de6d0row13_col10 {\n",
       "            background-color:  #3b4cc0;\n",
       "            color:  #f1f1f1;\n",
       "        }    #T_e06c0f74_4ea3_11ea_964d_acd5647de6d0row13_col11 {\n",
       "            background-color:  #3b4cc0;\n",
       "            color:  #f1f1f1;\n",
       "        }    #T_e06c0f74_4ea3_11ea_964d_acd5647de6d0row13_col12 {\n",
       "            background-color:  #3b4cc0;\n",
       "            color:  #f1f1f1;\n",
       "        }    #T_e06c0f74_4ea3_11ea_964d_acd5647de6d0row13_col13 {\n",
       "            background-color:  #3b4cc0;\n",
       "            color:  #f1f1f1;\n",
       "        }    #T_e06c0f74_4ea3_11ea_964d_acd5647de6d0row13_col14 {\n",
       "            background-color:  #3b4cc0;\n",
       "            color:  #f1f1f1;\n",
       "        }    #T_e06c0f74_4ea3_11ea_964d_acd5647de6d0row13_col15 {\n",
       "            background-color:  #3b4cc0;\n",
       "            color:  #f1f1f1;\n",
       "        }    #T_e06c0f74_4ea3_11ea_964d_acd5647de6d0row14_col0 {\n",
       "            background-color:  #3b4cc0;\n",
       "            color:  #f1f1f1;\n",
       "        }    #T_e06c0f74_4ea3_11ea_964d_acd5647de6d0row14_col1 {\n",
       "            background-color:  #3b4cc0;\n",
       "            color:  #f1f1f1;\n",
       "        }    #T_e06c0f74_4ea3_11ea_964d_acd5647de6d0row14_col2 {\n",
       "            background-color:  #3b4cc0;\n",
       "            color:  #f1f1f1;\n",
       "        }    #T_e06c0f74_4ea3_11ea_964d_acd5647de6d0row14_col3 {\n",
       "            background-color:  #3b4cc0;\n",
       "            color:  #f1f1f1;\n",
       "        }    #T_e06c0f74_4ea3_11ea_964d_acd5647de6d0row14_col4 {\n",
       "            background-color:  #3b4cc0;\n",
       "            color:  #f1f1f1;\n",
       "        }    #T_e06c0f74_4ea3_11ea_964d_acd5647de6d0row14_col5 {\n",
       "            background-color:  #3b4cc0;\n",
       "            color:  #f1f1f1;\n",
       "        }    #T_e06c0f74_4ea3_11ea_964d_acd5647de6d0row14_col6 {\n",
       "            background-color:  #3b4cc0;\n",
       "            color:  #f1f1f1;\n",
       "        }    #T_e06c0f74_4ea3_11ea_964d_acd5647de6d0row14_col7 {\n",
       "            background-color:  #3b4cc0;\n",
       "            color:  #f1f1f1;\n",
       "        }    #T_e06c0f74_4ea3_11ea_964d_acd5647de6d0row14_col8 {\n",
       "            background-color:  #3b4cc0;\n",
       "            color:  #f1f1f1;\n",
       "        }    #T_e06c0f74_4ea3_11ea_964d_acd5647de6d0row14_col9 {\n",
       "            background-color:  #3b4cc0;\n",
       "            color:  #f1f1f1;\n",
       "        }    #T_e06c0f74_4ea3_11ea_964d_acd5647de6d0row14_col10 {\n",
       "            background-color:  #3b4cc0;\n",
       "            color:  #f1f1f1;\n",
       "        }    #T_e06c0f74_4ea3_11ea_964d_acd5647de6d0row14_col11 {\n",
       "            background-color:  #3b4cc0;\n",
       "            color:  #f1f1f1;\n",
       "        }    #T_e06c0f74_4ea3_11ea_964d_acd5647de6d0row14_col12 {\n",
       "            background-color:  #3b4cc0;\n",
       "            color:  #f1f1f1;\n",
       "        }    #T_e06c0f74_4ea3_11ea_964d_acd5647de6d0row14_col13 {\n",
       "            background-color:  #3b4cc0;\n",
       "            color:  #f1f1f1;\n",
       "        }    #T_e06c0f74_4ea3_11ea_964d_acd5647de6d0row14_col14 {\n",
       "            background-color:  #3b4cc0;\n",
       "            color:  #f1f1f1;\n",
       "        }    #T_e06c0f74_4ea3_11ea_964d_acd5647de6d0row14_col15 {\n",
       "            background-color:  #3b4cc0;\n",
       "            color:  #f1f1f1;\n",
       "        }    #T_e06c0f74_4ea3_11ea_964d_acd5647de6d0row15_col0 {\n",
       "            background-color:  #3b4cc0;\n",
       "            color:  #f1f1f1;\n",
       "        }    #T_e06c0f74_4ea3_11ea_964d_acd5647de6d0row15_col1 {\n",
       "            background-color:  #3b4cc0;\n",
       "            color:  #f1f1f1;\n",
       "        }    #T_e06c0f74_4ea3_11ea_964d_acd5647de6d0row15_col2 {\n",
       "            background-color:  #3b4cc0;\n",
       "            color:  #f1f1f1;\n",
       "        }    #T_e06c0f74_4ea3_11ea_964d_acd5647de6d0row15_col3 {\n",
       "            background-color:  #3b4cc0;\n",
       "            color:  #f1f1f1;\n",
       "        }    #T_e06c0f74_4ea3_11ea_964d_acd5647de6d0row15_col4 {\n",
       "            background-color:  #3b4cc0;\n",
       "            color:  #f1f1f1;\n",
       "        }    #T_e06c0f74_4ea3_11ea_964d_acd5647de6d0row15_col5 {\n",
       "            background-color:  #3b4cc0;\n",
       "            color:  #f1f1f1;\n",
       "        }    #T_e06c0f74_4ea3_11ea_964d_acd5647de6d0row15_col6 {\n",
       "            background-color:  #3b4cc0;\n",
       "            color:  #f1f1f1;\n",
       "        }    #T_e06c0f74_4ea3_11ea_964d_acd5647de6d0row15_col7 {\n",
       "            background-color:  #3b4cc0;\n",
       "            color:  #f1f1f1;\n",
       "        }    #T_e06c0f74_4ea3_11ea_964d_acd5647de6d0row15_col8 {\n",
       "            background-color:  #3b4cc0;\n",
       "            color:  #f1f1f1;\n",
       "        }    #T_e06c0f74_4ea3_11ea_964d_acd5647de6d0row15_col9 {\n",
       "            background-color:  #3b4cc0;\n",
       "            color:  #f1f1f1;\n",
       "        }    #T_e06c0f74_4ea3_11ea_964d_acd5647de6d0row15_col10 {\n",
       "            background-color:  #3b4cc0;\n",
       "            color:  #f1f1f1;\n",
       "        }    #T_e06c0f74_4ea3_11ea_964d_acd5647de6d0row15_col11 {\n",
       "            background-color:  #3b4cc0;\n",
       "            color:  #f1f1f1;\n",
       "        }    #T_e06c0f74_4ea3_11ea_964d_acd5647de6d0row15_col12 {\n",
       "            background-color:  #3b4cc0;\n",
       "            color:  #f1f1f1;\n",
       "        }    #T_e06c0f74_4ea3_11ea_964d_acd5647de6d0row15_col13 {\n",
       "            background-color:  #3b4cc0;\n",
       "            color:  #f1f1f1;\n",
       "        }    #T_e06c0f74_4ea3_11ea_964d_acd5647de6d0row15_col14 {\n",
       "            background-color:  #3b4cc0;\n",
       "            color:  #f1f1f1;\n",
       "        }    #T_e06c0f74_4ea3_11ea_964d_acd5647de6d0row15_col15 {\n",
       "            background-color:  #3b4cc0;\n",
       "            color:  #f1f1f1;\n",
       "        }</style><table id=\"T_e06c0f74_4ea3_11ea_964d_acd5647de6d0\" ><thead>    <tr>        <th class=\"blank level0\" ></th>        <th class=\"col_heading level0 col0\" >MWG</th>        <th class=\"col_heading level0 col1\" >NWG</th>        <th class=\"col_heading level0 col2\" >KWG</th>        <th class=\"col_heading level0 col3\" >MDIMC</th>        <th class=\"col_heading level0 col4\" >NDIMC</th>        <th class=\"col_heading level0 col5\" >MDIMA</th>        <th class=\"col_heading level0 col6\" >NDIMB</th>        <th class=\"col_heading level0 col7\" >KWI</th>        <th class=\"col_heading level0 col8\" >VWM</th>        <th class=\"col_heading level0 col9\" >VWN</th>        <th class=\"col_heading level0 col10\" >STRM</th>        <th class=\"col_heading level0 col11\" >STRN</th>        <th class=\"col_heading level0 col12\" >SA</th>        <th class=\"col_heading level0 col13\" >SB</th>        <th class=\"col_heading level0 col14\" >intercept</th>        <th class=\"col_heading level0 col15\" >Avg_run</th>    </tr></thead><tbody>\n",
       "                <tr>\n",
       "                        <th id=\"T_e06c0f74_4ea3_11ea_964d_acd5647de6d0level0_row0\" class=\"row_heading level0 row0\" >MWG</th>\n",
       "                        <td id=\"T_e06c0f74_4ea3_11ea_964d_acd5647de6d0row0_col0\" class=\"data row0 col0\" >1</td>\n",
       "                        <td id=\"T_e06c0f74_4ea3_11ea_964d_acd5647de6d0row0_col1\" class=\"data row0 col1\" >0.0005999</td>\n",
       "                        <td id=\"T_e06c0f74_4ea3_11ea_964d_acd5647de6d0row0_col2\" class=\"data row0 col2\" >0.009296</td>\n",
       "                        <td id=\"T_e06c0f74_4ea3_11ea_964d_acd5647de6d0row0_col3\" class=\"data row0 col3\" >0.1058</td>\n",
       "                        <td id=\"T_e06c0f74_4ea3_11ea_964d_acd5647de6d0row0_col4\" class=\"data row0 col4\" >-0.00859</td>\n",
       "                        <td id=\"T_e06c0f74_4ea3_11ea_964d_acd5647de6d0row0_col5\" class=\"data row0 col5\" >0.1588</td>\n",
       "                        <td id=\"T_e06c0f74_4ea3_11ea_964d_acd5647de6d0row0_col6\" class=\"data row0 col6\" >0.0149</td>\n",
       "                        <td id=\"T_e06c0f74_4ea3_11ea_964d_acd5647de6d0row0_col7\" class=\"data row0 col7\" >1.477e-19</td>\n",
       "                        <td id=\"T_e06c0f74_4ea3_11ea_964d_acd5647de6d0row0_col8\" class=\"data row0 col8\" >0.3538</td>\n",
       "                        <td id=\"T_e06c0f74_4ea3_11ea_964d_acd5647de6d0row0_col9\" class=\"data row0 col9\" >-0.000841</td>\n",
       "                        <td id=\"T_e06c0f74_4ea3_11ea_964d_acd5647de6d0row0_col10\" class=\"data row0 col10\" >6.925e-21</td>\n",
       "                        <td id=\"T_e06c0f74_4ea3_11ea_964d_acd5647de6d0row0_col11\" class=\"data row0 col11\" >1.385e-21</td>\n",
       "                        <td id=\"T_e06c0f74_4ea3_11ea_964d_acd5647de6d0row0_col12\" class=\"data row0 col12\" >0</td>\n",
       "                        <td id=\"T_e06c0f74_4ea3_11ea_964d_acd5647de6d0row0_col13\" class=\"data row0 col13\" >0</td>\n",
       "                        <td id=\"T_e06c0f74_4ea3_11ea_964d_acd5647de6d0row0_col14\" class=\"data row0 col14\" >nan</td>\n",
       "                        <td id=\"T_e06c0f74_4ea3_11ea_964d_acd5647de6d0row0_col15\" class=\"data row0 col15\" >0.3518</td>\n",
       "            </tr>\n",
       "            <tr>\n",
       "                        <th id=\"T_e06c0f74_4ea3_11ea_964d_acd5647de6d0level0_row1\" class=\"row_heading level0 row1\" >NWG</th>\n",
       "                        <td id=\"T_e06c0f74_4ea3_11ea_964d_acd5647de6d0row1_col0\" class=\"data row1 col0\" >0.0005999</td>\n",
       "                        <td id=\"T_e06c0f74_4ea3_11ea_964d_acd5647de6d0row1_col1\" class=\"data row1 col1\" >1</td>\n",
       "                        <td id=\"T_e06c0f74_4ea3_11ea_964d_acd5647de6d0row1_col2\" class=\"data row1 col2\" >0.009296</td>\n",
       "                        <td id=\"T_e06c0f74_4ea3_11ea_964d_acd5647de6d0row1_col3\" class=\"data row1 col3\" >-0.00859</td>\n",
       "                        <td id=\"T_e06c0f74_4ea3_11ea_964d_acd5647de6d0row1_col4\" class=\"data row1 col4\" >0.1058</td>\n",
       "                        <td id=\"T_e06c0f74_4ea3_11ea_964d_acd5647de6d0row1_col5\" class=\"data row1 col5\" >0.0149</td>\n",
       "                        <td id=\"T_e06c0f74_4ea3_11ea_964d_acd5647de6d0row1_col6\" class=\"data row1 col6\" >0.1588</td>\n",
       "                        <td id=\"T_e06c0f74_4ea3_11ea_964d_acd5647de6d0row1_col7\" class=\"data row1 col7\" >8.569e-19</td>\n",
       "                        <td id=\"T_e06c0f74_4ea3_11ea_964d_acd5647de6d0row1_col8\" class=\"data row1 col8\" >-0.000841</td>\n",
       "                        <td id=\"T_e06c0f74_4ea3_11ea_964d_acd5647de6d0row1_col9\" class=\"data row1 col9\" >0.3538</td>\n",
       "                        <td id=\"T_e06c0f74_4ea3_11ea_964d_acd5647de6d0row1_col10\" class=\"data row1 col10\" >6.925e-21</td>\n",
       "                        <td id=\"T_e06c0f74_4ea3_11ea_964d_acd5647de6d0row1_col11\" class=\"data row1 col11\" >1.385e-21</td>\n",
       "                        <td id=\"T_e06c0f74_4ea3_11ea_964d_acd5647de6d0row1_col12\" class=\"data row1 col12\" >0</td>\n",
       "                        <td id=\"T_e06c0f74_4ea3_11ea_964d_acd5647de6d0row1_col13\" class=\"data row1 col13\" >0</td>\n",
       "                        <td id=\"T_e06c0f74_4ea3_11ea_964d_acd5647de6d0row1_col14\" class=\"data row1 col14\" >nan</td>\n",
       "                        <td id=\"T_e06c0f74_4ea3_11ea_964d_acd5647de6d0row1_col15\" class=\"data row1 col15\" >0.3205</td>\n",
       "            </tr>\n",
       "            <tr>\n",
       "                        <th id=\"T_e06c0f74_4ea3_11ea_964d_acd5647de6d0level0_row2\" class=\"row_heading level0 row2\" >KWG</th>\n",
       "                        <td id=\"T_e06c0f74_4ea3_11ea_964d_acd5647de6d0row2_col0\" class=\"data row2 col0\" >0.009296</td>\n",
       "                        <td id=\"T_e06c0f74_4ea3_11ea_964d_acd5647de6d0row2_col1\" class=\"data row2 col1\" >0.009296</td>\n",
       "                        <td id=\"T_e06c0f74_4ea3_11ea_964d_acd5647de6d0row2_col2\" class=\"data row2 col2\" >1</td>\n",
       "                        <td id=\"T_e06c0f74_4ea3_11ea_964d_acd5647de6d0row2_col3\" class=\"data row2 col3\" >0.1483</td>\n",
       "                        <td id=\"T_e06c0f74_4ea3_11ea_964d_acd5647de6d0row2_col4\" class=\"data row2 col4\" >0.1483</td>\n",
       "                        <td id=\"T_e06c0f74_4ea3_11ea_964d_acd5647de6d0row2_col5\" class=\"data row2 col5\" >-0.03456</td>\n",
       "                        <td id=\"T_e06c0f74_4ea3_11ea_964d_acd5647de6d0row2_col6\" class=\"data row2 col6\" >-0.03456</td>\n",
       "                        <td id=\"T_e06c0f74_4ea3_11ea_964d_acd5647de6d0row2_col7\" class=\"data row2 col7\" >-1.81e-19</td>\n",
       "                        <td id=\"T_e06c0f74_4ea3_11ea_964d_acd5647de6d0row2_col8\" class=\"data row2 col8\" >-0.01199</td>\n",
       "                        <td id=\"T_e06c0f74_4ea3_11ea_964d_acd5647de6d0row2_col9\" class=\"data row2 col9\" >-0.01199</td>\n",
       "                        <td id=\"T_e06c0f74_4ea3_11ea_964d_acd5647de6d0row2_col10\" class=\"data row2 col10\" >1.872e-21</td>\n",
       "                        <td id=\"T_e06c0f74_4ea3_11ea_964d_acd5647de6d0row2_col11\" class=\"data row2 col11\" >0</td>\n",
       "                        <td id=\"T_e06c0f74_4ea3_11ea_964d_acd5647de6d0row2_col12\" class=\"data row2 col12\" >0</td>\n",
       "                        <td id=\"T_e06c0f74_4ea3_11ea_964d_acd5647de6d0row2_col13\" class=\"data row2 col13\" >0</td>\n",
       "                        <td id=\"T_e06c0f74_4ea3_11ea_964d_acd5647de6d0row2_col14\" class=\"data row2 col14\" >nan</td>\n",
       "                        <td id=\"T_e06c0f74_4ea3_11ea_964d_acd5647de6d0row2_col15\" class=\"data row2 col15\" >0.01123</td>\n",
       "            </tr>\n",
       "            <tr>\n",
       "                        <th id=\"T_e06c0f74_4ea3_11ea_964d_acd5647de6d0level0_row3\" class=\"row_heading level0 row3\" >MDIMC</th>\n",
       "                        <td id=\"T_e06c0f74_4ea3_11ea_964d_acd5647de6d0row3_col0\" class=\"data row3 col0\" >0.1058</td>\n",
       "                        <td id=\"T_e06c0f74_4ea3_11ea_964d_acd5647de6d0row3_col1\" class=\"data row3 col1\" >-0.00859</td>\n",
       "                        <td id=\"T_e06c0f74_4ea3_11ea_964d_acd5647de6d0row3_col2\" class=\"data row3 col2\" >0.1483</td>\n",
       "                        <td id=\"T_e06c0f74_4ea3_11ea_964d_acd5647de6d0row3_col3\" class=\"data row3 col3\" >1</td>\n",
       "                        <td id=\"T_e06c0f74_4ea3_11ea_964d_acd5647de6d0row3_col4\" class=\"data row3 col4\" >-0.2096</td>\n",
       "                        <td id=\"T_e06c0f74_4ea3_11ea_964d_acd5647de6d0row3_col5\" class=\"data row3 col5\" >0.1974</td>\n",
       "                        <td id=\"T_e06c0f74_4ea3_11ea_964d_acd5647de6d0row3_col6\" class=\"data row3 col6\" >0.08461</td>\n",
       "                        <td id=\"T_e06c0f74_4ea3_11ea_964d_acd5647de6d0row3_col7\" class=\"data row3 col7\" >-3.18e-18</td>\n",
       "                        <td id=\"T_e06c0f74_4ea3_11ea_964d_acd5647de6d0row3_col8\" class=\"data row3 col8\" >-0.1339</td>\n",
       "                        <td id=\"T_e06c0f74_4ea3_11ea_964d_acd5647de6d0row3_col9\" class=\"data row3 col9\" >0.01053</td>\n",
       "                        <td id=\"T_e06c0f74_4ea3_11ea_964d_acd5647de6d0row3_col10\" class=\"data row3 col10\" >-1.121e-20</td>\n",
       "                        <td id=\"T_e06c0f74_4ea3_11ea_964d_acd5647de6d0row3_col11\" class=\"data row3 col11\" >-3.735e-21</td>\n",
       "                        <td id=\"T_e06c0f74_4ea3_11ea_964d_acd5647de6d0row3_col12\" class=\"data row3 col12\" >0</td>\n",
       "                        <td id=\"T_e06c0f74_4ea3_11ea_964d_acd5647de6d0row3_col13\" class=\"data row3 col13\" >0</td>\n",
       "                        <td id=\"T_e06c0f74_4ea3_11ea_964d_acd5647de6d0row3_col14\" class=\"data row3 col14\" >nan</td>\n",
       "                        <td id=\"T_e06c0f74_4ea3_11ea_964d_acd5647de6d0row3_col15\" class=\"data row3 col15\" >-0.2211</td>\n",
       "            </tr>\n",
       "            <tr>\n",
       "                        <th id=\"T_e06c0f74_4ea3_11ea_964d_acd5647de6d0level0_row4\" class=\"row_heading level0 row4\" >NDIMC</th>\n",
       "                        <td id=\"T_e06c0f74_4ea3_11ea_964d_acd5647de6d0row4_col0\" class=\"data row4 col0\" >-0.00859</td>\n",
       "                        <td id=\"T_e06c0f74_4ea3_11ea_964d_acd5647de6d0row4_col1\" class=\"data row4 col1\" >0.1058</td>\n",
       "                        <td id=\"T_e06c0f74_4ea3_11ea_964d_acd5647de6d0row4_col2\" class=\"data row4 col2\" >0.1483</td>\n",
       "                        <td id=\"T_e06c0f74_4ea3_11ea_964d_acd5647de6d0row4_col3\" class=\"data row4 col3\" >-0.2096</td>\n",
       "                        <td id=\"T_e06c0f74_4ea3_11ea_964d_acd5647de6d0row4_col4\" class=\"data row4 col4\" >1</td>\n",
       "                        <td id=\"T_e06c0f74_4ea3_11ea_964d_acd5647de6d0row4_col5\" class=\"data row4 col5\" >0.08461</td>\n",
       "                        <td id=\"T_e06c0f74_4ea3_11ea_964d_acd5647de6d0row4_col6\" class=\"data row4 col6\" >0.1974</td>\n",
       "                        <td id=\"T_e06c0f74_4ea3_11ea_964d_acd5647de6d0row4_col7\" class=\"data row4 col7\" >-5.252e-18</td>\n",
       "                        <td id=\"T_e06c0f74_4ea3_11ea_964d_acd5647de6d0row4_col8\" class=\"data row4 col8\" >0.01053</td>\n",
       "                        <td id=\"T_e06c0f74_4ea3_11ea_964d_acd5647de6d0row4_col9\" class=\"data row4 col9\" >-0.1339</td>\n",
       "                        <td id=\"T_e06c0f74_4ea3_11ea_964d_acd5647de6d0row4_col10\" class=\"data row4 col10\" >-1.121e-20</td>\n",
       "                        <td id=\"T_e06c0f74_4ea3_11ea_964d_acd5647de6d0row4_col11\" class=\"data row4 col11\" >-3.735e-21</td>\n",
       "                        <td id=\"T_e06c0f74_4ea3_11ea_964d_acd5647de6d0row4_col12\" class=\"data row4 col12\" >0</td>\n",
       "                        <td id=\"T_e06c0f74_4ea3_11ea_964d_acd5647de6d0row4_col13\" class=\"data row4 col13\" >0</td>\n",
       "                        <td id=\"T_e06c0f74_4ea3_11ea_964d_acd5647de6d0row4_col14\" class=\"data row4 col14\" >nan</td>\n",
       "                        <td id=\"T_e06c0f74_4ea3_11ea_964d_acd5647de6d0row4_col15\" class=\"data row4 col15\" >-0.2146</td>\n",
       "            </tr>\n",
       "            <tr>\n",
       "                        <th id=\"T_e06c0f74_4ea3_11ea_964d_acd5647de6d0level0_row5\" class=\"row_heading level0 row5\" >MDIMA</th>\n",
       "                        <td id=\"T_e06c0f74_4ea3_11ea_964d_acd5647de6d0row5_col0\" class=\"data row5 col0\" >0.1588</td>\n",
       "                        <td id=\"T_e06c0f74_4ea3_11ea_964d_acd5647de6d0row5_col1\" class=\"data row5 col1\" >0.0149</td>\n",
       "                        <td id=\"T_e06c0f74_4ea3_11ea_964d_acd5647de6d0row5_col2\" class=\"data row5 col2\" >-0.03456</td>\n",
       "                        <td id=\"T_e06c0f74_4ea3_11ea_964d_acd5647de6d0row5_col3\" class=\"data row5 col3\" >0.1974</td>\n",
       "                        <td id=\"T_e06c0f74_4ea3_11ea_964d_acd5647de6d0row5_col4\" class=\"data row5 col4\" >0.08461</td>\n",
       "                        <td id=\"T_e06c0f74_4ea3_11ea_964d_acd5647de6d0row5_col5\" class=\"data row5 col5\" >1</td>\n",
       "                        <td id=\"T_e06c0f74_4ea3_11ea_964d_acd5647de6d0row5_col6\" class=\"data row5 col6\" >0.0881</td>\n",
       "                        <td id=\"T_e06c0f74_4ea3_11ea_964d_acd5647de6d0row5_col7\" class=\"data row5 col7\" >-4.552e-18</td>\n",
       "                        <td id=\"T_e06c0f74_4ea3_11ea_964d_acd5647de6d0row5_col8\" class=\"data row5 col8\" >-0.2027</td>\n",
       "                        <td id=\"T_e06c0f74_4ea3_11ea_964d_acd5647de6d0row5_col9\" class=\"data row5 col9\" >-0.01903</td>\n",
       "                        <td id=\"T_e06c0f74_4ea3_11ea_964d_acd5647de6d0row5_col10\" class=\"data row5 col10\" >1.566e-21</td>\n",
       "                        <td id=\"T_e06c0f74_4ea3_11ea_964d_acd5647de6d0row5_col11\" class=\"data row5 col11\" >1.566e-21</td>\n",
       "                        <td id=\"T_e06c0f74_4ea3_11ea_964d_acd5647de6d0row5_col12\" class=\"data row5 col12\" >0</td>\n",
       "                        <td id=\"T_e06c0f74_4ea3_11ea_964d_acd5647de6d0row5_col13\" class=\"data row5 col13\" >0</td>\n",
       "                        <td id=\"T_e06c0f74_4ea3_11ea_964d_acd5647de6d0row5_col14\" class=\"data row5 col14\" >nan</td>\n",
       "                        <td id=\"T_e06c0f74_4ea3_11ea_964d_acd5647de6d0row5_col15\" class=\"data row5 col15\" >-0.007035</td>\n",
       "            </tr>\n",
       "            <tr>\n",
       "                        <th id=\"T_e06c0f74_4ea3_11ea_964d_acd5647de6d0level0_row6\" class=\"row_heading level0 row6\" >NDIMB</th>\n",
       "                        <td id=\"T_e06c0f74_4ea3_11ea_964d_acd5647de6d0row6_col0\" class=\"data row6 col0\" >0.0149</td>\n",
       "                        <td id=\"T_e06c0f74_4ea3_11ea_964d_acd5647de6d0row6_col1\" class=\"data row6 col1\" >0.1588</td>\n",
       "                        <td id=\"T_e06c0f74_4ea3_11ea_964d_acd5647de6d0row6_col2\" class=\"data row6 col2\" >-0.03456</td>\n",
       "                        <td id=\"T_e06c0f74_4ea3_11ea_964d_acd5647de6d0row6_col3\" class=\"data row6 col3\" >0.08461</td>\n",
       "                        <td id=\"T_e06c0f74_4ea3_11ea_964d_acd5647de6d0row6_col4\" class=\"data row6 col4\" >0.1974</td>\n",
       "                        <td id=\"T_e06c0f74_4ea3_11ea_964d_acd5647de6d0row6_col5\" class=\"data row6 col5\" >0.0881</td>\n",
       "                        <td id=\"T_e06c0f74_4ea3_11ea_964d_acd5647de6d0row6_col6\" class=\"data row6 col6\" >1</td>\n",
       "                        <td id=\"T_e06c0f74_4ea3_11ea_964d_acd5647de6d0row6_col7\" class=\"data row6 col7\" >-1.083e-17</td>\n",
       "                        <td id=\"T_e06c0f74_4ea3_11ea_964d_acd5647de6d0row6_col8\" class=\"data row6 col8\" >-0.01903</td>\n",
       "                        <td id=\"T_e06c0f74_4ea3_11ea_964d_acd5647de6d0row6_col9\" class=\"data row6 col9\" >-0.2027</td>\n",
       "                        <td id=\"T_e06c0f74_4ea3_11ea_964d_acd5647de6d0row6_col10\" class=\"data row6 col10\" >1.566e-21</td>\n",
       "                        <td id=\"T_e06c0f74_4ea3_11ea_964d_acd5647de6d0row6_col11\" class=\"data row6 col11\" >1.566e-21</td>\n",
       "                        <td id=\"T_e06c0f74_4ea3_11ea_964d_acd5647de6d0row6_col12\" class=\"data row6 col12\" >0</td>\n",
       "                        <td id=\"T_e06c0f74_4ea3_11ea_964d_acd5647de6d0row6_col13\" class=\"data row6 col13\" >0</td>\n",
       "                        <td id=\"T_e06c0f74_4ea3_11ea_964d_acd5647de6d0row6_col14\" class=\"data row6 col14\" >nan</td>\n",
       "                        <td id=\"T_e06c0f74_4ea3_11ea_964d_acd5647de6d0row6_col15\" class=\"data row6 col15\" >-0.008707</td>\n",
       "            </tr>\n",
       "            <tr>\n",
       "                        <th id=\"T_e06c0f74_4ea3_11ea_964d_acd5647de6d0level0_row7\" class=\"row_heading level0 row7\" >KWI</th>\n",
       "                        <td id=\"T_e06c0f74_4ea3_11ea_964d_acd5647de6d0row7_col0\" class=\"data row7 col0\" >1.477e-19</td>\n",
       "                        <td id=\"T_e06c0f74_4ea3_11ea_964d_acd5647de6d0row7_col1\" class=\"data row7 col1\" >8.569e-19</td>\n",
       "                        <td id=\"T_e06c0f74_4ea3_11ea_964d_acd5647de6d0row7_col2\" class=\"data row7 col2\" >-1.81e-19</td>\n",
       "                        <td id=\"T_e06c0f74_4ea3_11ea_964d_acd5647de6d0row7_col3\" class=\"data row7 col3\" >-3.18e-18</td>\n",
       "                        <td id=\"T_e06c0f74_4ea3_11ea_964d_acd5647de6d0row7_col4\" class=\"data row7 col4\" >-5.252e-18</td>\n",
       "                        <td id=\"T_e06c0f74_4ea3_11ea_964d_acd5647de6d0row7_col5\" class=\"data row7 col5\" >-4.552e-18</td>\n",
       "                        <td id=\"T_e06c0f74_4ea3_11ea_964d_acd5647de6d0row7_col6\" class=\"data row7 col6\" >-1.083e-17</td>\n",
       "                        <td id=\"T_e06c0f74_4ea3_11ea_964d_acd5647de6d0row7_col7\" class=\"data row7 col7\" >1</td>\n",
       "                        <td id=\"T_e06c0f74_4ea3_11ea_964d_acd5647de6d0row7_col8\" class=\"data row7 col8\" >-3.614e-16</td>\n",
       "                        <td id=\"T_e06c0f74_4ea3_11ea_964d_acd5647de6d0row7_col9\" class=\"data row7 col9\" >-4.815e-16</td>\n",
       "                        <td id=\"T_e06c0f74_4ea3_11ea_964d_acd5647de6d0row7_col10\" class=\"data row7 col10\" >0</td>\n",
       "                        <td id=\"T_e06c0f74_4ea3_11ea_964d_acd5647de6d0row7_col11\" class=\"data row7 col11\" >0</td>\n",
       "                        <td id=\"T_e06c0f74_4ea3_11ea_964d_acd5647de6d0row7_col12\" class=\"data row7 col12\" >0</td>\n",
       "                        <td id=\"T_e06c0f74_4ea3_11ea_964d_acd5647de6d0row7_col13\" class=\"data row7 col13\" >0</td>\n",
       "                        <td id=\"T_e06c0f74_4ea3_11ea_964d_acd5647de6d0row7_col14\" class=\"data row7 col14\" >nan</td>\n",
       "                        <td id=\"T_e06c0f74_4ea3_11ea_964d_acd5647de6d0row7_col15\" class=\"data row7 col15\" >0.03257</td>\n",
       "            </tr>\n",
       "            <tr>\n",
       "                        <th id=\"T_e06c0f74_4ea3_11ea_964d_acd5647de6d0level0_row8\" class=\"row_heading level0 row8\" >VWM</th>\n",
       "                        <td id=\"T_e06c0f74_4ea3_11ea_964d_acd5647de6d0row8_col0\" class=\"data row8 col0\" >0.3538</td>\n",
       "                        <td id=\"T_e06c0f74_4ea3_11ea_964d_acd5647de6d0row8_col1\" class=\"data row8 col1\" >-0.000841</td>\n",
       "                        <td id=\"T_e06c0f74_4ea3_11ea_964d_acd5647de6d0row8_col2\" class=\"data row8 col2\" >-0.01199</td>\n",
       "                        <td id=\"T_e06c0f74_4ea3_11ea_964d_acd5647de6d0row8_col3\" class=\"data row8 col3\" >-0.1339</td>\n",
       "                        <td id=\"T_e06c0f74_4ea3_11ea_964d_acd5647de6d0row8_col4\" class=\"data row8 col4\" >0.01053</td>\n",
       "                        <td id=\"T_e06c0f74_4ea3_11ea_964d_acd5647de6d0row8_col5\" class=\"data row8 col5\" >-0.2027</td>\n",
       "                        <td id=\"T_e06c0f74_4ea3_11ea_964d_acd5647de6d0row8_col6\" class=\"data row8 col6\" >-0.01903</td>\n",
       "                        <td id=\"T_e06c0f74_4ea3_11ea_964d_acd5647de6d0row8_col7\" class=\"data row8 col7\" >-3.614e-16</td>\n",
       "                        <td id=\"T_e06c0f74_4ea3_11ea_964d_acd5647de6d0row8_col8\" class=\"data row8 col8\" >1</td>\n",
       "                        <td id=\"T_e06c0f74_4ea3_11ea_964d_acd5647de6d0row8_col9\" class=\"data row8 col9\" >0.001165</td>\n",
       "                        <td id=\"T_e06c0f74_4ea3_11ea_964d_acd5647de6d0row8_col10\" class=\"data row8 col10\" >-1.411e-20</td>\n",
       "                        <td id=\"T_e06c0f74_4ea3_11ea_964d_acd5647de6d0row8_col11\" class=\"data row8 col11\" >9.408e-22</td>\n",
       "                        <td id=\"T_e06c0f74_4ea3_11ea_964d_acd5647de6d0row8_col12\" class=\"data row8 col12\" >0</td>\n",
       "                        <td id=\"T_e06c0f74_4ea3_11ea_964d_acd5647de6d0row8_col13\" class=\"data row8 col13\" >0</td>\n",
       "                        <td id=\"T_e06c0f74_4ea3_11ea_964d_acd5647de6d0row8_col14\" class=\"data row8 col14\" >nan</td>\n",
       "                        <td id=\"T_e06c0f74_4ea3_11ea_964d_acd5647de6d0row8_col15\" class=\"data row8 col15\" >0.1643</td>\n",
       "            </tr>\n",
       "            <tr>\n",
       "                        <th id=\"T_e06c0f74_4ea3_11ea_964d_acd5647de6d0level0_row9\" class=\"row_heading level0 row9\" >VWN</th>\n",
       "                        <td id=\"T_e06c0f74_4ea3_11ea_964d_acd5647de6d0row9_col0\" class=\"data row9 col0\" >-0.000841</td>\n",
       "                        <td id=\"T_e06c0f74_4ea3_11ea_964d_acd5647de6d0row9_col1\" class=\"data row9 col1\" >0.3538</td>\n",
       "                        <td id=\"T_e06c0f74_4ea3_11ea_964d_acd5647de6d0row9_col2\" class=\"data row9 col2\" >-0.01199</td>\n",
       "                        <td id=\"T_e06c0f74_4ea3_11ea_964d_acd5647de6d0row9_col3\" class=\"data row9 col3\" >0.01053</td>\n",
       "                        <td id=\"T_e06c0f74_4ea3_11ea_964d_acd5647de6d0row9_col4\" class=\"data row9 col4\" >-0.1339</td>\n",
       "                        <td id=\"T_e06c0f74_4ea3_11ea_964d_acd5647de6d0row9_col5\" class=\"data row9 col5\" >-0.01903</td>\n",
       "                        <td id=\"T_e06c0f74_4ea3_11ea_964d_acd5647de6d0row9_col6\" class=\"data row9 col6\" >-0.2027</td>\n",
       "                        <td id=\"T_e06c0f74_4ea3_11ea_964d_acd5647de6d0row9_col7\" class=\"data row9 col7\" >-4.815e-16</td>\n",
       "                        <td id=\"T_e06c0f74_4ea3_11ea_964d_acd5647de6d0row9_col8\" class=\"data row9 col8\" >0.001165</td>\n",
       "                        <td id=\"T_e06c0f74_4ea3_11ea_964d_acd5647de6d0row9_col9\" class=\"data row9 col9\" >1</td>\n",
       "                        <td id=\"T_e06c0f74_4ea3_11ea_964d_acd5647de6d0row9_col10\" class=\"data row9 col10\" >-1.411e-20</td>\n",
       "                        <td id=\"T_e06c0f74_4ea3_11ea_964d_acd5647de6d0row9_col11\" class=\"data row9 col11\" >9.408e-22</td>\n",
       "                        <td id=\"T_e06c0f74_4ea3_11ea_964d_acd5647de6d0row9_col12\" class=\"data row9 col12\" >0</td>\n",
       "                        <td id=\"T_e06c0f74_4ea3_11ea_964d_acd5647de6d0row9_col13\" class=\"data row9 col13\" >0</td>\n",
       "                        <td id=\"T_e06c0f74_4ea3_11ea_964d_acd5647de6d0row9_col14\" class=\"data row9 col14\" >nan</td>\n",
       "                        <td id=\"T_e06c0f74_4ea3_11ea_964d_acd5647de6d0row9_col15\" class=\"data row9 col15\" >0.1447</td>\n",
       "            </tr>\n",
       "            <tr>\n",
       "                        <th id=\"T_e06c0f74_4ea3_11ea_964d_acd5647de6d0level0_row10\" class=\"row_heading level0 row10\" >STRM</th>\n",
       "                        <td id=\"T_e06c0f74_4ea3_11ea_964d_acd5647de6d0row10_col0\" class=\"data row10 col0\" >6.925e-21</td>\n",
       "                        <td id=\"T_e06c0f74_4ea3_11ea_964d_acd5647de6d0row10_col1\" class=\"data row10 col1\" >6.925e-21</td>\n",
       "                        <td id=\"T_e06c0f74_4ea3_11ea_964d_acd5647de6d0row10_col2\" class=\"data row10 col2\" >1.872e-21</td>\n",
       "                        <td id=\"T_e06c0f74_4ea3_11ea_964d_acd5647de6d0row10_col3\" class=\"data row10 col3\" >-1.121e-20</td>\n",
       "                        <td id=\"T_e06c0f74_4ea3_11ea_964d_acd5647de6d0row10_col4\" class=\"data row10 col4\" >-1.121e-20</td>\n",
       "                        <td id=\"T_e06c0f74_4ea3_11ea_964d_acd5647de6d0row10_col5\" class=\"data row10 col5\" >1.566e-21</td>\n",
       "                        <td id=\"T_e06c0f74_4ea3_11ea_964d_acd5647de6d0row10_col6\" class=\"data row10 col6\" >1.566e-21</td>\n",
       "                        <td id=\"T_e06c0f74_4ea3_11ea_964d_acd5647de6d0row10_col7\" class=\"data row10 col7\" >0</td>\n",
       "                        <td id=\"T_e06c0f74_4ea3_11ea_964d_acd5647de6d0row10_col8\" class=\"data row10 col8\" >-1.411e-20</td>\n",
       "                        <td id=\"T_e06c0f74_4ea3_11ea_964d_acd5647de6d0row10_col9\" class=\"data row10 col9\" >-1.411e-20</td>\n",
       "                        <td id=\"T_e06c0f74_4ea3_11ea_964d_acd5647de6d0row10_col10\" class=\"data row10 col10\" >1</td>\n",
       "                        <td id=\"T_e06c0f74_4ea3_11ea_964d_acd5647de6d0row10_col11\" class=\"data row10 col11\" >0</td>\n",
       "                        <td id=\"T_e06c0f74_4ea3_11ea_964d_acd5647de6d0row10_col12\" class=\"data row10 col12\" >0</td>\n",
       "                        <td id=\"T_e06c0f74_4ea3_11ea_964d_acd5647de6d0row10_col13\" class=\"data row10 col13\" >0</td>\n",
       "                        <td id=\"T_e06c0f74_4ea3_11ea_964d_acd5647de6d0row10_col14\" class=\"data row10 col14\" >nan</td>\n",
       "                        <td id=\"T_e06c0f74_4ea3_11ea_964d_acd5647de6d0row10_col15\" class=\"data row10 col15\" >-0.01259</td>\n",
       "            </tr>\n",
       "            <tr>\n",
       "                        <th id=\"T_e06c0f74_4ea3_11ea_964d_acd5647de6d0level0_row11\" class=\"row_heading level0 row11\" >STRN</th>\n",
       "                        <td id=\"T_e06c0f74_4ea3_11ea_964d_acd5647de6d0row11_col0\" class=\"data row11 col0\" >1.385e-21</td>\n",
       "                        <td id=\"T_e06c0f74_4ea3_11ea_964d_acd5647de6d0row11_col1\" class=\"data row11 col1\" >1.385e-21</td>\n",
       "                        <td id=\"T_e06c0f74_4ea3_11ea_964d_acd5647de6d0row11_col2\" class=\"data row11 col2\" >0</td>\n",
       "                        <td id=\"T_e06c0f74_4ea3_11ea_964d_acd5647de6d0row11_col3\" class=\"data row11 col3\" >-3.735e-21</td>\n",
       "                        <td id=\"T_e06c0f74_4ea3_11ea_964d_acd5647de6d0row11_col4\" class=\"data row11 col4\" >-3.735e-21</td>\n",
       "                        <td id=\"T_e06c0f74_4ea3_11ea_964d_acd5647de6d0row11_col5\" class=\"data row11 col5\" >1.566e-21</td>\n",
       "                        <td id=\"T_e06c0f74_4ea3_11ea_964d_acd5647de6d0row11_col6\" class=\"data row11 col6\" >1.566e-21</td>\n",
       "                        <td id=\"T_e06c0f74_4ea3_11ea_964d_acd5647de6d0row11_col7\" class=\"data row11 col7\" >0</td>\n",
       "                        <td id=\"T_e06c0f74_4ea3_11ea_964d_acd5647de6d0row11_col8\" class=\"data row11 col8\" >9.408e-22</td>\n",
       "                        <td id=\"T_e06c0f74_4ea3_11ea_964d_acd5647de6d0row11_col9\" class=\"data row11 col9\" >9.408e-22</td>\n",
       "                        <td id=\"T_e06c0f74_4ea3_11ea_964d_acd5647de6d0row11_col10\" class=\"data row11 col10\" >0</td>\n",
       "                        <td id=\"T_e06c0f74_4ea3_11ea_964d_acd5647de6d0row11_col11\" class=\"data row11 col11\" >1</td>\n",
       "                        <td id=\"T_e06c0f74_4ea3_11ea_964d_acd5647de6d0row11_col12\" class=\"data row11 col12\" >0</td>\n",
       "                        <td id=\"T_e06c0f74_4ea3_11ea_964d_acd5647de6d0row11_col13\" class=\"data row11 col13\" >0</td>\n",
       "                        <td id=\"T_e06c0f74_4ea3_11ea_964d_acd5647de6d0row11_col14\" class=\"data row11 col14\" >nan</td>\n",
       "                        <td id=\"T_e06c0f74_4ea3_11ea_964d_acd5647de6d0row11_col15\" class=\"data row11 col15\" >-0.0001079</td>\n",
       "            </tr>\n",
       "            <tr>\n",
       "                        <th id=\"T_e06c0f74_4ea3_11ea_964d_acd5647de6d0level0_row12\" class=\"row_heading level0 row12\" >SA</th>\n",
       "                        <td id=\"T_e06c0f74_4ea3_11ea_964d_acd5647de6d0row12_col0\" class=\"data row12 col0\" >0</td>\n",
       "                        <td id=\"T_e06c0f74_4ea3_11ea_964d_acd5647de6d0row12_col1\" class=\"data row12 col1\" >0</td>\n",
       "                        <td id=\"T_e06c0f74_4ea3_11ea_964d_acd5647de6d0row12_col2\" class=\"data row12 col2\" >0</td>\n",
       "                        <td id=\"T_e06c0f74_4ea3_11ea_964d_acd5647de6d0row12_col3\" class=\"data row12 col3\" >0</td>\n",
       "                        <td id=\"T_e06c0f74_4ea3_11ea_964d_acd5647de6d0row12_col4\" class=\"data row12 col4\" >0</td>\n",
       "                        <td id=\"T_e06c0f74_4ea3_11ea_964d_acd5647de6d0row12_col5\" class=\"data row12 col5\" >0</td>\n",
       "                        <td id=\"T_e06c0f74_4ea3_11ea_964d_acd5647de6d0row12_col6\" class=\"data row12 col6\" >0</td>\n",
       "                        <td id=\"T_e06c0f74_4ea3_11ea_964d_acd5647de6d0row12_col7\" class=\"data row12 col7\" >0</td>\n",
       "                        <td id=\"T_e06c0f74_4ea3_11ea_964d_acd5647de6d0row12_col8\" class=\"data row12 col8\" >0</td>\n",
       "                        <td id=\"T_e06c0f74_4ea3_11ea_964d_acd5647de6d0row12_col9\" class=\"data row12 col9\" >0</td>\n",
       "                        <td id=\"T_e06c0f74_4ea3_11ea_964d_acd5647de6d0row12_col10\" class=\"data row12 col10\" >0</td>\n",
       "                        <td id=\"T_e06c0f74_4ea3_11ea_964d_acd5647de6d0row12_col11\" class=\"data row12 col11\" >0</td>\n",
       "                        <td id=\"T_e06c0f74_4ea3_11ea_964d_acd5647de6d0row12_col12\" class=\"data row12 col12\" >1</td>\n",
       "                        <td id=\"T_e06c0f74_4ea3_11ea_964d_acd5647de6d0row12_col13\" class=\"data row12 col13\" >0</td>\n",
       "                        <td id=\"T_e06c0f74_4ea3_11ea_964d_acd5647de6d0row12_col14\" class=\"data row12 col14\" >nan</td>\n",
       "                        <td id=\"T_e06c0f74_4ea3_11ea_964d_acd5647de6d0row12_col15\" class=\"data row12 col15\" >0.05198</td>\n",
       "            </tr>\n",
       "            <tr>\n",
       "                        <th id=\"T_e06c0f74_4ea3_11ea_964d_acd5647de6d0level0_row13\" class=\"row_heading level0 row13\" >SB</th>\n",
       "                        <td id=\"T_e06c0f74_4ea3_11ea_964d_acd5647de6d0row13_col0\" class=\"data row13 col0\" >0</td>\n",
       "                        <td id=\"T_e06c0f74_4ea3_11ea_964d_acd5647de6d0row13_col1\" class=\"data row13 col1\" >0</td>\n",
       "                        <td id=\"T_e06c0f74_4ea3_11ea_964d_acd5647de6d0row13_col2\" class=\"data row13 col2\" >0</td>\n",
       "                        <td id=\"T_e06c0f74_4ea3_11ea_964d_acd5647de6d0row13_col3\" class=\"data row13 col3\" >0</td>\n",
       "                        <td id=\"T_e06c0f74_4ea3_11ea_964d_acd5647de6d0row13_col4\" class=\"data row13 col4\" >0</td>\n",
       "                        <td id=\"T_e06c0f74_4ea3_11ea_964d_acd5647de6d0row13_col5\" class=\"data row13 col5\" >0</td>\n",
       "                        <td id=\"T_e06c0f74_4ea3_11ea_964d_acd5647de6d0row13_col6\" class=\"data row13 col6\" >0</td>\n",
       "                        <td id=\"T_e06c0f74_4ea3_11ea_964d_acd5647de6d0row13_col7\" class=\"data row13 col7\" >0</td>\n",
       "                        <td id=\"T_e06c0f74_4ea3_11ea_964d_acd5647de6d0row13_col8\" class=\"data row13 col8\" >0</td>\n",
       "                        <td id=\"T_e06c0f74_4ea3_11ea_964d_acd5647de6d0row13_col9\" class=\"data row13 col9\" >0</td>\n",
       "                        <td id=\"T_e06c0f74_4ea3_11ea_964d_acd5647de6d0row13_col10\" class=\"data row13 col10\" >0</td>\n",
       "                        <td id=\"T_e06c0f74_4ea3_11ea_964d_acd5647de6d0row13_col11\" class=\"data row13 col11\" >0</td>\n",
       "                        <td id=\"T_e06c0f74_4ea3_11ea_964d_acd5647de6d0row13_col12\" class=\"data row13 col12\" >0</td>\n",
       "                        <td id=\"T_e06c0f74_4ea3_11ea_964d_acd5647de6d0row13_col13\" class=\"data row13 col13\" >1</td>\n",
       "                        <td id=\"T_e06c0f74_4ea3_11ea_964d_acd5647de6d0row13_col14\" class=\"data row13 col14\" >nan</td>\n",
       "                        <td id=\"T_e06c0f74_4ea3_11ea_964d_acd5647de6d0row13_col15\" class=\"data row13 col15\" >0.06396</td>\n",
       "            </tr>\n",
       "            <tr>\n",
       "                        <th id=\"T_e06c0f74_4ea3_11ea_964d_acd5647de6d0level0_row14\" class=\"row_heading level0 row14\" >intercept</th>\n",
       "                        <td id=\"T_e06c0f74_4ea3_11ea_964d_acd5647de6d0row14_col0\" class=\"data row14 col0\" >nan</td>\n",
       "                        <td id=\"T_e06c0f74_4ea3_11ea_964d_acd5647de6d0row14_col1\" class=\"data row14 col1\" >nan</td>\n",
       "                        <td id=\"T_e06c0f74_4ea3_11ea_964d_acd5647de6d0row14_col2\" class=\"data row14 col2\" >nan</td>\n",
       "                        <td id=\"T_e06c0f74_4ea3_11ea_964d_acd5647de6d0row14_col3\" class=\"data row14 col3\" >nan</td>\n",
       "                        <td id=\"T_e06c0f74_4ea3_11ea_964d_acd5647de6d0row14_col4\" class=\"data row14 col4\" >nan</td>\n",
       "                        <td id=\"T_e06c0f74_4ea3_11ea_964d_acd5647de6d0row14_col5\" class=\"data row14 col5\" >nan</td>\n",
       "                        <td id=\"T_e06c0f74_4ea3_11ea_964d_acd5647de6d0row14_col6\" class=\"data row14 col6\" >nan</td>\n",
       "                        <td id=\"T_e06c0f74_4ea3_11ea_964d_acd5647de6d0row14_col7\" class=\"data row14 col7\" >nan</td>\n",
       "                        <td id=\"T_e06c0f74_4ea3_11ea_964d_acd5647de6d0row14_col8\" class=\"data row14 col8\" >nan</td>\n",
       "                        <td id=\"T_e06c0f74_4ea3_11ea_964d_acd5647de6d0row14_col9\" class=\"data row14 col9\" >nan</td>\n",
       "                        <td id=\"T_e06c0f74_4ea3_11ea_964d_acd5647de6d0row14_col10\" class=\"data row14 col10\" >nan</td>\n",
       "                        <td id=\"T_e06c0f74_4ea3_11ea_964d_acd5647de6d0row14_col11\" class=\"data row14 col11\" >nan</td>\n",
       "                        <td id=\"T_e06c0f74_4ea3_11ea_964d_acd5647de6d0row14_col12\" class=\"data row14 col12\" >nan</td>\n",
       "                        <td id=\"T_e06c0f74_4ea3_11ea_964d_acd5647de6d0row14_col13\" class=\"data row14 col13\" >nan</td>\n",
       "                        <td id=\"T_e06c0f74_4ea3_11ea_964d_acd5647de6d0row14_col14\" class=\"data row14 col14\" >nan</td>\n",
       "                        <td id=\"T_e06c0f74_4ea3_11ea_964d_acd5647de6d0row14_col15\" class=\"data row14 col15\" >nan</td>\n",
       "            </tr>\n",
       "            <tr>\n",
       "                        <th id=\"T_e06c0f74_4ea3_11ea_964d_acd5647de6d0level0_row15\" class=\"row_heading level0 row15\" >Avg_run</th>\n",
       "                        <td id=\"T_e06c0f74_4ea3_11ea_964d_acd5647de6d0row15_col0\" class=\"data row15 col0\" >0.3518</td>\n",
       "                        <td id=\"T_e06c0f74_4ea3_11ea_964d_acd5647de6d0row15_col1\" class=\"data row15 col1\" >0.3205</td>\n",
       "                        <td id=\"T_e06c0f74_4ea3_11ea_964d_acd5647de6d0row15_col2\" class=\"data row15 col2\" >0.01123</td>\n",
       "                        <td id=\"T_e06c0f74_4ea3_11ea_964d_acd5647de6d0row15_col3\" class=\"data row15 col3\" >-0.2211</td>\n",
       "                        <td id=\"T_e06c0f74_4ea3_11ea_964d_acd5647de6d0row15_col4\" class=\"data row15 col4\" >-0.2146</td>\n",
       "                        <td id=\"T_e06c0f74_4ea3_11ea_964d_acd5647de6d0row15_col5\" class=\"data row15 col5\" >-0.007035</td>\n",
       "                        <td id=\"T_e06c0f74_4ea3_11ea_964d_acd5647de6d0row15_col6\" class=\"data row15 col6\" >-0.008707</td>\n",
       "                        <td id=\"T_e06c0f74_4ea3_11ea_964d_acd5647de6d0row15_col7\" class=\"data row15 col7\" >0.03257</td>\n",
       "                        <td id=\"T_e06c0f74_4ea3_11ea_964d_acd5647de6d0row15_col8\" class=\"data row15 col8\" >0.1643</td>\n",
       "                        <td id=\"T_e06c0f74_4ea3_11ea_964d_acd5647de6d0row15_col9\" class=\"data row15 col9\" >0.1447</td>\n",
       "                        <td id=\"T_e06c0f74_4ea3_11ea_964d_acd5647de6d0row15_col10\" class=\"data row15 col10\" >-0.01259</td>\n",
       "                        <td id=\"T_e06c0f74_4ea3_11ea_964d_acd5647de6d0row15_col11\" class=\"data row15 col11\" >-0.0001079</td>\n",
       "                        <td id=\"T_e06c0f74_4ea3_11ea_964d_acd5647de6d0row15_col12\" class=\"data row15 col12\" >0.05198</td>\n",
       "                        <td id=\"T_e06c0f74_4ea3_11ea_964d_acd5647de6d0row15_col13\" class=\"data row15 col13\" >0.06396</td>\n",
       "                        <td id=\"T_e06c0f74_4ea3_11ea_964d_acd5647de6d0row15_col14\" class=\"data row15 col14\" >nan</td>\n",
       "                        <td id=\"T_e06c0f74_4ea3_11ea_964d_acd5647de6d0row15_col15\" class=\"data row15 col15\" >1</td>\n",
       "            </tr>\n",
       "    </tbody></table>"
      ],
      "text/plain": [
       "<pandas.io.formats.style.Styler at 0x29d0b0223c8>"
      ]
     },
     "execution_count": 593,
     "metadata": {},
     "output_type": "execute_result"
    }
   ],
   "source": [
    "corr = data.corr()\n",
    "corr.style.background_gradient(cmap = 'coolwarm').set_precision(4)"
   ]
  },
  {
   "cell_type": "markdown",
   "metadata": {},
   "source": [
    "#### In order to obtain the best features for above model, we will be using correlation of these 14 features with Avg_run variable. Variables which will be least correlated with Avg_run will be dropped"
   ]
  },
  {
   "cell_type": "code",
   "execution_count": 594,
   "metadata": {},
   "outputs": [],
   "source": [
    "data_exp4 = data.drop(columns = ['MDIMA', 'NDIMB', 'STRM', 'STRN', 'KWG', 'KWI'])\n",
    "#data_exp4.shape\n",
    "data_exp4 = data_exp4.iloc[:, 0:9]\n",
    "data_exp4 = np.array(data_exp4)"
   ]
  },
  {
   "cell_type": "code",
   "execution_count": 595,
   "metadata": {},
   "outputs": [
    {
     "data": {
      "text/plain": [
       "((169120, 9), (72480, 9), (169120,), (72480,))"
      ]
     },
     "execution_count": 595,
     "metadata": {},
     "output_type": "execute_result"
    }
   ],
   "source": [
    "x_train_exp4, x_test_exp4, y_train_exp4, y_test_exp4 = train_test_split(data_exp4, data['Avg_run'], test_size = 0.3)\n",
    "x_train_exp4.shape, x_test_exp4.shape, y_train_exp4.shape, y_test_exp4.shape"
   ]
  },
  {
   "cell_type": "code",
   "execution_count": 596,
   "metadata": {},
   "outputs": [],
   "source": [
    "y_train_exp4 = np.array(y_train_exp4).reshape(-1,1)\n",
    "y_test_exp4 = np.array(y_test_exp4).reshape(-1,1)"
   ]
  },
  {
   "cell_type": "code",
   "execution_count": 597,
   "metadata": {},
   "outputs": [],
   "source": [
    "x_train_exp4 = standardization(x_train_exp4)\n",
    "x_test_exp4 = standardization(x_test_exp4)\n",
    "y_train_exp4 = standardization(y_train_exp4)\n",
    "y_test_exp4 = standardization(y_test_exp4)"
   ]
  },
  {
   "cell_type": "code",
   "execution_count": 598,
   "metadata": {},
   "outputs": [
    {
     "data": {
      "text/plain": [
       "(9, 1)"
      ]
     },
     "execution_count": 598,
     "metadata": {},
     "output_type": "execute_result"
    }
   ],
   "source": [
    "#Generating a random matrix\n",
    "np.random.seed(123)\n",
    "theta = np.random.rand(data_exp4.shape[1],1)\n",
    "theta[0:,]\n",
    "theta.shape"
   ]
  },
  {
   "cell_type": "code",
   "execution_count": 600,
   "metadata": {},
   "outputs": [
    {
     "name": "stdout",
     "output_type": "stream",
     "text": [
      "Initial cost is:  [1.23048279] \n",
      "\n",
      "Optimal parameters are: \n",
      " [[ 0.39044992]\n",
      " [ 0.35838667]\n",
      " [-0.32895278]\n",
      " [-0.31977571]\n",
      " [-0.01486614]\n",
      " [-0.02094145]\n",
      " [ 0.05101494]\n",
      " [ 0.0636429 ]\n",
      " [ 0.4809319 ]] \n",
      "\n",
      "Final cost is:  [0.21186225]\n"
     ]
    },
    {
     "data": {
      "image/png": "[encoded data removed]",
      "text/plain": [
       "<Figure size 432x288 with 1 Axes>"
      ]
     },
     "metadata": {},
     "output_type": "display_data"
    }
   ],
   "source": [
    "np.random.seed(123)\n",
    "iterations = 500\n",
    "lr = 0.2\n",
    "\n",
    "initial_cost = cost(x_train_exp4, y_train_exp4, theta)\n",
    "print(\"Initial cost is: \", initial_cost, \"\\n\")\n",
    "(cost_hist, cost_theta) = gradient_descent_linear(x_train_exp4, y_train_exp4, theta, lr, iterations)\n",
    "print(\"Optimal parameters are: \\n\", cost_theta, \"\\n\")\n",
    "print(\"Final cost is: \", cost_hist[-1])\n",
    "\n",
    "plt.plot(range(len(cost_hist)), cost_hist, 'r')\n",
    "plt.title(\"Convergence Graph of Cost Function\")\n",
    "plt.xlabel(\"Number of Iterations\")\n",
    "plt.ylabel(\"Cost\")\n",
    "plt.xlim([0,500])\n",
    "plt.show()"
   ]
  },
  {
   "cell_type": "code",
   "execution_count": 601,
   "metadata": {},
   "outputs": [
    {
     "data": {
      "text/plain": [
       "array([0.21186225])"
      ]
     },
     "execution_count": 601,
     "metadata": {},
     "output_type": "execute_result"
    }
   ],
   "source": [
    "cost_hist[499]"
   ]
  },
  {
   "cell_type": "code",
   "execution_count": 602,
   "metadata": {},
   "outputs": [],
   "source": [
    "final_pred_linear_test_exp4 = pred(x_test_exp4, cost_theta)"
   ]
  },
  {
   "cell_type": "code",
   "execution_count": 603,
   "metadata": {},
   "outputs": [
    {
     "name": "stdout",
     "output_type": "stream",
     "text": [
      "R2 of the model:  0.39368909526156015\n",
      "Mean absolute error:  0.47794087375314775\n",
      "Mean squared error:  0.6063109047384398\n",
      "Root mean squared error:  0.7786596848035988\n"
     ]
    }
   ],
   "source": [
    "result(y_test_exp4, final_pred_linear_test_exp4)"
   ]
  },
  {
   "cell_type": "code",
   "execution_count": 604,
   "metadata": {},
   "outputs": [],
   "source": [
    "final_pred_linear_train_exp4 = pred(x_train_exp4, cost_theta)"
   ]
  },
  {
   "cell_type": "code",
   "execution_count": 605,
   "metadata": {},
   "outputs": [
    {
     "name": "stdout",
     "output_type": "stream",
     "text": [
      "R2 of the model:  0.394679292882948\n",
      "Mean absolute error:  0.47522304922326225\n",
      "Mean squared error:  0.6053207071170521\n",
      "Root mean squared error:  0.7780235903345426\n"
     ]
    }
   ],
   "source": [
    "result(y_train_exp4, final_pred_linear_train_exp4)"
   ]
  },
  {
   "cell_type": "markdown",
   "metadata": {},
   "source": [
    "## Logistic Regression"
   ]
  },
  {
   "cell_type": "code",
   "execution_count": 606,
   "metadata": {},
   "outputs": [],
   "source": [
    "df_exp4 = df.drop(columns = ['MDIMA', 'NDIMB', 'STRM', 'STRN', 'KWG', 'KWI'])\n",
    "#df_exp4.shape\n",
    "df_exp4 = df_exp4.iloc[:, 0:9]\n",
    "df_exp4 = np.array(df_exp4)"
   ]
  },
  {
   "cell_type": "code",
   "execution_count": 607,
   "metadata": {},
   "outputs": [
    {
     "data": {
      "text/plain": [
       "((169120, 9), (72480, 9), (169120,), (72480,))"
      ]
     },
     "execution_count": 607,
     "metadata": {},
     "output_type": "execute_result"
    }
   ],
   "source": [
    "x_train_log_exp4, x_test_log_exp4, y_train_log_exp4, y_test_log_exp4 = train_test_split(df_exp4, df['Avg_run'], test_size = 0.3)\n",
    "x_train_log_exp4.shape, x_test_log_exp4.shape, y_train_log_exp4.shape, y_test_log_exp4.shape"
   ]
  },
  {
   "cell_type": "code",
   "execution_count": 608,
   "metadata": {},
   "outputs": [],
   "source": [
    "y_train_log_exp4 = np.array(y_train_log_exp4).reshape(-1,1)\n",
    "y_test_log_exp4 = np.array(y_test_log_exp4).reshape(-1,1)"
   ]
  },
  {
   "cell_type": "code",
   "execution_count": 609,
   "metadata": {},
   "outputs": [],
   "source": [
    "x_train_log_exp4 = standardization(x_train_log_exp4)\n",
    "x_test_log_exp4 = standardization(x_test_log_exp4)"
   ]
  },
  {
   "cell_type": "code",
   "execution_count": 610,
   "metadata": {},
   "outputs": [],
   "source": [
    "np.random.seed(123)\n",
    "n = np.size(x_train_log_exp4,1)\n",
    "theta_log = np.random.rand(n,1)"
   ]
  },
  {
   "cell_type": "code",
   "execution_count": 611,
   "metadata": {},
   "outputs": [
    {
     "name": "stdout",
     "output_type": "stream",
     "text": [
      "Initial Cost is: [[0.90025473]] \n",
      "\n",
      "Optimal Parameters are: \n",
      " [[ 1.28491306]\n",
      " [ 0.81530177]\n",
      " [-0.87218541]\n",
      " [-0.73755672]\n",
      " [-0.06053945]\n",
      " [-0.11896549]\n",
      " [-0.39416188]\n",
      " [-0.08111352]\n",
      " [ 0.4809319 ]] \n",
      "\n"
     ]
    },
    {
     "data": {
      "image/png": "[encoded data removed]",
      "text/plain": [
       "<Figure size 432x288 with 1 Axes>"
      ]
     },
     "metadata": {},
     "output_type": "display_data"
    }
   ],
   "source": [
    "np.random.seed(123)\n",
    "iterations = 200\n",
    "learning_rate = 0.7\n",
    "\n",
    "initial_cost = cost_log(x_train_log_exp4, y_train_log_exp4, theta_log)\n",
    "\n",
    "print(\"Initial Cost is: {} \\n\".format(initial_cost))\n",
    "\n",
    "(cost_history, theta_optimal) = gradient_descent(x_train_log_exp4, y_train_log_exp4, theta_log, learning_rate, iterations)\n",
    "\n",
    "print(\"Optimal Parameters are: \\n\", theta_optimal, \"\\n\")\n",
    "\n",
    "plt.figure()\n",
    "sns.set_style('white')\n",
    "plt.plot(range(len(cost_history)), cost_history, 'r')\n",
    "plt.title(\"Convergence Graph of Cost Function\")\n",
    "plt.xlabel(\"Number of Iterations\")\n",
    "plt.ylabel(\"Cost\")\n",
    "plt.xlim([0,150])\n",
    "plt.show()"
   ]
  },
  {
   "cell_type": "code",
   "execution_count": 612,
   "metadata": {
    "scrolled": true
   },
   "outputs": [
    {
     "data": {
      "text/plain": [
       "array([0.48604623])"
      ]
     },
     "execution_count": 612,
     "metadata": {},
     "output_type": "execute_result"
    }
   ],
   "source": [
    "cost_history[199]"
   ]
  },
  {
   "cell_type": "code",
   "execution_count": 613,
   "metadata": {},
   "outputs": [],
   "source": [
    "final_pred_log_test_exp4 = predict(x_test_log_exp4, theta_optimal)"
   ]
  },
  {
   "cell_type": "code",
   "execution_count": 614,
   "metadata": {},
   "outputs": [],
   "source": [
    "final_pred_log_train_exp4 = predict(x_train_log_exp4, theta_optimal)"
   ]
  },
  {
   "cell_type": "code",
   "execution_count": 615,
   "metadata": {},
   "outputs": [
    {
     "name": "stdout",
     "output_type": "stream",
     "text": [
      "[[29102  7069]\n",
      " [ 6860 29449]]\n"
     ]
    }
   ],
   "source": [
    "confusionmatrix_log_test_exp4 = confusion_matrix(y_test_log_exp4, final_pred_log_test_exp4)\n",
    "print(confusionmatrix_log_test_exp4)"
   ]
  },
  {
   "cell_type": "code",
   "execution_count": 616,
   "metadata": {},
   "outputs": [
    {
     "name": "stdout",
     "output_type": "stream",
     "text": [
      "[[68469 16159]\n",
      " [15975 68517]]\n"
     ]
    }
   ],
   "source": [
    "confusionmatrix_log_train_exp4 = confusion_matrix(y_train_log_exp4, final_pred_log_train_exp4)\n",
    "print(confusionmatrix_log_train_exp4)"
   ]
  },
  {
   "cell_type": "code",
   "execution_count": 617,
   "metadata": {},
   "outputs": [
    {
     "data": {
      "text/plain": [
       "0.8099929044465468"
      ]
     },
     "execution_count": 617,
     "metadata": {},
     "output_type": "execute_result"
    }
   ],
   "source": [
    "accuracy(y_train_log_exp4, final_pred_log_train_exp4)"
   ]
  },
  {
   "cell_type": "code",
   "execution_count": 618,
   "metadata": {},
   "outputs": [
    {
     "data": {
      "text/plain": [
       "0.8078228476821192"
      ]
     },
     "execution_count": 618,
     "metadata": {},
     "output_type": "execute_result"
    }
   ],
   "source": [
    "accuracy(y_test_log_exp4, final_pred_log_test_exp4)"
   ]
  }
 ],
 "metadata": {
  "kernelspec": {
   "display_name": "Python 3",
   "language": "python",
   "name": "python3"
  },
  "language_info": {
   "codemirror_mode": {
    "name": "ipython",
    "version": 3
   },
   "file_extension": ".py",
   "mimetype": "text/x-python",
   "name": "python",
   "nbconvert_exporter": "python",
   "pygments_lexer": "ipython3",
   "version": "3.7.3"
  }
 },
 "nbformat": 4,
 "nbformat_minor": 2
}
